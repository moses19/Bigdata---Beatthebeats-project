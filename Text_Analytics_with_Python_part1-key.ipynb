{
 "cells": [
  {
   "cell_type": "markdown",
   "metadata": {},
   "source": [
    "# Text Analytics with Python"
   ]
  },
  {
   "cell_type": "markdown",
   "metadata": {},
   "source": [
    "Text analytics, also known as Natural Language Processing (NLP), refer to the analytics toward text-based data.\n",
    "\n",
    "Text-based communication has become one of the most common forms of expression. We email, text message, tweet, and update our statuses on a daily basis. As a result, unstructured text data has become extremely common, and analyzing large quantities of text data is now a key way to understand what people are thinking.\n",
    "\n",
    "One of the biggest breakthroughs required for achieving any level of artificial intelligence is to have machines which can process text data. Thankfully, the amount of text data being generated in this universe has exploded exponentially in the last few years.\n",
    "\n",
    "It has become imperative for an organization to have a structure in place to mine actionable insights from the text being generated. From social media analytics to risk management and cybercrime protection, dealing with text data has never been more important.\n",
    "\n",
    "In this article we will discuss different feature extraction methods, starting with some basic techniques which will lead into advanced Natural Language Processing techniques. We will also learn about pre-processing of the text data in order to extract better features from clean data.\n",
    "\n",
    "By the end of this article, you will be able to perform text operations by yourself. Let’s get started!\n",
    "\n",
    "Original tutorial from [link](https://www.analyticsvidhya.com/blog/2018/02/the-different-methods-deal-text-data-predictive-python/), revised and adapted by Dr. Tao.\n",
    "ver 1.0, May 2018"
   ]
  },
  {
   "cell_type": "markdown",
   "metadata": {},
   "source": [
    "# Table of Contents\n",
    "\n",
    "1. Basic feature extraction using text data\n",
    "    - Load data\n",
    "    - Number of words\n",
    "    - Unique Words and Their Counts\n",
    "    - Other Counts of Words\n",
    "2. Basic Text Pre-processing of text data\n",
    "    - Lower case\n",
    "    - Removing Punctuation\n",
    "    - Removal of Stop Words\n",
    "    - Common words removal\n",
    "    - Rare words removal\n",
    "    - Spelling correction\n",
    "    - Tokenization\n",
    "    - Stemming\n",
    "    - Lemmatization\n",
    "    - Part-of-Speach Tagging"
   ]
  },
  {
   "cell_type": "markdown",
   "metadata": {},
   "source": [
    "# 1. Basic Text Feature Extraction\n",
    "\n",
    "We can use text data to extract a number of features even if we don’t have sufficient knowledge of Natural Language Processing. So let’s discuss some of them in this section.\n",
    "\n",
    "Before starting, let’s quickly read the training file from the dataset in order to perform different tasks on it. In the entire article, we will use the *twitter sentiment dataset* provided with NLTK."
   ]
  },
  {
   "cell_type": "markdown",
   "metadata": {},
   "source": [
    "In this class we are playing with Twitter data, NLTK has the data embedded - we can just load them from there."
   ]
  },
  {
   "cell_type": "markdown",
   "metadata": {},
   "source": [
    "## 1.0 Load Data"
   ]
  },
  {
   "cell_type": "code",
   "execution_count": 1,
   "metadata": {
    "collapsed": false
   },
   "outputs": [],
   "source": [
    "from nltk.corpus import twitter_samples"
   ]
  },
  {
   "cell_type": "markdown",
   "metadata": {},
   "source": [
    "The data is loaded as a JSON file - which can be intuitively loaded as a dict. Let's look at what are included."
   ]
  },
  {
   "cell_type": "code",
   "execution_count": 2,
   "metadata": {
    "collapsed": false
   },
   "outputs": [
    {
     "data": {
      "text/plain": [
       "['negative_tweets.json', 'positive_tweets.json', 'tweets.20150430-223406.json']"
      ]
     },
     "execution_count": 2,
     "metadata": {},
     "output_type": "execute_result"
    }
   ],
   "source": [
    "twitter_samples.fileids()"
   ]
  },
  {
   "cell_type": "markdown",
   "metadata": {},
   "source": [
    "It is clear the data is divided into three parts:\n",
    "    - positive;\n",
    "    - negative (these two are used for training in sentiment analysis);\n",
    "    - tweets.20150430... \n",
    "    \n",
    "In this particular exercise, we want to focus on the **positive** tweets."
   ]
  },
  {
   "cell_type": "code",
   "execution_count": 3,
   "metadata": {
    "collapsed": true
   },
   "outputs": [],
   "source": [
    "pos_tweets = twitter_samples.strings('positive_tweets.json')"
   ]
  },
  {
   "cell_type": "markdown",
   "metadata": {},
   "source": [
    "Let's look at what is in our *pos_tweets* data."
   ]
  },
  {
   "cell_type": "code",
   "execution_count": 4,
   "metadata": {
    "collapsed": false
   },
   "outputs": [
    {
     "data": {
      "text/plain": [
       "list"
      ]
     },
     "execution_count": 4,
     "metadata": {},
     "output_type": "execute_result"
    }
   ],
   "source": [
    "type(pos_tweets)"
   ]
  },
  {
   "cell_type": "markdown",
   "metadata": {},
   "source": [
    "### YOUR TURN HERE\n",
    "Provide your code in the block below two list the first **10** tweets in the *pos_tweets* dataset."
   ]
  },
  {
   "cell_type": "code",
   "execution_count": 5,
   "metadata": {
    "collapsed": false
   },
   "outputs": [
    {
     "data": {
      "text/plain": [
       "['#FollowFriday @France_Inte @PKuchly57 @Milipol_Paris for being top engaged members in my community this week :)',\n",
       " '@Lamb2ja Hey James! How odd :/ Please call our Contact Centre on 02392441234 and we will be able to assist you :) Many thanks!',\n",
       " '@DespiteOfficial we had a listen last night :) As You Bleed is an amazing track. When are you in Scotland?!',\n",
       " '@97sides CONGRATS :)',\n",
       " 'yeaaaah yippppy!!!  my accnt verified rqst has succeed got a blue tick mark on my fb profile :) in 15 days',\n",
       " '@BhaktisBanter @PallaviRuhail This one is irresistible :)\\n#FlipkartFashionFriday http://t.co/EbZ0L2VENM',\n",
       " \"We don't like to keep our lovely customers waiting for long! We hope you enjoy! Happy Friday! - LWWF :) https://t.co/smyYriipxI\",\n",
       " '@Impatientraider On second thought, there’s just not enough time for a DD :) But new shorts entering system. Sheep must be buying.',\n",
       " 'Jgh , but we have to go to Bayan :D bye']"
      ]
     },
     "execution_count": 5,
     "metadata": {},
     "output_type": "execute_result"
    }
   ],
   "source": [
    "#### YOUR CODE HERE\n",
    "pos_tweets[:9]"
   ]
  },
  {
   "cell_type": "markdown",
   "metadata": {},
   "source": [
    "## 1.1 Number of Words\n",
    "\n",
    "The first fact we want to know about text are word counts - let us start counting each tweet."
   ]
  },
  {
   "cell_type": "code",
   "execution_count": 6,
   "metadata": {
    "collapsed": false
   },
   "outputs": [
    {
     "name": "stdout",
     "output_type": "stream",
     "text": [
      "The first tweet has 15 words.\n"
     ]
    }
   ],
   "source": [
    "# This will return the count for the first tweet\n",
    "print('The first tweet has %s words.' % str(len(pos_tweets[0].split(' '))))"
   ]
  },
  {
   "cell_type": "markdown",
   "metadata": {},
   "source": [
    "### YOUR TURN HERE\n",
    "\n",
    "Provide the word counts for the first **10** tweets."
   ]
  },
  {
   "cell_type": "code",
   "execution_count": 7,
   "metadata": {
    "collapsed": false
   },
   "outputs": [
    {
     "name": "stdout",
     "output_type": "stream",
     "text": [
      "Tweet No.1 has 15 words.\n",
      "Tweet No.2 has 24 words.\n",
      "Tweet No.3 has 20 words.\n",
      "Tweet No.4 has 3 words.\n",
      "Tweet No.5 has 22 words.\n",
      "Tweet No.6 has 8 words.\n",
      "Tweet No.7 has 21 words.\n",
      "Tweet No.8 has 22 words.\n",
      "Tweet No.9 has 11 words.\n"
     ]
    }
   ],
   "source": [
    "#### YOUR CODE HERE\n",
    "for i,s in enumerate(pos_tweets[:9]):\n",
    "    print('Tweet No.%s has %s words.' % (str(i+1), str(len(s.split(' ')))))"
   ]
  },
  {
   "cell_type": "markdown",
   "metadata": {},
   "source": [
    "Clearly this is not very data science like approach, so we are going to use a powerful tool provided in Python: **Pandas**."
   ]
  },
  {
   "cell_type": "code",
   "execution_count": 8,
   "metadata": {
    "collapsed": true
   },
   "outputs": [],
   "source": [
    "import pandas as pd"
   ]
  },
  {
   "cell_type": "code",
   "execution_count": 9,
   "metadata": {
    "collapsed": false
   },
   "outputs": [
    {
     "data": {
      "text/html": [
       "<div>\n",
       "<table border=\"1\" class=\"dataframe\">\n",
       "  <thead>\n",
       "    <tr style=\"text-align: right;\">\n",
       "      <th></th>\n",
       "      <th>text</th>\n",
       "    </tr>\n",
       "  </thead>\n",
       "  <tbody>\n",
       "    <tr>\n",
       "      <th>0</th>\n",
       "      <td>#FollowFriday @France_Inte @PKuchly57 @Milipol...</td>\n",
       "    </tr>\n",
       "    <tr>\n",
       "      <th>1</th>\n",
       "      <td>@Lamb2ja Hey James! How odd :/ Please call our...</td>\n",
       "    </tr>\n",
       "    <tr>\n",
       "      <th>2</th>\n",
       "      <td>@DespiteOfficial we had a listen last night :)...</td>\n",
       "    </tr>\n",
       "    <tr>\n",
       "      <th>3</th>\n",
       "      <td>@97sides CONGRATS :)</td>\n",
       "    </tr>\n",
       "    <tr>\n",
       "      <th>4</th>\n",
       "      <td>yeaaaah yippppy!!!  my accnt verified rqst has...</td>\n",
       "    </tr>\n",
       "  </tbody>\n",
       "</table>\n",
       "</div>"
      ],
      "text/plain": [
       "                                                text\n",
       "0  #FollowFriday @France_Inte @PKuchly57 @Milipol...\n",
       "1  @Lamb2ja Hey James! How odd :/ Please call our...\n",
       "2  @DespiteOfficial we had a listen last night :)...\n",
       "3                               @97sides CONGRATS :)\n",
       "4  yeaaaah yippppy!!!  my accnt verified rqst has..."
      ]
     },
     "execution_count": 9,
     "metadata": {},
     "output_type": "execute_result"
    }
   ],
   "source": [
    "pos_tweets = pd.DataFrame(pos_tweets, columns=['text'])\n",
    "pos_tweets.head()"
   ]
  },
  {
   "cell_type": "markdown",
   "metadata": {},
   "source": [
    "Now we can count words in every tweet."
   ]
  },
  {
   "cell_type": "code",
   "execution_count": 10,
   "metadata": {
    "collapsed": false
   },
   "outputs": [
    {
     "data": {
      "text/html": [
       "<div>\n",
       "<table border=\"1\" class=\"dataframe\">\n",
       "  <thead>\n",
       "    <tr style=\"text-align: right;\">\n",
       "      <th></th>\n",
       "      <th>text</th>\n",
       "      <th>word_count</th>\n",
       "    </tr>\n",
       "  </thead>\n",
       "  <tbody>\n",
       "    <tr>\n",
       "      <th>0</th>\n",
       "      <td>#FollowFriday @France_Inte @PKuchly57 @Milipol...</td>\n",
       "      <td>15</td>\n",
       "    </tr>\n",
       "    <tr>\n",
       "      <th>1</th>\n",
       "      <td>@Lamb2ja Hey James! How odd :/ Please call our...</td>\n",
       "      <td>24</td>\n",
       "    </tr>\n",
       "    <tr>\n",
       "      <th>2</th>\n",
       "      <td>@DespiteOfficial we had a listen last night :)...</td>\n",
       "      <td>20</td>\n",
       "    </tr>\n",
       "    <tr>\n",
       "      <th>3</th>\n",
       "      <td>@97sides CONGRATS :)</td>\n",
       "      <td>3</td>\n",
       "    </tr>\n",
       "    <tr>\n",
       "      <th>4</th>\n",
       "      <td>yeaaaah yippppy!!!  my accnt verified rqst has...</td>\n",
       "      <td>22</td>\n",
       "    </tr>\n",
       "  </tbody>\n",
       "</table>\n",
       "</div>"
      ],
      "text/plain": [
       "                                                text  word_count\n",
       "0  #FollowFriday @France_Inte @PKuchly57 @Milipol...          15\n",
       "1  @Lamb2ja Hey James! How odd :/ Please call our...          24\n",
       "2  @DespiteOfficial we had a listen last night :)...          20\n",
       "3                               @97sides CONGRATS :)           3\n",
       "4  yeaaaah yippppy!!!  my accnt verified rqst has...          22"
      ]
     },
     "execution_count": 10,
     "metadata": {},
     "output_type": "execute_result"
    }
   ],
   "source": [
    "pos_tweets['word_count'] = pos_tweets['text'].apply(lambda x: len(str(x).split(\" \")))\n",
    "pos_tweets.head()"
   ]
  },
  {
   "cell_type": "markdown",
   "metadata": {},
   "source": [
    "We can also look at the number of characters in each tweet."
   ]
  },
  {
   "cell_type": "code",
   "execution_count": 11,
   "metadata": {
    "collapsed": false
   },
   "outputs": [
    {
     "data": {
      "text/html": [
       "<div>\n",
       "<table border=\"1\" class=\"dataframe\">\n",
       "  <thead>\n",
       "    <tr style=\"text-align: right;\">\n",
       "      <th></th>\n",
       "      <th>text</th>\n",
       "      <th>word_count</th>\n",
       "      <th>char_count</th>\n",
       "    </tr>\n",
       "  </thead>\n",
       "  <tbody>\n",
       "    <tr>\n",
       "      <th>0</th>\n",
       "      <td>#FollowFriday @France_Inte @PKuchly57 @Milipol...</td>\n",
       "      <td>15</td>\n",
       "      <td>111</td>\n",
       "    </tr>\n",
       "    <tr>\n",
       "      <th>1</th>\n",
       "      <td>@Lamb2ja Hey James! How odd :/ Please call our...</td>\n",
       "      <td>24</td>\n",
       "      <td>126</td>\n",
       "    </tr>\n",
       "    <tr>\n",
       "      <th>2</th>\n",
       "      <td>@DespiteOfficial we had a listen last night :)...</td>\n",
       "      <td>20</td>\n",
       "      <td>107</td>\n",
       "    </tr>\n",
       "    <tr>\n",
       "      <th>3</th>\n",
       "      <td>@97sides CONGRATS :)</td>\n",
       "      <td>3</td>\n",
       "      <td>20</td>\n",
       "    </tr>\n",
       "    <tr>\n",
       "      <th>4</th>\n",
       "      <td>yeaaaah yippppy!!!  my accnt verified rqst has...</td>\n",
       "      <td>22</td>\n",
       "      <td>106</td>\n",
       "    </tr>\n",
       "  </tbody>\n",
       "</table>\n",
       "</div>"
      ],
      "text/plain": [
       "                                                text  word_count  char_count\n",
       "0  #FollowFriday @France_Inte @PKuchly57 @Milipol...          15         111\n",
       "1  @Lamb2ja Hey James! How odd :/ Please call our...          24         126\n",
       "2  @DespiteOfficial we had a listen last night :)...          20         107\n",
       "3                               @97sides CONGRATS :)           3          20\n",
       "4  yeaaaah yippppy!!!  my accnt verified rqst has...          22         106"
      ]
     },
     "execution_count": 11,
     "metadata": {},
     "output_type": "execute_result"
    }
   ],
   "source": [
    "pos_tweets['char_count'] = pos_tweets.text.str.len()\n",
    "pos_tweets.head()"
   ]
  },
  {
   "cell_type": "markdown",
   "metadata": {},
   "source": [
    "We will also extract another feature which will calculate the average word length of each tweet. This can also potentially help us in improving our model.\n",
    "\n",
    "Here, we simply take the sum of the length of all the words and divide it by the total length of the tweet:"
   ]
  },
  {
   "cell_type": "code",
   "execution_count": 12,
   "metadata": {
    "collapsed": false
   },
   "outputs": [
    {
     "data": {
      "text/html": [
       "<div>\n",
       "<table border=\"1\" class=\"dataframe\">\n",
       "  <thead>\n",
       "    <tr style=\"text-align: right;\">\n",
       "      <th></th>\n",
       "      <th>text</th>\n",
       "      <th>word_count</th>\n",
       "      <th>char_count</th>\n",
       "      <th>avg_word_length</th>\n",
       "    </tr>\n",
       "  </thead>\n",
       "  <tbody>\n",
       "    <tr>\n",
       "      <th>0</th>\n",
       "      <td>#FollowFriday @France_Inte @PKuchly57 @Milipol...</td>\n",
       "      <td>15</td>\n",
       "      <td>111</td>\n",
       "      <td>6.466667</td>\n",
       "    </tr>\n",
       "    <tr>\n",
       "      <th>1</th>\n",
       "      <td>@Lamb2ja Hey James! How odd :/ Please call our...</td>\n",
       "      <td>24</td>\n",
       "      <td>126</td>\n",
       "      <td>4.291667</td>\n",
       "    </tr>\n",
       "    <tr>\n",
       "      <th>2</th>\n",
       "      <td>@DespiteOfficial we had a listen last night :)...</td>\n",
       "      <td>20</td>\n",
       "      <td>107</td>\n",
       "      <td>4.400000</td>\n",
       "    </tr>\n",
       "    <tr>\n",
       "      <th>3</th>\n",
       "      <td>@97sides CONGRATS :)</td>\n",
       "      <td>3</td>\n",
       "      <td>20</td>\n",
       "      <td>6.000000</td>\n",
       "    </tr>\n",
       "    <tr>\n",
       "      <th>4</th>\n",
       "      <td>yeaaaah yippppy!!!  my accnt verified rqst has...</td>\n",
       "      <td>22</td>\n",
       "      <td>106</td>\n",
       "      <td>4.047619</td>\n",
       "    </tr>\n",
       "  </tbody>\n",
       "</table>\n",
       "</div>"
      ],
      "text/plain": [
       "                                                text  word_count  char_count  \\\n",
       "0  #FollowFriday @France_Inte @PKuchly57 @Milipol...          15         111   \n",
       "1  @Lamb2ja Hey James! How odd :/ Please call our...          24         126   \n",
       "2  @DespiteOfficial we had a listen last night :)...          20         107   \n",
       "3                               @97sides CONGRATS :)           3          20   \n",
       "4  yeaaaah yippppy!!!  my accnt verified rqst has...          22         106   \n",
       "\n",
       "   avg_word_length  \n",
       "0         6.466667  \n",
       "1         4.291667  \n",
       "2         4.400000  \n",
       "3         6.000000  \n",
       "4         4.047619  "
      ]
     },
     "execution_count": 12,
     "metadata": {},
     "output_type": "execute_result"
    }
   ],
   "source": [
    "# We use this function to calcualte the average word length in each tweet\n",
    "def avg_word(sentence):\n",
    "    words = sentence.split()\n",
    "    return (sum(len(word) for word in words)/len(words))\n",
    "\n",
    "pos_tweets['avg_word_length'] = pos_tweets.text.apply(lambda x: avg_word(x))\n",
    "pos_tweets.head()"
   ]
  },
  {
   "cell_type": "markdown",
   "metadata": {},
   "source": [
    "Let's save this dataframe just in case."
   ]
  },
  {
   "cell_type": "code",
   "execution_count": 13,
   "metadata": {
    "collapsed": true
   },
   "outputs": [],
   "source": [
    "pos_tweets.to_csv('pos_tweets.csv')"
   ]
  },
  {
   "cell_type": "markdown",
   "metadata": {},
   "source": [
    "## 1.2 Unique Words and Their Counts\n",
    "\n",
    "You may have observed that the split() function is not well at identifying words - so we are going to use a built-in method with NLTK to identify words - namely tokenization. \n",
    "\n",
    "Refer to this [link](https://www.nltk.org/book/ch03.html) for more information.\n",
    "\n",
    "You should have noticed from the results below that we can capture the emojis from tweets using the TweetTokenizer."
   ]
  },
  {
   "cell_type": "code",
   "execution_count": 14,
   "metadata": {
    "collapsed": true
   },
   "outputs": [],
   "source": [
    "from nltk.tokenize import TweetTokenizer\n",
    "tknzr = TweetTokenizer() # This function is particularly used for tweets\n",
    "from collections import Counter\n",
    "vocab = Counter()"
   ]
  },
  {
   "cell_type": "markdown",
   "metadata": {},
   "source": [
    "Now we can process the count of unique words in the overall set of texts - namely **Corpus**."
   ]
  },
  {
   "cell_type": "code",
   "execution_count": 15,
   "metadata": {
    "collapsed": false
   },
   "outputs": [
    {
     "data": {
      "text/plain": [
       "Counter({':)': 3691, '!': 1844, '.': 1341, 'you': 1341, 'to': 1065, 'the': 999, ',': 964, 'I': 890, 'a': 888, 'for': 749, ':-)': 701, 'and': 660, ':D': 658, '?': 581, ')': 525, 'my': 484, 'in': 481, 'it': 460, 'is': 418, 'of': 403, 'have': 342, 'me': 330, 'your': 320, 'on': 313, '...': 290, 'follow': 284, '\"': 264, 'this': 263, 'be': 249, ':': 249, 'that': 246, 'so': 234, 'u': 228, 'with': 221, '-': 213, 'Thanks': 209, 'like': 209, 'i': 203, 'day': 202, 'all': 197, 'love': 184, 'are': 184, 'thanks': 182, '&': 174, 'will': 168, 'at': 167, 'good': 162, \"I'm\": 161, 'back': 154, 'just': 152, 'we': 146, 'Hi': 141, 'know': 141, 'but': 141, 'get': 139, 'can': 139, 'great': 138, 'up': 138, ':p': 138, '<3': 135, 'was': 133, 'Thank': 131, 'do': 131, 'if': 130, 'our': 130, '..': 129, 'too': 127, 'new': 126, 'not': 123, 'one': 113, 'now': 113, 'thank': 113, 'about': 112, 'an': 110, 'out': 110, 'us': 109, 'see': 109, 'time': 105, \"it's\": 105, 'Happy': 104, 'today': 104, 'from': 103, \"'\": 100, 'more': 100, 'as': 98, 'You': 97, 'here': 95, 'Friday': 92, 'Have': 89, 'some': 87, 'via': 85, 'nice': 84, 'hope': 84, 'much': 83, \"I'll\": 83, '(': 82, 'The': 82, 'what': 81, 'Love': 80, 'happy': 79, 'We': 77, 'lot': 76, 'when': 76, 'there': 75, '*': 73, 'no': 71, 'really': 71, '1': 71, 'go': 71, 'week': 70, 'want': 69, 'very': 68, '>': 68, 'Good': 68, 'am': 67, '/': 67, 'x': 66, \"you're\": 66, 'weekend': 66, 'work': 65, 'arrived': 65, 'going': 63, 'them': 62, 'please': 62, '@jnlazts': 62, 'morning': 62, 'http://t.co/RCvcYYO0Iq': 62, \"don't\": 61, 'would': 61, 'NO': 61, 'got': 60, 'unfollowers': 60, 'Stats': 60, 'My': 60, 'always': 58, 'being': 58, 'how': 58, 'Can': 58, 'make': 57, 'night': 57, 'See': 57, 'again': 57, 'or': 56, \"It's\": 56, '2': 55, 'Hey': 55, 'well': 55, 'fun': 55, 'welcome': 55, 'think': 55, '^': 52, 'lovely': 52, 'need': 51, 'they': 51, 'he': 50, 'sure': 50, 'better': 50, 'loves': 50, 'everyone': 50, 'made': 50, 'bestfriend': 49, 'only': 49, 'She': 48, 'its': 48, 'still': 47, 'yes': 47, 'look': 47, 'best': 46, 'next': 46, 'A': 46, 'people': 46, 'follower': 46, 'guys': 46, 'him': 45, 'If': 45, 'soon': 45, 'Warsaw': 44, 'way': 44, 'BAM': 44, 'It': 44, 'been': 44, '@969Horan696': 44, 'amazing': 44, '@BarsAndMelody': 44, 'has': 43, 'Just': 43, 'done': 43, 'start': 43, 'So': 43, 'then': 42, 'by': 42, \"that's\": 42, 'birthday': 42, 'xx': 41, 'right': 41, 'wait': 40, '…': 40, 'who': 40, 'come': 40, 'Hello': 39, 'sleep': 39, 'Hope': 39, 'her': 38, 'haha': 38, 'say': 38, 'This': 38, 'did': 38, 'had': 38, 'first': 38, 'following': 38, 'tweet': 37, 'And': 37, 'What': 37, 'im': 37, 'tomorrow': 37, 'life': 37, 'beautiful': 36, 'because': 36, 'Morning': 35, 'keep': 35, 'looking': 35, 'No': 35, 'thing': 35, 'Let': 34, 'ur': 34, 'lol': 34, '3': 34, 'let': 34, 'last': 33, 'check': 33, 'things': 33, 'friend': 33, 'than': 33, 'yeah': 33, 'days': 33, 'But': 32, 'even': 32, 'help': 32, 'okay': 32, 'give': 32, 'off': 32, 'Great': 32, 'year': 31, 'never': 31, 'hi': 31, 'followers': 31, 'smile': 31, 'hear': 31, 'long': 31, '#FF': 31, 'enjoy': 31, 'someone': 30, 'cool': 30, \"I've\": 30, 'his': 30, \"can't\": 30, 'working': 29, 'could': 29, 'community': 29, 'top': 29, '❤': 29, 'video': 29, 'also': 28, 'forward': 28, 'already': 28, 'Get': 28, 'take': 28, 'doing': 28, 'over': 28, 'That': 28, 'feel': 28, 'Oh': 28, 'awesome': 28, 'getting': 28, 'should': 28, 'friends': 27, 'Enjoy': 27, '—': 27, 'wanna': 27, 'glad': 27, 'little': 27, ';)': 27, \"You're\": 27, 'fback': 27, 'team': 26, 'luck': 26, 'ask': 26, 'she': 26, 'few': 26, 'having': 26, 'home': 25, '#FollowFriday': 25, 'Birthday': 25, 'before': 25, 'any': 25, 'blog': 25, 'YOU': 24, 'call': 24, \"That's\": 24, 'girl': 24, 'something': 24, 'How': 24, 'were': 24, 'oh': 24, 'most': 24, 'try': 24, 'looks': 24, 'thought': 24, 'Well': 24, 'To': 24, 'Yes': 24, 'might': 24, 'down': 24, 'use': 23, 'does': 23, '~': 23, 'ok': 23, 'those': 23, 'Keep': 23, 'Please': 23, 'Would': 23, 'Job': 23, '6': 23, 'ready': 23, 'every': 23, 'such': 23, 'same': 22, 'meet': 22, 'Looking': 22, 'anything': 22, 'hey': 22, 'big': 22, 'concert': 22, 'show': 22, 'city': 22, 'wonderful': 22, 's': 22, 'why': 22, 'read': 22, \"i'm\": 21, 'which': 21, 'talk': 21, 'ya': 21, '️': 21, 'ever': 21, '’': 21, 'email': 21, 'where': 21, 'cute': 21, 'gonna': 21, 'idea': 21, 'kind': 21, 'world': 21, 'watch': 21, 'many': 20, 'myself': 20, 'bro': 20, 'place': 20, 'In': 20, '4': 20, 'country': 20, '♡': 20, 'after': 20, '@tolajobjobs': 19, 'waiting': 19, 'once': 19, \"Don't\": 19, 'Follow': 19, '♥': 19, 'New': 19, 'Opportunities': 19, 'playing': 19, 'their': 19, 'another': 19, 'full': 19, 'tweets': 19, 'sharing': 19, 'support': 19, 'All': 19, 'perfect': 19, 'Youth': 19, \"I'd\": 18, 'far': 18, 'share': 18, 'wow': 18, '@': 18, 'Do': 18, 'though': 18, 'pretty': 18, 'movie': 18, 'enough': 18, 'live': 18, 'news': 18, 'fan': 18, 'tonight': 18, 'find': 18, 'bit': 18, 'game': 18, 'tell': 17, 'hello': 17, 'around': 17, 'makes': 17, 'account': 17, 'course': 17, 'forget': 17, 'sounds': 17, 'Not': 17, 'both': 17, '#snapchat': 17, '5': 17, 'true': 17, 'till': 17, '#FlipkartFashionFriday': 17, 'play': 17, 'seeing': 17, 'man': 17, 'Lol': 17, 'U': 17, '😂': 17, 'DM': 17, 'wish': 17, 'hot': 17, 'Its': 17, 'excited': 17, 'hours': 17, 'n': 17, '@imPastel': 17, '@BhaktisBanter': 17, 'baby': 17, 'two': 16, \"didn't\": 16, 'dm': 16, 'watching': 16, 'Glad': 16, 'definitely': 16, 'Cheers': 16, 'phone': 16, 'may': 16, 'pic': 16, 'real': 16, 'Check': 16, 'goodnight': 16, 'job': 16, 'other': 16, 'Best': 16, \"we're\": 16, 'mind': 16, \"doesn't\": 15, 'end': 15, 'actually': 15, 'twitter': 15, 'bad': 15, 'FREE': 15, 'since': 15, 'said': 15, 'funny': 15, '10': 15, 'least': 15, 'retweet': 15, 'coming': 15, 'must': 15, 'anyway': 15, '#ff': 15, 'rain': 15, 'stay': 15, \"won't\": 15, 'later': 15, 'Im': 15, 'free': 15, 'touch': 15, 'until': 15, 'design': 15, 'Now': 15, \"Let's\": 14, 'favourite': 14, 'Yeah': 14, 'info': 14, 'When': 14, 'side': 14, '–': 14, 'person': 14, 'Awesome': 14, '+': 14, 'add': 14, \"We're\": 14, 'Nice': 14, 'Who': 14, 'bed': 14, 'saw': 14, 'mean': 14, \"we'll\": 14, \"haven't\": 14, 'cause': 14, ';': 14, 'link': 14, 'these': 14, '#WSaleLove': 14, 'ha': 14, 'into': 14, 'mention': 14, 'book': 14, 'while': 14, 'God': 14, \"here's\": 13, 'ME': 13, 'post': 13, 'shit': 13, 'finally': 13, 'invite': 13, 'For': 13, 'song': 13, 'sweet': 13, 'yet': 13, 'light': 13, '=': 13, 'finished': 13, 'family': 13, 'care': 13, 'maybe': 13, 'stuff': 13, 'body': 13, 'sorry': 13, 'pleasure': 13, 'store': 13, 'dear': 13, '#retweet': 13, 'Visit': 13, \"Can't\": 13, 'name': 13, 'part': 13, 'Twitter': 13, 'Many': 13, 'app': 13, 'guess': 13, 'number': 13, 'visit': 13, 'everything': 12, 'fantastic': 12, 'yours': 12, 'influencers': 12, 'talking': 12, 'without': 12, 'hard': 12, 'http://t.co/UzOAqroWKx': 12, 'left': 12, 'r': 12, 'old': 12, 'problem': 12, \"you've\": 12, 'list': 12, 'Me': 12, '@AdeccoWaytoWork': 12, '💕': 12, 'win': 12, 'Your': 12, 'lets': 12, 'congrats': 12, 'weeks': 12, '✧': 12, 'saying': 12, 'Haha': 12, 'years': 12, 'Welcome': 12, '#kik': 12, 'making': 12, \"Here's\": 12, 'dream': 12, 'others': 12, 'MY': 11, 'used': 11, 'busy': 11, 'wants': 11, 'Dots': 11, \"what's\": 11, 'kinda': 11, 'boy': 11, 'favorite': 11, 'agree': 11, 'found': 11, 'members': 11, '#BrainDots': 11, 'Brain': 11, 'follback': 11, 'nothing': 11, 'cant': 11, \"let's\": 11, 'reason': 11, 'Plz': 11, 'Wishing': 11, 'final': 11, '😘': 11, 'They': 11, 'trip': 11, 'feedback': 11, 'Ok': 11, 'https://t.co/EXt098Yq1b': 11, 'went': 11, '😊': 11, 'LOL': 11, 'appreciate': 11, 'party': 11, 'PLEASE': 11, 'needs': 11, 'On': 11, 'pics': 11, '@YouTube': 11, 'proud': 11, 'hate': 11, 'Will': 11, 'Life': 11, 'away': 11, 'One': 11, '#CEO1Month': 11, 'fab': 11, 'enjoyed': 11, 'worry': 11, '<': 11, 'fucking': 11, 'super': 11, 'music': 11, 'thats': 11, 'means': 10, 'First': 10, 'issue': 10, 'hit': 10, 'text': 10, 'set': 10, 'm': 10, 'question': 10, '#TeenChoice': 10, 'face': 10, 'available': 10, 'send': 10, 'else': 10, 'w': 10, 'hehe': 10, ']': 10, 'thinking': 10, 'tho': 10, 'followed': 10, 'dont': 10, 'hai': 10, '[': 10, '_': 10, 'put': 10, 'Our': 10, 'Last': 10, \"they're\": 10, 'pass': 10, 'times': 10, 'plan': 10, 'na': 10, 'chat': 10, 'feeling': 10, '2015': 10, 'hair': 10, 'address': 10, 'stream': 10, 'appreciated': 10, 'sir': 10, 'change': 10, 'order': 10, 'smiling': 10, 'works': 10, 'word': 10, 'happiness': 10, 'Thx': 10, '@WforWoman': 10, 'listen': 10, 'AM': 10, 'interested': 10, 'Big': 10, 'future': 10, 'seen': 10, 'mine': 10, 'bring': 10, 'rest': 10, 'eyes': 9, \"there's\": 9, 'miss': 9, 'girls': 9, '%': 9, 'close': 9, 'remember': 9, 'July': 9, 'group': 9, 'meeting': 9, 'Thankyou': 9, 'O': 9, 'travel': 9, 'leave': 9, 'worth': 9, 'Be': 9, 'summer': 9, \"you'll\": 9, 'Sunday': 9, 'totally': 9, 'three': 9, 'awake': 9, 'hopefully': 9, 'hour': 9, 'Yay': 9, 'Click': 9, 'fav': 9, 'move': 9, '#Friday': 9, 'join': 9, 'asleep': 9, 'wanted': 9, 'interesting': 9, 'Congratulations': 9, 'S': 9, 'article': 9, '#SuperJunior': 9, '←': 9, 'weather': 9, 'Aqui': 9, 'probably': 9, 'believe': 9, 'hahaha': 9, 'He': 9, 'AND': 9, '$': 9, '8': 9, 'added': 9, 'words': 9, '@justinbieber': 9, 'SO': 9, 'fuck': 9, 'pls': 8, 'bday': 8, 'huge': 8, 'Miss': 8, 'exciting': 8, 'Follback': 8, 'Done': 8, '💙': 8, 'Why': 8, 'folks': 8, 'These': 8, 'gorgeous': 8, '#KunoriforCEO': 8, 'OMG': 8, 'Saturday': 8, 'school': 8, 'photos': 8, 'Snapchat': 8, 'through': 8, 'notice': 8, 'Here': 8, 'Lovely': 8, 'early': 8, 'case': 8, 'reading': 8, '\\\\': 8, '@PallaviRuhail': 8, 'quite': 8, 'Ha': 8, 'sexy': 8, 'Is': 8, 'afternoon': 8, 'sent': 8, 'Monday': 8, 'stop': 8, \"i'll\": 8, 'There': 8, '💚': 8, 'T': 8, 'heard': 8, 'Are': 8, '@Real_Liam_Payne': 8, 'wicked': 8, 'W': 8, 'cake': 8, 'less': 8, 'fine': 8, 'bi0': 8, 'bc': 8, 'knew': 8, 'xxx': 8, 'Come': 8, 'buy': 8, 'special': 8, 'site': 8, 'Also': 8, 'lots': 8, 'Some': 8, 'Stay': 8, 'open': 8, 'Appreciate': 8, '─': 8, 'watched': 8, 'babe': 8, 'loved': 8, 'second': 8, 'Make': 8, 'moment': 8, 'ago': 8, 'Always': 8, 'Ah': 8, '|': 8, 'v': 8, 'either': 8, '@EmilyBett': 8, 'FOR': 8, 'able': 8, 'stupid': 8, 'stress': 8, 'late': 8, '#ChoiceInternationalArtist': 8, 'LOVE': 8, 'trying': 7, 'Then': 7, 'catch': 7, 'Only': 7, 'Beautiful': 7, 'picture': 7, 'indeed': 7, 'Which': 7, 'shout': 7, 'goes': 7, 'Off': 7, 'create': 7, '”': 7, '“': 7, 'wrong': 7, 'coffee': 7, 'months': 7, 'y': 7, 'head': 7, 'pick': 7, \"she's\": 7, 'Give': 7, 'Really': 7, 'whole': 7, 'Like': 7, 'engaged': 7, 'date': 7, 'story': 7, 'Smile': 7, 'vid': 7, 'plans': 7, 'point': 7, \"he's\": 7, 'page': 7, 'omg': 7, 'guy': 7, '#kikmeboys': 7, 'sending': 7, 'mate': 7, '#quacketyquack': 7, 'using': 7, 'An': 7, 'Sorry': 7, 'website': 7, 'Goodnight': 7, 'connect': 7, 'needed': 7, 'version': 7, 'photo': 7, '£': 7, 'worries': 7, 'HAPPY': 7, 'tried': 7, 'kids': 7, 'card': 7, 'Did': 7, 'Waiting': 7, 'At': 7, 'came': 7, '19': 7, 'o': 7, 'release': 7, 'heart': 7, 'Got': 7, 'Cool': 7, 'view': 7, 'pay': 7, '100': 7, '🍸': 7, 'different': 7, 'choice': 7, 'London': 7, 'Congrats': 7, 'yesterday': 7, 'save': 7, '#TGIF': 7, 'Add': 7, 'Out': 7, 'Was': 7, \"you'd\": 7, 'money': 7, 'tickets': 7, 'Or': 7, 'happened': 7, 'deserve': 7, '@StefanieScott': 7, '):': 7, 'KIK': 7, 'fall': 7, 'fans': 7, 'products': 7, '💜': 7, '7': 7, '#BajrangiBhaijaanHighestWeek1': 7, 'More': 7, '@VikkFollows': 6, 'calling': 6, 'ice': 6, 'k': 6, 'Look': 6, 'mins': 6, '#': 6, 'sense': 6, 'Retweet': 6, 'break': 6, 'Sure': 6, 'lack': 6, '👉': 6, 'vote': 6, 'anyone': 6, 'Tuesday': 6, 'vacation': 6, 'b': 6, 'contest': 6, 'chance': 6, 'lucky': 6, 'nope': 6, 'questions': 6, 'enjoying': 6, 'kidding': 6, 'panda': 6, 'Day': 6, 'G': 6, 'writing': 6, '#MasaanToday': 6, 'strong': 6, '13': 6, 'PICK': 6, 'Matt': 6, 'shall': 6, \"they'll\": 6, '@bravefrontiergl': 6, 'awww': 6, 'pain': 6, 'camera': 6, 'along': 6, 'surprise': 6, 'says': 6, 'alright': 6, 'With': 6, 'gets': 6, 'started': 6, 'Today': 6, '#happy': 6, '#HappyFriday': 6, 'comment': 6, 'positive': 6, 'advice': 6, '😁': 6, 'dreams': 6, 'IT': 6, 'yay': 6, 'dinner': 6, 'follows': 6, 'supports': 6, 'recent': 6, 'putting': 6, 'write': 6, 'happen': 6, 'August': 6, 'blue': 6, '20': 6, '👈': 6, 'Free': 6, 'X': 6, 'office': 6, 'waste': 6, \"What's\": 6, 'under': 6, 'tweeting': 6, 'couple': 6, 'John': 6, 'News': 6, 'become': 6, 'snapchat': 6, 'told': 6, 'chocolate': 6, 'art': 6, 'near': 6, 'sun': 6, 'walk': 6, 'shop': 6, 'quick': 6, 'Sometimes': 6, 'message': 6, 'half': 6, 'own': 6, 'water': 6, 'cover': 6, 'Girl': 6, 'retweeted': 6, 'took': 6, 'together': 6, 'Go': 6, 'men': 6, 'answer': 6, \"We'll\": 6, 'instead': 6, 'Very': 6, 'mom': 6, 'buddy': 6, 'corn': 6, 'liked': 6, 'drop': 6, 'connecting': 6, 'Time': 6, 'As': 5, '11': 5, 'mentioned': 5, 'possible': 5, '@SpazzyTsukihara': 5, 'service': 5, 'weird': 5, 'videos': 5, 'fact': 5, 'ideas': 5, 'World': 5, 'hashtag': 5, '╱': 5, '18': 5, '🎉': 5, 'outside': 5, 'collection': 5, ':-D': 5, 'g': 5, 'track': 5, 'suppose': 5, 'style': 5, '452b': 5, 'May': 5, 'Going': 5, 'comes': 5, 'Everyone': 5, 'starts': 5, 'quote': 5, 'original': 5, '★': 5, 'project': 5, 'WE': 5, 'stuck': 5, 'Night': 5, 'skin': 5, 'absolutely': 5, '😄': 5, 'c': 5, 'Facebook': 5, 'safe': 5, 'drive': 5, 'tag': 5, 'pleasse': 5, 'RTs': 5, 'cutie': 5, 'tea': 5, 'driving': 5, \"i've\": 5, 'sore': 5, 'd': 5, 'event': 5, 'business': 5, 'Saw': 5, 'Khan': 5, 'ladies': 5, 'Guys': 5, 'rock': 5, 'weight': 5, 'btw': 5, 'dog': 5, 'BTW': 5, '#food': 5, 'Download': 5, 'giving': 5, 'Park': 5, '@natsu1725': 5, 'hugs': 5, 're': 5, ';-)': 5, 'fix': 5, 'Coins': 5, 'edit': 5, 'Dark': 5, \"He's\": 5, 'ONLY': 5, 'Back': 5, 'MKa': 5, '@yettygeers': 5, '@carterreynolds': 5, 'THE': 5, 'pop': 5, 'D': 5, 'among': 5, 'holidays': 5, 'active': 5, 'Getting': 5, 'subject': 5, 'SNAPCHAT': 5, 'changed': 5, 'Mary': 5, 'playlist': 5, 'E': 5, 'ah': 5, 'anytime': 5, 'Festival': 5, 'regret': 5, 'apparently': 5, 'bulbs': 5, 'iPhone': 5, 'wake': 5, 'Of': 5, 'Music': 5, '#indiemusic': 5, 'tour': 5, 'Scope': 5, 'Mind': 5, 'tbh': 5, 'somewhere': 5, 'Definitely': 5, 'trust': 5, 'City': 5, \"aren't\": 5, '☺': 5, '#kiksexting': 5, 'US': 5, 'wont': 5, 'ship': 5, 'league': 5, 'almost': 5, 'songs': 5, 'thx': 5, 'Tom': 5, 'Luke': 5, 'Kim': 5, 'Aww': 5, 'cry': 5, 'brilliant': 5, '2nd': 5, 'Remember': 5, 'Up': 5, 'takes': 5, 'drink': 5, 'god': 5, 'biggest': 5, 'giveaway': 5, '@Louis_Tomlinson': 5, '12': 5, 'ear': 5, 'keeping': 5, 'member': 5, 'timing': 5, \"who's\": 5, 'bet': 5, 'influencer': 5, 'sign': 5, 'brand': 5, '🍰': 5, 'James': 5, 'month': 5, 'radio': 5, 'asked': 5, 'received': 5, 'Dress': 5, 'apply': 5, 'Maybe': 5, 'blessed': 5, '😍': 5, 'True': 5, 'seems': 5, 'kid': 5, 'past': 5, 'understand': 5, 'easy': 5, 'learn': 5, 'Latin': 5, 'rather': 5, 'Most': 5, 'MM': 5, '#OurDaughtersOurPride': 5, 'details': 5, 'experience': 5, ':/': 5, 'Need': 5, \"it'll\": 5, 'Sweet': 5, 'Post': 5, 'Australia': 5, '#kikgirl': 5, 'liam': 5, 'during': 5, '70': 5, 'yep': 5, 'movies': 5, 'September': 5, 'joined': 5, 'promise': 5, 'board': 5, 't': 5, 'literally': 5, 'IS': 5, 'running': 5, 'season': 5, 'sometimes': 5, 'Excited': 5, 'die': 5, 'high': 5, 'size': 5, 'sa': 5, 'room': 5, '@zaynmalik': 4, 'eat': 4, 'speak': 4, 'students': 4, 'worked': 4, 'points': 4, 'listening': 4, 'talked': 4, 'won': 4, 'gone': 4, 'Same': 4, '@magicbricks': 4, 'sponsor': 4, 'Photo': 4, 'taste': 4, 'house': 4, '#music': 4, 'suck': 4, 'sucks': 4, 'Dan': 4, 'ahead': 4, 'boring': 4, 'mother': 4, 'hurt': 4, 'tired': 4, 'minutes': 4, 'moments': 4, 'form': 4, 'officially': 4, 'Weekend': 4, 'Man': 4, '🇷': 4, 'Easy': 4, 'media': 4, '💗': 4, 'recently': 4, 'doesnt': 4, 'hun': 4, 'gold': 4, 'wedding': 4, 'Inside': 4, 'games': 4, 'yah': 4, 'GOOD': 4, 'winner': 4, 'Hopefully': 4, 'Anyone': 4, 'Planning': 4, 'books': 4, 'bye': 4, 'Take': 4, 'brother': 4, 'Deaf': 4, '˚': 4, 'bought': 4, 'peace': 4, 'Know': 4, 'spread': 4, 'lose': 4, 'Hahaha': 4, 'program': 4, 'UK': 4, '#cute': 4, 'Dave': 4, 'Nothing': 4, 'imaging': 4, 'FourFiveSeconds': 4, 'problems': 4, '·': 4, 'Almost': 4, '#غردلي': 4, '🍤': 4, 'ticket': 4, '24': 4, 'woke': 4, 'study': 4, 'Jumma': 4, '@gculloty87': 4, 'wolf': 4, 'million': 4, '#Outie': 4, 'record': 4, 'unexpected': 4, 'Bye': 4, 'warm': 4, 'sunshine': 4, 'turn': 4, '#Innie': 4, '#TeamFollowback': 4, '✨': 4, 'met': 4, 'instagram': 4, 'fantasies': 4, 'Sarah': 4, 'cannot': 4, 'fulfil': 4, 'code': 4, '@GrahamTownsend': 4, \"y'all\": 4, 'MUCH': 4, 'wear': 4, 'ty': 4, 'GO': 4, 'Text': 4, '#sex': 4, 'ill': 4, '#pussy': 4, 'Never': 4, 'Dear': 4, 'Must': 4, 'fellow': 4, '40': 4, 'cough': 4, 'po': 4, '#summer': 4, 'offer': 4, 'film': 4, 'provide': 4, '✵': 4, 'woman': 4, 'Stars': 4, 'extra': 4, 'Ears': 4, 'India': 4, 'copy': 4, 'Low': 4, 'Fridays': 4, 'workout': 4, 'surveys': 4, 'Windows': 4, 'wonder': 4, 'Share': 4, '@TomParker': 4, \"Who's\": 4, \"We've\": 4, '15': 4, 'Smiling': 4, 'http://t.co/ipJ2yOiGet': 4, 'wishes': 4, '#smile': 4, 'BIRTHDAY': 4, 'nearly': 4, 'bored': 4, 'crying': 4, 'Channel': 4, 'Ryan': 4, 'Someone': 4, 'shift': 4, 'human': 4, '4th': 4, 'completely': 4, '>:D': 4, 'success': 4, 'AT': 4, 'beat': 4, 'within': 4, 'walking': 4, 'Try': 4, 'gift': 4, '#PSYGustoKita': 4, 'matter': 4, 'luv': 4, 'keeps': 4, \"ain't\": 4, 'pack': 4, 'YouTube': 4, 'Amazing': 4, 'WIN': 4, 'sick': 4, 'congratulations': 4, 'Bio': 4, 'realized': 4, '::': 4, 'Two': 4, 'gave': 4, 'Being': 4, 'against': 4, 'certainly': 4, 'thermal': 4, 'hug': 4, 'gives': 4, 'loser': 4, 'interview': 4, 'normal': 4, 'latest': 4, 'Found': 4, 'whatever': 4, 'cat': 4, 'ko': 4, '╮': 4, 'excellent': 4, 'turns': 4, 'Join': 4, 'yourself': 4, 'Secret': 4, 'vs': 4, 'ride': 4, 'cream': 4, 'whenever': 4, 'consistency': 4, 'France': 4, 'series': 4, 'Happiness': 4, 'C': 4, 'h': 4, 'From': 4, 'HAVE': 4, '#tagsforlikes': 4, 'jealous': 4, 'Oppa': 4, 'shopping': 4, '👍': 4, 'fair': 4, 'Home': 4, 'Brilliant': 4, 'enter': 4, 'Lucky': 4, '#BellyButton': 4, 'dude': 4, 'relationship': 4, 'waking': 4, 'large': 4, 'knows': 4, 'Hurry': 4, 'Want': 4, '9': 4, 'About': 4, '╲': 4, '💟': 4, 'http://t.co/fIYPR3t2Ai': 4, 'AF': 4, 'rt': 4, 'fresh': 4, 'chicken': 4, 'Long': 4, 'incredible': 4, 'iPh': 4, 'model': 4, 'Any': 4, 'smiles': 4, 'bath': 4, 'response': 4, 'short': 4, 'aww': 4, 'Say': 4, 'talks': 4, '#JabongatPumaUrbanStampede': 4, 'Yo': 4, 'expert': 4, 'official': 4, '⊹': 4, 'selfie': 4, '｡': 4, 'nights': 4, 'company': 4, 'rn': 4, 'review': 4, 'asking': 4, 'mental': 4, 'FRIDAY': 4, 'twitch': 4, '╭': 4, 'earlier': 4, 'af': 4, 'living': 4, 'ones': 4, 'car': 4, 'specialise': 4, 'white': 4, 'favor': 4, 'match': 4, 'related': 4, 'FB': 4, '17': 4, '✫': 4, 'main': 4, '@5SOS': 4, 'act': 4, 'views': 4, 'taking': 4, '@Gurmeetramrahim': 4, 'younger': 4, 'Another': 4, 'talented': 4, 'forever': 4, 'Chronicles': 4, '@8': 4, 'shoot': 4, \"couldn't\": 4, '#StarSquad': 4, 'launch': 4, '🇫': 4, '5SOS': 4, 'Okay': 4, 'online': 4, 'contact': 4, 'wondering': 4, 'signed': 4, 'Something': 4, 'joining': 4, '#photooftheday': 4, 'food': 4, 'dead': 4, 'speaking': 4, 'fabulous': 4, 'asap': 4, 'boys': 4, 'run': 4, '0ne': 4, 'ruin': 4, 'Hoping': 4, 'Following': 4, '@AstonMerrygold': 4, 'suggestion': 4, \"he'll\": 4, 'TO': 4, 'called': 4, 'peeps': 4, '@whittakerdesig1': 4, 'missed': 4, 'inside': 4, '11am': 4, 'Kepler': 4, 'OK': 4, 'class': 4, 'friday': 4, 'album': 4, 'Summer': 4, 'Little': 4, 'air': 4, 'tha': 3, 'someday': 3, 'typed': 3, '☆': 3, 'sits': 3, 'figure': 3, 'helping': 3, 'LFC': 3, 'bag': 3, 'Jgh': 3, '30': 3, 'Larry': 3, 'don': 3, 'science': 3, 'dms': 3, 'bringing': 3, 'Ducks': 3, 'upload': 3, 'ma': 3, '@eonnicchi': 3, 'user': 3, 'Should': 3, 'Shop': 3, 'followback': 3, '#love': 3, '@KageYashsa': 3, 'BUT': 3, 'K': 3, 'doubt': 3, '#l4l': 3, 'layout': 3, 'shoulda': 3, '200': 3, 'Every': 3, 'remix': 3, 'sorted': 3, 'ANIMATION': 3, 'joy': 3, \"how's\": 3, 'sexyjudy': 3, 'Liam': 3, 'Earth': 3, 'Am': 3, 'IN': 3, 'TGIF': 3, '#Indonesia': 3, '#goodmorning': 3, 'sweetie': 3, 'Lesley': 3, 'HERE': 3, 'peaceful': 3, '33': 3, '34': 3, 'Thought': 3, 'Ball': 3, 'Real': 3, 'Tara': 3, '80s': 3, 'ily': 3, 'Juicy': 3, 'shower': 3, 'campaign': 3, 'Pool': 3, '#jeep': 3, 'inspire': 3, 'Beth': 3, '@HushedApp': 3, 'honey': 3, \"weren't\": 3, 'Bonilla': 3, 'Girls': 3, 'sister': 3, 'MINECRAFT': 3, 'standing': 3, '50.000': 3, 'Fine': 3, 'ka': 3, \"people's\": 3, 'After': 3, 'Jesus': 3, 'probs': 3, 'small': 3, 'KFCROLEPLAYERS': 3, 'ni': 3, 'Needed': 3, 'nap': 3, '@thebetterindia': 3, 'drawing': 3, 'Queen': 3, 'fudge': 3, 'reviews': 3, '@KirkdaleBooks': 3, 'knock': 3, '´': 3, 'Helen': 3, 'filming': 3, 'Bath': 3, 'Right': 3, 'Alice': 3, '@CarlHamlet': 3, 'Ellie': 3, 'Emily': 3, 'death': 3, 'King': 3, 'faster': 3, 'Does': 3, 'December': 3, 'loose': 3, '@AdeccoJapan': 3, 'parents': 3, 'worse': 3, '@arsenalnewsasit': 3, '💃': 3, '@MeatBingo': 3, 'Online': 3, 'visiting': 3, 'BB': 3, 'sad': 3, 'growing': 3, 'content': 3, 'hills': 3, 'imagine': 3, 'journey': 3, \"Didn't\": 3, 'outfit': 3, 'countries': 3, 'town': 3, '#sexo': 3, 'Crazy': 3, 'id': 3, 'comments': 3, 'stand': 3, 'Funny': 3, 'Turn': 3, 'pre': 3, 'ARE': 3, 'crossed': 3, 'itself': 3, 'Blessed': 3, 'breakfast': 3, 'beach': 3, 'Late': 3, 'https://t.co/sc9kDhaviX': 3, '#hot': 3, 'front': 3, 'worthwhile': 3, 'urgently': 3, 'honestly': 3, 'prayers': 3, 'eye': 3, 'kitchen': 3, 'changes': 3, 'Oops': 3, 'English': 3, 'tells': 3, '0': 3, 'married': 3, 'doctor': 3, 'Looks': 3, 'social': 3, 'flow': 3, 'BE': 3, '╰': 3, 'spree': 3, 'burn': 3, \"we've\": 3, 'IF': 3, '@sculptorfred': 3, 'dad': 3, 'mail': 3, 'unfollow': 3, 'xD': 3, 'belated': 3, 'Gryph': 3, '@MikeyyGee_562': 3, 'bus': 3, '🌞': 3, 'pictures': 3, 'OF': 3, '#weekend': 3, 'Selfies': 3, 'hurts': 3, 'Luck': 3, 'ONE': 3, 'yaya': 3, '@chelsea_acker': 3, 'Donna': 3, 'effect': 3, 'poor': 3, 'note': 3, 'attention': 3, '👏': 3, 'cheers': 3, 'Made': 3, '💓': 3, 'sea': 3, 'tuned': 3, 'EMPLOYERS': 3, 'MISS': 3, 'bra': 3, 'Yesss': 3, 'anymore': 3, 'felt': 3, 'cuz': 3, 'exactly': 3, 'Mr': 3, '•': 3, 'EVERYONE': 3, '#xxx': 3, 'Volume': 3, 'Gold': 3, 'L': 3, 'Future': 3, 'YES': 3, '@lovingjeonboram': 3, 'Problem': 3, 'French': 3, 'hell': 3, 'released': 3, 'strength': 3, 'oppa': 3, 'TV': 3, 'stories': 3, 'Harry': 3, 'lives': 3, 'jazmin': 3, 'ad': 3, 'cosplayers': 3, 'miles': 3, 'quality': 3, 'considering': 3, 'http://t.co/chhWQ9DHgO': 3, '@MariaSharapova': 3, 'hilarious': 3, 'station': 3, 'cup': 3, '╯': 3, '@joohyunvrl': 3, 'kik': 3, 'stunning': 3, 'forgotten': 3, 'hang': 3, 'thankyou': 3, '101': 3, '@5SOS_FAHUpdates': 3, 'Wrong': 3, '#follow': 3, 'la': 3, 'NBA': 3, '@Kreizi_': 3, 'Awwww': 3, '@Stefbystef_': 3, \"wasn't\": 3, '☕': 3, \"wouldn't\": 3, 'grab': 3, 'People': 3, 'Blue': 3, 'truth': 3, 'packing': 3, 'imma': 3, 'vids': 3, 'afraid': 3, 'sauce': 3, 'Wanna': 3, 'shining': 3, 'havent': 3, 'four': 3, 'web': 3, 'aw': 3, 'idk': 3, '@sweettoothmarti': 3, 'dress': 3, 'virgin': 3, 'whoop': 3, 'emails': 3, 'swear': 3, 'Followed': 3, '@Frgt10_Anthem': 3, 'Youtube': 3, 'Doug': 3, 'lovers': 3, 'upgrade': 3, 'flowers': 3, 'acts': 3, 'PLAYS': 3, '#Minecraft': 3, 'Jay': 3, 'package': 3, 'HAHA': 3, 'law': 3, 'behind': 3, 'Dm': 3, 'yo': 3, 'slept': 3, 'pleased': 3, 'smart': 3, 'P': 3, 'regular': 3, 'booked': 3, 'present': 3, 'feed': 3, 'changing': 3, 'glasses': 3, 'Retweets': 3, '#yogyakarta': 3, 'opportunity': 3, \"we'd\": 3, 'clap': 3, 'surely': 3, '@CG_Rated': 3, 'Catch': 3, 'Yup': 3, 'ahh': 3, 'sing': 3, 'request': 3, \"shouldn't\": 3, '#traveler': 3, 'rough': 3, 'hands': 3, 'wrote': 3, 'recipe': 3, 'Red': 3, 'update': 3, '@jazminbonilla77': 3, 'Wow': 3, 'J': 3, 'conversation': 3, 'Bro': 3, 'quit': 3, 'Apexis': 3, 'heads': 3, '#FreebieFriday': 3, 'Rubber': 3, '@PB_Furniture': 3, 'tommorow': 3, 'ate': 3, 'line': 3, 'session': 3, 'actress': 3, \"Wouldn't\": 3, 'Super': 3, 'Michael': 3, 'ZonzoFox': 3, 'hold': 3, 'streaming': 3, 'smoke': 3, 'salmon': 3, '@KalinWhite': 3, 'complete': 3, 'atm': 3, 'secret': 3, 'aboard': 3, 'wine': 3, 'throw': 3, '#AutoFollow': 3, 'section': 3, 'refreshing': 3, 'Hiya': 3, 'singer': 3, '@miabellasesso': 3, 'Team': 3, 'buyers': 3, 'sisters': 3, 'Gain': 3, '@JabongIndia': 3, 'young': 3, 'lines': 3, 'ears': 3, 'F': 3, 'shot': 3, 'speaker': 3, 'caught': 3, 'Mike': 3, '#GOHF': 3, 'texting': 3, 'mood': 3, 'Madrid': 3, 'OKAY': 3, 'Labour': 3, '#OTWOLGrandTrailer': 3, 'ulit': 3, 'otherwise': 3, 'Makes': 3, 'queen': 3, 'Brian': 3, \"You'll\": 3, 'box': 3, '#friday': 3, 'welcomed': 3, '2K15': 3, 'currently': 3, 'breaking': 3, 'http://t.co/J3sxzzg7cU': 3, 'tmrw': 3, 'drama': 3, 'product': 3, 'Black': 3, 'http://t.co/xMohgOWIVJ': 3, 'yaa': 3, 'sitting': 3, 'cycling': 3, 'Rt': 3, 'each': 3, '#FridayFeeling': 3, '#instamood': 3, 'test': 3, 'memories': 3, 'Plus': 3, 'everytime': 3, 'Kind': 3, 'England': 3, 'general': 3, 'USA': 3, 'mentions': 3, 'single': 3, 'decide': 3, 'Crystal': 3, 'Tell': 3, '\\U0001f3fc': 3, 'Tanks': 3, 'Bring': 3, 'loners': 3, 'Fav': 3, 'themselves': 3, '💘': 3, 'Imran': 3, '#gay': 3, 'Cilic': 3, 'decision': 3, 'process': 3, 'Louis': 3, '@Vivienneclore': 3, 'retweeting': 3, 'Gorgeous': 3, '🎵': 3, '@ollyofficial': 3, '@bookmyshow': 3, 'anniversary': 3, \"isn't\": 3, 'http://t.co/rZgZtQ2fJT': 3, 'Could': 3, 'Goodbye': 3, 'episode': 3, 'di': 3, 'Might': 3, '@Klick_Business': 3, 'Fans': 3, 'ji': 3, 'filled': 3, 'fixed': 3, '@thatdudegalvan_': 3, 'yup': 3, 'dates': 3, 'Gamer': 3, 'meant': 3, 'knees': 3, 'everyday': 3, 'Close': 3, 'fr': 3, 'beauty': 3, '#art': 3, 'ROFL': 3, 'Mine': 3, 'route': 3, '@SasaRichardson': 3, 'Jummah': 3, 'weakness': 3, '@JonsCrazyTweets': 3, 'sooo': 3, 'rip': 3, 'easier': 3, 'spirit': 3, '\\U0001f3fb': 3, 'se': 3, 'gooday': 3, 'fam': 3, 'Photoset': 3, 'updated': 3, 'spotting': 3, 'quickly': 3, 'favorites': 3, 'ANGRY': 3, 'Find': 3, 'orders': 3, 'responses': 3, 'Mubarak': 3, '⭐': 3, '@otraclace': 3, 'likes': 3, 'soaps': 3, 'wife': 3, 'onto': 3, 'log': 3, 'whats': 3, 'Finally': 3, '@WOMADCHARLTONPK': 3, 'Had': 3, 'finding': 3, 'helped': 3, '🌸': 3, 'Kindly': 3, '3rd': 3, 'Because': 3, 'Huge': 3, 'solo': 3, '💖': 3, 'updating': 3, 'happens': 3, 'A4': 3, 'Woohoo': 3, 'honest': 3, 'basically': 3, 'red': 3, 'turning': 3, 'chill': 3, 'spreading': 3, 'laugh': 3, 'Rettweet': 3, '#traveling': 3, 'training': 3, 'star': 3, 'Family': 3, 'Indeed': 3, 'important': 3, 'Yep': 3, 'fly': 3, 'GRANDPA': 3, 'access': 3, 'fruit': 3, '#NotAnApology': 3, 'bhai': 3, 'type': 3, 'ITS': 3, 'delighted': 3, '#holiday': 3, 'leg': 3, 'Likewise': 3, 'build': 3, '@outboundapp': 3, '@babypuffinator': 3, 'mist': 3, 'Hot': 3, 'approve': 3, '@avonfvcks': 3, 'names': 3, 'Whatsapp': 3, 'Days': 3, 'Head': 3, 'BACK': 3, '#kikmeguys': 3, 'KNOW': 3, 'll': 3, 'ArchdBanterbury': 3, 'bill': 3, 'planned': 3, 'Train': 3, 'garden': 3, 'treat': 3, 'players': 3, 'Perfect': 3, 'Sending': 3, 'lunch': 3, 'ELF': 3, 'earth': 3, 'Paris': 3, '@Humna__Khan': 3, 'stock': 3, 'bby': 3, 'train': 3, 'sunny': 3, 'THANK': 3, 'guysss': 3, 'area': 3, '#kikmenow': 3, 'building': 3, 'Details': 3, 'haters': 3, 'Meet': 3, '. ..': 3, 'MyPark': 3, 'wishing': 3, 'Google': 3, 'awwww': 3, 'Worth': 2, 'goodness': 2, 'yall': 2, 'dried': 2, 'fell': 2, 'entries': 2, 'https://t.co/s7y4Ys5JeU': 2, 'ohhh': 2, 'fighting': 2, 'bae': 2, 'difference': 2, 'inaccessible': 2, 'characters': 2, '@govindajeggy': 2, 'joke': 2, 'award': 2, 'Main': 2, 'magical': 2, '@19strawberry66': 2, 'Agree': 2, 'youtube': 2, '┗': 2, '@ABNORMAL_ANA92': 2, 'Philippa': 2, 'Lisa': 2, '@kath_patel': 2, '@justcallmerizzo': 2, 'Apple': 2, '«': 2, '@Barrastinian': 2, 'trending': 2, 'WOWWWW': 2, '@earlybiz': 2, 'Sharing': 2, 'road': 2, 'Dont': 2, '😤': 2, 'ThanQ': 2, '@BlueBellEMS': 2, 'pile': 2, '@clarelea101': 2, 'botanical': 2, 'poster': 2, 'Heiya': 2, '😭': 2, 'Karachi': 2, 'routine': 2, 'Such': 2, 'ppl': 2, 'Mexico': 2, 'junior': 2, '#musicbiz': 2, 'Fighting': 2, 'absolute': 2, 'seeds': 2, 'club': 2, 'suspect': 2, 'smh': 2, 'nhi': 2, 'Wales': 2, '@madsenjewellery': 2, '3D': 2, '. .': 2, 'Smart': 2, 'hero': 2, '@s_whiteant': 2, '@gregols09': 2, 'Otherwise': 2, '@RobinAdamsZA': 2, 'Paul': 2, 'remote': 2, 'tym': 2, 'couples': 2, 'events': 2, 'mubarak': 2, 'Her': 2, 'corner': 2, 'children': 2, 'mi': 2, '@FroudRS': 2, 'bird': 2, 'Hugs': 2, 'Mix': 2, 'hoodie': 2, 'BIG': 2, 'Send': 2, 'phones': 2, 'Wait': 2, 'tend': 2, '01282': 2, 'apple': 2, 'productive': 2, 'Club': 2, 'calm': 2, 'terrible': 2, '@linda_regan': 2, 'awkward': 2, 'degree': 2, \"i'd\": 2, 'Thursday': 2, '@blogadda': 2, 'lies': 2, 'knowing': 2, 'spot': 2, 'Celebrate': 2, 'soo': 2, 'rabbit': 2, '11:11': 2, 'Chris': 2, 'sharp': 2, 'laid': 2, 'Lunch': 2, 'retail': 2, '@DanielNewman': 2, \"Today's\": 2, 'http://t.co/sczAWaxEW0': 2, 'Ben': 2, 'Small': 2, '1D': 2, 'facts': 2, 'okayy': 2, 'gym': 2, 'Message': 2, 'Boy': 2, 'Zayn': 2, 'GREAT': 2, 'bend': 2, 'inform': 2, 'IGN': 2, 'stage': 2, 'customers': 2, 'laughter': 2, 'DONE': 2, 'expect': 2, 'His': 2, 'download': 2, 'role': 2, 'serious': 2, '(-:': 2, 'practicing': 2, 'Bombs': 2, '@sothcott': 2, 'Pro': 2, 'Won': 2, '@concertina226': 2, '#fridayfeeling': 2, '@Marzbargaming': 2, 'bot': 2, 'skype': 2, 'Ian': 2, 'parcel': 2, '@NoakseyV1': 2, 'Sir': 2, 'Giveaway': 2, 'etc': 2, 'rad': 2, 'distance': 2, 'jst': 2, '#Dominion': 2, 'Snap': 2, 'collage': 2, 'dam': 2, 'Hallo': 2, '#TRMDHesitant': 2, '#french': 2, 'mobile': 2, '@Cat_grl': 2, 'invited': 2, 'fave': 2, 'Loved': 2, 'helps': 2, 'offers': 2, 'Nic': 2, 'wrap': 2, '#website': 2, 'Minister': 2, '@SocialRMadrid': 2, '@ArakinUK': 2, 'HER': 2, 'literature': 2, '@BBCRadio3': 2, 'twitching': 2, 'hospital': 2, 'lil': 2, 'yang': 2, 'Song': 2, 'mature': 2, 'colour': 2, 'THEIR': 2, '@Pani_Bufetowa': 2, 'loudest': 2, 'fashion': 2, 'given': 2, 'Seems': 2, 'especially': 2, 'darling': 2, '#burger': 2, 'Pixgram': 2, '@4HUMANITEEs': 2, 'Away': 2, 'FNAF': 2, '@VodkaBlond': 2, 'hmm': 2, 'suggest': 2, 'Julie': 2, 'lotsa': 2, 'Secrets': 2, 'massage': 2, 'Chloe': 2, 'romantic': 2, '@ASAPOFFICIAL': 2, '<---': 2, 'internships': 2, 'Race': 2, 'assured': 2, 'Expect': 2, 'comfortable': 2, '@imvnaj': 2, 'Playing': 2, '#mpoints': 2, 'Five': 2, 'dunno': 2, 'daring': 2, 'confusing': 2, 'Marmite': 2, 'included': 2, 'ended': 2, '@ManoharRpm': 2, 'leaving': 2, 'Body': 2, 'xoxo': 2, 'Ohh': 2, 'usual': 2, 'planning': 2, 'Woah': 2, '💞': 2, 'thencerest': 2, 'door': 2, 'blew': 2, 'services': 2, '@anvy2446': 2, 'BAILEY': 2, '@shounshounette': 2, '@mikecoulson48': 2, 'explain': 2, 'exhausted': 2, 'Palace': 2, 'American': 2, 'kindest': 2, '#TagsForLikesApp': 2, 'Shout': 2, 'holiday': 2, '🔥': 2, 'cook': 2, 'ghost': 2, 'balance': 2, 'Blog': 2, 'convo': 2, 'spell': 2, '#Icecream': 2, 'witness': 2, '@johncrossmirror': 2, 'UGLY': 2, 'Offer': 2, '@Podolski10': 2, 'hunny': 2, 'Patrice': 2, 'Yummy': 2, 'Asian': 2, '@ArianeBeeston': 2, 'LA': 2, 'dun': 2, 'Twitch': 2, 'Kisses': 2, 'definition': 2, 'NOT': 2, 'HELLO': 2, 'tight': 2, '#snapme': 2, '@Brianscrooks': 2, 'JAMES': 2, 'wasnt': 2, 'riding': 2, '#HouseMusic': 2, 'Connie': 2, 'shoe': 2, 'masks': 2, 'Feel': 2, 'strange': 2, 'ye': 2, 'Instagram': 2, '@notch': 2, '@1DCrazen': 2, 'mornin': 2, 'Expelled': 2, 'Fast': 2, 'PS': 2, 'LIKE': 2, '#icecream': 2, '@PinkPeoniesBlog': 2, 'repeat': 2, 'University': 2, 'simple': 2, 'Scotland': 2, 'Teenie': 2, 'urself': 2, 'plays': 2, 'butter': 2, 'Goodmorning': 2, 'sound': 2, '45gameplay': 2, '@V4Violetta': 2, 'delve': 2, 'karain': 2, 'Burger': 2, 'WAIT': 2, '@wimagazine': 2, 'raining': 2, 'rotate': 2, 'Wooftastic': 2, '@JellyBabyMom2': 2, 'Xbox': 2, 'adventure': 2, '120': 2, 'Pity': 2, 'laughing': 2, 'reminder': 2, 'Event': 2, 'ALL': 2, '#chat': 2, '😉': 2, '@emily_etc': 2, 'prettier': 2, 'participate': 2, 'idols': 2, 'B': 2, 'Alex': 2, 'failed': 2, 'Live': 2, 'TED': 2, 'shots': 2, 'MAKE': 2, '@RachelLFilsoof': 2, 'Selena': 2, '#welcomeTweet': 2, 'stopped': 2, 'Reading': 2, 'Ask': 2, 'exams': 2, '=D': 2, 'hearts': 2, 'bottom': 2, 'dah': 2, 'blends': 2, '@LivelyKaty': 2, '@taylorswift13': 2, 'space': 2, '@sophieb666': 2, '@cinghh': 2, '🍷': 2, 'Tokyo': 2, '@RX931': 2, '@urihoresh': 2, 'looked': 2, 'Contact': 2, 'JUST': 2, 'profile': 2, 'Show': 2, 'nahi': 2, 'master': 2, 'Boys': 2, 'BALL': 2, 'letter': 2, '300': 2, 'fridge': 2, '547': 2, '3:02': 2, 'Beginning': 2, 'Doing': 2, 'click': 2, 'bear': 2, 'Jackie': 2, 'Wtf': 2, 'Emirates': 2, 'Call': 2, '☀': 2, '10,000': 2, 'Food': 2, 'Island': 2, 'WAGGA': 2, 'gained': 2, 'however': 2, '#TopNewFollowers': 2, 'creative': 2, 'Work': 2, '@camideasfest': 2, '#FabFriday': 2, 'Afternoon': 2, 'sath': 2, 'dies': 2, '\\U0001f3fd': 2, 'Mrs': 2, 'shouting': 2, 'pancakes': 2, 'http://t.co/J024E6Dwvk': 2, 'blood': 2, 'Japanese': 2, 'reputation': 2, 'gotten': 2, 'MOOD': 2, '@mediatemple': 2, 'Jamie': 2, 'history': 2, 'Tank': 2, '@rosehut1': 2, 'dig': 2, 'pre-ordered': 2, 'MASA': 2, 'Aug': 2, '@DrRamcharan55': 2, 'empty': 2, 'Tony': 2, 'audience': 2, 'information': 2, 'Fuck': 2, '@chunkymark': 2, 'exam': 2, 'Allah': 2, '@AquaDesignGroup': 2, 'Olly': 2, '22': 2, '@Ileana_Official': 2, 'Karen': 2, 'dat': 2, 'ito': 2, 'race': 2, 'readers': 2, 'PC': 2, 'truly': 2, 'delicious': 2, 'finger': 2, 'moar': 2, '@Carol1MY': 2, '}': 2, 'Stephanie': 2, '#followback': 2, 'Pictures': 2, 'sex': 2, 'slice': 2, 'situation': 2, '@BeSameerKapoor': 2, '30.000': 2, 'MEN': 2, '@dowsingforsound': 2, 'towards': 2, 'agreed': 2, '#ios8': 2, 'Recite': 2, 'materials': 2, '@miss_steele89': 2, 'worst': 2, 'Pakistan': 2, 'bracelet': 2, 'bubbles': 2, 'Bae': 2, 'Talking': 2, 'lmao': 2, 'hubby': 2, 'fade': 2, 'dry': 2, 'counting': 2, 'landscapes': 2, 'greatest': 2, 'thoughts': 2, 'pleasant': 2, 'Next': 2, 'Buy': 2, 'suitcase': 2, 'Bailona': 2, 'Die': 2, 'price': 2, '@narendramodi': 2, '#SandroForCEO': 2, 'expanding': 2, '#instagood': 2, 'Andrew': 2, 'San': 2, 'nails': 2, 'lesson': 2, 'realize': 2, 'mr': 2, 'Changes': 2, 'lay': 2, 'beauties': 2, '@nair_rinku': 2, 'eating': 2, '>:)': 2, 'mo': 2, 'peasant': 2, 'bt': 2, '@FaZeMeerkatt': 2, 'Oil': 2, '2.0': 2, '@bernadettesout1': 2, 'gotta': 2, 'dis': 2, '@YoKoKuali': 2, 'Rude': 2, '@__KaraboM': 2, 'daughter': 2, 'Gotta': 2, 'traffic': 2, 'ultor': 2, 'Thats': 2, 'damn': 2, 'Ur': 2, 'everywhere': 2, 'daredevil': 2, '@crustyolddeen': 2, 'cheese': 2, 'coated': 2, 'FAN': 2, 'Fingers': 2, 'Exactly': 2, 'deserved': 2, '@dbuzzketball': 2, 'prize': 2, '@alpstart': 2, 'BDAY': 2, '✌': 2, 'Kyle': 2, 'wall': 2, 'bugs': 2, 'Dewsbury': 2, 'wolves': 2, 'OVH': 2, 'Rose': 2, 'Yuna': 2, 'source': 2, '@davey_steven': 2, 'Mobile': 2, '@Michael5SOS': 2, 'selfies': 2, 'grade': 2, 'Heiyo': 2, '@pagallarkee': 2, '#DearSlim': 2, 'west': 2, 'cocktail': 2, '#PBB737Gold': 2, 'particularly': 2, 'nowadays': 2, 'saves': 2, '@fireddestiny21': 2, '@shabnam_903': 2, 'min': 2, 'egg': 2, '∗': 2, 'collapse': 2, 'Talk': 2, '@BarbieDevotees': 2, 'Le': 2, 'cakes': 2, 'irresistible': 2, 'round': 2, 'Beat': 2, 'shows': 2, 'Dylan': 2, 'wild': 2, 'duck': 2, 'bob': 2, 'Max': 2, '@lesholly20': 2, '@paulsouthcott': 2, 'adding': 2, 'gd': 2, '@MaxivisionEye': 2, 'Bad': 2, '@sleekyskillz': 2, 'hoping': 2, 'Collection': 2, '#hornykik': 2, 'entry': 2, 'eps': 2, 'seats': 2, '@cotterw': 2, '@HDiddyNZ': 2, 'updates': 2, 'evening': 2, 'turned': 2, 'Christmas': 2, 'bff': 2, 'Wonderful': 2, '@EndresErik': 2, 'starting': 2, 'veggie': 2, 'Trying': 2, '@POTUS': 2, '@jackgilinsky': 2, 'nate': 2, '@MatjazSircelj': 2, 'Hah': 2, 'arummzz': 2, '`': 2, '#CretaPerfect4Me': 2, 'semo': 2, 'POOL': 2, 'THIS': 2, 'Perhaps': 2, '😒': 2, 'raid': 2, 'goodbye': 2, 'continues': 2, 'Glasgow': 2, '#MyMonsoonStory': 2, 'clicking': 2, '@Justin_Naito': 2, 'ng': 2, 'Steve': 2, '@Miangeorges': 2, 'beautifull': 2, 'festival': 2, 'racket': 2, '😃': 2, '#model': 2, '🚲': 2, 'employer': 2, 'cousin': 2, '#me': 2, '@TheBodyShopIND': 2, 'child': 2, 'Pete': 2, 'Coco': 2, 'grades': 2, 'seed': 2, 'Belated': 2, '💋': 2, '@QueenBiankee': 2, 'popular': 2, '=:': 2, 'IDR': 2, 'momma': 2, '@fwmkian': 2, '10am': 2, 'secure': 2, 'Powers': 2, 'band': 2, 'Bonding': 2, 'sneak': 2, 'weekends': 2, 'familiar': 2, 'atleast': 2, 'virtual': 2, 'replies': 2, 'Neil': 2, '@_uNeo': 2, '@Telegraph': 2, 'appears': 2, '@staybubbly69': 2, 'install': 2, '#gamedev': 2, 'hbu': 2, \"else's\": 2, 'presents': 2, '#sexysasunday': 2, 'limits': 2, 'faithful': 2, 'Bout': 2, 'threw': 2, 'retweets': 2, 'excuse': 2, '#FFBack': 2, 'crowd': 2, 'superpowers': 2, '@thatchamdad': 2, 'Mon': 2, 'tools': 2, 'longer': 2, '@adasamper': 2, 'bitch': 2, 'mixed': 2, 'girlfriends': 2, 'feetblog': 2, 'stopping': 2, 'furry': 2, 'brain': 2, 'neither': 2, 'swimming': 2, 'nowhere': 2, 'broken': 2, 'HighValue': 2, 'ID': 2, \"Freddy's\": 2, 'BEST': 2, 'DIRECTION': 2, 'DA': 2, '#sunshine': 2, 'Korean': 2, 'beer': 2, 'subs': 2, 'lng': 2, 'feature': 2, '@sambirdracing': 2, 'supposed': 2, '@SkeletonSweets': 2, \"Kareena's\": 2, '@sidmouthfolk': 2, 'skills': 2, 'green': 2, 'cousins': 2, 'wallet': 2, 'shes': 2, 'sarcasm': 2, '#friends': 2, 'BEAT': 2, '@MatthiasLissner': 2, '@RealCrimeMag': 2, 'ways': 2, 'complain': 2, 'Ireland': 2, 'smthng': 2, '#magictrik': 2, 'xxxx': 2, '@_sunshinehoran_': 2, 'throwback': 2, 'Invite': 2, 'WWAT': 2, 'moods': 2, 'polite': 2, 'daily': 2, '@RyanGage': 2, 'ft': 2, 'Dare': 2, 'cars': 2, '@CazuaLLUK': 2, 'michael': 2, 'Likes': 2, 'unless': 2, '@thatothegreat': 2, 'CANT': 2, 'shops': 2, 'testing': 2, 'KS': 2, 'unknown': 2, 'Irish': 2, 'TUNISIA': 2, 'Loving': 2, 'donation': 2, '@LusciousLyndee1': 2, 'Calm': 2, 'BABY': 2, 'Over': 2, 'lately': 2, 'Waking': 2, 'artist': 2, 'library': 2, 'dirty': 2, '#MaxFreshMove': 2, 'uploading': 2, 'App': 2, 'GIFTED': 2, '@Essjayleam': 2, 'Italy': 2, 'teach': 2, 'gf': 2, 'ball': 2, 'Manila_bro': 2, 'THINK': 2, 'Dum': 2, '#telecoms': 2, 'surprised': 2, 'commits': 2, 'http://t.co/rrIFS8s3EK': 2, 'knowledge': 2, 'ol': 2, '@TheYingster': 2, 'picnic': 2, 'khan': 2, '🐢': 2, 'chainsaw': 2, 'Folk': 2, 'Been': 2, 'fm': 2, 'YT': 2, '@GoodwynsPetFood': 2, '@Miss_Dyna_Mite': 2, 'Chelsea': 2, 'Luv': 2, '👊': 2, 'certain': 2, 'razi': 2, 'born': 2, 'fandom': 2, 'accnt': 2, 'shooting': 2, 'Those': 2, 'value': 2, 'classic': 2, 'Pain': 2, 'pro': 2, 'staff': 2, 'PIN': 2, 'Where': 2, 'report': 2, 'owner': 2, 'Pandora': 2, 'mirror': 2, 'com': 2, 'Views': 2, 'leader': 2, 'Too': 2, '@_kyle__86': 2, '#keepitlocal': 2, 'computer': 2, 'noticed': 2, 'dogs': 2, 'thru': 2, 'remembered': 2, '@HitItRichSlots': 2, \":')\": 2, 'Before': 2, 'health': 2, 'disagree': 2, 'guide': 2, 'credit': 2, 'gossip': 2, 'nerd': 2, 'tooth': 2, 'sword': 2, 'Fri': 2, 'extreme': 2, 'ours': 2, 'RIGHT': 2, 'soup': 2, 'KATH': 2, 'Russia': 2, '@Blade4hire': 2, 'dancing': 2, 'fics': 2, 'niall': 2, 'TWO': 2, 'intelligent': 2, 'Greek': 2, 'grateful': 2, 'Sunny': 2, 'drank': 2, 'kill': 2, \"year's\": 2, '@MyriadPhoto': 2, 'bf': 2, 'ang': 2, 'Q': 2, 'din': 2, 'Cody': 2, 'chek': 2, 'bottles': 2, '@sweet_heena': 2, 'epic': 2, 'glass': 2, 'badass': 2, 'river': 2, 'KW': 2, 'Fun': 2, 'Celebrating': 2, 'pose': 2, 'between': 2, 'pastry': 2, 'HOME': 2, 'missing': 2, '@ContestKiDuniya': 2, 'hah': 2, 'theres': 2, '5sos': 2, '#marine': 2, '@TWBC_Business': 2, 'R': 2, 'Jack': 2, 'planet': 2, 'favouriting': 2, 'ordered': 2, 'sometime': 2, 'lmaoo': 2, 'delivery': 2, 'Sis': 2, '#wife': 2, 'loyal': 2, 'reserve': 2, '#TY': 2, '@monolifemusic': 2, 'xxoo': 2, 'shoes': 2, 'Market': 2, 'Vyapam': 2, 'Goodness': 2, 'Chelny': 2, 'Al': 2, 'freak': 2, 'spend': 2, '16': 2, 'Maxi': 2, 'Mega': 2, 'alive': 2, 'pink': 2, '@alIthingsluke': 2, '@ArtieCraftie': 2, '#عن': 2, 'pin': 2, 'interest': 2, 'coz': 2, 'sit': 2, 'windows': 2, 'aint': 2, 'Season': 2, 'Gud': 2, 'Gen': 2, 'dhan': 2, \"o'clock\": 2, 'tough': 2, 'Ready': 2, 'noticing': 2, 'Rain': 2, '@angel_mahiyaa': 2, 'Marty': 2, 'Arsenal': 2, 'line-up': 2, '@KFC_India': 2, 'Nikki': 2, 'snap': 2, 'crew': 2, '#CRETAperfectSUV': 2, 'QUEEN': 2, 'plz': 2, '@kikbella': 2, 'Mubarik': 2, 'duh': 2, '#dota2': 2, '#bae': 2, 'magic': 2, 'mass': 2, 'Awww': 2, '@RunJumpScrap': 2, '@dean0133': 2, '▪': 2, '@graphure': 2, 'triangle': 2, 'em': 2, 'author': 2, 'TOO': 2, '-->': 2, 'Open': 2, 'Warm': 2, 'Either': 2, 'Anniversary': 2, '31st': 2, 'homie': 2, 'cold': 2, '@clarkkrm': 2, 'low': 2, '@JackJackJohnson': 2, 'upcoming': 2, 'promo': 2, 'approval': 2, 'Eric': 2, '#bot': 2, 'receive': 2, 'spelling': 2, 'Final': 2, \"There's\": 2, '@SlyCat': 2, 'POWER': 2, 'park': 2, '@applewriter': 2, 'Bee': 2, \"friend's\": 2, 'roll': 2, 'designs': 2, 'yan': 2, '@ADFofficial': 2, '@REDlineCC': 2, '┓': 2, '@tylergposey': 2, '@ejay21falcon': 2, 'CONGRATS': 2, 'liking': 2, '@SleekStudioz': 2, 'hehehehe': 2, 'Fall': 2, 'inspiration': 2, 'exercise': 2, 'IM': 2, 'thankful': 2, 'Jane': 2, 'mister': 2, 'entered': 2, 'hearing': 2, 'internet': 2, 'minions': 2, 'yogurt': 2, '@hanpdf': 2, 'bothered': 2, 'Dream': 2, 'April': 2, '@BlueMicrophones': 2, '@davidwarner31': 2, 'third': 2, 'candy': 2, \"God's\": 2, '@neskaife': 2, '🌎': 2, 'iflix': 2, '#morning': 2, 'Itty': 2, 'Other': 2, '@x123456789tine': 2, 'blonde': 2, '@metrotrains': 2, 'removed': 2, 'Cs': 2, 'Acha': 2, 'Seven': 2, '@natandalex': 2, '28': 2, 'Housing': 2, 'alot': 2, '#GoodMorning': 2, 'Android': 2, 'harry': 2, 'Has': 2, 'feelings': 2, 'Vegas': 2, '##bbmme': 2, 'Lee': 2, 'pa': 2, 'wet': 2, 'oven': 2, '@Huskyteer': 2, 'Lord': 2, 'pm': 2, 'Air': 2, 'Carol': 2, 'choosing': 2, 'committed': 2, '@FranchiSeedsUK': 2, '#CJRadaCOMATEada': 2, 'beyond': 2, 'TL': 2, 'options': 2, 'Hollywood': 2, 'jesus': 2, 'attack': 2, 'ATP': 2, 'aur': 2, '#HushedPinWithSammy': 2, '@dylanobrien': 2, 'Korea': 2, '😀': 2, 'cares': 2, '@MSaito6': 2, 'tee': 2, 'designer': 2, 'normally': 2, '@SquadKathNiels': 2, 'GETTING': 2, 'animated': 2, 'fingers': 2, '@VisitJordan': 2, 'Hotel': 2, 'Line-up': 2, 'Absolutely': 2, 'confirm': 2, 'potential': 2, 'Beiruting': 2, 'tv': 2, '@helloprettysa': 2, 'Four': 2, 'INFINITE': 2, 'results': 2, '@LouMWrites': 2, 'opinions': 2, 'decisions': 2, 'trade': 2, 'Balloon': 2, '@RedBizUK': 2, 'patients': 2, '@nicagaray': 2, 'extravagant': 2, '@gfcuppatea': 2, 'expecting': 2, 'REAL': 2, 'Routine': 2, 'pretend': 2, 'National': 2, 'FANBASE': 2, 'singing': 2, '@JLo': 2, 'cycle': 2, 'youre': 2, 'Sorted': 2, 'xo': 2, 'GRATEFUL': 2, 'leadership': 2, 'becoming': 2, 'Men': 2, 'Actually': 2, 'useless': 2, '@Awaishooo': 2, 'minute': 2, '@ArtForCause': 2, 'bat': 2, '@Jon_Clifton78': 2, '@uberlinco': 2, 'cherish': 2, 'protect': 2, '@weimingkam': 2, 'played': 2, 'due': 2, 'tx': 2, 'helpful': 2, '@LampShopOnline': 2, 'yrs': 2, 'system': 2, 'roller': 2, 'grow': 2, 'willing': 2, \"Pixar's\": 2, '�': 2, '@mattbarker14': 2, 'application': 2, '👯': 2, 'crafts': 2, 'Sounds': 2, '@johngreen': 2, 'ugly': 2, 'Feeling': 2, 'Incredible': 2, '21': 2, 'Bruce': 2, '@slashgear': 2, '. . .': 2, 'rules': 2, '@ZedDBA': 2, 'happiest': 2, 'dumb': 2, '#kikkomansabor': 2, 'Sam': 2, 'Again': 2, '@SkyFallHove': 2, 'drinks': 2, 'Short': 2, '@mixbad': 2, '@SexyAF12': 2, '@vindee': 2, \"You've\": 2, '15th': 2, 'Sabah': 2, 'sort': 2, '#band': 2, 'notification': 2, 'IG': 2, 'winter': 2, 'lyka': 2, '@Omundson': 2, 'seem': 2, 'Ever': 2, 'paper': 2, 'prob': 2, 'explanation': 2, 'blogs': 2, 'channel': 2, 'United': 2, 'Manager': 2, 'deliver': 2, 'raise': 2, 'court': 2, '@TendreDeal': 2, 'aha': 2, 'x12': 2, 'tak': 2, 'yell': 2, 'Mention': 2, 'rings': 2, 'mega': 2, '@DeewaniVeronica': 2, 'plant': 2, 'Spotify': 2, \"They're\": 2, 'except': 2, 'oil': 2, 'coffe': 2, 'Having': 2, '@Raj_Poot_': 2, '@AshDawson147': 2, 'Tomorrow': 2, 'Btw': 2, 'birds': 2, 'Id': 2, '♬': 2, 'hain': 2, '@joeodiete1': 2, 'magazine': 2, '#rock': 2, 'Fair': 2, 'staying': 2, 'impeccable': 2, '#Android': 2, 'til': 2, 'fangirl': 2, 'hide': 2, '@imJANExoxo': 2, 'YOURS': 2, 'affect': 2, 'hitting': 2, '😜': 2, 'Gosh': 2, 'UR': 2, '110': 2, 'allowed': 2, 'WHOOP': 2, 'recommend': 2, '@esthercarodan': 2, 'sunnah': 2, '@Beakmoo': 2, 'sis': 2, '@apki_jasmine': 2, 'yer': 2, 'Wanted': 2, 'inner': 2, 'Soon': 2, 'hungry': 2, '@joiredve': 2, 'friendly': 2, '@KimKardashian': 2, 'fails': 2, 'thousand': 2, 'ල': 2, 'Phenomenal': 2, 'ENTER': 2, 'places': 2, 'blocked': 2, '12th': 2, '@mehra_sachi': 2, 'simply': 2, '#BBMpin': 2, 'bigger': 2, '@CambLiveTrust': 2, 'ASIAN': 2, 'heaven': 2, 'OP': 2, 'Buffer': 2, 'adorable': 2, '@grrl_afraid': 2, '#foiegras': 2, 'kiss': 2, 'Delighted': 2, 'Calum': 2, 'birthdays': 2, '@Mini_Marm': 2, 'Ohhh': 2, 'Uber': 2, 'Usually': 2, 'piss': 2, 'includes': 2, 'faces': 2, 'nite': 2, '#lgbt': 2, '#tour': 2, '#AlDub': 2, '@chingyapp': 2, '#ContestKiDuniya': 2, 'regarding': 2, 'Andy': 2, 'studies': 2, '@_emeraldeye_': 2, 'cynical': 2, 'wanting': 2, '@JaHz73': 2, 'Garden': 2, 'PS4': 2, 'mistake': 2, 'Cant': 2, 'Twoofs': 2, '#family': 2, 'society': 2, '#webcam': 2, '#FaceTime': 2, 'computers': 2, '@dreesti': 2, '75': 2, '#KFCkitchentours': 2, 'Amy': 2, 'Mouse': 2, 'Hii': 2, 'Page': 2, 'legs': 2, '#coffee': 2, 'Count': 2, '#ILOVEYOU': 2, 'FNaF': 2, 'stands': 2, 'gardens': 2, 'healthy': 2, 'CURRENT': 2, '@TomRPI': 2, '@smart_bn': 2, 'apology': 2, '@MDWidlake': 2, 'Wimbledon': 2, 'mouth': 2, 'Central': 2, 'sushi': 2, 'greetings': 2, 'bhi': 2, 'feet': 2, 'Prime': 2, 'yea': 2, '#ShareTheLove': 2, 'Kinda': 2, 'Start': 2, '@Ktens': 2, '@ParentingWT': 2, '@Vikkstar123': 2, 'Yorkshire': 2, 'charger': 2, 'Freshness': 2, 'obviously': 2, 'fit': 2, 'encouraged': 2, 'tips': 2, '@josephcaptures': 2, 'spent': 2, '@GerardButler': 2, 'printer': 2, 'Especially': 2, '12pm': 2, 'Bikini': 2, 'Wardrobe': 2, 'Read': 2, '24th': 2, 'intellectual': 2, 'Rita': 2, '@mnorgaard': 2, 'Cheese': 2, 'Surreal': 2, 'collab': 2, 'chips': 2, '@iamsrk': 2, 'checking': 2, 'sleeping': 2, '9am': 2, 'finish': 2, '@bernardokath': 2, 'usually': 2, '@athrawestokio': 2, '#JourneyPS4': 2, 'trash': 2, '@Shana_Banana_44': 2, 'lazy': 2, 'wkend': 2, 'checkout': 2, 'didnt': 2, 'Mom': 2, 'further': 2, 'average': 2, 'rich': 2, 'unique': 2, 'power': 2, 'Eye': 2, 'peek': 2, '@bridgetminamore': 2, 'Spain': 2, '@EllieVond': 2, 'sport': 2, 'WHAT': 2, 'Hearts': 2, 'Wan': 2, 'voice': 2, '@padaleckbye': 2, 'lord': 2, 'fuckin': 2, 'middle': 2, 'color': 2, 'image': 2, 'Bitty': 2, 'Busy': 2, 'Single': 2, 'cutest': 2, 'purchase': 2, '@drewharley67': 2, '@macauleyBoath': 2, 'liv': 2, 'School': 2, '@RockMyWedding': 2, 'Afang': 2, '@SammyWilk': 2, 'brings': 2, '#Giveaway': 2, 'Link': 2, 'Yayy': 2, '@LittleMix': 2, 'entire': 2, '@Tabinda_Samar': 2, '@NiallOfficial': 2, 'Much': 2, 'NEVER': 2, '#premiostumundo': 2, 'Spanish': 2, 'ranked': 2, 'august': 1, 'Watch': 1, 'equally': 1, 'http://t.co/G2ixonCqoT': 1, 'Loads': 1, 'demand': 1, '@sssniperwolf': 1, 'economy': 1, 'YoonA': 1, '@JhMarkotsis': 1, '#Youtuber': 1, 'phela': 1, 'SJW': 1, '@andrekutyan': 1, 'Tripathi': 1, 'breakdown': 1, 'Charity': 1, '@awadkum': 1, 'http://t.co/FFJU1rlJpC': 1, 'arc': 1, 'starbucks': 1, 'http://t.co/wR72Pq6tp2': 1, '#Poldi': 1, '@neomeruru': 1, 'guzel': 1, 'http://t.co/3xo8zsLtVX': 1, '@ZarlashtFaisal': 1, 'http://t.co/VnItXo8eZ0': 1, '@MCunleashed': 1, '@snookerfanatic': 1, 'format': 1, 'trimmed': 1, '@natasghar': 1, '@liftingcoolstuf': 1, 'spoile': 1, 'cut': 1, 'https://t.co/uKtJ8epz17': 1, 'salon': 1, 'http://t.co/JK3NSXIRMe': 1, '@Tanyawarren': 1, '#CircusCircus': 1, 'Fell': 1, '@Aledeleonmoreno': 1, '@triangledarren': 1, '@medinitalopez': 1, 'survive': 1, 'https://t.co/CUMO6EyiyQ': 1, 'Jordanian': 1, '#Pump': 1, 'feets': 1, 'http://t.co/bgTjjz7fFN': 1, '@985_6097': 1, 'Ludlow': 1, 'Boots': 1, 'http://t.co/XVIgThe1j3': 1, '#delivery': 1, '#JUMMA_MUBARIK': 1, 'london': 1, 'Disk': 1, 'Colorado': 1, 'accomplishment': 1, 'Maple': 1, '@RookieSenpai': 1, 'Hilarious': 1, 'stylish': 1, '@hetthuocchua': 1, '@0129anne': 1, '@Dobboinaus': 1, 'ANZ': 1, 'prior': 1, '@AvantikaSeeth': 1, '@FailteFeirste': 1, '@sylar316': 1, '@Beingsherry27': 1, '@SarahThomas49': 1, 'Takes': 1, 'Earthlings': 1, 'http://t.co/EPsQflEctx': 1, '#Entrepreneur': 1, '@NotThatBobJames': 1, 'upp': 1, '@noodles78': 1, 'sunday': 1, '@Biker_Babe_SA': 1, '@JessicaTM23': 1, '@phonicfm': 1, 'PTA': 1, '#findyourfit': 1, '@Parulcoolthougs': 1, '@AshviniYardi': 1, '@GoGirlsMusic': 1, 'miller': 1, 'amie': 1, 'amount': 1, '@niggalipsbrina': 1, '@sisoment': 1, 'urs': 1, '@DatArabKiid': 1, 'spare': 1, '#haveagoodday': 1, '@MrsRobinsonme': 1, 'dreaded': 1, 'WORDS': 1, 'units': 1, '@SouthWestBiz': 1, '#fls': 1, '@asoberme08': 1, '@mattturner102': 1, '@Merinpinpin': 1, '@inMay84': 1, 'Folow': 1, 'ordinary': 1, 'Tameside': 1, 'Browse': 1, '@FcPNE': 1, '@50Pips': 1, 'hahahaa': 1, '@surfboyliam': 1, 'tonights': 1, '@luvthenorth444': 1, 'mask': 1, '@SingOutRuiz': 1, '@Th0tiana_': 1, '@ChrisMitchell91': 1, 'sweeeeeeeety': 1, '#proudtobeme': 1, 'Entrepreneurship': 1, 'Bom-dia': 1, '@VAUK': 1, '@Daniilarkin1': 1, 'Upside': 1, '01:15': 1, 'cocky': 1, 'Matthew': 1, 'shorter': 1, '@KuljuTommi': 1, 'crap': 1, 'gesture': 1, '@em__scott': 1, '@SnookerSnaps': 1, '@iFLYflat': 1, '@SephtonMark': 1, 'http://t.co/FJUd2N7gmc': 1, 'https://t.co/3Lzz3xvAYp': 1, '@SILV3R': 1, 'voting': 1, '#leica': 1, '#together': 1, 'Galing': 1, '@polarizehes': 1, '@ghostfinder': 1, '@mullingfrackle': 1, '\\\\:': 1, 'Shades': 1, '@97sides': 1, 'mum': 1, 'select': 1, 'import': 1, '@MirrorBridal': 1, 'Impression': 1, '@sugarblaster': 1, 'http://t.co/pu6B5jodur': 1, 'http://t.co/tB34wIraCs': 1, 'TRUST': 1, '@smallfastloud': 1, '@wyckgodfrey': 1, '@VirtualUmbrella': 1, 'feels': 1, '@TashaShukla': 1, 'http://t.co/XcWxo5jVVY': 1, 'cushions': 1, 'ALONE': 1, 'Chalkhill': 1, '@Michael37311757': 1, '@amyponce0830': 1, 'Canon': 1, '@uptownctw': 1, '@AnthonyALopez': 1, 'opportune': 1, '#Indian': 1, 'vaing': 1, 'krta': 1, 'buying': 1, '#ShalwarKameez': 1, '@LuminaraKing': 1, '@Mattys123': 1, 'smug': 1, '@MatthewRumple': 1, 'rundown': 1, '@fyeojart': 1, '#judo': 1, '@ellisonprinting': 1, 'kapima': 1, '#WeStandWithIK': 1, 'vine': 1, '@_pigglywiggly': 1, '@itsRebeccaRayne': 1, 'x20': 1, '@aufazatin': 1, '@MollySniffs': 1, 'ako': 1, '@karanjohar': 1, 'gems': 1, 'saving': 1, 'upgrades': 1, '😝': 1, 'Obakeng': 1, 'https://t.co/eiKOuPV2ki': 1, 'FF': 1, '#DigitalMarketing': 1, '@LoLEsportspedia': 1, 'FURBABY': 1, '@ellamaecapinda': 1, 'http://t.co/EZp6TqdWor': 1, '@Aremay': 1, '@75Susann': 1, '#prrequest': 1, '@vickiGB215': 1, '@cyjaexlne': 1, '@GuyLongworth': 1, 'Phonegraphs': 1, 'bitter': 1, '@freekuku_': 1, '@Btigzy': 1, '#Smile': 1, 'tyre': 1, '@Hutch_PR': 1, 'PauseTime': 1, 'patient': 1, 'fk': 1, '#innovation': 1, '@tributes4u': 1, 'ROCK': 1, 'initiative': 1, '@kanchan789': 1, 'nxt': 1, 'SUCH': 1, '#sabadodeganarseguidores': 1, 'Rosa': 1, 'adore': 1, 'Crypts': 1, 'slayed': 1, 'knives': 1, 'highfive': 1, 'https://t.co/l2Mcd1bW3w': 1, 'besides': 1, '@Sugarpova': 1, '@EnRoute2BeFit': 1, '@Wa_NDIA': 1, 'paint': 1, 'ideal': 1, '@LauraRGallagher': 1, 'marriages': 1, 'happily': 1, '@HRLori': 1, 'data': 1, 'serves': 1, 'https://t.co/0II4AHjGV2': 1, 'synced': 1, 'Wah': 1, 'XOXO': 1, 'comedy': 1, 'muahah': 1, '@ChiAB2486': 1, 'accurate': 1, '@alxh': 1, '@tammysoffices': 1, '#jeremy4leader': 1, '@Bixbersboca': 1, 'dinooo': 1, '@W7VOA': 1, '@UMAD': 1, '@elfcosmetics': 1, 'https://t.co/uj3mnLaJmo': 1, '@520f6ed5dd4c4d3': 1, 'http://t.co/fZHtA3JEnq': 1, 'Anonymous': 1, '@Silverclassic': 1, 'III': 1, 'shaved': 1, '#fantastic': 1, '@UltimateOutdoor': 1, 'Producer': 1, 'abhi': 1, '@jojoaro0618': 1, 't-shirt': 1, 'shout-out': 1, 'temperature': 1, 'investment': 1, 'Hitler': 1, '@Enchpannt': 1, 'Gratefulness': 1, 'http://t.co/xWCM9qyRG5': 1, 'eventually': 1, '7/29': 1, 'https://t.co/sLmo2Voxzx': 1, 'Someday': 1, '@myabumygod': 1, '#singapore': 1, 'http://t.co/L4o5J39UEf': 1, 'Intro': 1, 'http://t.co/mpmnNl6vLt': 1, 'huhu': 1, '_gta_giveaway': 1, 'Homebound': 1, '@LauraSummersNow': 1, 'definetly': 1, '@charliebateman4': 1, 'relapse': 1, '#TweetOfTheDecade': 1, 'VULY': 1, 'Nicola': 1, '@gigview': 1, 'Pris': 1, 'THEN': 1, '@BBC3': 1, 'BIGOT': 1, '@KanzaSohail98': 1, '@melfoster666': 1, 'Shitty': 1, '@jayyycgee': 1, 'iove': 1, 'WaT': 1, '@elfishy_fika': 1, '@Inkymole': 1, '@Prinsesandreya': 1, 'http://t.co/2VDPgb5EpK': 1, 'target': 1, 'Oooooh': 1, '@officialbavaria': 1, 'artworkbylie': 1, 'collagen': 1, '@connorfranta': 1, 'Bridge': 1, 'cell': 1, 'han': 1, '@tmart_m': 1, '@_bibboo': 1, '@stuart_edge': 1, '@DrChauhanKS': 1, 'Tami': 1, 'Flared': 1, '#mad': 1, 'MOCKINGJAY': 1, '@GoodMovesL25': 1, '@YoanSkAngel': 1, '@chourong91': 1, '@DespiteOfficial': 1, 'Aaaaaand': 1, '#DTangle': 1, '@tina_baines': 1, '@D33PAK': 1, 'http://t.co/M0M7ozhbxB': 1, '@jaseygalore': 1, 'tommy': 1, ');': 1, 'driver': 1, '#etsy': 1, 'random': 1, 'Charlotte': 1, 'pout': 1, '@spencerspellman': 1, 'civil': 1, '@dualityknight': 1, 'WEEKLY': 1, 'Netball': 1, 'trusting': 1, 'Yey': 1, '@Zaubermaus57': 1, 'debt': 1, '#lux': 1, '@limelite001': 1, 'peacefully': 1, '@The_RHS': 1, 'suffering': 1, '🔴': 1, 'Yello': 1, 'Stydia': 1, 'Standard': 1, 'oodles': 1, 'Jeremy': 1, '@iangelidaki': 1, 'nerve': 1, '@ayushmannk': 1, 'https://t.co/uLORa2tssO': 1, 'Hazel': 1, 'Coloured': 1, 'http://t.co/j1lbGIg4Ll': 1, '@holybatgirl': 1, \"Beach's\": 1, '@RblSports': 1, '@Cheryl2c96': 1, 'buzzing': 1, 'http://t.co/8XAFR7meiO': 1, 'portrait': 1, '😅': 1, 'Marketing': 1, 'Assia': 1, '@iCupcake_Mafai': 1, '@ssearena': 1, '6248108': 1, 'Treviso': 1, 'Hero': 1, '@radiosilents': 1, 'https://t.co/GTgsmxNjng': 1, 'RRP': 1, '#elfindelmundo': 1, '@difaryansyah': 1, 'http://t.co/HVVPhSYakA': 1, 'sheer': 1, '@clivewalker': 1, '@wideglide96': 1, 'Fandango': 1, '@ijonghyvn': 1, 'http://t.co/pS0OmLZMPc': 1, 'http://t.co/Fw5JKPrVxt': 1, 'x33': 1, '@clairyworld4': 1, '@Khaled_Moualdi': 1, 'Lot': 1, 'Computer': 1, 'Gayi': 1, '#Hale': 1, 'fulfill': 1, '#Dancetastic': 1, 'uncles': 1, 'calum': 1, '@WhirlpoolBathUK': 1, 'ran': 1, 'Dianna': 1, 'theirs': 1, 'Shiva': 1, 'liquorice': 1, 'scores': 1, '#UCount': 1, 'classy': 1, 'buttonhole': 1, '@HandDDiamonds': 1, '@BeingSobtian1': 1, '@bwoyblunder': 1, 'full-fledged': 1, 'tropics': 1, '@PrideRadioNE': 1, '@LUCYLucyprior': 1, '#KU': 1, 'http://t.co/qEdmlJLRNt': 1, '@ShutUpBrickLP': 1, 'juices': 1, '#akua': 1, '#friskyfriday': 1, '@kategarraway': 1, 'http://t.co/TRfnv7X9GN': 1, '@the_overtones': 1, '@MitchFAS': 1, '@olemanbob': 1, '@thomasdeysieux': 1, 'insecure': 1, '@VirginAustralia': 1, '@thewhitespike': 1, '@paigejiffy': 1, 'nth': 1, 'earliest': 1, 'http://t.co/qMykMymico': 1, 'Roy': 1, '#bloggersrequired': 1, '@dildeewana_': 1, 'Kangin': 1, '@astro_lass': 1, 'http://t.co/zCaWqrjSvr': 1, 'sins': 1, '@AnnaPaquin': 1, '@hellopranay': 1, 'jen': 1, '@MOEsg': 1, '32429': 1, '@1DThisIsUs': 1, '@jameslturnbull': 1, '@fernandeznoemi4': 1, 'terrific': 1, 'severe': 1, 'Magic': 1, '@OTRADaily': 1, 'Brandi': 1, 'maple': 1, '@AnneFaramus': 1, 'clock': 1, '@UnicornMummy83': 1, '@The_Zyrophobia': 1, '@JulianGazzia': 1, 'AL': 1, 'Cricket': 1, 'pants': 1, 'funcionar': 1, '@WaterfordTIO': 1, '#underwater': 1, 'healed': 1, '@BuyLocalVoucher': 1, 'affaraid': 1, 'http://t.co/0ATADpLkMF': 1, '@bangaloretrance': 1, 'stops': 1, '@The_Witty_SRK': 1, '@JeanDams': 1, '@Geordnet': 1, 'Zoe': 1, '@Ricky27_263': 1, '@PecomeP': 1, 'Honey': 1, '3Points': 1, '@morningporch': 1, 'Okeyyyyyy': 1, 'ans': 1, '@luckybsmith': 1, '@walkhighlands': 1, 'troops': 1, '@MusicTubenl': 1, 'Smoak': 1, '@JJSmith_xXx': 1, 'Yaaay': 1, 'Giggle': 1, '@itsjrmr': 1, 'battery': 1, 'cosy': 1, '@binkle': 1, 'http://t.co/gMfG27Hmrt': 1, '@pakalupapito': 1, '@Z_Intl_Agency': 1, 'Strong': 1, 'bugatti': 1, '@Gamerboss': 1, 'juggle': 1, 'al': 1, 'http://t.co/0yeacg6r5p': 1, 'jeans': 1, '@TraderAdda': 1, 'hickey': 1, '@HealthyHounds4U': 1, 'm8': 1, '@Whykaysbeauty': 1, 'Del': 1, 'courgette': 1, 'slot': 1, '@HugeFormula1Fan': 1, 'tick': 1, '@NefariousBella9': 1, 'firm': 1, '@kryjvodz': 1, '@cnni': 1, '@DesaiEshita': 1, '@brynybrath': 1, 'Mama': 1, 'fund': 1, 'https://t.co/FePD5DUbNk': 1, 'Christophe': 1, 'Juicebro': 1, 'AmyJackson': 1, 'entp': 1, 'warlock': 1, '@imrizzagaddi': 1, '#vinylbear': 1, '@catisbetter666': 1, 'Joined': 1, '#brilliant': 1, '@TheTwoHalvesAle': 1, '@_nicapapa': 1, '#Goodyear': 1, 'http://t.co/4qZ74PcLA5': 1, '@Tim_A_Roberts': 1, 'disney.arts': 1, 'https://t.co/hjAiIIsq2S': 1, 'minuets': 1, '@thinkingdifrnt': 1, 'http://t.co/B0l9zha8cl': 1, '@reginevalcasid': 1, 'Snake': 1, '@iqbaale': 1, '@fivedorkz': 1, '@Marianela707': 1, '#sellyourcarin5words': 1, 'deeply': 1, 'enabled': 1, '@PaulHowsley': 1, '89.9': 1, 'mutuals': 1, '@Skin_Yard': 1, 'alrd': 1, 'http://t.co/jp3Wuu6zIK': 1, '@ElliotPender': 1, 'in-house': 1, '@KGFikawna': 1, 'EARTH': 1, '@AineAbbott1998': 1, '@GreggsOfficial': 1, '@ourseasidebaby': 1, 'https://t.co/mVPyDn1FYy': 1, 'kit': 1, 'proactive': 1, '@andrewsmith1443': 1, '@MediationMK': 1, 'Zareen': 1, '@DanLauraCurtis': 1, 'HES': 1, 'existence': 1, 'fb': 1, 'Exposure': 1, '@ellenRstewart': 1, 'https://t.co/92qDj6GfJy': 1, 'http://t.co/aXu8Gidwv3': 1, 'zy': 1, 'recruited': 1, 'Melanie': 1, '@thefahadmustafa': 1, 'chaos': 1, 'http://t.co/QMNz62OEuc': 1, 'unappreciated': 1, 'Mallick': 1, 'Lynne': 1, '@MileyCyrus': 1, 'http://t.co/vkKit1XOnT': 1, 'Mui': 1, '@NightingaleMCPE': 1, 'Masses': 1, 'Peru': 1, '@chipobangach': 1, '@VidconCountt': 1, 'materialistic': 1, 'http://t.co/JJK9zdfByc': 1, 'thus': 1, '@Janaan_tia': 1, '@LeeCash': 1, 'und': 1, 'listed': 1, 'Alumni': 1, '#mastership': 1, 'https://t.co/hk0RMiZpR4': 1, 'http://t.co/9aqyX0UxuV': 1, '@jaimeemelanie_': 1, '@theCIGirl': 1, 'LABS': 1, 'typo': 1, '@halfwaytohemmo': 1, 'Baloney': 1, 'reaapearing': 1, '@Thaque883': 1, '@comicbookhes': 1, '@StereoKicks': 1, '@thenthefunbegan': 1, 'https://t.co/Nh7A1vl10j': 1, 'plateaus': 1, 'fought': 1, '@2fai': 1, '@bitcoinagile': 1, '#LegsUpTheWall': 1, 'Ahh': 1, 'Literally': 1, 'humor': 1, 'prinsesa': 1, 'Selway': 1, 'striking': 1, '@sonamtillani': 1, 'https://t.co/FS71kc8FZe': 1, 'Chai': 1, '@AmberContact': 1, '@mikerobb': 1, 'twitlonger': 1, 'suits': 1, 'pong': 1, 'tope': 1, '@WilsonsKitchen': 1, '#Startup': 1, '@kiran1144': 1, \"Sculptor's\": 1, '@J_Mezzer': 1, '@JenLawUS': 1, 'https://t.co/FDFpAD3wzd': 1, '@edsheeran': 1, 'Annabel': 1, 'genial': 1, 'introduce': 1, '@tookiebunten': 1, 'http://t.co/jQyErRt4g5': 1, 'http://t.co/f2HU2dalox': 1, 'http://t.co/ow5BBwdEMY': 1, 'alhamdulillah': 1, 'iplayer': 1, '@jadegordon': 1, '@HEELZigglez': 1, '#CheesyDelights': 1, 'Fanbase': 1, 'Cajun': 1, 'Wheeeeeeeeeeeeeeeen': 1, 'swearwords': 1, 'heating': 1, 'Arma': 1, 'Jump': 1, 'ladolcevitainluxembourg@hotmail.com': 1, 'x43': 1, 'sprit': 1, 'hahahaha': 1, 'onting': 1, '@yeoujafh': 1, 'http://t.co/dEHgEeUIEm': 1, '#free': 1, '@hankgreen': 1, '🙅': 1, 'Breads': 1, '4:15': 1, 'dime': 1, 'Bed': 1, 'https://t.co/8G7sXiNBNL': 1, 'operators': 1, 'https://t.co/1QDoh0aHeS': 1, 'Cola': 1, 'benchmarks': 1, 'https://t.co/jBoixkQj2h': 1, '@tillyyandtroye': 1, 'bfr': 1, 'http://t.co/aXxprx1PRz': 1, 'Pathor': 1, 'Auguri': 1, 'fots': 1, '#sheskindahot': 1, '#iamCA': 1, 'gladly': 1, '@_Halie13_': 1, '🐒': 1, 'Handsome': 1, '@ArgosHelpers': 1, '#deathcure': 1, 'brawl': 1, '@jongdeism': 1, 'Ltsw': 1, 'dreamily': 1, '@BellisimoBella1': 1, 'endeavour': 1, 'Adventure': 1, '#hotmusicdelocos': 1, '@VortexiK13': 1, '333': 1, '@British_Airways': 1, '@AnnabelArrowsmi': 1, 'FOH': 1, '@mashable': 1, 'leaves': 1, 'Confined': 1, 'x31': 1, '@willisteam': 1, '@YvonneOrr': 1, '@Angel_Priyabgt': 1, '@AyeshaKhanReal': 1, '@AllSaintsFulham': 1, 'beings': 1, 'Samantha': 1, '#Pistols': 1, '@uk_sport': 1, '@J_PopCultureFan': 1, '@lorainekateyumi': 1, 'maaaaaay': 1, 'royal': 1, 'narcissist': 1, '#دعمم': 1, 'RTSs': 1, 'parks': 1, '#SoHappyRightNow': 1, 'fucked': 1, 'sides': 1, 'YAS': 1, '@chitownniall': 1, 'taken': 1, '1:12': 1, '@LadyCranium': 1, 'shoutouts': 1, '#AlwaysKeepFighting': 1, 'balloon': 1, 'http://t.co/YmvJF2Atld': 1, '@ArchieDait': 1, '@bigcomedyuk': 1, 'Brings': 1, 'http://t.co/EbZ0L2VENM': 1, '@demissexuaI': 1, 'JESS': 1, '@BellissimaEx': 1, 'messing': 1, '@pilotsimon208': 1, 'onyu': 1, '@hwsoh': 1, '@tiffanyalvord': 1, 'thnks': 1, '@cyrenity': 1, '@teddy_trucker': 1, '#tramlines': 1, '@gang_ree': 1, 'con': 1, 'extraordinary': 1, '@DeMusliM': 1, '#AskAMan': 1, 'Uff': 1, '@nikkiaston': 1, 'represent': 1, '@liztc2': 1, 'initial': 1, 'Papa': 1, '@Joey_Shreds': 1, 'PitmanTraining': 1, '@hufflepuffjimin': 1, 'weapon': 1, 'Judging': 1, 'amazes': 1, '@EczemaNoMore': 1, '@Leila_Errachiq': 1, 'PayPoint': 1, '@eskie_pond': 1, 'thos': 1, '@benfosterdev': 1, 'complains': 1, 'x40': 1, 'embarrassing': 1, '@nakamuramartin': 1, 'Orange': 1, 'Stromae': 1, '#livesex': 1, 'Alix': 1, '#alevel': 1, '#disneyinfinity': 1, '@RiddaMazhar': 1, '#ThankYou': 1, 'York': 1, 'However': 1, 'Firmansyahbl': 1, 'goals': 1, 'Srijith': 1, '@Dance10Jenna': 1, 'squashed': 1, '@Locita': 1, 'idc': 1, \"I'M\": 1, \"T'would\": 1, '@Juleeyaanaa': 1, 'phulani': 1, '@Clayakn': 1, 'http://t.co/TYzKvdkHqM': 1, 'justice': 1, '@yvonneainah': 1, 'x25': 1, '#selfies': 1, 'flawed': 1, 'Residents': 1, '@wellpresso': 1, 'Publication': 1, '@tzuyuchoux': 1, '#branding': 1, '@abejz_no': 1, 'Nobody': 1, 'webz': 1, '@axlrose995': 1, 'http://t.co/Tck0izSpKB': 1, '@Aaliyan_': 1, '@MButlerColesHR': 1, 'https://t.co/2cgXNdP00h': 1, 'proverb': 1, 'fleekile': 1, '@vinitneo': 1, 'Woot': 1, '@0lliebudz': 1, '@delafro_': 1, 'lounge': 1, 'http://t.co/Ee1j2ohmgu': 1, 'http://t.co/7lwnbd1KvJ': 1, 'http://t.co/BW6MXJYWNC': 1, '@UNSWRCS': 1, '@montague_web': 1, '@DJ_CharlieD': 1, 'connected': 1, '@SimoneWarner': 1, '@Hall11Kate': 1, '15.90': 1, '@xolanimvulana': 1, 'heswifi': 1, 'http://t.co/aJURbpDfTq': 1, 'giggles': 1, 'VIP': 1, '@rekoinmanila': 1, 'on-board': 1, 'http://t.co/TBiNpwy83k': 1, '@endangered2': 1, 'pwrfl': 1, 'volunteering': 1, 'letshavecocktailsafternuclai': 1, 'luxuous': 1, 'Fly': 1, 'tid': 1, '#DJStruthMate': 1, '#putovanja': 1, '@NORclad': 1, '@britvix': 1, 'Wish': 1, 'processed': 1, '@Dorky06': 1, '4:13': 1, '@sjcanadensi': 1, '@liansuryanii': 1, 'muahhh': 1, 'https://t.co/HZxoiRe88H': 1, '@jb_jaebumjb': 1, 'https://t.co/UTosEIoktF': 1, '@iamKaranB': 1, '@jmieldesigns': 1, '@Yayeahyeah': 1, 'http://t.co/ACVMP4xiDw': 1, '@DHGFMadson': 1, '@AlexAllTimeLow': 1, 'http://t.co/LS2arHmmUY': 1, '@SimpleStuffWrks': 1, '@_SW_E_': 1, 'Purrthos': 1, '@xAnnaCheeriosx': 1, '@MrsMarketUK': 1, '@ZaynZaynmalik30': 1, 'abroad': 1, 'donot': 1, '@Motts': 1, 'reusful': 1, 'https://t.co/DuVcLseonQ': 1, '@UnityCSGOTeam': 1, 'Nnnnnnot': 1, '10.30': 1, '@goldennotebook': 1, 'High': 1, 'cartoon': 1, 'https://t.co/ib4kfpbBu8': 1, 'JillMill': 1, 'supreme': 1, '@77kaylee77': 1, '@NCSIngeus': 1, '@LeadingWomenUK': 1, '😴': 1, 'hacked': 1, 'exited': 1, 'brighten': 1, '1nonly': 1, 'Gloucestershire': 1, 'possitve': 1, '@pmjeepers': 1, 'http://t.co/RL68MFPtev': 1, 'x42': 1, 'Runescape': 1, '@MayhewElec': 1, 'Cuticle': 1, 'parent': 1, '@MyMusicPL': 1, 'Ram': 1, 'oceana': 1, 'kernel': 1, 'returns': 1, 'Whip': 1, '@CaterFor': 1, 'gern': 1, '@1ResilientSoul': 1, 'http://t.co/GlcLGTVe0U': 1, 'Multicolored': 1, 'flows': 1, 'personal': 1, '@Ginebrakings': 1, '@zXw0lfXz': 1, '@crisasingson07': 1, '@MattTreby': 1, 'flipping': 1, 'moo': 1, 'Imaginative': 1, 'REPAY': 1, '@literalwt': 1, 'surprising': 1, '@Confarreo': 1, '@Xx_tequila': 1, '@Spotify': 1, '@sarahnees': 1, '@Vladimir_EShop': 1, 'bdayt': 1, 'lovelayyy': 1, '@LivingLifeNottm': 1, '@TemwaUK': 1, '#videographer': 1, 'Gans': 1, '@Kirst_Barrett': 1, '@joseyxneko': 1, '@garymillar': 1, 'prove': 1, '@EmilySmith_91': 1, '#GoldCoast': 1, '@MrBoltonPTpage': 1, 'https://t.co/gHAt8ZDAfF': 1, 'http://t.co/1eaL6SeNnG': 1, 'HAHAHA': 1, 'Classic': 1, 'thy': 1, 'samsung': 1, 'motivated': 1, '@EXO_FANBASE': 1, 'Button': 1, '@DoaaAhmed001': 1, 'dj': 1, 'https://t.co/OAXMGGICNr': 1, '@Digitalman1': 1, 'zayn': 1, '#LoveYeah': 1, '@ZackAkihito': 1, 'Bantime': 1, '@serial': 1, '@archi7194': 1, '@charliehaarding': 1, 'SUCCESS': 1, 'Jen': 1, '@MADrigaaaal': 1, 'http://t.co/120nsFCS8b': 1, '@andrewspenceim': 1, 'x36': 1, '@misslescaut': 1, '#Wayanad': 1, '@JAOlivar0731': 1, '@Coastie_alexx': 1, '@joogstonemakeup': 1, '@JadenChaos': 1, '😧': 1, '@IRMUK': 1, '@Banks': 1, 'boii': 1, 'Forecast': 1, 'Coconut': 1, 'Kina': 1, 'Kylie': 1, 'finale': 1, 'kkk': 1, '@ilkkalaukkanen': 1, 'chillin': 1, '@MariaGM350': 1, 'Special': 1, '@ROBBOsickdog': 1, 'crops': 1, 'https://t.co/RHTce9ByRd': 1, 'manual': 1, 'https://t.co/SaIX1VpFJF': 1, 'necessary': 1, '@AmericanOGrain': 1, 'begin': 1, 'abt': 1, '#EATmeat': 1, '@NomfundoCom': 1, '@mindwiped': 1, 'GOT': 1, '@Addictrian': 1, 'gentlemen': 1, 'cardi': 1, 'black': 1, 'http://t.co/mxWnCmj1jL': 1, 'Stark': 1, 'jehwan': 1, '#vscogood': 1, 'delays': 1, '@PloppiPlop': 1, 'darker': 1, 'http://t.co/ZqpwgCmw0b': 1, 'S02E04': 1, '@nejcsvete': 1, 'contribution': 1, 'oche': 1, 'retaliate': 1, 'https://t.co/gKTQxsd4PB': 1, '@higginsrecruit': 1, 'Mariners': 1, '@JesperOutzen': 1, '@dirtbaglou': 1, 'GARRET': 1, '@IAm_Lennox': 1, '@MrCommodity002': 1, 'satguru': 1, '@charlesjonesss': 1, 'jenna': 1, 'Kelly': 1, '@madziucha_5': 1, 'colours': 1, 'dudeeeeeee': 1, \"there're\": 1, 'steps': 1, '@CurlyWhirleez': 1, 'naman': 1, '@SyreenAnne': 1, 'illadvised': 1, 'http://t.co/VAeFCWhQfc': 1, 'patriotism': 1, 'Oily': 1, 'http://t.co/fC5U1TusUk': 1, '@emis_nug': 1, 'http://t.co/DNL7f9WtXc': 1, 'Actual': 1, '@Faryab2': 1, '@marcherlord1': 1, 'mia': 1, 'yeap': 1, '#Gobigorgohome': 1, 'http://t.co/yJxIrWiMZ1': 1, '@LOSTCHILLHORAN': 1, 'current': 1, 'pitbull': 1, 'OnKey': 1, '@BrightBull': 1, 'sweetest': 1, '#PunjabisWillGetIt': 1, '#workhard': 1, '@KristyArnett': 1, '@F_O_R_E_S_TBOY': 1, 'forecast': 1, 'daddy': 1, 'Xavier': 1, 'fatal': 1, 'filling': 1, 'funfilled': 1, \"team's\": 1, 'http://t.co/KS7bml93WH': 1, '#horseracing': 1, '@BigMammaJosie': 1, 'Still': 1, '@D_Robert_Kelly': 1, '#FoodieFridays': 1, 'http://t.co/mz5RDS96U9': 1, 'Silverstone': 1, 'Leon': 1, 'whale': 1, '@LewisHamilton': 1, 'servers': 1, 'relaxed': 1, '@GW1992': 1, 'incredibly': 1, '#5minute': 1, 'hosted': 1, '@FoodTravelLove': 1, 'definately': 1, 'West': 1, 'women': 1, 'Ultraviolet': 1, 'Austin': 1, 'Manuella': 1, 'Kebun': 1, '@VnG_Hollands': 1, 'editing': 1, 'convos': 1, 'emma': 1, '6:15': 1, '@Coach_Yanga': 1, '@techin2b': 1, 'tummy': 1, '@Yorkshireccc': 1, 'sights': 1, 'http://t.co/jOWzpjgik7': 1, '@raybebaby781': 1, '@SheikhImaan': 1, 'partnership': 1, 'Wed': 1, 'injustice': 1, 'z': 1, '@jitubhaiyajgd': 1, '@flurishing': 1, '@Andrew_Spence': 1, '@ChrisPeyPataah': 1, 'files': 1, '@aboelhassan_': 1, '#مطعم_هاشم': 1, 'bobble': 1, 'https://t.co/LrmYdhJRBF': 1, '@yezzer': 1, '#sunflowers': 1, 'Bohol': 1, 'EXACTLY': 1, 'youve': 1, '@Uber_AHM': 1, 'kms': 1, '@eclaire605209': 1, 'whoooah': 1, 'https://t.co/er8j0LHkiM': 1, 'Atlantis': 1, 'http://t.co/n9lBW0OKb1': 1, 'Brooklyn': 1, '#yourewelcome': 1, 'dipikirin': 1, 'Jungle': 1, '@alex_elbro': 1, '@coxn8r': 1, 'dosa': 1, 'salsa': 1, '@spike_osullivan': 1, '@BeenFingered': 1, 'pebble': 1, 'mercedes': 1, 'alunageorge': 1, \"video's\": 1, 'amazed': 1, '#sexysaturday': 1, '#Commodore64': 1, 'relevant': 1, '@tiffanymichels': 1, 'EN': 1, '@vivijo86': 1, '@morganflying': 1, 'https://t.co/kpRWLSoeRD': 1, '#TwitterFollowersWhatsUp': 1, 'Acorn': 1, 'WonderFuls': 1, 'hilly': 1, '@VBGIE': 1, 'http://t.co/0SI94HQcHm': 1, 'Clash': 1, '@Itsjustizue': 1, '@gus33000': 1, '@BurakKrp': 1, 'altering': 1, 'dieback': 1, '@rhodria': 1, 'des': 1, '@HardcoreGooners': 1, '@OllieClarke': 1, 'reassured': 1, '@yusra': 1, '@KRMN4L': 1, 'arms': 1, '@manfrotto_tweet': 1, 'Shahid': 1, 'Sketchbook': 1, '@_Fraydoe': 1, '@InSunWeTrust': 1, '@seouljins': 1, 'pity': 1, 'Minecraft': 1, 'DREW': 1, '4-6': 1, 'Shoushitsu': 1, 'claws': 1, 'Holiday': 1, 'Roux': 1, 'excl': 1, '@FileClickPrint': 1, 'https://t.co/fhndvkscgM': 1, '@c2c_Rail': 1, '@iWaveBack': 1, '@guacaholy': 1, 'http://t.co/IWLQK3XB3H': 1, '@lawyermomIowa': 1, '@FatimahLove92': 1, 'http://t.co/MquO7QcVqq': 1, 'Architecture': 1, '@Author_Swati': 1, '@sugarstein_19': 1, '@kimtaaeyeonss': 1, 'Featuring': 1, '@PARKCHAN92_bTH': 1, '@nlitchfield': 1, 'Rotterdam': 1, '@DannyBryant': 1, '@LauraAlyceH': 1, '@TLB73': 1, 'https://t.co/E9q4mgeTz4': 1, '@Mishkapants': 1, '@sheelanagig': 1, 'Kamaal': 1, 'LIFE': 1, 'Falklands': 1, 'http://t.co/Y5Vhh0GMZX': 1, '@CoolBlindTech': 1, '@tonywhittaker': 1, 'Interview': 1, 'https://t.co/yhIOXEl7fe': 1, 'REST': 1, '@INKProducer': 1, '@SoLmaoPics': 1, 'innumerable': 1, '@BBosold': 1, '@DeMoorSophie': 1, '@PromosalonsInfo': 1, '@Korku_3': 1, 'BBM': 1, '@AllysonMarty': 1, '@Gspaepen': 1, '@acosta_uk': 1, '@chrisjarvis213': 1, 'http://t.co/GPkMjrrh7X': 1, '#mobilegames': 1, '@SCOOTERBLUE1962': 1, '#HR': 1, '@yasminyasir96': 1, '@camerondallas': 1, 'murder': 1, '@TheWineSociety': 1, 'Fanta': 1, '#LetItGrow': 1, 'takeaways': 1, 'Tirth': 1, 'Coach': 1, '@donnaledesma_': 1, '@Nickking': 1, 'congratulating': 1, 'x39': 1, 'Non': 1, '@HostMyOffice': 1, 'associate': 1, 'impairs': 1, 'http://t.co/XspzQRmRVl': 1, '@TRANS7': 1, 'Retard': 1, '@AnthonyRaneri': 1, 'Milano': 1, 'Journey': 1, 'Samosas': 1, 'LIMIT': 1, 'shatter': 1, 'tera': 1, '#texture': 1, 'Chorong': 1, 'features': 1, '@hayashi_aoki': 1, 'rib': 1, '@_Megan_H': 1, '#workinprogress': 1, '#aluminiumfree': 1, '@SweetieBellaxx': 1, 'Mater': 1, 'http://t.co/JHJVzHOXLQ': 1, 'https://t.co/Fg6CEkwHPa': 1, 'tuna': 1, 'Nichola': 1, '@babyytayy_': 1, 'Half': 1, '@WendyFigueira': 1, 'tmi': 1, 'constructive': 1, '@TheGoFever': 1, 'affiliated': 1, 'Sibei': 1, 'homies': 1, 'ICON': 1, '@charlvdh': 1, '@mattwalsh91': 1, 'tomatoes': 1, '@sonalp2591': 1, 'http://t.co/nZLj6SWgij': 1, 'Iero': 1, 'Kia': 1, 'debatable': 1, '@RefSRK18': 1, 'wat': 1, '@SGSportsHub': 1, 'Mussels': 1, '@Aditi_SoSaree': 1, 'ICeland': 1, '@lunglock': 1, '@norcoreano': 1, '@Adobe': 1, 'MOMMY': 1, 'defined': 1, '#lesbian': 1, '#chaloNiklo': 1, 'Freya': 1, '@imikerussell': 1, 'suspects': 1, 'island': 1, '@DANCEFORCE3': 1, '@MiamiTrue': 1, '@marilynemy_': 1, 'Pepsi': 1, 'plezzzz': 1, 'Hell': 1, 'cass': 1, '@mr__cooke': 1, 'lile': 1, 'https://t.co/gBIMDzQBY5': 1, 'tail': 1, '@pottorty': 1, 'ofc': 1, 'alliteration': 1, 'https://t.co/m1VBOMyhhm': 1, 'Humans': 1, '@elitecleaning08': 1, 'http://t.co/GRhJWbdkvk': 1, 'hayley': 1, 'NoraPowel': 1, 'Tiger': 1, 'DAAAY': 1, 'WelcOmE': 1, 'Apparently': 1, '@amisharanka95': 1, 'https://t.co/3dP40WD5n2': 1, '5am': 1, '👱': 1, '@sakshij020': 1, 'Wet': 1, '@caiitlinz': 1, 'WGM': 1, 'smell': 1, '#pixelart': 1, 'Nasty': 1, 'overgeneralization': 1, '18th': 1, 'Coming': 1, '@burnyourbones': 1, '@teen_emma': 1, '@YorkLibrariesUK': 1, '@StAnnesBeachHut': 1, 'Steph': 1, 'Dhabi': 1, 'Falcos': 1, 'Limpopo': 1, 'ding': 1, '4yrs': 1, 'http://t.co/2qdM3SDbMq': 1, '#forklift': 1, '@parapluieverte': 1, 'Simon': 1, '@SurreyHillsBrew': 1, 'Easy.Get': 1, 'Yisss': 1, 'https://t.co/KLSHoO7UgP': 1, 'piggin': 1, 'Fantastic': 1, 'hall': 1, 'http://t.co/L6KxKEAl75': 1, 'jenni': 1, 'OTP': 1, 'http://t.co/WtIWoeATPj': 1, 'https://t.co/3IbSwpy54w': 1, '@photopitchicks': 1, 'clearly': 1, '@ScottGorenstein': 1, 'Sad': 1, 'faceit': 1, 'inspite': 1, '@claraapuspita': 1, 'Kalle': 1, '@Kojima_Hideo': 1, 'sympathy': 1, '@sexybull26': 1, '@pattiemallette': 1, '#hotairballoon': 1, 'https://t.co/5bN0MJr7NO': 1, '@LiamMitch99': 1, '#latepost': 1, 'steam': 1, 'credits': 1, 'oitnb': 1, 'cauliflower': 1, 'logo': 1, 'LASS': 1, '@BicyclistAbroad': 1, '@SarahFHandley': 1, 'SMU': 1, 'Dang': 1, '@LFC': 1, '@CoffeesToGo1': 1, '@Carlsss82': 1, 'beforehand': 1, 'diff': 1, '#journorequest': 1, '@deadmau5': 1, '@StreetFighter': 1, 'jumma': 1, '@cpeluso': 1, 'distant': 1, '@arifa_pwincess': 1, '@OrchardTeaRoom': 1, '@reyes_reynaldoz': 1, 'shared': 1, 'WORLD': 1, 'http://t.co/xXnvRb7ptR': 1, 'Kahaf': 1, '@realiseagency': 1, ';p': 1, '@nidhik6907': 1, 'twist': 1, '@lovemybooksUK': 1, 'Quit': 1, '@iflixph': 1, '#ChoiceinternationalArtist': 1, 'https://t.co/iUbE0qmIXp': 1, 'aameen': 1, 'https://t.co/TmbsVgkBGw': 1, 'finalists': 1, 'Loan': 1, '#MustRead': 1, 'California': 1, '@Terry_Brown': 1, '@InkSharkman': 1, '00962778381': 1, 'Forgive': 1, 'Rosh': 1, 'elah': 1, 'http://t.co/0OSByKav77': 1, 'dudes': 1, 'Narendra': 1, 'President': 1, '@2SHYMC': 1, 'jazz': 1, '@zoomtv': 1, 'insecurity': 1, '@actor_jayamravi': 1, '@Impatientraider': 1, 'img': 1, 'saera': 1, 'BOYS': 1, 'Used': 1, '@Madison420Ivy': 1, 'ashwathy': 1, '#sharing': 1, '@Eminem': 1, 'Clowns': 1, 'Bernie': 1, 'gurl': 1, '@Biltong2u': 1, 'Rough': 1, 'http://t.co/lKXZWXN1fb': 1, 'x27': 1, '@MiyaOliva': 1, '@abcderza': 1, '#anushka': 1, 'ess-aych-eye-tee': 1, 'aquatic': 1, '@FordPerformance': 1, 'Polish': 1, '@GalactiChat': 1, 'Said': 1, 'http://t.co/VGoOFhLeqr': 1, 'yellow': 1, '@AxioWolf': 1, 'INSOMNIA': 1, 'NZ': 1, '@amberspeller': 1, 'chain': 1, 'graphic': 1, '@UllaNeuhaus': 1, '┣': 1, '@robinashe': 1, 'https://t.co/OnVFhzt5fZ': 1, 'patiently': 1, 'emailed': 1, 'eagerly': 1, '@aepfel': 1, '@NorthPoleJJ': 1, 'Whom': 1, 'Jennifer': 1, 'Sept': 1, 'http://t.co/p4IqffSWJp': 1, '@StreamRaids': 1, 'http://t.co/iymPIlWXFY': 1, '@InokumaT': 1, 'pervert': 1, 'Finished': 1, '@TfLWaystoPay': 1, 'Addictive': 1, \"f'ing\": 1, 'eagle': 1, 'http://t.co/ctLa1jppdb': 1, '@yassmin_a': 1, 'rate': 1, '10:17': 1, \"David's\": 1, \"IT'S\": 1, 'tio': 1, 'contract': 1, 'Verge': 1, 'cleanse': 1, '@strathearnrose': 1, '@HannesHolste': 1, 'sloppy': 1, 'silly': 1, 'besok': 1, 'Saar': 1, '@IAPI_Updates': 1, '#openfollow': 1, 'angle.Nelson': 1, '@LouiseR97054900': 1, '640': 1, '@MonkeyNinjaYT': 1, 'mga': 1, 'Nope': 1, 'OldSchool': 1, 'Burnt': 1, '@davedhjones': 1, '#webtogsawards': 1, 'Treat': 1, 'http://t.co/acoLyBFYkn': 1, 'Gd': 1, 'DD': 1, '#bulldog': 1, '@Bosslady22d': 1, 'knw': 1, 'Ikr': 1, 'Penthouse': 1, '#MadonnaMadeMTV': 1, 'Persons': 1, 'Liara': 1, '#TombRaider': 1, '@DMedibot': 1, 'MA': 1, '@ShanduLinda': 1, '#amazon': 1, 'racist': 1, 'Americano': 1, '@DonnaMatton': 1, '@therevnate': 1, '@ClaireGibbsUK': 1, 'records': 1, '@PKuchly57': 1, 'hvng': 1, 'JoJo': 1, 'stubborn': 1, 'Pandimensional': 1, '@sharpeleven': 1, 'http://t.co/9J0oceCxIr': 1, 'wz': 1, '@gwatsky': 1, '@greyfool': 1, 'presentation': 1, '#TheSims4': 1, 'SWORD': 1, 'invested': 1, '@thispiggy': 1, '#eczema': 1, '#takesonetoknowone': 1, '@TheColorRunUK': 1, 'requirements': 1, 'http://t.co/mJRbZhkOA9': 1, '@CCIdeLYON': 1, 'http://t.co/cMehv4MT2w': 1, 'Release': 1, '@CrienaLDavies': 1, 'http://t.co/6YqR8Rz9U0': 1, 'http://t.co/jR8aDEjWf8': 1, '@TeknoGadyet': 1, '@fni': 1, 'bubbling': 1, 'Sat': 1, 'ACCOUNT': 1, 'tommarow': 1, 'workshops': 1, 'Goooood': 1, 'tenerina': 1, 'forests': 1, '@grillo_23': 1, 'whoever': 1, '@eugenemcsorley': 1, '@trentowers': 1, 'http://t.co/AxTiqf0xek': 1, '@tschelseamarie': 1, 'https://t.co/QTaRgYBqy1': 1, 'endowments': 1, 'soaping': 1, '@theroiceorven': 1, 'http://t.co/8fpTsU6SqR': 1, '@CLARAROJASG': 1, '@Alex_OllyM_NH': 1, 'Ikaw': 1, '1TB': 1, '@ARNS_UK': 1, '@HeritageSilver': 1, '#ObamaInKenya': 1, 'struggling': 1, 'Emu': 1, 'cypher': 1, 'https://t.co/1tb5R9s5RY': 1, 'peak': 1, '@DanielOConnel18': 1, 'minn': 1, 'weak': 1, '#fish': 1, '@Namraeter': 1, '@BookendsBinEnds': 1, '@suthodan': 1, '#pixel_dailies': 1, '#girlfriendsmya': 1, 'cosmovision': 1, 'Marrickville': 1, '@moiraP47': 1, 'http://t.co/bpeftSb4AI': 1, '@fxckedbutbands': 1, 'named': 1, '@jackiHS': 1, 'problemmmmmmm': 1, 'SG1': 1, 'unneeded': 1, '@laurenbiere': 1, 'caring': 1, 'MOM': 1, '@jett_uk': 1, '@WeAreMicLowry': 1, 'http://t.co/CTuUvDILxr': 1, '@OldSchoolRS': 1, 'overwhelmingly': 1, 'pusher': 1, '@Carolineking0': 1, '@occeaneweb': 1, 'http://t.co/WHa6yK5sWp': 1, 'Tango': 1, 'starter': 1, 'LOTS': 1, 'jump_Julias': 1, '@akijuneja': 1, 'harder': 1, '@TwoScotsmen': 1, '@Mhonchi_Savs': 1, '16.20': 1, '@Joel__Henry': 1, 'Gypsy': 1, '@StudentTrip': 1, 'pehly': 1, '@IGNUK': 1, 'kale': 1, 'Wendy': 1, \"Monty's\": 1, 'gangster': 1, '@MasterChefUK': 1, 'Socket': 1, 'popsicles': 1, '@uktac': 1, 'Canvas': 1, '@Nick_Haigh': 1, '@stuck_for_ideas': 1, '@keevacrampton': 1, 'afterznoon': 1, '@glitchfish': 1, 'painful': 1, '👽': 1, 'http://t.co/B1jXLiL3Pi': 1, 'oops': 1, 'painting': 1, '@_mean_': 1, '@thebikinichef': 1, '@CCI_75': 1, '@LADE_KRANE': 1, '2EMT': 1, 'contacting': 1, 'slideshow': 1, '@YouTubeActus': 1, '@tbhhowell': 1, 'x29': 1, 'http://t.co/ZV1HdZB7Nm': 1, '@pbfurnitureltd': 1, 'Self-publishers': 1, '@darrencrannis': 1, '@OC': 1, '@hiSbe_Food': 1, 'thnx': 1, 'baje': 1, 'randy': 1, 'subliminal': 1, 'https://t.co/liUXCEF1gs': 1, '#eid': 1, 'perhaps': 1, '@SarthakDey4': 1, '@Pinter_Quotes': 1, 'headrest': 1, '@oceana_bleuu': 1, 'clothes': 1, 'Aurini': 1, 'APOD': 1, 'hahahaHahhaha': 1, '@carecontour': 1, 'landed': 1, '@madisonellebeer': 1, 'all-clear': 1, 'ashamed': 1, 'overload': 1, 'negate': 1, '#friskyfiday': 1, 'tree': 1, '@calllmejay_': 1, 'Universal': 1, 'theocratic': 1, '@MottFree': 1, 'hundreds': 1, 'diarrhea': 1, '@FitbitUK': 1, '@kingsheadgford': 1, '@hellojennyho': 1, 'Nelson': 1, 'Mixcloud': 1, 'recs': 1, 'https://t.co/x4ObmZFYUB': 1, '@AvishkarPanday': 1, 'shock': 1, 'Vampire': 1, 'gn': 1, '@Peter_Fitz': 1, '@SgtRumpel': 1, '@imarpita': 1, 'Path': 1, '@fineanddandy': 1, '@montblancforum': 1, 'Unreal': 1, '@Uber_Mumbai': 1, '#shipping': 1, '@SAVEREUX1': 1, 'rains': 1, \"d'd\": 1, '@readcreatelove': 1, '#tbt': 1, 'prompt': 1, '19:30': 1, '#addme': 1, '#sunnyday': 1, '@MaxShank': 1, '#recipes': 1, 'XST': 1, '@Joyster2012': 1, '@WMFireDogs': 1, '#WotW': 1, '@JodieCassidy4': 1, 'https://t.co/WGvM79ySv1': 1, 'Native': 1, '@BrizzleLass': 1, '@DanielCWest': 1, '@kirstyburns3': 1, 'x3': 1, 'yapsters': 1, '#HappyAlien': 1, '@tonyandjens': 1, '@TbearTMI': 1, '#letsgetmessy': 1, 'testicle': 1, 'https://t.co/y8SUBXjqXk': 1, '@Kritters_': 1, 'twinx': 1, '#kizomba': 1, 'origin': 1, '@AlissaVI': 1, '#superheroes': 1, 'fancy': 1, 'Drew': 1, '@Moorgard': 1, '@aubreysablan': 1, 'tou': 1, 'THANKS': 1, 'stores': 1, '@TheBitBlock': 1, 'brum': 1, 'https://t.co/P14278cGy8': 1, '#BBMme': 1, 'yaap': 1, 'painted': 1, 'Paradise': 1, 'item': 1, '506': 1, 'patron': 1, 'Grogol': 1, '#PressRelease': 1, 'http://t.co/45Rc6ZgQ2Z': 1, 'Tha': 1, 'x22': 1, \"Week's\": 1, '#ClassicAssures': 1, '@KjorObbinsL': 1, 'dudettes': 1, 'Baekhyun': 1, 'mommy': 1, '@CocoaBrownTan': 1, '@mrslatrisha': 1, '@iamBugti_18': 1, 'Cess': 1, '@glazingtools': 1, 'Dialogue': 1, 'http://t.co/O5fjR7oEqk': 1, '@balboa_lesly': 1, 'NJ': 1, '@imlexapadilla': 1, 'labeled': 1, 'bio': 1, 'whispered': 1, 'weren': 1, '@CoSchedule': 1, '#Wales': 1, '@CultureTrip': 1, 'asian': 1, 'ryu': 1, '@ParaJanitor': 1, '@Onatsss': 1, '@mariammaslouhi': 1, 'https://t.co/WYD2wjFwN9': 1, 'EITHER': 1, '#crush': 1, 'Completed': 1, 'senior': 1, 'Tato': 1, '#YoungNaturalLeaders': 1, '@_OliviaJadexo': 1, '0345 454 1111': 1, '@gnanodayam': 1, '@priyashaki93': 1, '@D_diva72': 1, '@DrNomanSheikh': 1, '@SwitchingToSave': 1, '@BaysideBand': 1, '@TheSimpsons': 1, 'anime': 1, 'khawateen': 1, '@ryan2390': 1, 'targets': 1, 'upsetting': 1, 'ALEKS': 1, '@SilentiSonas': 1, '#100ReasonsToVisitMombasa': 1, '@cagesideseats': 1, 'individual': 1, 'https://t.co/TGiFQ0qjnM': 1, 'Huhu': 1, '@MonicaBhambhani': 1, 'pocket': 1, 'surfing': 1, 'http://t.co/kZwz5i3PYN': 1, '#navy': 1, 'Cosas': 1, '@jimmyurine': 1, 'x19': 1, '@Skye5SOS': 1, '@Catargiu': 1, '@darlakim_': 1, 'hulk': 1, 'lying': 1, 'Yoghurt': 1, '@MarkMan23': 1, 'auspost': 1, '#day2': 1, '@JRTurnerPhoto': 1, \"second's\": 1, '@slutwantscock': 1, 'Chalna': 1, 'Toast': 1, '@lindseytsutsui': 1, 'moving': 1, 'Wub': 1, '@TravelWTheSmile': 1, '@harryperfx': 1, 'standards': 1, 'Flying': 1, 'bare': 1, '@ScreamQueenLR': 1, '@Jeandysanglay': 1, '@AaronSegaert': 1, 'Emma': 1, 'Chips': 1, '@SarahSupafud': 1, '@GPAssetFinance': 1, '@FaberChildrens': 1, 'noise': 1, 'http://t.co/YjGw3Rbmf9': 1, '@PeakYourMind': 1, 'folder': 1, '30th': 1, '@Lennethxvii': 1, 'Nagato': 1, 'simpin': 1, '#extremesports': 1, '@HAIBECKAY': 1, 'Chenoweth': 1, 'satisfy': 1, '@BlooodofoIympus': 1, 'http://t.co/dpf5i2xYs9': 1, 'SMS': 1, 'Barely': 1, '@SullensScarlett': 1, 'donating': 1, '@CuriousMindsNW': 1, '@iocat': 1, 'naked': 1, 'sabah': 1, 'Ash': 1, 'SPARKY': 1, '@MosesMo': 1, 'PLUSMiles': 1, '@Stuarty2112': 1, 'meal': 1, 'Joselito': 1, 'Bond': 1, 'Sho': 1, '@team_ne29': 1, '@BoyBruised': 1, 'Fritillary': 1, '@izzkamilhalda': 1, 'tattoos': 1, 'wide': 1, 'determination': 1, 'http://t.co/sCwipJCrMj': 1, 'Fabulous': 1, '@ayanc_99': 1, '@martinjonesaz': 1, 'Inter': 1, 'PTHHT': 1, 'cozy': 1, '@makotobio': 1, '@KFerrellWriter': 1, '#hinduism': 1, '#JaredPadalecki': 1, 'http://t.co/kskcAhbmEu': 1, '@johnny_lopez96': 1, '@Cjlopez21': 1, 'https://t.co/lfSZl8UbXt': 1, 'idownloader': 1, '#HopeToWin': 1, '@NorthEastHour': 1, 'avi': 1, 'completed': 1, '#JCReport': 1, 'DONT': 1, 'Picked': 1, '1000': 1, '@vltraviolet': 1, '@CorporalKitty': 1, '@prasetyoseven': 1, '@Peirce77': 1, \"t'was\": 1, 'izzat': 1, '@sleepingbear24': 1, 'storyline': 1, '#Fortune500': 1, 'Happyyyyyy': 1, '#Cosplay': 1, 'https://t.co/6Uu1cf109G': 1, '@HeadwayGsy': 1, 'http://t.co/EO64j939Kv': 1, 'forgive': 1, '@JordanAdams': 1, 'implies': 1, 'bcus': 1, '@2015Geetanjali': 1, 'http://t.co/AybllZWAqF': 1, 'http://t.co/hjnT6v40eT': 1, 'http://t.co/7O5XaValPN': 1, 'earn': 1, '@musicartisthere': 1, '@RosaldoFederico': 1, '@BestOfFicPad': 1, 'contrast': 1, 'background': 1, 'Plan': 1, '@DirtyJasen': 1, 'Anthem': 1, 'Six': 1, 'katmtan': 1, 'http://t.co/8V7Tn5bwEK': 1, 'http://t.co/Ri8cSxz6Uq': 1, 'Payne': 1, '@arjaycj': 1, '#ejayster': 1, 'ROAD': 1, 'OS': 1, 'epi': 1, '@ljfifthharmony': 1, '@KikiSchirr': 1, 'quicker': 1, '#educampAKL': 1, 'ATL': 1, '@mjpoukkula': 1, 'tack': 1, '@Aavak_': 1, 'mostly': 1, 'individuals': 1, '#Halesowen': 1, '@alistairbeech': 1, 'DANIEL': 1, '🌳': 1, 'Luxury': 1, 'http://t.co/gYBoDpALTi': 1, 'http://t.co/0rjSClzGhR': 1, 'Neals': 1, '@BrightGroup_USA': 1, '@RanaArslan_': 1, 'http://t.co/wSiu4S6eiR': 1, 'Agnes': 1, 'Fiction': 1, 'Fahrenheit': 1, 'GONDOOO': 1, '@iKONBI22': 1, 'reminds': 1, 'cast': 1, '@GarrJPRBDF': 1, '#bemeapp': 1, 'lead': 1, '@AnnieLN': 1, 'Jul': 1, 'Neuer': 1, 'whangarei': 1, 'streamer': 1, '91': 1, 'YOUR': 1, 'square': 1, 'LAMO': 1, 'http://t.co/qpSlKbIHio': 1, 'lice': 1, 'Edwards': 1, 'Town': 1, 'outta': 1, '@_xRiya': 1, 'Match': 1, '@VelChain': 1, 'http://t.co/J0Kohuy537': 1, 'Nc': 1, 'equal': 1, 'Olaplex': 1, 'haw': 1, 'http://t.co/liCJPzz21k': 1, '@envydanneh': 1, 'Tuned': 1, 'HOURS': 1, '@PeterRaab': 1, '@twerkgodpayno': 1, '@SpanielHarry': 1, 'http://t.co/GYecoPRjXm': 1, '@prospect_uk': 1, 'http://t.co/EByoLHnnOI': 1, '@OOK_Librarian': 1, '@patrenganneng': 1, '@CruelGamingClan': 1, 'Heechul': 1, '@rejectzmgc': 1, '@jasoncreation': 1, 'MTR': 1, '@Hungry_Hounds': 1, '@Anthonyilott21': 1, 'http://t.co/3ZEfQHXe4y': 1, '@SDSLondon': 1, 'calf': 1, 'Acc': 1, '@sunique89': 1, '@wazimotometal': 1, 'Da': 1, 'http://t.co/qwQOdEGPnS': 1, 'encompasses': 1, '@superkrispydj': 1, '@SammyAlbon': 1, '@oohdawg_': 1, '@tabithahoy': 1, '#schoolsoutforsummer': 1, '@annneeee06': 1, 'Colorful': 1, '@davidc79': 1, '@MLGJordanD': 1, '@wckdmalum': 1, 'dedication': 1, '#jedzjabłka': 1, 'kurta': 1, 'kathryn': 1, 'http://t.co/cCS5QGfkk7': 1, 'https://t.co/TSLYvAClux': 1, 'outlying': 1, 'Miller': 1, '@keodancer': 1, 'http://t.co/VFGM3FSH2c': 1, 'Listen': 1, 'http://t.co/of3DyOzML0': 1, 'http://t.co/u2V5zAzKdE': 1, '@majesticnobhd': 1, '@urbndictionaryy': 1, 'infection': 1, '@techspacekrk': 1, 'menu': 1, \"women's\": 1, 'anger': 1, 'mne': 1, 'Anne': 1, '@lordcropes': 1, '@AtmacaMert': 1, '@agnishaa': 1, 'Although': 1, '@FIRDOZ': 1, '@LabelledShop': 1, 'Kingdoms': 1, 'Bikinis': 1, '@caramelatte_': 1, 'angElica': 1, '@gadventures': 1, 'ham': 1, 'Thanx': 1, '@nongardener': 1, '@TheHouseOfMan': 1, 'FIRST': 1, '@ErnestMnisi': 1, 'pedal': 1, 'guest': 1, 'http://t.co/IWSDMtcayt': 1, \"C'mon\": 1, 'http://t.co/hvs9S8zBIb': 1, 'https://t.co/Z9enl5nJdE': 1, '@ZerbuTabek': 1, 'http://t.co/8FIyPQ6kkn': 1, '#Nostalgia': 1, '@orgasticpotency': 1, '@vineshpomal': 1, '@Tivipro': 1, '@paymentality': 1, 'Kyuhyun': 1, '@ashleylynch': 1, '@Orlando_Pirates': 1, 'KEEP': 1, 'Ivy': 1, '#TukutaneMombasa': 1, '#NewsDistribution': 1, 'endit': 1, 'selling': 1, 'x5': 1, 'tiring': 1, '@_Floydian': 1, 'http://t.co/a794A3H7LV': 1, 'edition': 1, '@LAGTC': 1, 'plane': 1, \"TEE's\": 1, '@PhilRAWRLester': 1, '@ManhattanMango': 1, 'events@breastcancernow.org': 1, 'privacy': 1, 'Girlfriend': 1, 'evet': 1, '@CharlieL87': 1, 'http://t.co/8kFb2ZjDPd': 1, 'script': 1, 'Science': 1, 'goodluck': 1, 'upside': 1, 'soul': 1, '@LPearsonSmith': 1, 'hakhakhak': 1, 'doors': 1, 'Remarriage': 1, 'sembuh': 1, '@TheXFactor': 1, '#Boom': 1, '@AlamiHasson': 1, '#youre15': 1, 'keys': 1, 'Abes': 1, '@emilybett': 1, 'Catamis': 1, '@Manue1Jimenez': 1, 'chants': 1, '@CircuitElec': 1, 'Beverly': 1, '@PrintStrawberry': 1, 'GooffeAnottere': 1, '@shikha123poddar': 1, 'chilled': 1, '#Marvel': 1, '@jaewontrash': 1, '@amberturnau': 1, '@DavidBraben': 1, '@GalagansIsland': 1, '@OBeeTeam': 1, 'http://t.co/Tq3MQ9GIKG': 1, 'somi': 1, '@dafruk1': 1, '@AR72014': 1, 'Star': 1, 'successful': 1, 'independent': 1, '@autocultureirl': 1, '@stpierjane': 1, 'losers': 1, 'https://t.co/tJc1yAr7EA': 1, '@AlexaPoppe': 1, 'vampire': 1, 'handsome': 1, 'daft': 1, 'totem': 1, 'JLovers': 1, 'VC': 1, 'introducing': 1, 'mak': 1, '@ashak21': 1, 'Delicious': 1, 'billion': 1, 'Josh': 1, 'yesss': 1, 'Lottery': 1, '@CrownSheringham': 1, 'deennya': 1, 'shown': 1, 'SKIN': 1, 'A7la': 1, 'Gomez': 1, '@UtopianFireman': 1, 'Cream': 1, '@PublicProtector': 1, 'soundtrack': 1, 'VALUABLE': 1, 'passed': 1, 'wagging': 1, '@Clicks_SA': 1, 'Flash': 1, '@dorkfaceblog': 1, '@jayutd1999': 1, 'allover': 1, 'atchya': 1, '@sistards93': 1, 'Indie': 1, '@adamhulme86': 1, 'VIANEY': 1, '@Wolfaro': 1, '#WsaleLove': 1, 'yummmm': 1, 'backed': 1, '@zavvi': 1, 'l': 1, 'http://t.co/QaIPTxrUKm': 1, 'MORNING': 1, 'http://t.co/g1VYf8OFnX': 1, 'x26': 1, 'http://t.co/if5yfELOQV': 1, 'aidzin': 1, 'cools': 1, 'Manthan': 1, '@TeamBaiLonaOFC': 1, '@narrhallamarsch': 1, 'Mythic': 1, '@JulizTwinsBB': 1, '@Ms_T_P': 1, 'Eva': 1, '@Jay_05_': 1, 'whilst': 1, '@Coxy486': 1, 'texts': 1, '@wndyRVel_': 1, 'Communal': 1, '@YCCCDizzy': 1, 'tablet': 1, 'Manny': 1, '@Biblioticaa': 1, 'abp': 1, '@snowzrfr': 1, '@lamekyungsoo': 1, 'laura': 1, '@taufik_toda': 1, '0345': 1, 'kayo': 1, 'Lightbox': 1, '@nickhunterr': 1, '#servicewithasmile': 1, 'clears': 1, 'cranium': 1, 'difficult': 1, '#maritimenation': 1, 'http://t.co/UO77pIgatL': 1, 'http://t.co/2HIE5tcv2P': 1, '@_Ms_R': 1, 'total': 1, 'Reminder': 1, '@craftsbyannie': 1, 'Surah': 1, '@MissKelseyH': 1, 'Harmony': 1, 'episodes': 1, '@LRVertriebspart': 1, 'https://t.co/PHpzRakSgU': 1, 'generally': 1, 'Govt': 1, '@Jamelyyyyy': 1, '75x': 1, '@Girlguiding': 1, 'insyaAllah': 1, '@goldskiesperrie': 1, '@LACMA': 1, '@SydneysMedia': 1, 'lowered': 1, '@AzharSaleem59': 1, '@JohnEMichel': 1, 'talanted': 1, '@w1bble': 1, '@emmajaneparsons': 1, '#stayfresh': 1, 'Child': 1, 'Reply': 1, 'http://t.co/AhgSF3iyCk': 1, 'AC': 1, 'similar': 1, 'http://t.co/GpGpQV2TTo': 1, 'salut': 1, '@Les_Scop_idf': 1, '@CW_Arrow': 1, 'Honored': 1, 'industry': 1, 'gas': 1, 'voucher': 1, 'aLL': 1, 'teh': 1, '#omegle': 1, 'obituary': 1, '@JewelStaite': 1, '@brayden_jh42': 1, '@nixdeedavid': 1, 'paralysis': 1, 'Loryn.Good@lincs-chamber.co.uk': 1, 'Kahfi': 1, 'https://t.co/EsCc9QhLob': 1, 'http://t.co/Uek1fHy60o': 1, \"shan't\": 1, 'Julia': 1, 'Neat': 1, '@seananmcguire': 1, 'langkawi': 1, '@Cricketlabelle': 1, 'Mario': 1, '@MELISSAMARIE': 1, 'Bitchessss': 1, 'Aspetti': 1, 'kami': 1, 'January': 1, '@MentionTo': 1, 'bark': 1, 'Elvena': 1, 'River': 1, 'Thalaivar': 1, '#KCA': 1, '@SwiftBlablaCat': 1, 'workplace': 1, '@goehringlet': 1, '@carli_buns': 1, 'snobby': 1, 'http://t.co/jAQsiwxxKd': 1, 'advised': 1, 'magnificent': 1, 'stars': 1, '@Yolandy': 1, 'http://t.co/FuZNhjGWD7': 1, 'Nad': 1, '@Its__Tatiii': 1, 'BROKEN': 1, \"thank's\": 1, '@SabihaMahmoud': 1, '#SoSweet': 1, 'https://t.co/53Y8kOT4Rm': 1, 'subjects': 1, '@EmmaJayneHall': 1, '@JaagAlerts': 1, 'Grand': 1, 'Trial': 1, 'https://t.co/ddaXAxtknE': 1, '@royatv': 1, 'http://t.co/RiEjJqgulF': 1, 'Starbucks': 1, '@PayUmoney': 1, '#healthylifestyle': 1, '#teen': 1, 'Thinking': 1, 'personalised': 1, '@LoriShemek': 1, '@labelsforlunch': 1, '24/7': 1, '@Natasha_Thahane': 1, 'Argos': 1, 'colleague': 1, '@triciadzn': 1, '@shaunamanda2012': 1, 'chati': 1, '@JORGEACISNEROS': 1, 'beaut': 1, 'dekhi': 1, 'showed': 1, '#TheHungerGames': 1, 'pronounce': 1, '@ValleyAllBlack': 1, '@addictionguy': 1, 'Slow': 1, 'bank': 1, 'startup': 1, 'Evolution': 1, '#RobbenIsland': 1, '@Goran_Dragic': 1, 'therein': 1, 'Jeeze': 1, 'a-foot': 1, 'instrumental': 1, '@TurkeyIndia': 1, 'inc': 1, 'diploma': 1, '#bookreview': 1, '@ODubPERV': 1, 'SUPER': 1, 'Malik': 1, '@snaz_mayo': 1, '@Garfyville': 1, '@NinaSimoneMusic': 1, 'YVW': 1, '@sugaredeggs': 1, '@Taylor_Marisa': 1, '@FnaticYellOwStR': 1, '@Clawzskunk': 1, '@BelDragon_R': 1, '@lvshak': 1, 'bite': 1, '@WickedPill': 1, '@tamitrailscapes': 1, '#Potassium': 1, '@Fallenatics17': 1, '#huskies': 1, 'Lessons': 1, 'Thankies': 1, '@needledesign': 1, '@killaaahrhp_': 1, 'Pakistanis': 1, 'FSS': 1, '#SellYourCarIn5Words': 1, '@doliphoto': 1, 'Tonight': 1, 'uuuuuuuu': 1, '@mishrasugandha': 1, '@NabeehaEjazGeo': 1, 'TruthfulWordsOf': 1, '#essay': 1, '@YaelAPeer': 1, '@Raven3611': 1, '@NigeHiggins4': 1, '@MillinerySue': 1, 'Hounds': 1, 'DAY': 1, '@1cryingeye': 1, '@AndyHerren': 1, 'afternon': 1, 'V3NZOR99': 1, '@QFYvonne': 1, 'talents': 1, 'platonic': 1, 'mutt': 1, 'jokers': 1, '@aleeshajulia': 1, '🐑': 1, '@S0N0S_': 1, 'manga': 1, '@realmartinkemp': 1, 'pointing': 1, 'surrender': 1, 'Flats': 1, '@thoughtram': 1, '@GlamDianee': 1, '@Smileformeacc': 1, 'passion': 1, 'http://t.co/CXQXINIqJI': 1, 'RBI': 1, 'odds': 1, 'Bright': 1, 'SHIR': 1, 'https://t.co/yQ7kCC5YkQ': 1, 'Maganda': 1, 'http://t.co/atppptBxO5': 1, '@ErdFoodBank': 1, 'Re-signed': 1, '@rskdance2011': 1, 'allows': 1, 'LATERAL': 1, '@flowercrownliam': 1, 'resist': 1, 'Cathos': 1, '@SWStheband': 1, '@saharjojo10': 1, '@DarkAngelRafael': 1, '@EmiratesInsight': 1, 'ReadingRes': 1, '@Bluegirl200345': 1, '@HUNCOY': 1, 'https://t.co/025WcVvnxe': 1, '@IR5_Cooder': 1, 'muted': 1, '11h': 1, 'inventory': 1, '#soulful': 1, '@Ramya0212': 1, 'Reviews': 1, 'specs': 1, '@Windows': 1, 'Pretoria': 1, 'https://t.co/CQHqWfa7ft': 1, '🚮': 1, '@OfficialMarkF': 1, 'Quick': 1, 'https://t.co/Y3sDCZ6RMk': 1, 'hash': 1, 'rigid': 1, '@WickermanFest': 1, 'drain': 1, '@PuppyShogun': 1, 'HAHAHAHA': 1, 'departments': 1, '@southasianartuk': 1, '@Shovz92': 1, 'uncountable': 1, 'masquerade': 1, 'http://t.co/5XoWOPFbmZ': 1, '@commonculture': 1, 'kal': 1, '@LeahCarla11': 1, '@Dearnataliee': 1, '@aerelchris': 1, 'acc': 1, '@Uber_Pune': 1, '@AirAsia': 1, '@kathleenmmorgan': 1, '#mypapamypride': 1, '@valleymillshop': 1, '#LizaMinnelli': 1, 'Fotoset': 1, '@JessLarum': 1, '@yusufyuie': 1, 'http://t.co/yRat44jWAy': 1, '@pieminister': 1, 'http://t.co/p7EnTlcsum': 1, \"night's\": 1, '@Centerfxld': 1, 'paralyzed': 1, 'grt': 1, '@chrisdrunkpoets': 1, 'backgrounds': 1, 'category': 1, '@Pwincessly': 1, '@2turntsav': 1, '#feminism': 1, 'sunglasses': 1, 'scan': 1, '@koeitecmoeurope': 1, 'tomlinson': 1, '@NigelPWhittaker': 1, '60': 1, 'omar': 1, '@FridaybMaria': 1, 'drives': 1, 'http://t.co/JjmrvobLZl': 1, '@mayankw14': 1, '@JILLCLARK1808': 1, '@StarSportsIndia': 1, 'gibanica': 1, 'Jojo': 1, 'http://t.co/CcAoyyAGJ7': 1, 'x6': 1, '@LifeWithThami': 1, 'specialist': 1, '@ElSayedYoussef5': 1, '700': 1, 'OH': 1, 'bills': 1, 'EST': 1, '@ArpitaBaranwal1': 1, 'forwarding': 1, '@mappingmegan': 1, 'midnight': 1, 'https://t.co/TyFcTnM59u': 1, '@TillieModel': 1, '@FeminaIndia': 1, 'Hayli': 1, '200sub': 1, '@mobiadage': 1, 'http://t.co/ayIMB6aITD': 1, '@FordOwnersClub': 1, 'Help': 1, '@19am81': 1, '@aliaa08': 1, '@migzhaleco': 1, 'confession': 1, '@Motlakasello': 1, 'http://t.co/SCwIVZmIWb': 1, '@BarunSobtiSays': 1, 'http://t.co/Lvycav0kNH': 1, 'conference': 1, '#SmashingBook5': 1, 'Salad': 1, '@phillipross11': 1, '@cybelxxx': 1, 'OUR': 1, 'none': 1, '@DrtyChimichanga': 1, 'upgraded': 1, 'kareem': 1, 'Marais': 1, 'Mice': 1, '#GoldBugs': 1, '@imperiallamian': 1, '@TheMattEspinosa': 1, '@meliefluous': 1, '@SenorRajD': 1, '@MrLePoullain': 1, 'man.he': 1, '@qvcuk': 1, 'http://t.co/6TAEpQMBaN': 1, 'HA': 1, 'tattoo': 1, '@BeanssGilly': 1, '@IQAEuroGames': 1, 'Awuuuuuuuuuuuuuuuuuuuuuuuuuuuuuuuuuuuuuuuuu': 1, '@JMaKiwi': 1, '50CENTS': 1, '@akeihito': 1, 'Truth': 1, 'https://t.co/liow4bIzI7': 1, 'ouch': 1, 'https://t.co/WKwsm5XvOW': 1, 'festive': 1, '@preslavrachev': 1, 'sky': 1, 'https://t.co/KjAfQo0Swq': 1, 'http://t.co/22zYFK8doG': 1, '#TeamCannibal': 1, '@MrCliveC': 1, 'http://t.co/Vj1U5fIzBw': 1, '@LinnJennie': 1, '@ShiladityaBora': 1, 'Homegirl': 1, 'http://t.co/AGp51NQMbS': 1, 'PikAmi': 1, 'environment': 1, '@IzywayLesExpats': 1, '#paris': 1, 'muscles': 1, 'conversations': 1, 'NIGHT': 1, '@Narrys_Badass': 1, 'GL': 1, 'newsletter': 1, 'Cerbchan': 1, 'kanina': 1, 'layer': 1, 'https://t.co/iRHOYxQeln': 1, '@dspdavey': 1, 'hiring': 1, 'disgusting': 1, '#SPNFamily': 1, 'rights': 1, 'Devolution': 1, 'excitement': 1, 'nibbles': 1, 'tiles': 1, 'uggghhhh': 1, '@mandajohnstone': 1, '@wiquot': 1, '@__GiveawayDMs_': 1, '@chhcalling': 1, 'Beijing': 1, 'burek': 1, '@cm_valladolid': 1, '┻': 1, '@leedslwt': 1, 'Baareeq': 1, 'Tomas': 1, '@Olacabs': 1, '64': 1, '@torixoxx': 1, '@Bosslogic': 1, 'cube': 1, 'Management': 1, '@The_Quirk': 1, '@JWKanyuira1969': 1, '@LaurieTatum2': 1, 'superday': 1, 'http://t.co/2U0agbiaXs': 1, 'threatens': 1, 'dodged': 1, 'Wicked': 1, 'punting': 1, '@17bljpk': 1, 'Gibran': 1, '@berlindisaster': 1, 'http://t.co/XzsOGaC4zK': 1, '@salty_tamaki': 1, 'tidying': 1, 'YAY': 1, '@FD_ManUtdNews': 1, 'IP': 1, '@editionsdulivre': 1, 'uhuh': 1, 'Bogus': 1, '2/2': 1, '#instagram': 1, '#FoamPit': 1, '@fatpunkstudio': 1, '@JohnTarbet71': 1, '@Cassie_Spaniel': 1, '@TraveleadsUK': 1, 'vagina': 1, 'MH3': 1, 'http://t.co/nHvR6teXH2': 1, 'https://t.co/qM8J919s8x': 1, 'https://t.co/HJYBWA0N22': 1, '@xaaanshine': 1, '#Me': 1, '@MrsPandP': 1, 'forrit': 1, 'Important': 1, 'bins': 1, 'showing': 1, 'representatives': 1, '#scififan': 1, 'xialan': 1, '@collinscakery': 1, 'ෙ': 1, '@teenageblackout': 1, '@rozbabes': 1, 'dampen': 1, 'Keepin': 1, 'giant': 1, 'THINKS': 1, 'Mein': 1, 'Teething': 1, '@joolstom': 1, 'awhile': 1, '#sunjam': 1, 'P90x': 1, '@littlewok': 1, '@rainbowdustyles': 1, '@AmonMars': 1, 'http://t.co/G7n0T1vB6W': 1, '#LNHS': 1, 'ilysm': 1, 'http://t.co/2B4zChOakR': 1, 'cheapest': 1, '@bahetiridham': 1, '@chuckaikens': 1, 'suffer': 1, '@ianadritaranbir': 1, 'THO': 1, 'remixes': 1, 'Boomshot': 1, '@jusxhemmo': 1, 'coldplay': 1, '@erincheshirecat': 1, '#messengerforaday': 1, '@plane_spotters': 1, 'bulat': 1, 'PaysafeCard': 1, 'http://t.co/2EYOfYUWwy': 1, '@LilPinkN1NjA': 1, 'lovessss': 1, '@smitty6253': 1, 'http://t.co/vEZV71ZpW5': 1, 'http://t.co/KQ8pICkSlC': 1, 'http://t.co/Ja2vPugANE': 1, '@Cath_Tyldesley': 1, 'construction': 1, 'bakal': 1, 'COLOURDEB': 1, 'DP': 1, '@purplestar420': 1, 'incorrect': 1, '@thatbrooke': 1, 'gamejam': 1, 'Italian': 1, '@Bearclxw_': 1, 'Posey': 1, '@socio_foodie': 1, 'http://t.co/T84tN7CzJr': 1, '#cakehamper': 1, '@WilliamHC3': 1, '@nxtrms': 1, 'SCIENCE': 1, '#dishoom': 1, 'Account': 1, '@weddinghelperuk': 1, '@SilverArrowsHAM': 1, 'Pillar': 1, '@Merima_Beslagic': 1, 'tebrik': 1, 'originally': 1, '#localgaragederby': 1, 'GGs': 1, '@Nutsflipped_z_1': 1, 'reaction': 1, '@OBiiE__': 1, '∞': 1, 'debates': 1, 'https://t.co/rdh1X7dih6': 1, 'http://t.co/ZpdxQlnvJ6': 1, '@Epic_Liverpool': 1, '@TessaPearsonArt': 1, 'http://t.co/FMGFgsl2uY': 1, '@btsmaqnae': 1, '@grafikmag': 1, 'pi': 1, 'managers': 1, 'nor': 1, '@armansushita8': 1, 'Garrus': 1, 'http://t.co/5Z4aDMu7tx': 1, '@fruitpreserve': 1, 'https://t.co/0zr3VlB5kL': 1, 'http://t.co/dnryPnHAD5': 1, '@Bhoxzniall': 1, '#slovenia': 1, 'http://t.co/zHQy0iyaCP': 1, 'Stop': 1, 'PARIS': 1, 'Sonic': 1, '@ZeX_Aquila': 1, 'query': 1, '@SpongeZim': 1, '#parents': 1, 'Yayyyy': 1, '453': 1, '@serxndipityrp': 1, 'Chillin': 1, '@BaxterStorey': 1, 'Aja': 1, '@oymgroup': 1, 'FYI': 1, 'Stefanie': 1, '@HGVWolfie': 1, 'Delta': 1, 'bros': 1, '@PsychoIogicall': 1, 'Eh': 1, 'scenes': 1, 'http://t.co/Wionr1evBo': 1, 'Sports': 1, 'researchers': 1, '@JamesBourne': 1, 'lols': 1, '@talliaoyando': 1, '@Kosmikat': 1, '@Skythegsd': 1, '@jessicaswift_13': 1, '@iamgiant': 1, 'https://t.co/Q81LMMtmxm': 1, '@Karnage90': 1, '@SharlaInJapan': 1, 'WHET': 1, 'wakeup': 1, '@suewalker_': 1, 'reservation': 1, 'Ninh': 1, '#JummaMubarak': 1, '@CHUBANHES': 1, 'dominoes': 1, '@WeBlogEvents': 1, '#ActuallyThough': 1, '@tanjalakic_': 1, '@djcunningham': 1, 'persons': 1, 'Green': 1, 'http://t.co/9hRX64P5xY': 1, \"class's\": 1, '@angie_1D_95': 1, '#checking': 1, '12000': 1, '@ryancavalier': 1, '@HarbourSpaces': 1, 'Library': 1, 'rose': 1, 'Monfils': 1, '@oldbirdxatu': 1, 'Ans': 1, '#BeOnKnockKnock': 1, 'sail': 1, 'Tarryn': 1, '@moirae_': 1, '@ewoksurewok': 1, 'indifference': 1, '@conseilsmkg': 1, '@rucomingout': 1, 'qui': 1, '@classicfilms101': 1, 'oley': 1, '@mc_frontalot': 1, '#Follow': 1, 'Oracle': 1, '@Destiinyy303': 1, 'ATM': 1, '@nasirjkhattak': 1, '@ShiningJudgment': 1, '@nvardy30': 1, '@chimichangauk': 1, '#gp': 1, '@JamesEMalcolm': 1, '@justrena': 1, 'http://t.co/lYxDIByo2o': 1, 'fire': 1, 'catchy': 1, '@_ESCN0016': 1, 'Youll': 1, '@ablokeseyeview': 1, '@jcowan_18': 1, 'http://t.co/q404E06zET': 1, '#DukeFreebieFriday': 1, '@BarksBunnies': 1, 'Hopeyou': 1, 'http://t.co/nGJ1vzhsj1': 1, 'careful': 1, '@WoollyWormhead': 1, 'volta': 1, '@zaynahoranpayno': 1, '@uptommosass': 1, '@ForkH': 1, '@EquitableEd': 1, 'charismatic': 1, 'HAD': 1, 'https://t.co/QEil0C0auo': 1, '@DeltaGoodrem': 1, '@silvslee': 1, '#bffs': 1, 'Aich': 1, '1nenokkadine': 1, '@pop_ruth': 1, 'Vote': 1, '@sharont2501': 1, 'Pampanga': 1, 'https://t.co/ZcIAClQxhE': 1, 'appointments': 1, '@smartsog': 1, '@SuperEezy': 1, '@AlexandraJaafar': 1, '@UrTypicalDragon': 1, '1982': 1, '@swap002': 1, 'reallY': 1, 'https://t.co/UwsFDaeyzB': 1, '@Zendaya': 1, 'DESC': 1, 'Grattis': 1, 'JR': 1, 'theory': 1, 'SALE': 1, 'Soda': 1, '#Jordan': 1, '#residents': 1, 'milestone': 1, 'Council': 1, 'http://t.co/CHp0q7Gv5C': 1, 'hemmings': 1, 'girly': 1, '@OJBJ': 1, 'https://t.co/AYsppJcwlg': 1, 'stoked': 1, '#selfie': 1, '#mysummer': 1, 'NHS': 1, 'Becoming': 1, '#Tyres': 1, '#canvas': 1, '@KishanU14': 1, '@nanavisitor': 1, 'development': 1, '@Susansuzt': 1, 'Bit': 1, '@andreasson_': 1, \"u'll\": 1, '@voteforbabe': 1, 'Adam': 1, 'P90': 1, '@sarcxstic': 1, 'ADD': 1, 'hooh': 1, '#niteflirt': 1, 'Zac': 1, 'https://t.co/IMRy2BXuzd': 1, '@HelenRoseTerry1': 1, 'EBay': 1, '@digitalplace2be': 1, '@LucyoBailey': 1, '@FooWhiter': 1, 'yung': 1, 'tripping': 1, 'negooo': 1, 'Tobi-bro': 1, '@BeeRummie': 1, '#hair': 1, '@PebbleHelp': 1, '@PastryTeamUK': 1, '#leicaq': 1, '@reporterroya': 1, '@UKBusinessLunch': 1, 'all-time': 1, '@wetsprocket': 1, 'enterprise': 1, '@sluttywife2': 1, 'Frank': 1, 'https://t.co/UThCcBQnKD': 1, 'Awe': 1, 'NB': 1, '@JohnA_Limas': 1, '@beatport': 1, '@DuenaBlomstrom': 1, 'Mumbai': 1, '@mcjen': 1, 'ta': 1, 'TRYNA': 1, '@GarryKGraham': 1, '@TheDamarisDuran': 1, 'Prada': 1, 'baat': 1, 'Xcylin': 1, 'Shot': 1, 'sons': 1, 'FSA': 1, 'https://t.co/228BgrLFuV': 1, 'beauts': 1, 'Chenab': 1, 'olive': 1, 'Public': 1, 'perform': 1, 'MaryHicks': 1, '@Erickboiii': 1, 'pimple': 1, 'fandoms': 1, 'xxxxxxx': 1, '#FridayFreebie': 1, '@steedy58': 1, '@qqooooooooooo': 1, '@zid_1899': 1, 'Career': 1, 'feat': 1, '#nsfw': 1, '@SBNation': 1, 'BEAUTIFUL': 1, 'energy': 1, '@TweetDeck': 1, 'http://t.co/PEjHsORGrk': 1, 'Castle': 1, 'tose': 1, 'Mauliate': 1, 'crush': 1, '@SP4NKO': 1, 'topped': 1, '@H20akes': 1, 'pumpkins': 1, 'promoted': 1, 'spoken': 1, 'Football': 1, '#Gunashekar': 1, 'Sneakers': 1, '@dayloladay': 1, '#feelinggood': 1, 'DJ': 1, '⚡': 1, 'Sore': 1, \"Kyungsoo's\": 1, 'career': 1, '@FVCKL': 1, 'introduction': 1, 'naggy': 1, '@broadviewpress': 1, '#warehouse': 1, '@PerkPearl': 1, 'https://t.co/Pw7NdlH5d9': 1, \"she'll\": 1, 'taught': 1, 'ES': 1, 'http://t.co/s1O8yCoO68': 1, '@TheEscapistMag': 1, 'Srsly': 1, '@gizmo197654': 1, '@AfiaAkhter786': 1, '@ChrisChivers2': 1, 'https://t.co/s2wLppEEVQ': 1, '16/17': 1, '@MrProWestie': 1, '#AllGoodThingsKE': 1, 'asthma': 1, 'purple': 1, '@HorseDoctorLol': 1, 'several': 1, '@Oloni': 1, 'himachal': 1, '@seb_grant': 1, 'Community': 1, 'COFFEES': 1, 'cashback': 1, 'rave': 1, 'http://t.co/QlTxuBOidf': 1, 'http://t.co/VHA72j8cqp': 1, '@zachbraff': 1, 'MJ': 1, 'issues': 1, 'Baby': 1, 'succeed': 1, '@side556': 1, '@nbhdmadi': 1, '@kilby76': 1, 'HanaButle': 1, 'Mcfloat': 1, 'http://t.co/yaqcj4Ifa3': 1, '@mokwepa': 1, 'Yellow': 1, '@itsrkool': 1, 'Kresna': 1, 'Fruit': 1, 'thtas': 1, '#elephantgod': 1, '@grim_tenmiles': 1, 'Adis': 1, 'dikha': 1, 'Pegell': 1, '@TheGastroClub': 1, '@Dichenlachman': 1, '@Stn_Ang': 1, '@JannikMarioFan': 1, '@DAlmendary': 1, 'http://t.co/OkxiraPwXh': 1, 'chasing': 1, 'milk': 1, '💪': 1, 'https://t.co/4JwMhC45Fr': 1, 'Orhan': 1, 'hatessuce': 1, 'HK': 1, 'http://t.co/GBxQmizM7O': 1, '@EmilyRPeck': 1, 'LIT': 1, 'Hospital': 1, 'informed': 1, 'Virgin': 1, '@KSGPSD': 1, '#Cardgame': 1, 'WHATS': 1, '@SocialBro': 1, '@Anaateresaa_': 1, '6-5': 1, 'waves': 1, '@nabilahJKT48': 1, '@USATODAY': 1, '@soot1978': 1, 'propose': 1, '@wolfenskjerven': 1, '#teamAdmicro': 1, '@HathwalaThakur': 1, '@manaskotru': 1, 'https://t.co/KKbgfmYEgO': 1, '@MC_Lindseyy': 1, '@palakspatel': 1, 'scrummy': 1, '@ely83_ely': 1, '@BurntBrian352': 1, 'insta': 1, '@bekazt': 1, '@LastMinuteUSVac': 1, 'Joe': 1, '@zbeech': 1, '@Manaal_M16': 1, '@SSalchli': 1, 'mag': 1, 'بندر': 1, 'TOOK': 1, 'lagiii': 1, '#BeBraveToday': 1, 'inhaler': 1, 'cuss': 1, 'plot': 1, 'Bips': 1, '#videogames': 1, 'projects': 1, 'Yeeeeah': 1, 'CNBLUE': 1, 'peyton': 1, 'grande': 1, 'delivered': 1, 'self': 1, '@kerryjackson201': 1, 'Cya': 1, 'quiet': 1, '@DrShobha': 1, '@PatoFer222': 1, '@palvinssquad': 1, '@GzaDaRambler': 1, 'gimme': 1, 'tweetin': 1, '@louliveswell': 1, 'yayayayay': 1, 'Cala': 1, '@ReflectKnives': 1, 'modern': 1, 'Afridi': 1, '@Dj_Mando_Off': 1, 'Leader': 1, '@efekistik': 1, 'http://t.co/wNVIPDDRe6': 1, '@SimonVictor87': 1, '25': 1, '@JamieLou93': 1, 'https://t.co/xcRr0Ortvo': 1, 'opossum': 1, '@ExcuseThePuns_': 1, 'Ladies': 1, 'progrmr': 1, '@The_ScriptNinja': 1, 'http://t.co/eELRfZu8LC': 1, 'doodle': 1, 'Bday': 1, 'groupmates': 1, 'Arbeloa': 1, 'shady': 1, 'http://t.co/aT0iSMP0XI': 1, 'Hallows': 1, 'trap': 1, 'Luxembourg': 1, '@WoldHeath': 1, 'Skin': 1, '@FRSkyRRoZ': 1, 'completion': 1, '@rodtamepoet': 1, '@LeratoTmohale': 1, 'aftie': 1, 'Xmas': 1, 'HI': 1, '@IanMountain06': 1, '@NautiPawz': 1, 'greet': 1, 'http://t.co/AkNaojdLJJ': 1, '@tweetmidland': 1, '@alElizabeth': 1, 'Waiter': 1, '#photography': 1, '@iansomerhalder': 1, 'https://t.co/0Y142sp2nG': 1, '@AxeRade': 1, '@saliltripathi': 1, 'http://t.co/uo3T40FtCQ': 1, '#TomHiddleston': 1, 'Nawazuddin': 1, '@neselec': 1, 'http://t.co/ZwaOnouXpo': 1, 'Lemme': 1, 'everlasting': 1, 'champions': 1, '@cottypne': 1, '@ahhrielll': 1, 'effing': 1, 'Feb': 1, '@anime_narutoINA': 1, 'jennyjean': 1, 'Matsu_bouzu': 1, 'steelbook': 1, '@CaptaainMorgan': 1, ':|': 1, '@ankitsri24': 1, '->': 1, 'bcuz': 1, '@ConfettiWedding': 1, '@BoltonLani': 1, '#hotel': 1, 'greater': 1, '#tech': 1, 'uhh': 1, 'Entropy': 1, 'http://t.co/1E7cfAtEVd': 1, 'york': 1, 'barkin': 1, '@savannahx___': 1, '#MTN8': 1, '#graphicdesign': 1, '@makeupmermaid16': 1, 'https://t.co/hJEhDmxuu9': 1, 'comfy': 1, 'Zealand': 1, '@SadafNaveed3': 1, 'liya': 1, '@rusmexuswriters': 1, 'Geeks': 1, '#burgers': 1, 'shitfaced': 1, '@cischafer': 1, '@Deardads1979': 1, 'congrtaualtions': 1, '@BroadcastBeat': 1, 'Samos': 1, 'sumedh': 1, '@blossominglou': 1, 'ISNT': 1, 'ord': 1, '@glitchim': 1, '@benshephard': 1, '@durooooooo': 1, '@siavashhnr': 1, 'distracted': 1, '4am': 1, '@ctmarathon': 1, \"O'neal\": 1, '@bad_deluxe': 1, 'Arianna': 1, 'http://t.co/KmhdqcIWdm': 1, '@kalourd': 1, 'yawns': 1, 'http://t.co/dHZqvQ9YFq': 1, '@tlntweets': 1, 'instructions': 1, '@Luke5SOS': 1, 'Camden': 1, '@amerz': 1, 'above': 1, '@LemonyLimeUK': 1, 'mistress': 1, 'Huxley': 1, 'Everybody': 1, '#HighSchoolDays': 1, 'smells': 1, 'Cue': 1, '@nicole': 1, 'spinning': 1, '@DrashtiUniverse': 1, '@CaseyNeistat': 1, '#sea': 1, 'yous': 1, 'https://t.co/FjeTSJkmdq': 1, 'Yachting': 1, '@sshinhyex': 1, 'panel': 1, 'sponsorship': 1, 'annoying': 1, 'Greet': 1, 'Albay': 1, 'http://t.co/W3BNxHVv0w': 1, '@DiongzonS': 1, '@khloekardashian': 1, '@marthasydenham': 1, '@sharleneyupasc1': 1, '@AI_LSK89': 1, 'malese': 1, '@Abir_Khusro': 1, '@HP_Community': 1, 'SAME': 1, 'weights': 1, 'nic': 1, 'Stargate': 1, '@akocjermy19': 1, 'bnf': 1, 'Daisy': 1, '@kneadtodough': 1, 'https://t.co/ZGFwvC5IxT': 1, '@KatiiiRocks': 1, 'celebrating': 1, '@vanessaclark11': 1, '@Worth_The_CHASE': 1, 'bissmillah': 1, 'bg': 1, \"it'd\": 1, '2K': 1, 'Xfiles': 1, 'http://t.co/czdow1i44W': 1, '@dk_mok': 1, '#freebiefriday': 1, '@RosieTheRunt': 1, 'hated': 1, 'dub': 1, '@IrinaGreenVoice': 1, '@Fallen_Series': 1, 'http://t.co/NctwyoltIQ': 1, 'http://t.co/uj2nwuQTby': 1, 'Puff': 1, 'task': 1, 'ftw': 1, 'featuring': 1, '@ifb2016': 1, '@khalidALSALEM': 1, 'ba': 1, '@KillaEarth': 1, 'macbook': 1, 'deep': 1, 'aside': 1, 'V.ball': 1, 'Station': 1, 'wonderful.Great': 1, 'http://t.co/cpnxELviXs': 1, 'relentlessly': 1, 'Yepp': 1, 'http://t.co/0l6LMN7j45': 1, 'recognized': 1, '@VidCon': 1, '@GAMEdigital': 1, '@SpringwellLife': 1, 'https://t.co/YacazN2T0h': 1, '@6000': 1, '@jeweleyegoddess': 1, '@fczbkk': 1, '@CoachLockey': 1, '@PopsRamjet': 1, 'achieved': 1, '@PeterFHamilton1': 1, '@ileana_official': 1, 'http://t.co/lFm9Zq4Tj2': 1, 'https://t.co/QKGhVfeL6o': 1, '@Si_kKo': 1, 'academic': 1, '@almightyniaz': 1, '@steer_michael': 1, '@TelegraphNews': 1, '@Kayleigh_A': 1, 'Apologies': 1, 'founder': 1, 'ops': 1, '@DeniseDenise__': 1, 'dasvidaniya': 1, 'prices': 1, 'Sticker': 1, '@simonwaugh': 1, '@JuicyGameReview': 1, '@TradeboxMedia': 1, '@jaredNOTsubway': 1, '@WWhimsicals': 1, 'honorary': 1, 'http://t.co/8DBynqLZKw': 1, 'mark': 1, \"YOU'RE\": 1, 'alarm': 1, '@AI_Kyungsoo': 1, 'Hayley': 1, '@crinklysmilelou': 1, '@InsidiousMovie': 1, 'Portsmouth': 1, 'http://t.co/A2oxW0ZI3g': 1, '@arronjones31': 1, '@StephanieAlys': 1, '#Gotham': 1, 'becca': 1, '@DeltaDaily': 1, 'http://t.co/t7gX9k1c59': 1, 'forced': 1, '@larabee': 1, 'celebratio': 1, 'Alchemists': 1, 'http://t.co/PdvQw0QAQq': 1, 'seouljins': 1, 'stroke': 1, 'lovelies': 1, '@lisaflutterby': 1, 'kitty': 1, 'Limits': 1, 'troubles': 1, '@Gem_Pnefc': 1, 'Breakfast': 1, 'Area': 1, 'blogged': 1, '@niikkooyy': 1, '@helenzille': 1, '#SociaMedia': 1, '#quest': 1, '#GoDonna': 1, 'Chan': 1, '@zerotackle': 1, '#HushedCallWithFraydoe': 1, 'Asshole': 1, '@GadgetAddictsUK': 1, '@luketurner89': 1, 'NWB': 1, 'jump': 1, '@hansolotto': 1, 'confirmation': 1, 'delish': 1, 'frends': 1, 'facetime': 1, 'avril': 1, 'wealth': 1, 'Kabir.Fell': 1, '#Valencia': 1, 'Suzan': 1, '@IzabelaCoolCat_': 1, '#vscocam': 1, 'promote': 1, '479': 1, 'bland': 1, '@AliJaved93': 1, '@TheLuckyHand': 1, '@falmouthbiz': 1, '#dayofarch': 1, 'wd': 1, 'pony': 1, 'gooood': 1, '#MadonnaFamily': 1, '@bbcmediaaction': 1, 'Repath': 1, '@pritterpal': 1, 'The_MadStork': 1, '@Rodarosexx': 1, 'voted': 1, 'Abby': 1, 'disc': 1, '@thevaas': 1, '@LaurakBuzz': 1, 'puts': 1, '#PBEvent': 1, 'entering': 1, '@HelpRefugeesOZ': 1, '@krztall': 1, 'IndianKulture': 1, 'http://t.co/IgLPwLvSfz': 1, 'faaaaaabulous': 1, '@hectorparr0123': 1, 'Superdry': 1, 'belieber': 1, '@CPNERI_ESIGROUP': 1, 'fake': 1, 'https://t.co/V6aV6doasy': 1, 'HIGH': 1, 'melt': 1, 'wood': 1, 'arrive': 1, 'Acid': 1, 'treats': 1, '@vapemestoopid': 1, 'pills': 1, 'unimportant': 1, 'Jordy': 1, '@alive_madness': 1, '@mussshiii': 1, 'litey': 1, '@BRBCODY': 1, 'WLAN': 1, '@CashNastyGaming': 1, 'Sunshine': 1, 'MEDICATION': 1, 'breathe': 1, 'according': 1, 'favour': 1, 'CAROLINE': 1, '@CyprisJ': 1, '@Fintech': 1, 'Dazzle': 1, '@mdoyle08': 1, 'Shobs': 1, 'ego': 1, 'Req': 1, 'Anchors': 1, '@nattan23': 1, 'Ya': 1, 'bbm': 1, 'scared': 1, 'constantly': 1, 'http://t.co/bJjeGIOOGU': 1, '#1TBPS4': 1, '@JIBANG88': 1, 'Reasons': 1, '@AndyCarnochan': 1, '@readin_glasses': 1, '#URock': 1, 'ameen': 1, '@GrevinJeanOM': 1, '@KingRappaDZappa': 1, '@BeardAintWeird_': 1, 'volunteer': 1, 'required': 1, 'discussions': 1, '@IaneboyIester': 1, '@AyaiZafri': 1, '@_bonakid': 1, '@ConnellJess': 1, '@ahmedshaheed': 1, '#BMC': 1, 'NICE': 1, '#basketball': 1, '01:16': 1, '@UptownJavin': 1, 'clients': 1, 'Rod': 1, '@yildotweets': 1, 'Christopher': 1, 'http://t.co/l6T0rx7bEf': 1, '@cuddlyyoongi': 1, '@TheColtRising': 1, 'Hai': 1, 'http://t.co/pxBRjFPuYu': 1, \"Paperwhite's\": 1, '@GemfeedOfficial': 1, 'teenage': 1, '@LostInMuzic': 1, '@4eyedmonk': 1, '@SyedIHusain': 1, 'illness': 1, '@sunpandey': 1, '@seevia_1524': 1, 'Johnny': 1, 'evolution': 1, 'Kenya': 1, '@MadJacksMorris': 1, 'camillus': 1, 'Mature': 1, 'katy': 1, '@Cvrlzzz': 1, '👓': 1, 'Kalin': 1, 'zack': 1, '#philosophical': 1, 'iTunes': 1, 'Tutorials': 1, 'Aztec': 1, '@Cornerwayer': 1, '@Komal_Indian': 1, '74': 1, '@BuzzFeed': 1, 'dia': 1, 'Birthdaaaaayyyy': 1, 'IvyPowel': 1, 'yoot': 1, '#bellybuttons': 1, '#costacc': 1, '@HelpingB': 1, 'lollll': 1, 'salamat': 1, 'slightly': 1, 'postcode': 1, 'comparing': 1, 'forgot': 1, 'http://t.co/YRytmftXPv': 1, '@koshisojha': 1, 'cc': 1, '@Tumeylo': 1, '@crunchy_mummy': 1, '@oppentrapp': 1, 'http://t.co/DzylIYhhRG': 1, '@TripVerse': 1, 'fever': 1, 'WIP': 1, 'Respect': 1, '@CCI_entreprises': 1, '#trapmusic': 1, 'Sia': 1, '@74369slacker': 1, 'https://t.co/sznN5mdV2l': 1, 'instant': 1, '@NamanGarg26': 1, 'snowball': 1, 'Office': 1, 'pamer': 1, 'gameplays': 1, '@rebelwithany': 1, 'photographs': 1, 'Koyal': 1, 'Iphone': 1, '@harryshonestmum': 1, 'للحياة': 1, 'Obama': 1, '#magnificent': 1, '@Rosiellis': 1, '@yayanijadeepal': 1, '@ChrisInsider': 1, 'Zelda': 1, 'assist': 1, 'Leeteuk': 1, '#tdf2015': 1, '@420evilangel': 1, '5pm': 1, 'subsidy': 1, 'eonni': 1, 'maricarljanah': 1, 'http://t.co/2lqMgmagKr': 1, 'Mull': 1, 'Taylor': 1, '@salcedonot': 1, '@MajaPastora': 1, '@TheSwapFiles': 1, '@_kimikoo': 1, '@rolly2416': 1, 'genius': 1, 'https://t.co/JuzrBE0SBt': 1, 'http://t.co/KBM0p9jyZJ': 1, '@BCTGA': 1, 'irritating': 1, 'reader': 1, '@JohannaTurbo88': 1, '@CharmingJedward': 1, '@BoykinsD1': 1, '@mohnjorton': 1, '@AguilerArmenia': 1, '@Ali_SyedRaza': 1, 'Rocro': 1, 'Washing': 1, 'Courier': 1, 'ON': 1, 'salute': 1, '@DanOlsenMusic': 1, 'Beatriz': 1, '@ElJefe409': 1, 'Mirror': 1, '@httpsguitarist': 1, 'often': 1, '@cliffords_ass': 1, '@DailyBBLife': 1, '#bollywood': 1, '@macykatemusic': 1, 'innovate': 1, 'https://t.co/dfkZkrKiZz': 1, '@Inter': 1, '#EqualityAct': 1, '@friendsofderek': 1, '@susanhorgan1': 1, '@khuzy_k': 1, 'FC': 1, 'uses': 1, '@_Lineo_M_': 1, 'tanisha': 1, '@CurlysCooking': 1, '@AidanMcGlynn': 1, 'http://t.co/vQVoUm139L': 1, '#beme': 1, '@hallasdt': 1, 'teacher': 1, 'https://t.co/EXt098GP9D': 1, 'munchkins': 1, '#LoveForFood': 1, '@MekObien': 1, 'BAILONA': 1, 'tourist': 1, 'Sona': 1, 'rotation': 1, 'http://t.co/0s8GQYOeus': 1, 'infrared': 1, 'swishers': 1, '@GO_ADdy': 1, 'miryenda': 1, 'ahahha': 1, 'Mayhem': 1, 'nanti': 1, '@PaperTownsMovie': 1, '@DCarsonCPA_NYC': 1, 'discharge': 1, 'itna': 1, 'hugging': 1, 'Yasu': 1, 'A5': 1, 'JDs': 1, '@aditriphosphate': 1, '@GambadoChelsea': 1, 'printed': 1, '@BrandonHerrigan': 1, '@CFCDianaMonkey': 1, '@L3THXL': 1, 'Caradelevingne': 1, '@mysightnotts': 1, '@Omar_Omark': 1, 'Wkend': 1, 'seemed': 1, 'Laiten': 1, 'Parisa': 1, 'exe': 1, '@groovinshawn': 1, '@LindseyKelk': 1, 'LOOSE': 1, '@TransworldBooks': 1, 'appeal': 1, 'Anyway': 1, 'indirecting': 1, 'Kit': 1, '@SnookerFamily': 1, 'fron': 1, '@Anant10486': 1, 'genre': 1, '@dischanmedia': 1, 'guitar': 1, 'scam': 1, 'bread': 1, 'Dj': 1, '@nerazktm': 1, '@FlourPowerCity1': 1, '#HyungBot': 1, '@CaptainTabouli': 1, '@santosmarkaljon': 1, 'bomb': 1, '@phedran': 1, 'mix': 1, 'Void': 1, 'bebe': 1, 'Oct': 1, 'cohesive': 1, '@P_Collin': 1, 'Stream': 1, '@limerickpost': 1, '#Oxford': 1, '@IJTaylor81': 1, 'Songs': 1, '@Dance10Alan': 1, 'https://t.co/V4Jk5HsID1': 1, 'Yuki-chan': 1, 'Mitch': 1, '@froggydarren': 1, '@payalpatil148': 1, 'http://t.co/m7p3IvKggR': 1, 'haaa': 1, 'fri': 1, 'http://t.co/XvFUG4ig4T': 1, 'choir': 1, '@BrigetteManie': 1, '14': 1, 'makeover': 1, 'consumerism': 1, 'http://t.co/jeVWqXIK1r': 1, 'http://t.co/gco9IJqdcT': 1, 'https://t.co/JrmE17RGv3': 1, 'term': 1, 'reasons': 1, '#BudapestGP': 1, 'FORGOT': 1, '@BlueAppleHeroes': 1, '#oralsex': 1, '@MooseAllain': 1, '@Addijay': 1, '#penacova': 1, 'Ghost': 1, 'wing': 1, '@EricAguigam': 1, 'walked': 1, '@itsAllieFx': 1, '@MelonieMac': 1, 'ships': 1, 'Katerina': 1, '@Yomi_Gaming': 1, 'biker': 1, '@HillsongConf': 1, '@ohvdqohcdjroc': 1, '@alamocitycon': 1, 'Salman': 1, 'indie': 1, '@EnverGjokaj': 1, 'Chweina': 1, 'globe': 1, '@rossbreadmore': 1, 'medicines': 1, '@FitbitSupport': 1, '@vickybeeching': 1, 'Linda': 1, '@AgingBackwards': 1, 'http://t.co/1gSi2Ntav7': 1, 'Laguna': 1, '#doodle': 1, 'https://t.co/X8nV7tp9S8': 1, 'Dope': 1, '@victoriaskyful': 1, '@Maddo1970': 1, '#ladyposse': 1, '@KingCo915': 1, 'https://t.co/NrrUOlBKGN': 1, '@5SOSTumblrx': 1, '#vsco': 1, '@wontanim': 1, 'Fingers-crossed': 1, 'Christian': 1, '@n1codavid': 1, 'http://t.co/alshfDVauB': 1, '@umar_farouk7': 1, 'http://t.co/s2aTIZNpFn': 1, 'Ek': 1, '#hello': 1, '@thedanperry': 1, 'ravages': 1, 'physique': 1, 'expose': 1, 'panties': 1, '@ungiftedfuck': 1, 'dresses': 1, 'http://t.co/ClwnnMFV0D': 1, 'http://t.co/1EHnC4mxZL': 1, 'laboratory': 1, 'vsco': 1, '@Keranjeet': 1, '@WarriorAssaultS': 1, 'Humphrey': 1, '@kungfuman316': 1, '@KylieJenner': 1, 'Loftey': 1, '@HelenAnderz': 1, 'http://t.co/7zicZ1G0mb': 1, 'speculation': 1, '🍹': 1, '@TheBlazeHotList': 1, '@michae1green': 1, '@KayOh_Official': 1, 'debut': 1, '@thalasalupa': 1, 'SidNi': 1, '@Boitumelo_SA': 1, 'urwelc': 1, '@Red_Foxus': 1, 'overdue': 1, 'http://t.co/c2W7znBQ0P': 1, '@Wils21568249': 1, '@jyotsnanepal': 1, 'https://t.co/9ZkFNrObsC': 1, 'aasra': 1, 'http://t.co/Tf4pHYRUDB': 1, 'Introducing': 1, 'Potentially': 1, 'Better': 1, '@Gculloty87': 1, '@bryanteslava': 1, 'Brows': 1, '@darrenadam': 1, 'hailey': 1, '@deepti_ahmd': 1, 'Lagos': 1, 'Making': 1, '@jasmineneupane': 1, 'musta': 1, 'nd': 1, '@X_Tina90': 1, 'airs': 1, '#nike': 1, '#WayToLiveAHappyLife': 1, '@simonxxx_': 1, '#bestoftheday': 1, 'Manuel': 1, '@DJShaun_SA': 1, 'https://t.co/DDpk2A4k7z': 1, '#buddy': 1, 'fmt': 1, '@1_odj': 1, '@CFVUF': 1, '@VMolapisi': 1, '@JMviray_': 1, 'Canaria': 1, 'Pefumery': 1, 'ultimate': 1, '@ARROWwriters': 1, '@kellyhallmodel': 1, '@TheVan': 1, '@iSweetan': 1, 'https://t.co/vVAyGndwnL': 1, 'Mooorning': 1, 'extremely': 1, 'http://t.co/36Wal3Tkwc': 1, '@Vasan_Bala': 1, 'anxiety': 1, 'tix': 1, 'O_o': 1, 'vex': 1, 'Wobble': 1, '@El1neW': 1, '@Chandlermofo': 1, 'Kindle': 1, 'http://t.co/sWLUm7Vtrz': 1, '@hayley_gibson93': 1, '@Debbeedale': 1, 'delay': 1, '@RanaDaggubati': 1, '@Miss_Wisconsin': 1, 'Merci': 1, '@NehamsChamaria': 1, '#MoreFunInThePhilippines': 1, 'okok': 1, '@Sukihaikal': 1, 'downloaded': 1, '@TheKimTillman': 1, 'Swag': 1, '@NetballScotland': 1, 'meat': 1, '@NTtownend': 1, 'http://t.co/ag4r421hF1': 1, 'lake': 1, 'Flickr': 1, 'briliant': 1, '@jennnnifer29': 1, 'https://t.co/neJd4AaQWZ': 1, '@Eric_Yeomans': 1, 'https://t.co/LBjXDWIAPE': 1, '@ShinonSai': 1, '@ScottReevesFans': 1, 'Yum': 1, 'tweak': 1, 'http://t.co/jm7k6cs7XD': 1, '@GasManGod': 1, 'Chaerin': 1, 'BOS': 1, 'FriYAY': 1, 'http://t.co/gkyDGT1DEH': 1, 'awak': 1, '@Amber_Raynexxx': 1, '@JacobWhitesides': 1, 'Farm': 1, \"mum's\": 1, '@gunnersx4': 1, 'charging': 1, 'Jarraaaaa': 1, '@GB_FollowBack': 1, 'brush': 1, 'thrown': 1, '@MaltiBhojwani': 1, 'mon': 1, '@Outpost_Skaro': 1, '@sodakite': 1, '@ZaloraID': 1, '@GP2_Official': 1, '@siany30': 1, '@JSouthcott1994': 1, 'Bell': 1, '@DaveHShaw': 1, 'detailed': 1, 'https://t.co/T3HI4gRT2F': 1, 'MannerFuls': 1, '@SkyrockFM': 1, '@InspectorsClews': 1, 'azz-sets': 1, '@tazzy_7': 1, '@ZynovFTW': 1, 'flesh': 1, 'Mohr': 1, 'horrible': 1, 'experiences': 1, '@UmiAmaiOfficial': 1, '@ks_ys3424': 1, 'slap': 1, '@ChristabellaTr2': 1, '@ciatelondon': 1, '@onlytheshelley': 1, 'region': 1, 'Confidence': 1, '@_Sampath': 1, 'loveyaaaah': 1, '#Perfection': 1, 'Quezon': 1, '@7pm': 1, '@NikkiFederer': 1, 'https://t.co/N2ORwrOwhD': 1, 'http://t.co/XxpxBHC4oH': 1, 'Save': 1, 'Shattering': 1, 'Buzz': 1, '@funnyjoke': 1, 'DRESS': 1, 'Diego': 1, '@ochoaofficiaI': 1, 'Kahlil': 1, '#GTO': 1, 'outboarding': 1, 'Timely': 1, 'Thankyouuu': 1, 'chaotic': 1, 'contributions': 1, 'http://t.co/heuCtQaFlK': 1, 'step': 1, '#ThoracicBridge': 1, 'structure': 1, 'handle': 1, 'http://t.co/j2UaGkU9T4': 1, 'Followback': 1, '@lDreeriksenl': 1, '@shinybluedress': 1, '#tengkuaaronshah': 1, 'legit': 1, 'leviboard': 1, 'twice': 1, 'Decent': 1, 'Ambre': 1, 'Ritual': 1, 'GVB': 1, 'Jlo': 1, '@ScreamingJoypad': 1, 'consultant': 1, 'dkt': 1, 'arnd': 1, '@gabanna_21': 1, 'Santo': 1, 'dine': 1, 'considerably': 1, 'Mamayang': 1, '@jasmoonbutterfl': 1, '@BBCSport': 1, 'MCPE': 1, '@BBCNews': 1, 'villa': 1, 'GA': 1, 'http://t.co/M3kvcw24N7': 1, 'https://t.co/CgeH8460fh': 1, 'Iqbal': 1, '_15': 1, '@theguyliner': 1, '#booty': 1, 'GRANDE': 1, '@RocknRollBride': 1, '@iamVipulsrt': 1, 'babyyy': 1, 'positivity': 1, 'https://t.co/N88T6qrwpI': 1, 'addiction': 1, '@BertolacciTweet': 1, '#Pk': 1, 'bunch': 1, '@Gvmba': 1, 'http://t.co/paVK9szuWU': 1, 'zdps': 1, '@FTlove4good': 1, '@RuthJackBBO': 1, '@LeandraPrins': 1, 'dimples': 1, '@RohitBJP': 1, '@CodyLatimerAunt': 1, 'ourselves': 1, '@RaruShopping': 1, '@Kanhajigi': 1, '@dineshaol': 1, 'mbalula': 1, 'https://t.co/pm9Cu3zoEe': 1, '@mhdzhdawr': 1, '#SuperHappy': 1, 'https://t.co/ETZhxUbtKc': 1, '@FKarsheh': 1, '@mybabatweets': 1, 'feminists': 1, 'Ukraine': 1, 'som': 1, '@turquoiselwt': 1, 'ISIS': 1, '@rachelmoonyy': 1, '@hostclubhowell': 1, 'Obi': 1, '@L0MLHES': 1, 'emotional': 1, 'Alacer': 1, '@fetsha85': 1, 'private': 1, '@BCMZ_UK': 1, '@skyfurry': 1, '@haleyannmcallum': 1, 'Ada': 1, 'Bruuh': 1, 'pisses': 1, 'http://t.co/D3gjT3xD8n': 1, '@tommosdenim': 1, '@chanhun4exo': 1, 'ten': 1, 'browser': 1, '@adnanCad': 1, 'inshAllah': 1, '@RoySangwooKim': 1, 'Boggling': 1, 'repath': 1, 'despite': 1, '@graphic_foodie': 1, '@GET_TUDA_CHOPPA': 1, '#HappyWeekend': 1, '@tonyclarkeuk': 1, 'annual': 1, '@TOBMAST3R': 1, 'GZ': 1, 'beats': 1, '9-11': 1, '@Wanli_Minho': 1, '@bergsplace': 1, 'quantum': 1, 'http://t.co/lrUwXe378i': 1, '@wonkASSLILO': 1, 'Strange': 1, 'Clark': 1, '@Chompu_Kusuma': 1, '@carondeslut': 1, '@GitiOkvianti': 1, 'traffickers': 1, 'lipstick': 1, '#Pri': 1, '@tomokawaiix': 1, '@GrandSnookerFan': 1, \"cinema's\": 1, 'seasonal': 1, 'Kong': 1, '@MerlynTheCollie': 1, 'http://t.co/sRRNYTas7b': 1, 'fuller': 1, '@Can128_': 1, '@sift': 1, 'Feels': 1, '@cjtyless': 1, '@boukendreamer': 1, 'contained': 1, '@Tarann97': 1, 'takedown': 1, 'Concordia': 1, '@CranksFood': 1, '@She_fantastic': 1, 'https://t.co/bI8k8tb9ht': 1, '@AsmaMnh16': 1, 'Achebe': 1, '@kawaiinekolaura': 1, 'Berangkaat': 1, 'midares': 1, \"Vivian's\": 1, 'https://t.co/85JGM6Oj6Q': 1, 'trend': 1, '@GL_Advocaten': 1, 'Woooo': 1, 'Pta': 1, 'apologist': 1, '@kthrnbyln': 1, 'Southpaw': 1, '#Burnley': 1, '@Ntwenty2': 1, 'cos': 1, '@AdamEvnmnt': 1, 'tridon': 1, '@cristianavai3': 1, 'Newsround': 1, 'alone': 1, '#PetJam': 1, \"School's\": 1, '@nova_caneeee': 1, 'firing': 1, '#betting': 1, '@Stijneman': 1, '#sleeptight': 1, 'Grande': 1, 'paypal': 1, '@ryan_landreth': 1, 'http://t.co/yOTeNaX7yR': 1, '7:40': 1, 'crave': 1, '@amellywood': 1, 'Woke': 1, '51': 1, 'MWF': 1, 'aliens': 1, 'market': 1, '@xoxoamymarie': 1, '@TechnoBuffalo': 1, '@_edmce': 1, '@wendy1704': 1, 'College': 1, 'https://t.co/XsZ9MciY2r': 1, '@theprincesszooz': 1, 'geeks': 1, 'proposed': 1, 'Shaun': 1, 'steel': 1, 'http://t.co/xdkILWu46Y': 1, '@MOHDBINTANG': 1, '@hswift65': 1, 'letting': 1, '@chaebe71': 1, '@Boity': 1, 'exploits': 1, 'http://t.co/0fRd6bgkjE': 1, 'clear': 1, 'meditation': 1, '@Mapbox': 1, 'http://t.co/qTJcpy54zi': 1, 'fruity': 1, 'un': 1, 'OTWOL': 1, 'articles': 1, 'cheer': 1, 'https://t.co/9uSwZGSJxL': 1, 'emesh': 1, '@waglington': 1, '@EthanGamerTV': 1, '@JohnHopePhoto': 1, 'Rodders': 1, 'SNPCAHT': 1, '@prav2410': 1, '@AlexShawESPN': 1, 'https://t.co/qiyrhDK9eB': 1, 'Danielle': 1, 'http://t.co/mX5OO0cYHB': 1, 'hee': 1, 'http://t.co/7R0UYDariZ': 1, 'mistakes': 1, 'Leave': 1, 'UPWARD': 1, '#ineedfeminismbecause': 1, 'Gav': 1, '@ManiMint_': 1, 'ANYONE': 1, 'raw': 1, 'ERIC': 1, 'remind': 1, 'MSE': 1, 'Skills': 1, '@candlerosa': 1, 'http://t.co/ORqau4PvVz': 1, '@Eric_FLE': 1, 'newyork': 1, 'Week': 1, 'insurance': 1, 'souls': 1, 'behave': 1, 'Chinua': 1, 'http://t.co/SEdkSLbZPH': 1, 'fangirled': 1, 'Timming': 1, '@VickiCartagena': 1, 'Tune': 1, '@valeriecafe': 1, '@zoharrm': 1, '@evolvetelecom': 1, '@normabattle': 1, '@tsncblog': 1, 'Belieber': 1, '@AldiUSA': 1, 'Fifth': 1, 'Urquhart': 1, '@carolak': 1, 'avail': 1, 'Wooohooo': 1, 'Skype': 1, '💁': 1, '@wildrunnerza': 1, 'tc': 1, '@EnjiNight': 1, 'sofa': 1, 'blurry': 1, '@FeistyPixxi': 1, 'http://t.co/9CEbRspBdJ': 1, \"Callie's\": 1, '@b9scottuk': 1, '@roofjackson': 1, '@simplybeingmum': 1, 'HAUC': 1, 'http://t.co/TS2qrrlzV1': 1, '@KielixTTV': 1, 'https://t.co/suUNBJboMx': 1, 'orz': 1, 'principal': 1, 'campus': 1, '@UrbanKarizma': 1, 'tidy': 1, '@messiholic_': 1, '@llMGWVll': 1, '@VulturesDare': 1, '@thulisiletshele': 1, '#nsn_supplements': 1, '@JustinNFJK': 1, '430': 1, '@IrhaAzzahraa_': 1, 'indo': 1, 'boi': 1, '#WIP': 1, 'CPU': 1, 'http://t.co/hFpe2DvO3E': 1, 'aunt': 1, '@smashingmag': 1, 'http://t.co/r0UhqcyGAY': 1, 'Chef': 1, 'ganteng': 1, '@IncreaseEnergy': 1, 'Gigi': 1, 'https://t.co/Tlcoj355Rt': 1, 'MIS': 1, 'http://t.co/fLbjhBYcEY': 1, '@mayusushita': 1, 'visual': 1, '@thaiees': 1, 'goddess': 1, 'http://t.co/ep39uOZsoM': 1, 'Wo': 1, 'YESSSS': 1, '@ameetdhakal': 1, '@Krona_design': 1, 'me.So': 1, '@sleepyjoe2': 1, '@johnsonef184562': 1, 'alls': 1, '@DeVoTrAv': 1, '@ImranKhanPTI': 1, 'ring': 1, '@France_Espana': 1, '@rav_bajwa': 1, 'Atlas': 1, '@putriisabrina': 1, '@sgtnicolai1': 1, 'TOLOGOOO': 1, 'Sige': 1, '@CaseyBatchelor': 1, '@LindsayWicker': 1, 'truck': 1, 'Kardamena': 1, 'Mubbarak': 1, 'https://t.co/hcqgiRuZ0X': 1, '@JosPastr': 1, 'http://t.co/jn7KSfHwRc': 1, '#yaytheylookgreat': 1, '@claralikesarah': 1, '@lyndaannew': 1, '@thewedcommunity': 1, 'Daughter': 1, 'hangout': 1, '@QPRFC': 1, 'MBA': 1, '@Mufcfighter1': 1, '@unbearvble': 1, '@DIY_OE': 1, 'spill': 1, 'GC': 1, '@DamienMcFerran': 1, 'sweatpants': 1, '@LeeMcKenzieTV': 1, '#PlanetBollywoodNews': 1, 'booty': 1, '@winnerdumb_': 1, 'Lilydale': 1, '@TK_INDIA': 1, '#open': 1, '@ajm9890': 1, '@JennyBae_xiii': 1, 'http://t.co/6prugvmOuC': 1, 'hidden': 1, 'Angel': 1, 'Username': 1, '#PBB737BigatingConcert': 1, 'hints': 1, 'Bitcoin': 1, 'da': 1, '#beograd': 1, 'Spanners': 1, 'Jah': 1, '@Caz_Loz': 1, 'tarts': 1, '@Brian88071070': 1, 'Couple': 1, '@zimmie825': 1, 'http://t.co/OkBaE4j2x4': 1, 'hotels': 1, '2-3': 1, '@EmmaEK': 1, 'aapke': 1, 'http://t.co/aady6CDfB2': 1, 'DV': 1, '@SashaFarber': 1, 'Face': 1, 'sunburn': 1, 'ughtmed': 1, '@muayfarang555': 1, '#kikhorny': 1, 'coworker': 1, 'overnight': 1, '@kavonyo': 1, '@akpayne15': 1, 'Em': 1, 'SUCKS': 1, 'Nah': 1, '@AbzuGame': 1, 'Edwin': 1, 'workers': 1, '@JakeSwope': 1, \"soloist's\": 1, 'Lepas': 1, 'Nikkei': 1, 'Jk': 1, 'Apps': 1, 'http://t.co/R8jyDxlQyo': 1, '#al_Master_band': 1, 'lads': 1, '47': 1, 'Christina': 1, '@AvinPera': 1, '@Saskia_TeamLH44': 1, '@scotchism': 1, 'public': 1, 'ray': 1, '@elliegoulding': 1, '@TonuvaCoaching': 1, 'http://t.co/HV28zKdHCZ': 1, 'lilsisbro': 1, 'Aling': 1, 'extras': 1, 'lycra': 1, 'sunflowers': 1, 'copping': 1, '#Travel': 1, 'german': 1, 'http://t.co/0Um6xgpsAn': 1, 'Game': 1, '@IRagunton': 1, 'conditions': 1, '@ZomatoIN': 1, 'http://t.co/mFIfaWQj3H': 1, 'http://t.co/adB1usrDwV': 1, 'ShoshannaVassil': 1, 'http://t.co/YC2GbYRCTx': 1, 'amazingly': 1, '@randizuckerberg': 1, 'http://t.co/q1zK66SmNi': 1, 'Learn': 1, '@WomenRAngels': 1, '2009': 1, 'https://t.co/TjsUKEvepd': 1, 'wakes': 1, '@Kandelamison': 1, 'Thakyou': 1, 'sunlight': 1, 'Keeo': 1, 'https://t.co/JmpkZP2DaI': 1, '@marshawright': 1, 'Xpax': 1, 'Bom': 1, 'leo': 1, 'lol.Hook': 1, 'mbf': 1, '@allisonpetrek': 1, 'makesme': 1, '2ish': 1, 'riders': 1, 'Edgar': 1, 'http://t.co/ubXKOjpBez': 1, '#AGNEZMO': 1, 'EnJOY': 1, '@Thakurain_': 1, '@AsianMeerkat': 1, 'NT4': 1, '@banouuu': 1, 'Suites': 1, 'long-distance': 1, '@craftbeercoll': 1, 'HAHAHAHAHAHAHAHAHAHAHAHAHAHA': 1, 'block': 1, 'SORRY': 1, '#Beliebers': 1, 'obsessed': 1, 'showpo': 1, 'http://t.co/4zfuqqaLsW': 1, 'zoe': 1, 'Hated': 1, '@StuartHeyworth': 1, 'Re-cap': 1, 'buys': 1, '@_pumpchkin_': 1, '@nicolevanzanten': 1, 'ive': 1, 'Caramoan': 1, '@fouraroundworld': 1, 'DADDY': 1, '@TheConconFelix': 1, '@TheWestSamurai': 1, '@KikiG4733': 1, 'SęXXXÿ': 1, 'rewarding': 1, 'Graduated': 1, 'Party': 1, 'resort': 1, 'http://t.co/tY9qr7g4my': 1, '#SME': 1, '@Powerspell3': 1, 'COURSEWORK': 1, 'Maggie': 1, '@Bracken_Nelson': 1, 'ga': 1, 'Majalah': 1, 'mmmmmm': 1, '@BeckieSmith_7': 1, '@BLC_Head34': 1, 'Sprite': 1, '@NOUISMILITARY': 1, 'jalulu': 1, 'pfb': 1, 'tops': 1, '#mobilegame': 1, '@unwoman': 1, 'performance': 1, 'selfish': 1, 'https://t.co/8XhjJb4jtH': 1, 'lbs': 1, '@KrisLindbeck': 1, '@SebIscariote': 1, '@DisneylandDTD': 1, 'rush': 1, 'convictions': 1, '@neiltyson': 1, '@maryammirxa': 1, 'James_Yammouni': 1, '@WooDotaMel': 1, 'Watching': 1, 'Klee': 1, '@CherylynPitcher': 1, 'Syrus': 1, 'Grey': 1, 'https://t.co/h9gtZ0Y99u': 1, '@TheParlourH_B': 1, 'Philippines': 1, 'packed': 1, 'Flawless': 1, 'taxes': 1, 'carry': 1, '@Pedro7241cw': 1, '@NAYAKHK': 1, 'combination': 1, 'https://t.co/FQ6dQHqW8U': 1, 'http://t.co/R8zhRUjCI0': 1, '@Candiferslaw': 1, '@RickyBaby321': 1, '@BarbaraBathurst': 1, 'demo': 1, 'Resto': 1, 'proposal': 1, 'savage': 1, 'http://t.co/T1x9Cl7NE8': 1, '@FDNCoffee': 1, '@TobaccoDockLon': 1, '@tehreemabbas13': 1, '@brianteeman': 1, 'trick': 1, '@MKBHD': 1, 'nigth': 1, 'Venice': 1, '@henryckrempels': 1, '@DC_ARVSgt': 1, 'https://t.co/hqiYij5IOs': 1, '@junkeedotcom': 1, '#marketing': 1, 'auto-focus': 1, '@hesIovely': 1, 'decides': 1, 'manager': 1, 'https://t.co/x8hlsZudXr': 1, 'iv': 1, 'logic': 1, 'Everette': 1, 'rechargeable': 1, 'guns': 1, 'Effective': 1, 'level': 1, '@NatG_22': 1, '@OfficialKatzD': 1, '@Beer52HQ': 1, 'juga': 1, '@Etsy': 1, '@CurvaNordSoul': 1, 'Nylons': 1, 'stronger': 1, 'mubank': 1, '@dhimant': 1, 'deposit': 1, 'coffee-weekdays': 1, 'console': 1, 'inbox': 1, 'payment': 1, '@yamunakrish3': 1, 'graphics': 1, '@solodmsdailyxo': 1, '@BrowhausUK': 1, 'aku': 1, '#theworldwouldchange': 1, '@franklin_25_8': 1, 'Agent': 1, '@tracysbakes': 1, '@altournative': 1, 'https://t.co/7453UA7n6Y': 1, 'Minecon': 1, 'hotbed': 1, '@Converse': 1, 'http://t.co/8zWxLtDwdB': 1, 'Rally': 1, 'solve': 1, '@theR3Ddot13': 1, 'gO': 1, 'Working': 1, '@liamsmurs': 1, 'http://t.co/77HK8SVBFh': 1, '@prowrestlingnet': 1, '@digitaljugaadu': 1, \"channel's\": 1, '@defilibrator': 1, 'Ashton': 1, '@_andree3000': 1, '@thingforasians': 1, 'http://t.co/ycVA2V6ecq': 1, 'proving': 1, 'EX': 1, '@FindBenNeedham': 1, 'http://t.co/6WLyQMJ2nl': 1, 'recommendation': 1, 'http://t.co/G1uA6N0Ce7': 1, 'av': 1, 'http://t.co/ITjN5MwDJf': 1, 'BHK': 1, '@doublefall': 1, '@greatestcookie': 1, 'charming': 1, 'teapot': 1, 'Awh': 1, 'Morrrrning': 1, 'brave': 1, '@LondonLycra': 1, '@magictrikband': 1, 'font': 1, '@ithloopwithcoco': 1, 'Choroo': 1, '@B_Indiie': 1, 'Ning': 1, 'Ligao': 1, 'Charles': 1, '#incall': 1, 'https://t.co/gsaaxNpR8u': 1, '@makeyoucontent': 1, 'Him': 1, 'Fenja': 1, '1277 1093': 1, 'direct': 1, 'http://t.co/zhvSuU4H8M': 1, 'http://t.co/NAPmqm2do6': 1, 'svu': 1, 'Mapbox': 1, '@SivaKaneswaran': 1, '452096': 1, '#ElizabethOlsen': 1, '#eh': 1, 'wise': 1, 'answers': 1, 'teasing': 1, '@hayleybrown750': 1, '@Deltsoulman': 1, 'BPs': 1, 'thrive': 1, 'anticipation': 1, 'ADULTHOOD': 1, 'Charlie': 1, '@LTBeautyBlog': 1, '@MolyneuxAssoc': 1, 'Faded': 1, '@FiMackinnon': 1, 'beds': 1, '@uanhes94': 1, '@PracchiNDesai': 1, '@officialCelebV': 1, 'Petra': 1, 'Laro': 1, '@lyssafox20': 1, 'http://t.co/PLQRn4fDRN': 1, 'international': 1, '@dotlung': 1, 'tweeps': 1, 'KNO': 1, 'nooooowwwww': 1, '@6townsradio': 1, '@DianaaOrtizz': 1, '@dansmith89': 1, '@MrLythgoe': 1, 'thw': 1, 'Jai': 1, '@Monomarchos': 1, '@XredeyezX': 1, '@TrennaKeating': 1, 'tau': 1, '@madpilot': 1, 'debit': 1, 'Slept': 1, 'http://t.co/XMVIKx9ERj': 1, '@imafaithreyes': 1, 'District': 1, 'wiw': 1, '@Cantona_20': 1, '@1017nelle': 1, 'http://t.co/GNW1lwjFK1': 1, '@AngelMsvanityIV': 1, 'woah': 1, 'queries': 1, '@katiemcmillan90': 1, 'tiis': 1, '@Neenkin': 1, 'Summers': 1, '@itssssalmaaaa12': 1, 'incoming': 1, '@anands_69': 1, '@PHiZZURP': 1, 'Foodie': 1, 'Choice': 1, '@tylergarposeys': 1, 'nudes': 1, '@truemuscle': 1, 'Rising': 1, 'Pearson': 1, 'patch': 1, '@booogley': 1, '9pm': 1, 'prophets': 1, 'elaborate': 1, 'survived': 1, 'Rape': 1, '@RichyCee93': 1, 'jelly': 1, 'Niam': 1, 'http://t.co/4QiS2e3DaM': 1, '#kikchat': 1, 'http://t.co/j6ygzWYc4q': 1, '@prillybie': 1, 'M31': 1, 'http://t.co/tn1yicz40N': 1, 'GameCity': 1, '#jgh': 1, 'yeeeeyyy': 1, '#Readystock_hijabmart': 1, 'replay': 1, 'stiff': 1, 'https://t.co/zRlFqQBu8d': 1, '@mrkennyt90': 1, '@MBandScott_': 1, 'https://t.co/WztNf8e6cO': 1, 'Surrey': 1, 'Fat': 1, 'Goodtime': 1, '@Beverleyward': 1, '@ParkTheatre': 1, 'https://t.co/iiqnFeiB5s': 1, '@marcin360': 1, '@shobanam': 1, 'http://t.co/pHp6OcHlXH': 1, '@ManningOfficial': 1, '@imbinggoo': 1, 'AuG': 1, 'http://t.co/UjjGXrtMRk': 1, 'Y': 1, '@clmazin': 1, '@MarkBreech': 1, 'ou': 1, '@xsupersarah': 1, 'http://t.co/1wqZetbvQu': 1, 'shipped': 1, '#iqrar': 1, 'e': 1, 'http://t.co/rMjqzWRE37': 1, 'biking': 1, 'fond': 1, '@Razzmuna': 1, 'http://t.co/yYoX1ZKUdM': 1, 'shifting': 1, 'promoting': 1, 'nocturnal': 1, '#nudes': 1, '@Adacampbell': 1, 'stash': 1, '@CattibrieShelly': 1, '@Raptech_Pumps': 1, 'denerivery': 1, '@Acruz_siscon': 1, 'http://t.co/TPwmADzibD': 1, '@skehehdanfdldi': 1, '@chaigurl07': 1, 'spammer': 1, 'http://t.co/Ajk6gD0Hdn': 1, 'http://t.co/bgO0CgYWzj': 1, '@PTIROX': 1, '@dracan': 1, 'arabia': 1, '@TeamTall17': 1, 'Knowing': 1, 'boob': 1, 'MBC': 1, '@vkon1': 1, 'ke': 1, 'fluffy': 1, '@chewy4cutie': 1, 'bahot': 1, 'http://t.co/YX0hTS3lXT': 1, '@Sunnyclaribel': 1, 'delegate': 1, '@ShowgroundsSC': 1, 'Belfast': 1, 'motorway': 1, 'chu': 1, '@BambiiRiiot': 1, 'WELCOME': 1, '@creativegossip': 1, '@Cinemainmygenes': 1, 'emotions': 1, '@Aware_GinGi': 1, '@yoshihikomkm': 1, '@ikonxbei': 1, '02392441234': 1, '@stumpedgirl': 1, 'http://t.co/7bgF2Y1Zc2': 1, '@HartleysRooms': 1, 'http://t.co/C5WupnoeRn': 1, 'todayyyyy': 1, 'hunt': 1, 'awesomeee': 1, 'xxxxxx': 1, 'Deserve': 1, 'Crew': 1, '#bloggerswanted': 1, 'monitor': 1, '@leebattrick': 1, 'http://t.co/RpE0HsCtDQ': 1, '@Ms_chic': 1, 'Hath': 1, '@fredgarden8': 1, '@ohsexycyruz': 1, 'http://t.co/s03QS5q4l7': 1, 'Pauline': 1, '@soKRISme': 1, 'http://t.co/d3AFRhhgP6': 1, '9:25': 1, 'honoured': 1, 'FT': 1, 'Faith': 1, 'Celebrity': 1, 'cuddle': 1, 'crueler': 1, 'https://t.co/ul8fcuREuu': 1, '@max_pen1': 1, 'Maman': 1, '#pandora': 1, '@theohurts': 1, 'Cheung': 1, 'siddi': 1, 'http://t.co/TWLbiIbhUe': 1, 'Oxford': 1, 'http://t.co/qIF9AyAlkc': 1, '💅': 1, 'mechanics': 1, '@Littlehempston': 1, 'troll': 1, '@dantoml': 1, 'fams': 1, 'AmassiveoverdoseofshipS': 1, 'responsibilty': 1, '@OfficialKeanu': 1, '@SkidKidd': 1, 'Pubcast': 1, 'surry': 1, 'Tour': 1, '@syedmohdjunaid': 1, '@gregpiskosz': 1, '@BigWokBham': 1, '@murtishaw': 1, 'Wacky': 1, 'wwoooo': 1, '#lovenafianna': 1, 'kinickers': 1, 'Amsterdam': 1, '@rjc_archives': 1, '@fhatiegeeeee': 1, '#Concert': 1, 'superb': 1, '@szekifer': 1, 'HIS': 1, 'yum': 1, 'Katie': 1, 'http://t.co/Q3SZG3brj9': 1, 'Ugh': 1, '@Dodi_Behiri': 1, '15000': 1, '@extinctlwt': 1, 'mnwreeen': 1, 'V': 1, '#TDIF': 1, 'canopy': 1, 'https://t.co/4rNoGpudcX': 1, '@NEBytes': 1, 'Contectually': 1, 'favorable': 1, 'barkkkkkkkiiideee': 1, 'ooze': 1, 'Pines': 1, '@AnneHole': 1, '@trevorbeatsdrum': 1, '@IGDAScotland': 1, '@WoahMitchel': 1, 'pampering': 1, 'areal': 1, 'Business': 1, '@kolydka': 1, 'x32': 1, '#TI5': 1, 'weed': 1, 'http://t.co/WYEE7cbqOZ': 1, '@OrangeKenya': 1, 'http://t.co/1n5ZfAqYYZ': 1, '@emericskyrock': 1, 'dubbed': 1, 'http://t.co/cGyXtUOirt': 1, 'holder': 1, 'Luffs': 1, 'http://t.co/ySQkhNDo2B': 1, 'http://t.co/Tl4Hj7Pb8u': 1, '@StartupLJackson': 1, '@beerandbaking': 1, '@KimberlyKWyatt': 1, '@ice_crystal': 1, 'fucker': 1, 'screenshotting': 1, '#fail2ban': 1, '0330 333 7234': 1, 'TRULY': 1, 'Alternatively': 1, 'barcode': 1, '#KaribuMombasa': 1, 'https://t.co/HxV8GFvqHD': 1, 'Immigrant': 1, 'http://t.co/zBZvXC0v5y': 1, 'damage': 1, '@lindyrendy': 1, '#VoteJKT48ID': 1, '#ONAIR': 1, 'Derek': 1, 'AJ': 1, 'writes': 1, '@awkwardxnjh': 1, 'heels': 1, 'Fish': 1, 'ease': 1, 'cantik': 1, '@Roooosta': 1, '@NJES44': 1, '@TimModise': 1, '@daniameows': 1, 'sigh': 1, 'ik': 1, 'http://t.co/6QRbnfXZG7': 1, '@LambyPhonics': 1, 'finishing': 1, '@tracychua16': 1, 'storms': 1, 'http://t.co/HUoq4txhmb': 1, 'helloooo': 1, 'horse': 1, '#MemoToHaters': 1, '@DancingSakura': 1, 'jaann': 1, '@FraserNelson': 1, 'http://t.co/nrqNiBm7Ks': 1, 'Carly': 1, 'Doh': 1, 'La': 1, '@LukeDAnello': 1, 'Abhi': 1, '@begbie4017': 1, 'alternatives': 1, '@Arean91': 1, '@JosefinUtas': 1, 'abs': 1, '@JadeTheMong': 1, '@evilbluebird': 1, 'Course': 1, '#WSaleLOve': 1, 'http://t.co/88Z4dcqJSf': 1, 'dangerous': 1, 'Impressive': 1, 'https://t.co/HQl4NjOeSh': 1, '@naqvisahab1': 1, '@purehaire': 1, 'Celebration': 1, '@TheTideNL': 1, 'Natsuki': 1, 'voices': 1, 'Foto': 1, 'Finding': 1, '@Bespoke_Bride': 1, 'appreciating': 1, 'HAIRED': 1, 'Owwww': 1, 'Shweta': 1, '@helvellyn': 1, 'http://t.co/uimhgcmIDk': 1, 'By': 1, '@scousebabe888': 1, '@Leehi_xx': 1, 'Ewok': 1, '@UCLGlobalHealth': 1, 'Squad': 1, 'Siddique': 1, '@scimadesimple': 1, 'http://t.co/ZuvvBbxiMR': 1, 'ignore': 1, 'ISP': 1, 'Dry': 1, 'Turkey': 1, 'http://t.co/DF1aXAAzg2': 1, 'Fixing': 1, 'FRONT': 1, 'Super-Blend': 1, '@mikesouthcott': 1, 'https://t.co/l38a8bAd4z': 1, 'abit': 1, '@love_belfast': 1, '#talk': 1, 'mca': 1, '@niamhie_c': 1, '@MegAnDrewsGlobe': 1, 'http://t.co/joEpeCsq29': 1, '@nafsalon': 1, '#chocolate': 1, '@VegPlotPeach': 1, '@ClearlyArticle': 1, '@bobbyllew': 1, '@EdgarsLame': 1, 'Teasers': 1, 'ISO': 1, 'Boat': 1, 'Naaahhh': 1, 'http://t.co/Rp4jrbK9eS': 1, 'Hmmmm': 1, 'butterfly': 1, 'Esai': 1, '@_bleh09': 1, 'https://t.co/TRoroeS4FK': 1, '@ashtonboyf': 1, '@coolkidsftnjh': 1, '@ilian428cade': 1, '@B_Madhura': 1, 'Lsa': 1, '@Zampakid': 1, '@mattghouse': 1, '@IamPatmae_': 1, '190cr': 1, 'https://t.co/1CcpcLlzic': 1, 'promos': 1, '@iloveseika': 1, 'http://t.co/pVzUoAaPIO': 1, '@runabove': 1, 'choker': 1, '@ReemaBehl': 1, 'http://t.co/8vAYzUGK9p': 1, 'Supernatural': 1, 'interaction': 1, '#Pti': 1, '@somanygods': 1, 'https://t.co/LD6CXQyKwI': 1, 'Quite': 1, '@HollyyLive': 1, 'Ellen': 1, 'bones': 1, 'http://t.co/soYERf64cz': 1, 'loveliness': 1, '@GEM_Business67': 1, '@PaulBongiorno': 1, '@Diane_Delsigthis': 1, '@pbFeed': 1, '@ellefie': 1, 'Field': 1, 'zzz': 1, '@FedericoPistono': 1, 'meaningless': 1, '@ArcaneToaster': 1, '#VeryLateRealisation': 1, '#countrymusic': 1, 'LoVe': 1, '@daydreamlwt': 1, 'Ideas': 1, '79x': 1, '@sagar_meenakshi': 1, 'http://t.co/lEVViELaRV': 1, 'dang': 1, '@Nobicate': 1, 'gujarat': 1, '13glodyysbro': 1, 'losing': 1, 'http://t.co/859XGmZ1W9': 1, '@_donutbethers_': 1, 'A6': 1, 'Phew': 1, '@StepintolifeYvl': 1, '@cabbyyyy': 1, 'Pita': 1, 'Titanfall': 1, '@racheyra': 1, 'airline': 1, 'yippppy': 1, '@xhebenkewu_9920': 1, 'precious': 1, 'Play': 1, '@Amm_Kelly': 1, 'gracious': 1, 'https://t.co/teLnqw7vMR': 1, 'Enji': 1, 'stalk': 1, '@BrilliantMaps': 1, '@Author_Patty': 1, 'blockchain': 1, 'http://t.co/nL6lkRIE26': 1, 'loan': 1, '@LeinadDOP80': 1, '@valentinecakes': 1, 'TATTOO': 1, '@Twitch': 1, 'squats': 1, '@VaibhavVj78': 1, 'Ebay': 1, 'https://t.co/n5N8XWYLXZ': 1, 'MOST': 1, 'postive': 1, '@RyanSeacrest': 1, 'Street': 1, '@r77ank': 1, 'https://t.co/k75kPT0aq1': 1, 'hediye': 1, '#nba': 1, 'bending': 1, 'https://t.co/BeXVWh7zIR': 1, 'BlEss': 1, 'downloading': 1, 'Trusting': 1, '@ItsLukeEv': 1, 'favs': 1, '@Smiling_Girly_': 1, 'Wherever': 1, '@melcsy1': 1, '@zachatrocity': 1, 'cleared': 1, 'english': 1, '@JoussotFrench_J': 1, 'https://t.co/KfLhKQfwho': 1, '@brtoon': 1, '@mbukmagazine': 1, '@BondedByBlood2': 1, 'welcoming': 1, 'friendship': 1, '@Acsxy': 1, 'yeaaaah': 1, 'geekiest': 1, 'hanbin': 1, 'snooker': 1, 'Sheffield': 1, 'oppose': 1, '#thistles': 1, '@MyRhodia': 1, '@kevens': 1, 'spiced': 1, 'DEW': 1, '@brook_food': 1, 'Skyblock': 1, \"Isn't\": 1, 'https://t.co/q352NTLbXH': 1, '@TONELOC101': 1, '#mornings': 1, 'https://t.co/smyYriipxI': 1, 'Janjua': 1, 'netizen': 1, 'messages': 1, 'wot': 1, '13.99': 1, 'clip': 1, 'Net': 1, 'https://t.co/HLkgHwatJM': 1, '#ForeverAlone': 1, '@affan24': 1, '@Dilbert_Daily': 1, 'das': 1, 'Nath': 1, '@PacketSmuggler': 1, '@miccoelaine': 1, '@NASA': 1, 'x34': 1, 'x2': 1, 'regional': 1, 'http://t.co/qubzNJbu1L': 1, 'rewatches': 1, '@Movieespeech': 1, 'BBB': 1, 'password': 1, 'http://t.co/WCuHrpnFDK': 1, 'stones': 1, 'http://t.co/CEMZLpGaHD': 1, 'http://t.co/ihELksfJjT': 1, '@OSWreview': 1, 'paste': 1, '@vaalthepal': 1, '3am': 1, 'Pearl': 1, '@onlynewfaces': 1, 'assholes': 1, '#sexy': 1, 'accepted': 1, 'roomie': 1, '@RetroGamerProbs': 1, 'Yael': 1, '@CCI_95': 1, 'Sonal': 1, '@nbc': 1, 'provoking': 1, 'http://t.co/bosrrkB3JU': 1, '@carmenkvarnen': 1, '@MattPascual': 1, \"doido's\": 1, 'duke': 1, 'Kitchen': 1, '#ganesha': 1, '@periscopeco': 1, 'https://t.co/wx7yRrE7sV': 1, 'amusement': 1, '@matt_jakubowski': 1, '@ShaggyCoe': 1, 'bea': 1, 'Coffee': 1, 'Bar': 1, '#funny': 1, 'SCREAMING': 1, 'GAME': 1, 'psp': 1, 'hitter': 1, '#standwdIk': 1, 'Christ': 1, 'peeled': 1, '@mrshelenmoon': 1, '@TheFieldhouseCa': 1, '@SydHillsChamber': 1, 'liquid': 1, '0272 3306': 1, '@SazzylSquires': 1, '@Hired_NYC': 1, 'http://t.co/KgxN7YXRhm': 1, '@MacatangayApril': 1, 'anghel': 1, '@WindowsInd': 1, 'male': 1, 'http://t.co/Smqz6YKvEc': 1, '@JEDIEV11': 1, 'widely': 1, '@HIT_LondonCity': 1, 'aplomb': 1, 'mah': 1, 'cd': 1, '@write2kill': 1, 'bushes': 1, 'https://t.co/HL0Fw8msf1': 1, 'T-shirt': 1, '@Iron_Vein': 1, '@jonny_ives': 1, '#ThirstQuencher': 1, '@TheLondonDeliCo': 1, '#BREWproject': 1, 'x23': 1, 'coaster': 1, '#melbourneburgers': 1, '#happycustomers': 1, '@britishankles': 1, '@NabilahJKT48': 1, '#DreamTeam': 1, 'ITV': 1, 'batman': 1, 'Modi': 1, '#Birthday': 1, 'paindo': 1, 'spilled': 1, 'Yeeew': 1, 'https://t.co/deNyWenYXW': 1, 'Huh': 1, '@ashtonparsonsuk': 1, 'dope': 1, 'http://t.co/bbm7A6FlXd': 1, 'http://t.co/DGiqiOR63a': 1, 'Noe': 1, '@BeckettandCo': 1, 'choke': 1, '@MarreyJewAna': 1, 'ChanHun': 1, '#tracerequest': 1, 'wooo': 1, 'covers': 1, '@anujkg25': 1, '#NotHavingit': 1, '@drewdixon82': 1, '@shawshanck': 1, '@StupidFaceRob': 1, 'http://t.co/pQ6h7jEKvk': 1, 'http://t.co/RsCxtwKaeI': 1, 'differ': 1, '4my': 1, '@SuttonObserver': 1, 'thunderstorms': 1, 'promotional': 1, '87': 1, 'stationary': 1, '@Jack_Septic_Eye': 1, 'laying': 1, 'Goodafternoon': 1, 'accessories': 1, 'multiracial': 1, '@AndyCCochrane': 1, '@Pseudony_Ms': 1, 'attitudes': 1, 'scamper': 1, '@elmobenguan': 1, '@khenderson004': 1, 'Forever': 1, '@ijn_mikky': 1, 'reached': 1, '#trailblazerhonors': 1, 'PHASE': 1, 'selamat': 1, '@mtn8': 1, 'swore': 1, \"weekend's\": 1, 'hawk': 1, '@LouosaurusRex': 1, 'Monica': 1, 'Step': 1, '@IonSwitz': 1, '@Mokhenerale': 1, 'boot': 1, 'yuppiieee': 1, 'https://t.co/R9soIqZXYZ': 1, 'Pamuk': 1, 'sikandar': 1, '#blog': 1, '@hinanRana': 1, '@fairmnt': 1, '@Kalangitan': 1, 'scale': 1, 'repeated': 1, '#DrinkitAllup': 1, '@czagnzls': 1, '@Jamies_Universe': 1, 'Merdeka': 1, 'https://t.co/5pL57HsT53': 1, 'datz': 1, '@BsquaredGaming': 1, '@psycothichar': 1, '@_tmazur': 1, 'pattern': 1, 'Awwhh': 1, '@SirenCraftBrew': 1, 'http://t.co/HphRTT6IQZ': 1, 'conversational': 1, 'Lil': 1, 're-watch': 1, 'ank': 1, '@Rekhakakkar': 1, 'http://t.co/D7zK1MWgh3': 1, '@gkm86': 1, '@Thabang53214134': 1, 'Baz': 1, 'birth': 1, 'promising': 1, 'offline': 1, 'lor': 1, 'TRIP': 1, '@MMNNActionUK': 1, 'ATE': 1, '@AnimalStudio1': 1, 'maaf': 1, 'highest': 1, 'ohaha': 1, 'curry': 1, 'elephants': 1, 'artsy': 1, '@F41rygirl': 1, '@AnjeTruter': 1, '@johngutierrez1': 1, 'Nash': 1, 'goictived': 1, 'Singer': 1, 'Email': 1, '@eminem': 1, 'groupie': 1, 'Jozi': 1, '@KrustyAllslopp': 1, '@AnouilhUK': 1, 'adult': 1, 'breaks': 1, '@kassi_grace': 1, '4/5': 1, '@storrmin571': 1, '@IAmDaniel0': 1, 'COOKIE': 1, '#MyPapaMyPride': 1, '@amorecrudele': 1, 'deal': 1, '@agnieszka007': 1, 'http://t.co/47xACbrmCc': 1, 'EMC': 1, 'http://t.co/a5rmka5axn': 1, 'roses': 1, 'leads': 1, 'https://t.co/K4loJtj3Nn': 1, '@lzethu01': 1, 'http://t.co/tsgn8eW0As': 1, '@megan_410': 1, 'circle': 1, \"attitude's\": 1, 'milks': 1, '@rachelburden': 1, 'improvement': 1, '@AstFtMarv': 1, 'League': 1, 'http://t.co/dRArgTzKeh': 1, 'shirts': 1, 'GET': 1, 'offshoring': 1, '😛': 1, '#scotlandismassive': 1, 'nex': 1, '150': 1, '@PCDKirkwood': 1, '@mariaburtea': 1, '@JediOMG': 1, 'beagles': 1, '@yerinkid_': 1, 'ardent': 1, 'Arre': 1, '@seggaeelives': 1, '@agulalanlar': 1, 'eff': 1, '@hydrcted': 1, '@FallenSagaEn': 1, 'lighter': 1, 'destroying': 1, 'Custard': 1, '@mmatto72': 1, 'FUCKING': 1, 'Bollinger': 1, 'balik': 1, 'emulation': 1, 'Mubank': 1, 'Annyeong': 1, '268': 1, 'ASAP': 1, '@sophieintsticks': 1, 'http://t.co/zJmOmpx7iv': 1, \"Da'esh\": 1, '@OracleMidlands': 1, 'https://t.co/jRfJTDSeqc': 1, 'Yūjō-Cosplay': 1, '@RichardDawkins': 1, 'https://t.co/7p76oJswBV': 1, '@lazariWilliams': 1, 'albums': 1, 'fully': 1, '@stuhlinho': 1, 'http://t.co/N5nOp3FfnX': 1, '@BBC3CR': 1, '@JayHorwell': 1, '@TurkishAirlines': 1, 'unfortunate': 1, '@rizz_javaid': 1, '@leomanaids_': 1, '#birthdaygirl': 1, 'heritage': 1, '#phonesex': 1, '#Borderlands': 1, 'volcano': 1, '#FightStickFriday': 1, 'angel': 1, 'hes': 1, 'http://t.co/Dg3wJiZdLP': 1, 'hang-copying': 1, 'restricted': 1, '⅛': 1, 'blowing': 1, '@UPCIreland': 1, 'Ideal': 1, '@HungryLionSA': 1, '@wordpressdotcom': 1, 'x8': 1, 'pardon': 1, 'manifestations': 1, '@rhutapatil': 1, 'Moose': 1, 'http://t.co/a8T615ezFa': 1, 'xxxibmchll': 1, 'doc': 1, 'https://t.co/4A6FPOTIlv': 1, '@TheEconomist': 1, '@TRANSTV_CORP': 1, 'Greg': 1, 'WTF': 1, 'sweety': 1, 'apologizing': 1, 'https://t.co/Y21tv7APVO': 1, '@vtothepowerof2': 1, '#Backflip': 1, 'Eid': 1, 'john@timney.eclipse.co.uk': 1, 'fishing': 1, '@Shenali_t': 1, '@absoluteradio': 1, '@ericszmanda': 1, 'http://t.co/lb9ZNmCqgT': 1, 'Gwinett': 1, '@TnmntTiles': 1, '#pierojogger': 1, '@ThessaNaomi': 1, '@velveteenrabbi': 1, 'paired': 1, 'Havent': 1, 'GM': 1, 'https://t.co/gGs070b6BH': 1, 'http://t.co/wMvhbmp7um': 1, 'obstacles': 1, '624': 1, 'MAY': 1, 'surajettan': 1, 'gain': 1, '@velvetpIant': 1, '@Neo_Einstein': 1, '@Corbyn4Leader': 1, '#enjoy': 1, 'cider': 1, '@Jiaqiwoo': 1, '@Chelt52': 1, 'refreshed': 1, 'omegle': 1, 'ngucapinnya': 1, '@john_consult': 1, '@_Lishielou908_': 1, 'http://t.co/cOwsS5v5oY': 1, 'u21': 1, 'Determined': 1, '@3princess_1dude': 1, '#Phone': 1, \"Wasn't\": 1, 'Discovered': 1, 'kino': 1, '#moviemarathon': 1, '@LuiisaAmadoo': 1, '#tb': 1, '@MrsFarmerCookie': 1, 'ffs': 1, 'Building': 1, '#ocean': 1, 'isabella': 1, '@Helimed53': 1, '@sadcuddleashton': 1, '@GH813600': 1, '@IrlyanaVL': 1, 'SLEEPING': 1, '#couscous': 1, 'tech': 1, 'Wahoo': 1, '@NithinnMurgaa': 1, 'Andals': 1, '@melaniemorris': 1, 'hat': 1, '@MinseokBr': 1, '@JohnTorode1': 1, 'goal': 1, '#skoy': 1, '@aj_cfc2': 1, 'Benson': 1, 'concerned': 1, '#july24th': 1, '@InFaMonstah': 1, '@javeedna': 1, '@MonicaTerryEM': 1, '🐶': 1, 'Dusty': 1, '@leebsfc11': 1, '@abcdiagnosis': 1, '@UnboxTherapy': 1, 'troye': 1, '@CjayBlanco': 1, 'AZ': 1, 'Valls': 1, '#BajrangiBhaijaanStorm': 1, 'https://t.co/7DC0LU3j9k': 1, '94': 1, '@Taitamco': 1, '@madeciyuu': 1, 'Lion': 1, 'Voucher': 1, 'replying': 1, 'improve': 1, '@aqui_fr': 1, 'Tyler': 1, '@abnerdacon': 1, '@Tricia701': 1, 'marvellous': 1, 'Mist': 1, '@jaimestein': 1, 'Name': 1, '#GoodNight': 1, '@PennyNevilleLee': 1, '#HaileyHelps': 1, 'grandpa': 1, '@GBCookBook': 1, '@aprilburton21': 1, '@Sharonmuskebear': 1, '#ttctop': 1, 'http://t.co/srAoxZxJMr': 1, '@PrestigeDiesels': 1, '@CSYDIH': 1, '#ashramcalling': 1, 'bug': 1, '@jakface_mcgee': 1, 'server': 1, '@theroyalfactor': 1, 'https://t.co/F75o6874uE': 1, 'Delhi': 1, '30July': 1, 'encourage': 1, 'assignment': 1, 'malfunctioning': 1, 'YEAP': 1, 'http://t.co/x4FpGLudE5': 1, 'Soul': 1, 'ends': 1, '@VivianBloom': 1, 'closer': 1, '@Davealwalker': 1, 'sufferers': 1, '@AceAlemania': 1, 'TGV': 1, '@Nezhira': 1, '#FridayLouge': 1, 'WANT': 1, 'detail': 1, '@martymccarthy1': 1, '#Flippin': 1, '@TranceAttack': 1, '@JoeGardiner5': 1, 'HAHAHAHAHA': 1, '@janesgravity': 1, 'http://t.co/F8V3McI39e': 1, 'Kesa': 1, 'Christen': 1, '23': 1, '#reading': 1, 'http://t.co/wKpgkiDEmP': 1, '#soul': 1, 'Content': 1, 'clutching': 1, 'borrow': 1, '@rizwanism': 1, '@Nidakhan_': 1, 'http://t.co/IGg9sNMM1O': 1, '@OdellSchwarzeJG': 1, 'attend': 1, '@goldenpaulson': 1, 'gender': 1, '76x': 1, '@memorablezayn': 1, 'supermarkets': 1, '@RoyalMail': 1, '@Andrew_Murray91': 1, 'Prescott': 1, 'https://t.co/BxqZP6MXgr': 1, '@awad_gina': 1, 'Spray': 1, '@MikeDuffy_20': 1, 'Choo': 1, '@nickgerig': 1, '@Bonsplansblog': 1, 'criticised': 1, 'tipped': 1, 'what-is-your-fashionality': 1, '@shaz_england': 1, 'Nicholas': 1, 'creaking': 1, 'bitches': 1, '@Kelyias': 1, '@mazt_t': 1, '@jawad_sharief': 1, 'http://t.co/Ioj5YzNRwu': 1, 'PART': 1, 'Natural': 1, '@pinKixX44': 1, '@RamblinManFair': 1, 'https://t.co/F7oS1h3Alz': 1, 'Gudday': 1, 'lap': 1, 'Solo': 1, 'Officially': 1, 'lists': 1, 'WHSmith': 1, '@fergieweather': 1, 'Glenn': 1, 'Finnigan': 1, 'Months': 1, 'Refreshing': 1, 'afterall': 1, '@qjnmh': 1, 'overwhelmed': 1, '@bjoernknafla': 1, '#FashionFriday': 1, 'equipment': 1, '95': 1, 'Filming': 1, 'https://t.co/UaAjJIsNLk': 1, 'Thurs': 1, '@cthblink182': 1, 'http://t.co/BPl4vWRgPU': 1, 'HSR': 1, 'timezones': 1, 'kindled': 1, '@Mathpro314': 1, 'obvs': 1, '#IfIMeetAnAlien': 1, '@SonyMAX': 1, '@HayliNic': 1, 'useful': 1, '@BradsPR': 1, 'http://t.co/8EDHMc2tiJ': 1, 'http://t.co/iRH0F3yvXU': 1, '@Arsenal': 1, 'http://t.co/Eh5pSfOOYJ': 1, '@Jesutomisin': 1, '@TraumaJunkie50': 1, 'sends': 1, '891': 1, '@6abc': 1, 'Zaine': 1, 'seafood': 1, 'hippo': 1, 'continue': 1, '@ShaymcSharon': 1, 'insidious': 1, 'Visual': 1, 'Kuching': 1, '#farm': 1, '@thespringsteens': 1, 'tribute': 1, 'Gatorade': 1, '@SebPoGo': 1, 'supposedly': 1, '😎': 1, '#Airforce': 1, 'http://t.co/cY5cBHOeVQ': 1, '#fun': 1, 'based': 1, 'http://t.co/ASE1uj9byB': 1, '#pbloggers': 1, '@CoralKeers': 1, 'T-shirts': 1, 'meoooowwww': 1, 'Khalifa': 1, 'counts': 1, 'Application': 1, 'http://t.co/u73W4nOsjt': 1, '@SaracenConsult': 1, 'TOURNAMENT': 1, '@AprilHV': 1, '@doaeventprof': 1, '0-100': 1, 'Growing': 1, 'http://t.co/AeQelim2C8': 1, '@GetOutKids': 1, 'ex-twelebs': 1, 'Airforce': 1, '@NutzAudio': 1, 'closest': 1, '#LeloMustFall': 1, '@ChloeGMoretz': 1, 'talkback': 1, '@1234Mania': 1, '@sabahulhaq': 1, '975-580-4444': 1, '@AddyOliver96': 1, '@casslovesdrake': 1, '@Defense_gouv': 1, '15ml': 1, 'weebly': 1, 'South': 1, '@bachovski': 1, 'http://t.co/ejDalpfixn': 1, 'undead': 1, 'http://t.co/sDYs6kx2um': 1, '@_cruuzzy': 1, 'Vantastic': 1, '@InterfloraUK': 1, 'tweeties': 1, '@Cecilie_Hell': 1, 'godbless': 1, '@FarmersOfTheUK': 1, 'yummy': 1, '@BittenOxford': 1, '@LMuseums': 1, 'invoices': 1, 'Ooh': 1, 'pchelok': 1, 'Ily': 1, '@toots069': 1, 'tom': 1, 'LSceens': 1, '@LeRoiHaptalon': 1, '#milf': 1, 'climbed': 1, '@TvilleSocialMed': 1, 'ensure': 1, '@kkimseolh': 1, 'Seeing': 1, 'Notes': 1, '@Streetzine': 1, '@ARealSnake': 1, '@IPSroofing': 1, 'lils': 1, 'print': 1, '#BirthdayMonth': 1, 'Jazz': 1, 'HuHa': 1, 'claim': 1, '@jungleecom': 1, '#horses': 1, 'Harrogate': 1, '@GarbiMuguruza': 1, 'exploring': 1, '@JockSafari': 1, '21pics': 1, '@KtSheeps': 1, 'Bonasio': 1, 'http://t.co/b4DG6lADgI': 1, 'eighteen': 1, '@taliagarcia__': 1, '@CenasAkua': 1, '@oktrdt': 1, 'http://t.co/dunT1DuopC': 1, '@SocialitePanda': 1, 'ridden': 1, 'Newly': 1, 'admin': 1, '009': 1, '@MemphisMusical': 1, 'Nextweek': 1, 'http://t.co/DWFUfPcfrb': 1, 'Najam': 1, 'NEED': 1, 'Thur': 1, '@markbowthai': 1, '@Blessings2050': 1, 'management': 1, '@shyayen': 1, 'hahahahaha': 1, 'south': 1, 'Debbie': 1, '@FatPrincess2015': 1, '@raydio2': 1, '@dannyprol': 1, '@pannusf10': 1, '@awksungjaesey': 1, 'https://t.co/yRlT7jltqP': 1, '@KimbleFrench': 1, 'http://t.co/nfDSHggVV7': 1, '@coffeebreak22': 1, '@egaroo': 1, 'outtake': 1, '@WeAlwaysChillin': 1, 'Excellent': 1, '#NewBlogPost': 1, 'holds': 1, 'critiques': 1, '27July': 1, 'guise': 1, 'Miami': 1, '@EnglebertKo': 1, 'Paper': 1, '@KaReeMLSheNawY': 1, 'sopranos': 1, 'intro': 1, 'stamina': 1, 'guessing': 1, '@jrxmrcd': 1, 'explains': 1, '@SoldHerSoul': 1, '@DrVictoriaG': 1, 'unnieeee': 1, '#travel': 1, '@bikechainricci': 1, 'hood': 1, 'Color': 1, 'TANDEM': 1, '#foreveralone': 1, '@EllinorKronsell': 1, 'olur': 1, 'DonE': 1, 'spin': 1, 'VEGAS': 1, 'brief': 1, '#newmusic': 1, '@ChanPerco': 1, '@RenboySA': 1, '@HelpingGroupDms': 1, 'sighs': 1, 'Yesha': 1, '@LavenderPinks': 1, '@AndreyRussia33': 1, '@NATSPressOffice': 1, 'Tulane': 1, '6_Siwonie': 1, 'GANG': 1, '@pilatesbodynyc': 1, '@anniesk244': 1, '@Rl191459Alex': 1, 'Dartmoor': 1, '@paulmaxey': 1, 'http://t.co/p5dAKaodMx': 1, 'aimed': 1, '@loopyrach': 1, 'R2D2': 1, '@Rosebud_Blush': 1, 'http://t.co/R7wAe3ujbQ': 1, 'rarer': 1, 'Drop': 1, '#QatarDay': 1, '@XxGoodGoddessxX': 1, '@sehunshinedaily': 1, '@HarNiLiZaLouis': 1, 'practice': 1, '#credits': 1, 'NC': 1, '@OFCPangakoSayo': 1, '@Intoxicationall': 1, '@sellosekhobela': 1, 'http://t.co/hR3NFHrO4J': 1, '@MichelBauza': 1, '🌚': 1, '@lindseyasuer': 1, '@heydonworks': 1, '15e': 1, 'refollow': 1, 'http://t.co/dx6w0lG7JM': 1, '@danisnotonfire': 1, 'photobomb': 1, 'CrAźY': 1, 'lega': 1, '@alexxdouglas': 1, 'awh': 1, 'Farbridges': 1, '@BahiHonTera': 1, 'jacob': 1, '#cumshot': 1, 'hole': 1, '@colorlessmoemoe': 1, '@jaynehh_': 1, '@PeterLawrey': 1, '@FrankHuntLondon': 1, '#NCAASeason91': 1, 'action': 1, 'setup': 1, 'android': 1, 'http://t.co/AGiLlxJdbi': 1, '#LoveU': 1, '@unborngirl': 1, '@Taaliah76': 1, '#BCYC': 1, '@KayOddone': 1, 'oooooooooohh': 1, 'africa': 1, 'Aaaahhh': 1, '@ashleelynda': 1, '@intentionshigh': 1, '@boonearth': 1, '@ignitionphoto': 1, 'Answering': 1, 'Birmingham': 1, 'pair': 1, 'harryxhood': 1, 'http://t.co/1KBdSVNnnL': 1, 'bless': 1, 'dating': 1, 'https://t.co/humtC1tr3I': 1, '@ShadEO9': 1, \"littl'uns\": 1, '@dennislami': 1, 'submission': 1, '@PhilpottsLtd': 1, 'Sums': 1, '@TheVerzarian': 1, 'Carmel': 1, '@ChaSilveo': 1, '@Diekno26': 1, 'http://t.co/PTI3r1rLDg': 1, '@ThatGuyBarney': 1, '@caitiiiii': 1, 'constant': 1, '@feliciaday': 1, '@lhiz001': 1, 'Hpc': 1, 'utube': 1, '@vie_vanda': 1, 'happys': 1, 'ABT': 1, 'http://t.co/cxqFa4uCWu': 1, 'hotee-my': 1, 'epiphany': 1, '@Bschefacademy': 1, 'emon': 1, 'Bob': 1, 'Mauryas': 1, 'Michelle': 1, 'infographic': 1, 'whose': 1, 'tweeted': 1, 'H': 1, '@kchipongian': 1, 'http://t.co/JruoM8s53X': 1, '@AlexCarranza21': 1, 'Couscous': 1, '@DescentHypnosis': 1, 'transparent': 1, 'ParkShare': 1, 'batch': 1, 'Andar': 1, 'cases': 1, '@UNAPCTT': 1, '@allygrrdo': 1, 'sounding': 1, 'Burnout': 1, '@Kgotsoab': 1, 'selos': 1, 'brb': 1, 'TweetLand': 1, 'shares': 1, 'property': 1, '@EssexMediation': 1, '@gurmeetramrahim': 1, '@mtnza': 1, '@miss__rizzy': 1, 'Dough': 1, 'sc': 1, 'msg': 1, '@vespera9': 1, 'LITERALLY': 1, 'Homey': 1, 'yeahh': 1, '@LARRYNGTONDO': 1, 'national': 1, '@ssxngji': 1, '@appveyor': 1, 'switch': 1, '@sulpa_aiden': 1, '@farrukhzx': 1, 'applies': 1, '@royjohnwatts': 1, '@bedfordcollege': 1, '@CharlFourie': 1, '@IcelandFoods': 1, 'moved': 1, \"Ain't\": 1, 'http://t.co/T0WI8giNeb': 1, 'walls': 1, 'distrubed': 1, 'x45': 1, '@JBSCompanyStore': 1, '@LowBatteryDC': 1, 'luke': 1, 'slacking': 1, '@dheracing': 1, 'Tricky': 1, '@taprichai': 1, 'earthling': 1, 'bir': 1, 'honeymoon': 1, '@KINGT0MLINS0N': 1, '@Aiteee1': 1, '@elevents2': 1, '@KingCuh': 1, '@sureshbabu_': 1, 'Hall': 1, '@alixstone': 1, '@DotNetSolutions': 1, 'Sethi': 1, '@MSLJim': 1, 'tacos': 1, 'lockscreen': 1, '@whedonesque': 1, 'MEAN': 1, 'dept': 1, '@Michdabitch_': 1, '24/25': 1, '@planetjedward': 1, '@zouiriaII': 1, '@KChenoweth': 1, '#luxurytravel': 1, 'Lady': 1, 'Towering': 1, '@nechantya': 1, 'thrilled': 1, 'madam': 1, 'medium': 1, 'logging': 1, '@Mburu__': 1, 'Minds': 1, '@aazem27': 1, 'pokiri': 1, 'Kath': 1, '@GuiseGemma': 1, '@MammaRajSays': 1, 'icon': 1, '@KennyFarq': 1, 'dirt': 1, 'MISTY': 1, '@constantramble': 1, '@Nkour34Dil': 1, 'YOu': 1, 'annoyingbaby': 1, '@jjulieredburn': 1, 'Updated': 1, '@DutchM882': 1, '@AcneSkinSite': 1, '@UmmJihad1': 1, 'vibrant': 1, 'Carter': 1, '@TheShreddingA': 1, 'boughy': 1, 'Starts': 1, '@nicholin90': 1, 'https://t.co/3tfYom0N1i': 1, '@dhinakaranjbraj': 1, '@ta_radio1035': 1, 'AWESOME-O': 1, 'CC': 1, '@MSportLtd': 1, 'reliever': 1, '@inkfunnel': 1, '#ThoughtForTheDay': 1, 'http://t.co/WhkcOoWh39': 1, '@Bright_Group': 1, 'hrs': 1, 'LOST': 1, 'masterpiece': 1, 'yun': 1, 'WOW': 1, '@chigginjones': 1, 'opposite': 1, '78x': 1, 'rocking': 1, '@roma_cream': 1, 'https://t.co/T6ZCo4NxDG': 1, 'suave': 1, '@themaddiebruce': 1, 'x18': 1, 'after-work': 1, 'Started': 1, '#JensenAckles': 1, '#SOAmazing': 1, 'sonically': 1, 'Soooo': 1, '@CapeLondonWine': 1, 'milte': 1, '@Memz_Dogi': 1, '@_kairoline': 1, '@TaylerBrayden': 1, 'Tapir': 1, '@PREMIERHOMESTX': 1, 'confused': 1, 'rainy': 1, '@ForTaoBR': 1, '@NBCUniversal': 1, '@jvsshow': 1, 'Justin': 1, '@twomeanyoung': 1, 'IndiraG': 1, '#BarsoStay': 1, 'chalut': 1, 'differences': 1, '@blackreign8': 1, '@OldManGamin72': 1, 'roads': 1, 'http://t.co/6rA4ZlpjO9': 1, '@nandabes': 1, 'http://t.co/jDGtfb3VVE': 1, 'Cat': 1, 'Gotcha': 1, 'https://t.co/VxnsjOVZdm': 1, 'http://t.co/ul8MARDfhm': 1, 'stem': 1, '@ReadingLibDems': 1, 'Education': 1, 'AA': 1, 'Goood': 1, 'suffered': 1, 'Gemma': 1, 'WHY': 1, '@ImJustKindle': 1, '@derabbie': 1, '#quiz': 1, 'http://t.co/X31Iw7dile': 1, 'halsey': 1, '@roofyuna': 1, '@tomfooled': 1, '@1Erre': 1, \"look's\": 1, 'Wahahaah': 1, 'Arrival': 1, '@Khadija_Batool': 1, '@CCI_92': 1, '@ErinMonzon': 1, 'Bowling': 1, '@JWGrieve': 1, '@BoboBuddies': 1, '@DrCurlytek': 1, '@pulkitpoddar1': 1, 'ब': 1, 'workouts': 1, '@thatguycalledP': 1, 'Burketeer': 1, 'Martin': 1, 'muchhh': 1, 'http://t.co/S0IiU35MWw': 1, 'jogging': 1, '@Mish23615351': 1, '@vyroh20_': 1, 'x11': 1, '@_ayeayecaptain': 1, 'Become': 1, 'gail': 1, '#musicology2015': 1, 'yu': 1, 'printing': 1, '@mulanbilqis': 1, 'Machine': 1, 'Fix': 1, 'pairing': 1, '@Ashton5SOS': 1, 'bruise': 1, 'CinePambata': 1, 'contemplating': 1, \"Women's\": 1, '@DunnettCentral': 1, '@Azizsm_': 1, 'Neon': 1, 'son': 1, '@CHSW': 1, '@dumisani371': 1, 'Shopping': 1, '@burwellitltd': 1, '@miceal': 1, 'http://t.co/UAIOTsdqvG': 1, 'Mr2': 1, '@bng_ynggk': 1, '@Sanza_T': 1, '@pauarmst': 1, 'punta': 1, 'http://t.co/AhbhLTjYzY': 1, '#portugal2015': 1, '@TheSYLEPress': 1, 'desire': 1, 'orayt': 1, 'benefits': 1, 'lew': 1, 'Wifi': 1, '@JamieForevs': 1, 'om': 1, 'osteopath': 1, '@chako33': 1, 'vault': 1, 'wearing': 1, 'madeline': 1, 'http://t.co/P8zAQddn3H': 1, '#TeamPositive': 1, 'Pak': 1, '@playrust': 1, 'HUHU': 1, 'http://t.co/HFYIeohQZv': 1, '@chordoverstreet': 1, '@AR1961': 1, '@sonjaclarkuk': 1, 'bursts': 1, 'topple': 1, 'prince': 1, '@beamillerqs': 1, '@InXpressCoAzur': 1, 'http://t.co/6LyskBfqFG': 1, '@cinnamoniboni': 1, '@carmelaaacuenco': 1, 'await': 1, 'puke': 1, '@PERKSOFNIALLJH': 1, 'BA': 1, 'sam': 1, '@rellypops': 1, '@lazycrazygen': 1, '#bowwowchicawowwow': 1, 'Lani': 1, '@caitecat1209': 1, 'http://t.co/Nh0NNiXu1I': 1, '#toptravelcentar': 1, '@AppleMusic': 1, '#colors': 1, 'rolling': 1, 'tissues': 1, 'http://t.co/BskkttBzSn': 1, '@hanna_meiners': 1, 'heyy': 1, 'reminders': 1, 'Kimmy': 1, '@square_rest': 1, 'Leia': 1, '@Erick_Mocha': 1, 'joking': 1, 'Breach': 1, '@johnaugust': 1, '@marketsmatter': 1, '@DrakesRest': 1, '#today': 1, '@xwing_t65': 1, 'Juaquin': 1, '@yolkarjoma': 1, '@samm_amberr': 1, 'roof': 1, '#Tomorrowland': 1, '@ranzkyle': 1, 'fitness': 1, 'http://t.co/C6u8lINDwD': 1, '40mm': 1, 'php': 1, '#heroes': 1, '@NikkiElizDemere': 1, '@VladimirBank': 1, 'Lendal': 1, 'Eek': 1, 'Whitey': 1, 'Phileas': 1, 'afterwards': 1, 'bo': 1, 'Centre': 1, '@Sabrina_Boat': 1, 'file': 1, 'checks': 1, '@icy_suan': 1, 'Corner': 1, 'Mehtab': 1, 'perfectly': 1, '@_TheBunkerJL': 1, '#itsamarvelthing': 1, '@Prox_Tourney': 1, '#rudramadevi': 1, 'Demand': 1, 'http://t.co/zBOvLw0y5S': 1, 'allowing': 1, '@riiiyyaaaaa': 1, 'Sharon': 1, 'Gran': 1, 'Jawad': 1, 'Ill': 1, '@alphatecheating': 1, 'https://t.co/HviVk8rMmp': 1, 'yaaay': 1, '@debcridland': 1, 'x38': 1, '#indiedev': 1, '3.5': 1, 'flame': 1, 'Aameen': 1, '@yeastieboys': 1, 'shake': 1, '#YourNaturalLeaders': 1, 'http://t.co/rGXNogHMKM': 1, 'AGAIN': 1, '@lanadelrey': 1, 'netfilx': 1, 'shoud': 1, '@kentonchristina': 1, '@IMcMillan': 1, 'http://t.co/e8ffJ2a5ro': 1, 'http://t.co/APoKT3tTnA': 1, 'Nick': 1, '@JonicaYacap': 1, 'http://t.co/xVLbWyCN19': 1, 'http://t.co/zhk7SVrIhE': 1, 'subgames': 1, 'Dudaftie': 1, '#wuppertal': 1, 'IDs': 1, 'http://t.co/gHeHG8X8ij': 1, '@ThreeStrypes': 1, 'cheerios': 1, 'meri': 1, 'Pinya': 1, '@janpaul': 1, 'Francisco': 1, 'karhy': 1, 'reqd': 1, 'hehehe': 1, 'ABP': 1, 'Dude': 1, 'defend': 1, 'foundry': 1, 'Ping': 1, 'documentary': 1, 'http://t.co/xPhswFUKfv': 1, '@dxuntlesslarry': 1, 'http://t.co/LfC9t3SGPX': 1, 'gettin': 1, '@acasorguk': 1, '@donnamaudmarsh': 1, 'http://t.co/QVzjgd1uFo': 1, 'sunnies': 1, '@TheUwagaPies': 1, 'Jurassic': 1, 'ALMOST': 1, 'http://t.co/Y8LKMKSABv': 1, 'unwind': 1, 'http://t.co/B7XBAgmERd': 1, 'visited': 1, 'Malta': 1, '@matt_saunders_': 1, 'dialogue': 1, 'Lamp': 1, '@yashjejani': 1, 'Gift': 1, '@karenak': 1, 'tipping': 1, '@2wksinCR': 1, 'ROLL': 1, '@dxela77': 1, 'eternity': 1, 'splendid': 1, 'Lasts': 1, 'Liza': 1, 'yeahhh': 1, 'wallets': 1, 'check-up': 1, '@IsaacKirop': 1, 'vodka': 1, 'viewing': 1, 'Mar': 1, '@salisbury_wilts': 1, 'discussing': 1, 'nut': 1, 'trendy': 1, '🍅': 1, 'https://t.co/iJ1Mv1UV5l': 1, 'items': 1, 'http://t.co/zybHHnSkwl': 1, '@EtsyUK': 1, '11:00': 1, 'WhatsApp': 1, '@RealLyndaCarter': 1, 'Denmark': 1, 'Marco': 1, 'bunnys': 1, '@bettyaz': 1, '@YayoBruh': 1, 'LoiYals': 1, '@fujirock_jp': 1, 'Himmat': 1, 'transfer': 1, 'Saphire': 1, 'Baller': 1, 'Andre': 1, '@PaulCarella': 1, 'preferred': 1, 'HDDCS': 1, 'B-Day': 1, '#SocEnt': 1, 'Georgie': 1, 'pigs': 1, 'roadtrip': 1, 'sadomasochistsparadise': 1, 'Chat': 1, 'Combine': 1, 'https://t.co/LzBSWxsQO7': 1, '@bbcdoctorwho': 1, 'http://t.co/p6K6SiH58a': 1, '@matteomeacci': 1, '@kg_ubu': 1, '@Immanu3': 1, 'warehousing': 1, 'Gal': 1, 'dassy': 1, 'http://t.co/3xBhH5tVLr': 1, '@GoldxFierce': 1, 'Caesar': 1, '#MagicalKenya': 1, 'accommodate': 1, 'Journalism': 1, 'channels': 1, 'prayrs': 1, 'http://t.co/WIsq6iBxv8': 1, 'http://t.co/aAK0phT3GE': 1, 'http://t.co/yyoby5gBJq': 1, '@laurenkatebooks': 1, '#DivineDiscontent': 1, 'tine': 1, 'http://t.co/TkF5AeXfRI': 1, '@123GreetingsCom': 1, 'decent': 1, 'http://t.co/eSlCGL2SCj': 1, 'likely': 1, 'http://t.co/xPcOLL8fLZ': 1, 'Intelligent': 1, '@andrearene': 1, 'appa': 1, 'Covent': 1, 'rant': 1, 'nuns': 1, 'http://t.co/Xcvm0OrR2s': 1, 'http://t.co/JknPWfDqkQ': 1, '@seeyouelsewhere': 1, 'Abu': 1, '@ABCRural': 1, 'hurray': 1, 'Austerlitz': 1, 'ff__special': 1, '#Viparita': 1, 'NOW': 1, 'YAAAAAAAAY': 1, 'discovered': 1, 'Loooooove': 1, '@tacobell': 1, '@Skythedeath': 1, 'nutshell': 1, 'spacers': 1, '@festofcuriosity': 1, '@CocoCuscino': 1, '#vscocousins': 1, 'x16': 1, '@WeAlIlKnowA': 1, 'Leeds': 1, '#MelbourneTrip2015': 1, 'Brand': 1, 'http://t.co/3LSjM4xy5N': 1, '#Jiva': 1, 'buds': 1, 'bacon': 1, 'videosta': 1, 'gifts': 1, 'AU': 1, 'Imagine': 1, 'Spread': 1, 'Vincent': 1, 'Coz': 1, '--->': 1, '#bloodline': 1, 'http://t.co/kjV6NWyPKo': 1, '°': 1, 'https://t.co/ozKEhcY9ML': 1, 'joys': 1, '@tayser1989': 1, 'solution': 1, '#TGP1': 1, 'jisung': 1, 'canals': 1, 'http://t.co/NEeqJTkQhy': 1, 'freaking': 1, '@ABCTV': 1, 'http://t.co/NImxIKytZ5': 1, '@VenetiaNorris': 1, 'Achieving': 1, 'hissing': 1, 'shame': 1, '@agavrilychev2': 1, 'http://t.co/qv2DwDbGI3': 1, 'GOING': 1, '@Nyesekkinn': 1, 'Us': 1, 'slr': 1, '@W_W_WeddingBlog': 1, '@SwgGuy': 1, 'JOSHANE': 1, 'bits': 1, 'Map': 1, '#KianWeAreProud': 1, 'http://t.co/UnaUkLbfRY': 1, 'therealgolden': 1, 'Shropshire': 1, 'WITH': 1, '@candinam': 1, 'sept': 1, 'Mad': 1, '#freedom': 1, 'http://t.co/VaLVe8omdT': 1, '@MyFrenchCity': 1, 'semi': 1, '@robertcarlyle_': 1, '@tristanpope': 1, '@rajudasonline': 1, '@FafnirsWind': 1, 'FAB': 1, '@Kkiimmeenngg': 1, '@LAfitnessUKhelp': 1, 'engineer': 1, 'broke': 1, 'races': 1, '@jamestheeight': 1, '@ElleDonnellyx': 1, '@ilanconscious': 1, '@FRTechStartups': 1, 'Deborah': 1, '@CaballeroSerena': 1, 'Jacqueline': 1, '@ansriram': 1, 'institution': 1, '4:18': 1, '#MidiDresses': 1, 'soft': 1, 'beaches': 1, '@CEISOFT': 1, 'wripped': 1, '@travelsofadam': 1, 'eeeep': 1, '#AUvsSSCR': 1, '28th': 1, 'https://t.co/J7ynGlNfJf': 1, '@walkyourcamera': 1, 'brainer': 1, 'possibly': 1, 'NEWS': 1, 'Rapunzel': 1, '@Svg_Brad': 1, 'Adrian': 1, 'sweetheart': 1, 'http://t.co/cOECx9BBNd': 1, 'http://t.co/SGKbE2jWRh': 1, 'sandae': 1, '@waddoboro': 1, 'Suspicious': 1, '@WiREUK': 1, 'http://t.co/1hQv6UiOe8': 1, 'http://t.co/kGfgawdHy9': 1, 'Denis': 1, 'http://t.co/CGCCBS1e6o': 1, '🍻': 1, '@jewellery_bank': 1, 'eyesmiles': 1, 'http://t.co/l5Xyt9EM6G': 1, \"Couldn't\": 1, 'http://t.co/VlGObizVhd': 1, 'Lemons': 1, 'http://t.co/qoKquDWcb5': 1, '@youmustbeborn': 1, '@tessasmith4evr': 1, 'scene': 1, 'PERSON': 1, '@Raheelk': 1, '@PentonLibrary': 1, 'https://t.co/px6oSSKCTL': 1, 'nosmet': 1, 'basis': 1, '@stephbranton': 1, '@VincentNewen': 1, 'UCL': 1, 'http://t.co/7huIeBsvZK': 1, 'Fennell': 1, 'eng': 1, '@Tilion_IDK': 1, 'Islands': 1, 'wags': 1, 'embracing': 1, '@its_jaylin': 1, 'paying': 1, 'selfeeee': 1, '@team_sharapova': 1, 'http://t.co/Skk98JGCOr': 1, '@lemezma': 1, '@NoshandQuaff': 1, 'matching': 1, '@France_Inte': 1, 'doll': 1, '@JessicaDelpech': 1, 'Proud': 1, 'MatTeR': 1, '{': 1, 'Ferry': 1, 'LOTION': 1, '#FrNds': 1, '@katgirl437': 1, 'Chicago': 1, 'tbc': 1, 'COMING': 1, 'Rocket': 1, '#mugshot': 1, '@robinrimbaud': 1, '@Rylan': 1, '#MadonnaFans': 1, '@hugopleclercq': 1, 'burst': 1, 'BOOM': 1, '@filipinaniah': 1, '@llredraven': 1, 'vacant': 1, 'Forneret': 1, 'transforms': 1, '@AlisonWright8': 1, '@ninebonso04': 1, 'selektion': 1, 'Yhoooooo': 1, '#Cheltenham': 1, '7an': 1, '#onemochaonelove': 1, '#TeamSpaceWhalingIsTheBest': 1, 'overwhelming': 1, '@peixvodz': 1, 'alcohol': 1, '@ReyesFraulein': 1, '@sid_travel': 1, 'cabincrew': 1, 'fear': 1, '@Junaidogic': 1, 'likewise': 1, '@daisychaindream': 1, 'CL': 1, '3hrs': 1, 'campaigner': 1, '@Rjain_': 1, 'https://t.co/FJoaQ40aKz': 1, 'posting': 1, '#excited': 1, '@ibsdawg': 1, '@UrAPeasant': 1, '@Rebellionx2': 1, 'IGers': 1, '@HMHKids': 1, '@HomewoodSteve': 1, '@saneliur': 1, '@TeamFell': 1, '@EnvoClan': 1, 'description': 1, '@acburgar': 1, 'kindly': 1, '@hunnest12': 1, '@omaro22omaro': 1, 'Stormy': 1, '@itsmebianca_01': 1, 'Frightlings': 1, '@michael_lavro': 1, '@snookermylove': 1, 'Woodford': 1, 'DROP': 1, '@IbnNabih1': 1, '@EmWilliamsCCCU': 1, 'bonding': 1, 'attenders': 1, 'https://t.co/icDEqKNMP6': 1, '@lewisssrg92': 1, '@krigsmamma': 1, 'LuKris': 1, 'reh': 1, 'ghanton': 1, 'http://t.co/6SpknXLOnU': 1, 'swerve': 1, 'http://t.co/WRhMpnLpq3': 1, '#YouNow': 1, 'fundamentalist': 1, 'happybirthday': 1, 'banate': 1, 'bookstore': 1, 'LMAO': 1, 'graduation': 1, '@richardosman': 1, 'http://t.co/QBV9uXGdKV': 1, 'defenders': 1, 'https://t.co/slOn63OUeS': 1, '@SK_Freakeh': 1, 'apart': 1, \"Josephine's\": 1, 'subscribers': 1, '#FridayFauxPas': 1, 'goodwill': 1, 'mam': 1, 'alien': 1, '@RhoaChri': 1, '@ffsjason': 1, '@xWinnerMino': 1, 'Jo': 1, 'scousers': 1, 'https://t.co/RhCIc7URvG': 1, 'http://t.co/kFxVLYxPsW': 1, '@ArmonRaE': 1, 'forehead': 1, 'navigate': 1, 'pizza': 1, '@Medina9996': 1, '@hclcampbell': 1, 'Physiotherapy': 1, 'Learning': 1, '@raphaelcolas': 1, 'learned': 1, 'x28': 1, '@TacticalWolfie': 1, 'TweetUp': 1, '@manxclaire': 1, '@ToughChelseaG': 1, '@stellaandlouise': 1, 'toast': 1, 'Federer': 1, '80-1': 1, '@waTAOwat': 1, '@fannyelf7': 1, 'Kumpul': 1, 'chuckle': 1, 'purpose': 1, \"that'll\": 1, 'egypt': 1, 'Twine': 1, '@SouthFarm1': 1, '@jonathanhobbs71': 1, 'Though': 1, '@Gardener_John': 1, '@Goonerlover69': 1, 'Surprise': 1, 'speech': 1, 'Hawaii': 1, 'Client_amends_edit': 1, 'Frens': 1, '@grlwthdragontat': 1, 'launched': 1, '@NedretSirip': 1, '@JdrqRicah': 1, 'AI': 1, '@PrinSlays': 1, 'joim': 1, 'oe': 1, 'visas': 1, '@OldManMyke': 1, '@VarunKiAliya23': 1, '@noralewis25': 1, \"chippy's\": 1, 'Clonmel': 1, '@gdicko66': 1, '@BadarJaffer': 1, '@hugme1demi': 1, 'supa': 1, '@stephbichard': 1, 'realy': 1, '@arizonacoffee': 1, 'beleaf': 1, 'anal': 1, '@xx_dayan': 1, 'lupet': 1, '22pics': 1, '@kapucumerve': 1, 'https://t.co/pg2SiRxvZ8': 1, 'Cuuuuuuuuuuuuuuuuuuuuuuuuuuuuuuuuuuuuuuuuuuute': 1, '@UnderToWonder': 1, 'Deal': 1, '@RGulechha': 1, 'http://t.co/TZPmwWhCbb': 1, 'mango': 1, 'forums': 1, 'https://t.co/uQ7DRil5bj': 1, 'Sachin': 1, 'Dumont': 1, '@HargreavesInfo': 1, '#coolingtowers': 1, 'http://t.co/mGAYutmknZ': 1, 'Prim': 1, 'Congratz': 1, 'KARAOKE': 1, '@daftasabrushcc': 1, '@jcpena26': 1, 'Gaza': 1, '@C4ndiru': 1, 'maps': 1, 'ditched': 1, '#fanart': 1, 'Reader': 1, 'Hillary': 1, '@NOTASLIMBOY': 1, '@ecotricity': 1, 'fruits': 1, '@dhwanidamani': 1, 'http://t.co/n3qVcBDNdh': 1, '@annastaff': 1, '@greigo_uk': 1, '@NoraFrost': 1, 'http://t.co/fQeQlpk32A': 1, '@GeoffCrowther1': 1, '@Hexmags': 1, 'communities': 1, '#ProKabaddi': 1, 'yeey': 1, '@ChairmanHuntJnr': 1, '@TimeToBeAnAdult': 1, '@AdamRichman': 1, 'rapper': 1, '@_pearlyyy': 1, 'Yvette': 1, '@CathsStrawberry': 1, '@jess_o_lover101': 1, 'hih': 1, '#Fallout4': 1, 'floofs': 1, 'Soft': 1, 'https://t.co/IqJwYRF52C': 1, '@TweetsbyHarold': 1, 'http://t.co/e644DJI0zw': 1, 'Las': 1, 'enn': 1, '@DavidBedwell': 1, 'Sheen': 1, 'impressed': 1, '@orbette': 1, 'Avoplex': 1, '@mandisatweets': 1, '@sanahaq17': 1, '@Vin_dourthe': 1, 'Calling': 1, 'http://t.co/FxQ4P0bMH7': 1, 'routes': 1, '@CodyPotions': 1, '@SomnathUrhe': 1, 'realisticly': 1, 'Listening': 1, 'Barnstaple': 1, '@LiPSMACKER_UK': 1, '@GirlguidingNL': 1, 'teaser': 1, 'Hong': 1, 'okk': 1, 'pinkeu': 1, 'Fugiwara': 1, 'drew': 1, 'https://t.co/mRAJMGm0Nm': 1, 'fiend': 1, '@gabrielaliuw': 1, 'Eternity': 1, '@elbow': 1, '@Elemaaan': 1, 'angels': 1, 'http://t.co/3SdqjnwDfM': 1, '@LittleMissLilia': 1, 'EP': 1, 'nickname': 1, 'ganda': 1, '@Tsad': 1, '@lee_ball': 1, 'overtake': 1, 'influenced': 1, 'OTH': 1, 'https://t.co/LoONgfRNdd': 1, 'Sighs': 1, '#JonathanCreek': 1, 'yaaaaayyyyyy': 1, 'http://t.co/PSbF2rELHn': 1, '@Matt_Dominguez': 1, '@Doug_Laney': 1, 'Source': 1, 'Angelo': 1, '@heyoppar': 1, '@heyclaireee': 1, 'Suit': 1, 'jren': 1, 'dump': 1, 'http://t.co/5HV6Sd8uQY': 1, '#EDM': 1, '@TicketmasterUK': 1, '@onedirection': 1, 'https://t.co/YzJt2feA1u': 1, \"y'day\": 1, 'http://t.co/fviD4vlDhq': 1, 'binge': 1, '#다쇼': 1, '@SNJNIG': 1, 'kashi': 1, 'cusp': 1, '@Candlewick': 1, 'player': 1, 'washed': 1, 'Agreed': 1, '#FIRST50EUROPE': 1, 'Throwback': 1, '#friyay': 1, '@b_ecki': 1, 'celebrate': 1, '@GwendoBocquet': 1, 'GLA': 1, 'romance': 1, 'amsterdam': 1, 'teamwork': 1, 'realise': 1, '@MizzChuff': 1, '@PersonnelPlace': 1, '@paulbeaton720': 1, '@IOWOpenStudios': 1, '@septiancina': 1, 'pamper': 1, '@aktarislam': 1, '@EffYoF33linz': 1, '#nomnomnom': 1, '@e1d4c8e25ec844c': 1, 'https://t.co/o89z63pb45': 1, 'OPI': 1, 'estimated': 1, '90': 1, 'Danny': 1, '#concert': 1, ':P': 1, 'http://t.co/EI7VtynLOx': 1, 'empowered': 1, 'reunited': 1, 'Pech': 1, 'recipes': 1, 'orchard': 1, 'SF': 1, \"Friend's\": 1, 'Immature': 1, '@TisoyPeter': 1, '@CarmelSepuloni': 1, '@Clevelandpro65': 1, '@MagdaKapa': 1, 'Sweetpea': 1, '#HappyBirthdayEmilyBett': 1, 'friendaaaaaaa': 1, '@emmestandsfor': 1, '@KingRichard76': 1, 'BeaNatividad': 1, '@PXC_Macavity': 1, 'beautifully-crafted': 1, 'paya': 1, '@Jim_Edwards': 1, '#kikme': 1, '@paintingandbook': 1, '@DeniseAlicia_': 1, '@Saeek': 1, '@TheVampsCon': 1, '#pretty': 1, '@theprovidores': 1, 'Garbi': 1, 'Social': 1, '#eksperimencinta': 1, 'addicted': 1, 'shorts': 1, '@pirlouit_be': 1, 'Rly': 1, 'Micro': 1, '@jamiefigsxx': 1, '@Mspecservices': 1, 'gal': 1, '#latinhouse': 1, 'Basically': 1, '@RahafS': 1, '#RXTheDailySurveyVotes': 1, 'birthdaaaaayyyy': 1, '@meet_roger': 1, '@ayashiibaby': 1, '@alnina__': 1, 'wohoo': 1, 'discuss': 1, '@briannee__': 1, 'Montoya': 1, 'den': 1, 'dagga': 1, '@TNPerkins4': 1, 'http://t.co/J6ISDHFyWP': 1, 'https://t.co/u9YXV5HPjO': 1, '@TurnUpTexas': 1, '@globmobcom': 1, '@SyuhxdxTengku': 1, 'grace': 1, '@amiibofiguresuk': 1, '@twentyonepilots': 1, '#VR': 1, '@BarbaraNadel': 1, '#vscophil': 1, '@TokyoTantra': 1, 'represents': 1, 'Beatport': 1, 'https://t.co/YbgI6MoxnE': 1, 'Gooo': 1, 'http://t.co/AzDWGWAPBb': 1, '@mallynic': 1, 'buuuuuuuut': 1, '@mexeeN': 1, 'iirc': 1, 'screw': 1, '@WeddingIdeas_TV': 1, 'basil': 1, '9DG': 1, '#wanderrook': 1, '@tmhcuddly': 1, 'muna': 1, 'Episode': 1, 'shoulder': 1, '@IloveHQ': 1, '@siaramelatienza': 1, 'http://t.co/GeKB3pLNUZ': 1, 'chicks': 1, 'https://t.co/KDb3D37RnI': 1, 'Bag': 1, 'Bawi': 1, '@arcadester': 1, 'aggregates': 1, '@iarunsb': 1, 'http://t.co/e4H5iMXzMH': 1, '@AcadCulArts': 1, '@DatKidScotty': 1, '@fly_t_girl': 1, 'Even': 1, 'tenyai': 1, 'LB': 1, 'Thusi': 1, 'Rajeev': 1, 'Judith': 1, 'chronic': 1, 'jonginuh': 1, 'typical': 1, '@iyah_mohamad': 1, 'kittens': 1, 'nooow': 1, 'https://t.co/Cl0YoptUAg': 1, '@momoismail9': 1, '@GBattered': 1, 'http://t.co/gUUlxAs9En': 1, '@Michelle_mvhr': 1, 'http://t.co/5EcILL2Mf7': 1, '@SWEarlyMusic': 1, '@susie22784334': 1, 'Doom': 1, 'https://t.co/JwNwLUp583': 1, 'http://t.co/JYMVSLDfQX': 1, '#Jilla': 1, 'Inquisitor': 1, 'http://t.co/a4DNHbw78q': 1, '@roseofthesealee': 1, 'factory': 1, 'forgiven': 1, 'roast': 1, '@MarriedtoaGeek1': 1, 'SELFIE': 1, 'http://t.co/Le7bpWbMlO': 1, '@Montishow': 1, '@kayceecreates': 1, '500': 1, 'dongsaeng': 1, 'Nofx': 1, '645k': 1, 'hay': 1, 'SE': 1, 'follbaaack': 1, '@DoorMatt3': 1, 'falls': 1, '@machado_man4': 1, '#HagerGang': 1, 'ditching': 1, 'distribution': 1, '@Shenanigen5280': 1, 'flattery': 1, '@neha8192': 1, '@xopriyaox': 1, 'shadowplaylouis': 1, 'DVR': 1, '#touchétoday': 1, 'Clasie': 1, '@DeirdreOKane1': 1, '@stayfaboo': 1, '@Blossom__Joy': 1, '@JimmysFarmHQ': 1, '@My_Old_Dutch': 1, '@ANGELeeminho': 1, 'fill': 1, 'unlocked': 1, '@sonny370': 1, '@_mahzo': 1, 'prob.nice': 1, 'Mockingbird': 1, '#interracial': 1, 'http://t.co/DTcpMEE0mD': 1, '@remylauren': 1, '#VIDCON2015': 1, '@novocainecolby': 1, 'http://t.co/QGsQkvrDIi': 1, 'Aamir': 1, '@aatishn': 1, 'Rest': 1, '#teens': 1, 'kha': 1, '@Riverford': 1, '@BennyBoygr': 1, '@Sy_TEOH': 1, 'noms': 1, 'http://t.co/7MKOJIndxF': 1, '@roofsinb': 1, 'bestfriends': 1, 'Vikk': 1, 'adored': 1, 'Bnte': 1, 'Selfieeeee': 1, 'despondently': 1, 'CøÔL': 1, 'hinala': 1, '@thevieweast': 1, '@misshollylou': 1, 'Diva': 1, '#AskUrban': 1, 'pic.twitter.com/jXZ2LBV6O': 1, 'http://t.co/3Yw3TFCRk6': 1, 'Several': 1, 'supporting': 1, 'stick': 1, 'fantasy': 1, 'Design': 1, 'HOtel': 1, '\\U000fec00': 1, '@SaddestTiger': 1, 'Ye': 1, '#dedicatedfan': 1, '@5SOS_Nightly': 1, 'للعودة': 1, '@MandaScapinello': 1, '@GelatoMessina': 1, '@Nathan_Webb': 1, 'Sinaloa': 1, '@jhun_hunyo': 1, 'Pet': 1, 'pirated': 1, 'abUtI': 1, 'Stunning': 1, '@SageVatic': 1, 'screenshot': 1, '@_ryanhamilton_': 1, 'huh': 1, '@BerKirby': 1, 'thankie': 1, '@DominiquePirrie': 1, 'Macauley': 1, '@korsikoff': 1, 'winds': 1, 'minuter': 1, 'Wolf': 1, '@SmilingShivani': 1, 'watering': 1, '@tomorrowland': 1, 'huni': 1, '@Lisa_Maltby': 1, 'remedies': 1, '#airport': 1, 'upgrading': 1, 'brotheeeeerrrr': 1, 'Oshieer': 1, 'Madison': 1, '@lagganmountains': 1, '🙈': 1, 'signing': 1, \"Haven't\": 1, '#BlueSidemenXIX': 1, 'separately': 1, '@rosbailey2_ros': 1, 'Publilius': 1, '@Ripap70': 1, '@njhornylou': 1, '@serhatahmet': 1, 'Counted': 1, '@TheRainBro': 1, 'Yippeee': 1, 'http://t.co/4ESrPPRXCA': 1, '@jasmineshaddock': 1, '@2560chez': 1, '@RiahanneNavarro': 1, 'Mairi': 1, 'wonders': 1, 'GIRLFRIEND': 1, '@jsonyoung': 1, 'SHE': 1, '1/5': 1, 'focus': 1, '@50Shades0fGrace': 1, '@Jacedafaceis': 1, '@Yumnoskians_x': 1, 'boar': 1, 'https://t.co/13N3WlaWmq': 1, '@Aas2727': 1, '@RekolaCZ': 1, 'bien': 1, '@JessopJill': 1, 'centre': 1, '@cl_aus': 1, 'bandz': 1, '@BergsonSandra': 1, 'ew': 1, 'SG': 1, '@stelcoco': 1, '@dw_pete': 1, '#LifeStyle': 1, '@BANGMELIAMM': 1, 'olds': 1, '@HowToFixMyCar': 1, 'http://t.co/L06NhpQ9xk': 1, '@varun_dvn': 1, 'Spiritual': 1, 'glaze': 1, 'http://t.co/QFhF2zUKib': 1, '@whiskers_cats': 1, '@MercedesBenzInd': 1, 'x41': 1, 'Bierce': 1, '@UKOpenMic': 1, '\\U000fe334': 1, 'pub': 1, 'http://t.co/VvX86aPLwA': 1, 'http://t.co/R6B1MIutgJ': 1, 'njoy': 1, 'gem': 1, 'https://t.co/p4zoflIOdf': 1, 'setokido': 1, '2am': 1, 'EM-CON': 1, 'WHATEVS': 1, 'breathing': 1, 'spam': 1, '@madness_Noeli': 1, 'http://t.co/a5xIGzTueL': 1, '@Kiehls': 1, '@lucazi1214': 1, '@MyPackofWolves': 1, '@bnjmnbrstw': 1, 'Chinas': 1, '@CCI_inter': 1, '@Stacyyy24': 1, 'coursee': 1, '@Tulki': 1, 'vegetarian': 1, 'chutes': 1, 'http://t.co/5jjCWZzXuj': 1, '#community': 1, '@gryffndors': 1, '@catecawley': 1, '@Mechanix_Wear': 1, '@MorrisHub': 1, 'performed': 1, 'https://t.co/9tSQv2DWVm': 1, '#FutureReleases': 1, 'Izumi': 1, 'Whoop': 1, '@laurentzwalker': 1, 'Poor': 1, 'Alyssa': 1, 'ht': 1, '@NeilWhoreAnn': 1, '@HelenaMarsh81': 1, '2weeks': 1, 'uta': 1, '@hakkovenus': 1, '@sundawnjh': 1, 'emotive': 1, 'papers': 1, '@djdarrenjones': 1, 'convention': 1, 'Till': 1, 'Walmart': 1, 'escape': 1, 'teen': 1, '@sennicka': 1, 'mounted': 1, 'shed': 1, 'Telling': 1, 'Liker': 1, 'kar': 1, '1710': 1, '@kdruls': 1, 'h_eartshapedbox': 1, '@PurplePRFashion': 1, '@akshaykumar': 1, '@SylvieYonke': 1, 'rubbish': 1, 'holding': 1, '@Dune_London': 1, 'outdoor': 1, '@leanna_decker': 1, 'Colin': 1, '@divarh15': 1, '@ISupportTony': 1, '@MonicaBouma': 1, 'Be-shak': 1, '🍭': 1, 'http://t.co/uwhGYM0BWb': 1, '@EventopediaUK': 1, '@kimcanhomes': 1, 'http://t.co/hK74TOBM1u': 1, '@ReflectMind': 1, '@iluvmariah': 1, '@marchicristian': 1, '@forcommoncause': 1, '@wishinguponstar': 1, 'htaccess': 1, 'queenesther': 1, '@toonstra65': 1, '@MusicAddictTBH': 1, '@CowEvents': 1, 'Ibiza': 1, 'philly': 1, 'http://t.co/r1ExrOTFBP': 1, 'Nail': 1, '@ICTDSeSafety': 1, '#FM15': 1, '@jgdpalak': 1, 'whn': 1, 'homework': 1, '@MusicMetrop': 1, '@phoeniciapubl': 1, 'famous': 1, '@Veho': 1, 'debate': 1, '@elizabethrosexx': 1, 'Mombasa': 1, 'Stockholm': 1, 'http://t.co/f5xThyIN8u': 1, 'aerial': 1, 'HMU': 1, '@LeahRebeccaUK': 1, 'maknae': 1, 'https://t.co/ZhHZOzHBEN': 1, 'Nez': 1, 'lyk': 1, 'Rings': 1, 'suitable': 1, 'https://t.co/7tyUragh2H': 1, '#Rehydrate': 1, 'triathletes': 1, 'shaking': 1, '@ohyoufox': 1, '@DOTA2': 1, 'Cam': 1, '@IhrWellnessTipp': 1, 'hihihi': 1, 'internship': 1, 'improving': 1, '@allpawone': 1, 'http://t.co/KzdArKKieg': 1, 'bum': 1, 'signs': 1, '#flowers': 1, '#fitfa': 1, '@Bethblog': 1, 'respective': 1, 'stationery': 1, '@santhanaram': 1, 'Yeheyy': 1, 'https://t.co/FsS7lzF8HQ': 1, 'http://t.co/8YhLcb16Lf': 1, '#soproud': 1, 'submitted': 1, 'SHET': 1, '@veijayen': 1, 'http://t.co/wNmvAAdr4y': 1, '@ironmima': 1, 'http://t.co/zWNDmVbOED': 1, 'avoid': 1, '@japneetsingh39': 1, '35': 1, 'donut': 1, 'moms': 1, 'hotter': 1, '@NinaVictoriaCup': 1, 'https://t.co/ZbO0cjqhzG': 1, 'surrendered': 1, '@rupal_hs': 1, '@Sweetiepiie67': 1, '@DSouthcott': 1, '@ExeterMediation': 1, 'http://t.co/dPcL2mGjdc': 1, 'http://t.co/XqS9UFdwtl': 1, 'wasting': 1, 'OhmyG': 1, 'Neenkin': 1, 'mere': 1, '@shaymc3796': 1, '@iconic_pr': 1, 'JongHyun': 1, '@spaqhetto': 1, '@CassTheTrainer': 1, '@ShineBalloons': 1, '@MangleTheLover': 1, 'telat': 1, '@Mehdi_Mustafa': 1, 'elmoprinssi': 1, 'para': 1, '@lucahollic': 1, 'renew': 1, '@NK_Asmita': 1, '@aspenrage': 1, '@Objective_Neo': 1, '@scottwindsor22': 1, '#hugs': 1, '@thenwchica': 1, '@glyndewis': 1, '@exohun1204': 1, '@TrekkingPaul': 1, 'Mohapatra': 1, 'Mother': 1, '@Idxterr': 1, '@WillowRaven': 1, 'Key': 1, 'Googles': 1, 'https://t.co/DLDKLpeTAb': 1, '@corics24': 1, 'Charging': 1, 'brianaaaa': 1, 'carpet': 1, 'http://t.co/zRP17qI0qT': 1, '@TMobile': 1, '#pijjabłka': 1, '@Alyssaa_O': 1, 'TOP': 1, '@cultofengineer': 1, '@qimyerii': 1, 'Niamh': 1, 'GoodMorning': 1, 'HUNGER': 1, '@TeamLaws01': 1, 'http://t.co/S7kW8WESbs': 1, '#patent': 1, 'http://t.co/RNQP0i8gKS': 1, 'Yaaah': 1, 'unnie': 1, 'https://t.co/gymItbEIAC': 1, '#porno': 1, 'ALWAYS': 1, '@iGroundbreaking': 1, 'http://t.co/WMAZJqO51K': 1, 'recites': 1, '@tahseenfurqan': 1, '#cosplayprogress': 1, 'HopeHouseKids': 1, '@filmindependent': 1, 'https://t.co/GrD53KA2G5': 1, 'Lahos': 1, '@WIB_Group': 1, 'China': 1, '@Dahlialien': 1, 'https://t.co/cGViMHSINz': 1, 'CUTE': 1, '@MegLovesGames': 1, 'conflict': 1, '@TeamGtwy': 1, '#waseem': 1, 'magictrikband': 1, '@aliapari86': 1, '@Iqbal92S': 1, 'SALUTE': 1, '@paulbeavers8': 1, '@syazwanzainal': 1, 'tongue': 1, '#Sidemen': 1, 'FaceTime': 1, '@YB0RA_': 1, 'GOD': 1, '#housemusic': 1, '@oche_balboa': 1, '10/10': 1, '@hewitsonwalker': 1, 'In-shaa-Allah': 1, 'kak': 1, 'https://t.co/3thVpLwLMw': 1, 'worldwide': 1, 'engrossed': 1, 'age': 1, 'http://t.co/CbiP1LHLuc': 1, '@lapisIazui': 1, 'Routte': 1, '@Keith_Russell': 1, 'Owly': 1, 'fireball': 1, 'thrice': 1, 'proves': 1, '#BrijResidency': 1, 'LynetteLowe': 1, '@ghostkidluke': 1, '@flacqua': 1, '#GiveItUp': 1, 'wendy': 1, 'Grindea': 1, '@aIcouholic': 1, '@michell47881905': 1, '@HolmesdaleCC': 1, 'juan': 1, 'Thorin': 1, '@mariannasbakery': 1, 'chiquitos': 1, 'wondered': 1, '@vaninatwilight': 1, 'TRANSLATION': 1, 'Strangely': 1, 'Stones': 1, 'Things': 1, '@Ninoiudi': 1, 'depends': 1, '@baby2body': 1, '@goldquarter1': 1, '@ReviewResorts': 1, 'http://t.co/YuKWG0fjm9': 1, 'http://t.co/M0TB1ggAU9': 1, 'knee': 1, '11pm': 1, '@VirginRacingFE': 1, 'Betty': 1, '@nataliavas': 1, 'nagsend': 1, 'roommate': 1, 'amen': 1, 'JoeRine': 1, '@NYIBF': 1, 'shippers': 1, '2.25': 1, 'https://t.co/Or6eATWDjm': 1, 'ndee': 1, '@morallosanthony': 1, 'Think': 1, \"today's\": 1, 'judge': 1, 'Lucy': 1, 'http://t.co/YKYRmXklHU': 1, 'Donington': 1, 'Flight': 1, 'amy': 1, 'flat': 1, 'http://t.co/6el4C2C0uF': 1, '@pmln_org': 1, '@bjj1212': 1, '@jemappelleallie': 1, 'OURS': 1, '@The_Sleigher': 1, 'habit': 1, 'Rock': 1, 'http://t.co/MfsVECw1bW': 1, 'priority': 1, '@AtushaAvarus': 1, '#pglcsgo': 1, '@GameDevRobot': 1, 'unto': 1, 'Reina': 1, '@stalkerIDOL_': 1, 'YouTuber': 1, 'Lose': 1, 'hypocritical': 1, 'Patty': 1, 'interactions': 1, 'tylers': 1, '@TotalPolicing': 1, 'announce': 1, 'Dota': 1, 'Cousins': 1, '@Miss_Boots1': 1, '@SBS_MTV': 1, \"I'am\": 1, 'Robert': 1, '@OriofAshes': 1, '#madness': 1, '@awaismarwat2011': 1, '@LoreTam': 1, 'mighty': 1, 'pull': 1, 'http://t.co/CPDOg3gMoR': 1, '@Little_Nells': 1, '@YouVersion': 1, 'strongest': 1, '4wilde': 1, 'you-and': 1, '#nikeoriginal': 1, 'https://t.co/77TbkS2Djw': 1, '@Nickalaws': 1, 'WELL': 1, 'https://t.co/d3XXsX6yeK': 1, 'VIEWS': 1, 'EVERYTHING': 1, '@LypsylUK': 1, 'pdf': 1, 'lukkkee': 1, 'Bosch': 1, '838': 1, 'glowing': 1, 'Suite': 1, 'https://t.co/zHq6qQqrIz': 1, 'Starting': 1, '@AndVioletFilm': 1, 'liao': 1, '@GSwinburn': 1, '@AgeofKill': 1, 'https://t.co/fINXQiPtSn': 1, '7th': 1, 'Pure': 1, 'mischievousness': 1, 'http://t.co/ilDzDRHf9d': 1, '@JillyBeanYarns': 1, '@Shadypenguinn': 1, '@LuvSocial_Media': 1, 'Fiesta': 1, 'judgmental': 1, '@Bickerelecserv': 1, 'http://t.co/5ES3WLEabs': 1, 'Far': 1, 'Awards': 1, 'HavuuuuuLoveYou': 1, 'Raspberry': 1, 'Congrads': 1, 'hocking': 1, 'eBook': 1, 'ann': 1, 'socialmedia@dpdgroup.co.uk': 1, 'https://t.co/xgmaUZcYYf': 1, 'http://t.co/UoqAstlhxO': 1, 'weenie': 1, 'COME': 1, 'Toss': 1, 'http://t.co/9m6RWHsQEr': 1, '@Panasarizya23': 1, 'B2B': 1, 'Yeahh': 1, 'fuh': 1, \"Tonight's\": 1, '@kezhoskyn': 1, '@LCLL_Director': 1, 'Pride': 1, 'winehouse': 1, '@Alipink27': 1, '9:00': 1, 'http://t.co/ttPeupXf44': 1, 'spotify': 1, 'Malema': 1, '@kinagrannis': 1, 'http://t.co/abegLVNXBO': 1, '@Sharma216V': 1, 'Gym': 1, 'Heeeeyyy': 1, 'http://t.co/BdaXV35FYE': 1, '@matthewcrosby': 1, '@ReikiByKatie': 1, 'Hence': 1, '@LLcoolGinge': 1, 'tasty': 1, '@HutchinsonDave': 1, 'Swan': 1, '@rich_bartram29': 1, 'jaycy': 1, '@SMHsport': 1, '@jobayeshopp': 1, 'feeding': 1, '@Lachdog_AU': 1, 'Holborn': 1, '@bull': 1, 'Hee': 1, 'cocktails': 1, 'http://t.co/hnnY5L2i6f': 1, 'http://t.co/tKYf8HnuuO': 1, 'mexican': 1, 'APs': 1, 'daw': 1, 'Untangling': 1, 'dependencies': 1, 'AdvAddict': 1, 'menacing': 1, 'certification': 1, '@jlmakes': 1, 'enix': 1, '@GailScottDesign': 1, '@knovak832_novak': 1, '@ohstylesss': 1, 'Refuel': 1, 'http://t.co/kgXuYb6diH': 1, 'Official': 1, '@badoinkofficial': 1, '@Fearnecotton': 1, 'rehearse': 1, 'immediate': 1, '@Gotzefying': 1, 'Kak': 1, '@makersofthings': 1, 'tokens': 1, 'Brill': 1, 'liat': 1, '@AndreaGaillet': 1, '@Simonds_Stadium': 1, '@GhostOfTrafford': 1, 'gaya': 1, 'EB': 1, 'classes': 1, 'rp': 1, 'Sambal': 1, '@solo_radio': 1, 'Joint': 1, 'Vid': 1, 'Leggete': 1, 'department': 1, '@TashaFairybro': 1, '7DF9E60A': 1, '#FridayFunDay': 1, 'LUCK': 1, 'Geer': 1, '@MTVDancer': 1, '@CptFrantastic': 1, 'figures': 1, 'Cuts': 1, '@vinkaazzahp': 1, 'umma': 1, 'Nooooow': 1, '@ayokejkt': 1, '@HeimlichUte': 1, 'drainage': 1, 'Coughed': 1, '@dluxjed': 1, 'personality': 1, '@Zap_Experience': 1, 'x14': 1, 'LWWF': 1, '@RehamKhan1': 1, 'travels': 1, 'carefully': 1, 'cyber': 1, 'toy': 1, '29th': 1, 'Sound': 1, '@inspchin': 1, '@NomalangaSA': 1, '@bookcasehebden': 1, 'crisps': 1, 'https://t.co/vwPuJj39QX': 1, 'Tompolo': 1, '#cycling': 1, '@ThatJessGirl92': 1, '@BionsenBeauty': 1, 'http://t.co/sYorWFentu': 1, '@gheolya': 1, 'Ran': 1, 'https://t.co/044Hfi99Rc': 1, '@UltraVratik': 1, '#4thStreetMusic': 1, 'experiment': 1, '#Mclaren': 1, 'Benteke': 1, '@katosman': 1, '@bridgetnichole_': 1, 'inky': 1, 'suppliers': 1, '@HanMaiCrazyHoon': 1, '@instyle_UK': 1, 'fahad': 1, 'Gel': 1, '@MadihaSobtian': 1, '@cuteHiddlesmile': 1, '@RachelEvans_28': 1, 'diet': 1, 'picked': 1, 'dipsatch': 1, 'score': 1, '@dukeofdelhi': 1, 'FLEUR': 1, 'Nights': 1, 'http://t.co/8J5voDDHcs': 1, 'Sonaaaaaaa': 1, 'Customer': 1, 'Luckily': 1, 'http://t.co/7ywV5U8sGU': 1, 'http://t.co/0ZM3ZoKkm6': 1, 'whatsapp': 1, 'Minju': 1, 'ahhh': 1, '@paulmutton': 1, '@AdamKuczynski': 1, '@CrawleySparky': 1, 'BACON': 1, 'knitting': 1, '@LucyLu_xx': 1, '#GOT7': 1, 'WORSTS': 1, '@no1_razorstan': 1, 'uncut': 1, '@FENNIBU': 1, 'Stopped': 1, 'http://t.co/RogYUpnp70': 1, 'Gooood': 1, 'Receiving': 1, '@TheHospitalClub': 1, 'drawings': 1, '@Luke_Shay': 1, 'jack': 1, 'hardly': 1, 'spag': 1, '@katiaely': 1, 'Mum': 1, '@DebbyRyan_06': 1, 'Shannon': 1, '@PippaLov': 1, 'boost': 1, 'Professional': 1, 'saam': 1, 'Bill': 1, 'reboarding': 1, '@FPharmacyUK': 1, 'Singles': 1, 'ricky_febs': 1, 'Tks': 1, '@IngridMolina19': 1, '@theWordCardiff': 1, '@TarekTamo': 1, '@solacehes': 1, 'https://t.co/n8M0xwjELc': 1, 'Sanza': 1, '@ontrackplant': 1, '@madcatz': 1, 'Persona': 1, '@SilverTom_9': 1, 'misread': 1, '#KeepSafeAlways': 1, '@PascalPrecht': 1, 'jb': 1, '@GaryKeywood': 1, '@NTCalkeAbbey': 1, 'http://t.co/UdzZZaJkBU': 1, 'Univesity': 1, 'Limbo': 1, \"U're\": 1, 'http://t.co/y3xHComvwr': 1, '#likeforfollow': 1, 'desk': 1, 'qualky': 1, '#JumpGiants': 1, 'http://t.co/4LHrrWv42e': 1, 'Hold': 1, 'Book': 1, '@Invictus47Diddy': 1, 'sales': 1, '@implodingpika': 1, 'Diaries': 1, 'http://t.co/aTTJJ0JFm2': 1, 'oval': 1, 'BOUND': 1, '@travelshopgirl': 1, 'count': 1, 'requests': 1, '@DoctorKarl': 1, '#sky': 1, 'DEBT': 1, '@fieldfarefoods': 1, '#NKNKKPagpapakumbaba': 1, 'nag.greet': 1, 'gastronomy': 1, 'SON': 1, 'MegaMoh': 1, 'http://t.co/gDy1trnfjV': 1, '@WomenAwards': 1, 'gassed': 1, '@FilikIrisha': 1, 'saran': 1, '@pascale_blakey': 1, 'YOUTUBE': 1, '@HamHamHammu': 1, '@AvrilLavigne': 1, 'http://t.co/6wEXgsv7de': 1, 'Point': 1, 'closer-chasing': 1, '@Hanan_nisaS': 1, 'OUTSTANDING': 1, '@hopekapuka': 1, '@realdstoff': 1, 'Pippa': 1, 'somebody': 1, '@Shaina_Jade': 1, 'cited': 1, '@davidqueenan': 1, '@morriskid': 1, 'marathon': 1, 'http://t.co/R2JBO8iNww': 1, 'Abroad': 1, 'Hokies': 1, 'Chateau': 1, 'http://t.co/4lxRGxnnH1': 1, '@InsertCoinTees': 1, '#liveonstreamate': 1, '@mitchgrassi': 1, 'SS': 1, '@NBCHannibal': 1, '@1RobBeasley': 1, 'Whahahaha': 1, '#Be': 1, 'HELLA': 1, '#BATB': 1, '@stromae': 1, 'Temporal': 1, '@cyrilthecynic': 1, 'Rakna': 1, '@annaelerihart': 1, 'blend': 1, 'VII': 1, '@perfection_srj': 1, 'virginity': 1, 'Jotzh': 1, 'Imitatia': 1, 'http://t.co/aNUBjZs98p': 1, '@BJP4India': 1, 'http://t.co/TkDvEYQFBO': 1, 'Jamuna': 1, 'pathways': 1, '@FBUSOUTHERN': 1, 'heel': 1, 'covering': 1, '@ArrieBar': 1, '@TheVampsBrad': 1, 'Jim': 1, '@Just_Ge0': 1, 'TWOOFS': 1, 'Donnae.Strydom@westerncape.gov.za': 1, \"S'okay\": 1, 'proceed': 1, '#song': 1, '@ron_boll': 1, 'home-based': 1, 'ps3': 1, 'accumulated': 1, 'http://t.co/iaMFvdRMJb': 1, 'domg': 1, 'is.He': 1, 'bisexuality': 1, '#makeup': 1, 'botany': 1, '@JSHUGI': 1, '@MoominCapote': 1, 'NVA': 1, 'promotion': 1, '@megannicole': 1, '@popeynpelec': 1, '@Cole2806': 1, 'rude': 1, '@Varun_dvn': 1, '@DDWalks': 1, '@Marke61': 1, '@colors_infinity': 1, '@Mkokstad': 1, 'brilliantly': 1, 'mainly': 1, '#lovesummertime': 1, 'Swiftmas': 1, 'Megan': 1, 'progress': 1, '#FlyHigh': 1, 'chocolatey': 1, 'puhon': 1, 'viewed': 1, '@beingsomebody11': 1, 'THERE': 1, '@Afl2277': 1, 'morninggggg': 1, '#TuitUtil': 1, 'poems': 1, '@jiarpi20': 1, 'beside': 1, '@ThisOneNerd': 1, 'WEll': 1, '@boxcalf1': 1, '@KikkomanMasters': 1, 'Latest': 1, '@georgeeJgibsonn': 1, 'Degeneres': 1, 'Donut': 1, 'http://t.co/dyvOozCwRN': 1, 'lETS': 1, '1hr': 1, 'http://t.co/IDT0YCr8NP': 1, 'http://t.co/CzzCXsfjiP': 1, 'laptop': 1, 'elbows': 1, 'hwaiting': 1, '@JacobZucchi': 1, '@cLaudineSimple': 1, '@Elbow': 1, '@Jewellery4': 1, '@SciFiNow': 1, 'https://t.co/agyjS1mwiW': 1, 'Sleep': 1, '@GraceGithakwa': 1, '#store': 1, '#AlienThought': 1, '@straz_das': 1, '@SeniorSpazz': 1, 'nila': 1, 'policy': 1, '@lalatenduM': 1, '#AM': 1, '100k': 1, 'sibuk': 1, '#BristolArt': 1, 'Clinton': 1, 'yaaaah': 1, '@jakastr': 1, '@TanikoHorigome': 1, 'yako': 1, '@TAKE_designer': 1, 'arm': 1, 'thanksss': 1, 'deserves': 1, '@Tyraid': 1, 'Jones': 1, 'Peter': 1, 'AHH': 1, 'http://t.co/XX65KfaylK': 1, '00': 1, 'https://t.co/4ZlpAdyfZL': 1, 'Glorify': 1, 'Judiciary': 1, 'Bleed': 1, 'Islamist': 1, 'http://t.co/UGQzOx0huu': 1, 'scorching': 1, '@babynizayn': 1, 'Satyajit': 1, 'http://t.co/Cz4OE19ynN': 1, 'nudge': 1, '@twhiitney': 1, '@MistressSaphire': 1, '@UKRunFree': 1, '@phoenixtail26': 1, 'http://t.co/G9F2cwO6WZ': 1, '@FansAldiSalsha': 1, 'Planted': 1, 'https://t.co/kbSyqYwKEF': 1, 'agaaaain': 1, 'links': 1, 'http://t.co/LY7EnuUH8z': 1, 'Deathly': 1, '@jerirecuenco': 1, '@aral': 1, 'Katamari': 1, '@TonyRobbins': 1, '@RegaJha': 1, 'http://t.co/3Ftb0woQhM': 1, '@John_BHarris': 1, 'pud': 1, 'http://t.co/0YwJ3Efsjg': 1, 'Spree': 1, '@Pyarey_Afzal': 1, 'https://t.co/hQZ1o7s7dk': 1, 'wid': 1, 'mints': 1, '@SarumStThomas': 1, 'https://t.co/T74F2BtbRh': 1, '@daissytolentino': 1, 'Figured': 1, 'http://t.co/z2zZWgMOm2': 1, 'es': 1, 'Judy': 1, 'C64': 1, '@MsKristinKreuk': 1, 'https://t.co/InHUY4fkdG': 1, 'Pc': 1, '@breannelaflare': 1, 'http://t.co/VQVmRN3BR1': 1, '@monkeymademe': 1, 'woot': 1, '@taemihns': 1, 'http://t.co/6JdSbTSeK5': 1, 'omgg': 1, 'tip': 1, '@clubtrayfishing': 1, '@ASeguda': 1, 'comparative': 1, '@Lee_Chetwynd': 1, '@xQueenBriee': 1, 'http://t.co/cEcw6m9H5A': 1, 'elections': 1, '@CursedDid911': 1, 'MI': 1, 'Soulful': 1, 'Rotorua': 1, 'smf': 1, '#dmme': 1, 'Isaac': 1, '@lucasbluesea': 1, '#mca': 1, '@liamsmyteddy': 1, '@smallcappy': 1, '@TechLystics': 1, '@PHIGROA': 1, '@JackieYunTweets': 1, 'unlisted': 1, 'sandcastle': 1, 'Grow': 1, '@Othella_LLP': 1, '@MrSteThompson': 1, '1/2': 1, '@PeterDCooper': 1, '#Helsinki': 1, '@neonblaze72': 1, '@Moulinparikh': 1, 'WISH': 1, '@Osphate': 1, '@Essex_Wiganer': 1, 'Appreciated': 1, '@UrstrulyMJ': 1, '@zara_arsalan': 1, 'grazing': 1, 'Aitor': 1, 'zen': 1, 'sombrero': 1, 'http://t.co/GGgU9PYEjI': 1, 'surreal': 1, 'http://t.co/qat0oRRfvY': 1, '#JummaPrayer': 1, '@gloomyhome': 1, '179': 1, 'sites': 1, '@kunal8966': 1, '@InvataOnline': 1, 'towers': 1, '@DrewJPS': 1, 'islands': 1, '@Joel_Boon': 1, 'ALLAH': 1, '@SidathSam': 1, 'Tregaron': 1, 'KA': 1, 'comp': 1, '777x': 1, '@B3comeLegend': 1, '@jefhong12_21': 1, 'student': 1, '@Vrixol': 1, 'FROM': 1, '@composurs': 1, 'sale': 1, '@jet_cer': 1, 'UX': 1, 'headlining': 1, 'expire': 1, 'pirouette': 1, '5G': 1, 'guinea': 1, 'http://t.co/PGWyJGtp0u': 1, 'thick': 1, 'http://t.co/vVmvfFOJa7': 1, 'https://t.co/TO0kTgrY0y': 1, '@treybaimbridge': 1, '#fever': 1, '@NativeMusic49': 1, '@stumac1974': 1, '@SpexMfanaMan': 1, 'basket': 1, '#VW': 1, 'freedom': 1, '@OlicityLF': 1, 'ima': 1, '@chandsxc': 1, 'Currys': 1, 'pumped': 1, 'grill': 1, 'cikaaa': 1, '@AlanWPhotos': 1, 'diary': 1, '@Takafofo': 1, '@Kaineofoeme': 1, 'googled': 1, 'https://t.co/WhdAeATOe6': 1, 'plushes': 1, 'Goning': 1, '@niftyplayer': 1, 'tOdaY': 1, 'Set': 1, '@WATC_Updates': 1, 'hatred': 1, '@sterlingburd': 1, 'grinding': 1, '@liilss': 1, '@MhmmdIqbale': 1, '@juanchavarin52': 1, '#startupPH': 1, 'Liao': 1, '@TheAvianFurry': 1, 'Mandela': 1, '#Cheshire': 1, '@SexySnooker': 1, '@taofikabdul': 1, '@mattcardle': 1, 'non-Filipina': 1, '@hayleyy2k': 1, 'Gameplays': 1, '@NeonArenas': 1, 'begging': 1, '@bexlittle': 1, 'continous': 1, '#Centrifugal': 1, '@AnglianWater': 1, '@LAtles49': 1, 'Kev': 1, '@im_irrelephant': 1, 'UP': 1, '@RyDemps89': 1, 'Towns': 1, '@pussy_lilac': 1, '@edzelcastillo': 1, '@ChantraNan': 1, 'Adolf': 1, '@Derek_GTA': 1, 'wil': 1, 'Unless': 1, '#sugarrush': 1, 'Programming': 1, 'humidity': 1, 'Itna': 1, '@paradisecreated': 1, 'cancel': 1, '@Hola_its_Esha': 1, '@UltimateWedMag': 1, 'Tack': 1, 'AWW': 1, '@NatILY02': 1, 'http://t.co/mdUbL7CZxQ': 1, 'uhc': 1, 'jareddddd': 1, '@Alpacino_jay': 1, '@katilette': 1, 'NOOOO': 1, 'uname': 1, 'http://t.co/RXceUxbGY5': 1, 'http://t.co/PTZfvCIUa9': 1, 'rescue': 1, 'http://t.co/mrOzcRmNgO': 1, '6:01': 1, '@babysleepexpert': 1, '@imraina': 1, 'Organisation': 1, 'Slovenia': 1, 'amm': 1, '#FNAF4': 1, '@letsvillas': 1, '@kerryjeanlister': 1, 'Stan': 1, 'Veges': 1, 'gun': 1, 'kuffar': 1, '@dhanushkraja': 1, 'Lorna': 1, 'ure': 1, '@reglisse_menthe': 1, 'FAST': 1, 'supprt': 1, 'moaning': 1, 'netsec': 1, 'kingdom': 1, '@PrinceOfRnbZJM': 1, '@AhmedSaeedGahaa': 1, 'planting': 1, 'carnival': 1, '@undeux': 1, '@ChrisBourne': 1, 'hardcore': 1, '@SabrinaKeane': 1, 'peeling': 1, 'snoozed': 1, '#painting': 1, 'HEARD': 1, 'https://t.co/3RKmJ4LubB': 1, 'shortly': 1, '#Tracerequest': 1, 'etdi': 1, '@AnneMOrbs': 1, '@Beverleyknight': 1, 'Thumbs': 1, 'stiffening': 1, '#timetunnel': 1, 'yein': 1, '@shraddhaa9': 1, 'http://t.co/7QzgHrnGNq': 1, '#fahrinahmad': 1, '@keab42': 1, 'Beats': 1, 'Norhing': 1, 'Maniataki': 1, 'justin': 1, '@brasso77': 1, 'chant': 1, 'Chibi': 1, 'drone': 1, '@heyimbunny_': 1, 'Owl': 1, 'LUE': 1, '@RichardNSkinner': 1, 'tuesday': 1, 'https://t.co/qzT5Zsm8RE': 1, 'AIRecs': 1, '@aangelayap': 1, 'Order': 1, 'Anti-Christ': 1, 'device': 1, 'oomf': 1, '@NGourd': 1, '@SwallowUsDaily': 1, '@ellekagaoan': 1, '@LisaBrookFood': 1, '#dinner': 1, 'http://t.co/h8exCTLQxg': 1, 'delights': 1, 'http://t.co/kPl3kaPqGo': 1, 'Replenishing': 1, 'https://t.co/kMXgAZSAjh': 1, 'Forgot': 1, 'yess': 1, '@Random_MrDiddy': 1, 'Gents': 1, '#UberIceCream': 1, 'Stuck': 1, '@MrsManfyDiston': 1, '#ouch': 1, 'Grassy': 1, 'http://t.co/0q92YpovkQ': 1, 'jobs': 1, 'dupa': 1, 'traveling': 1, '@sammiefeasting': 1, 'Children': 1, '@sodapopmashton': 1, '@EoleTrading': 1, '@94arrestinghes': 1, '@dandyxpandy': 1, 'Népal': 1, '@audioBoom': 1, 'anot': 1, '@riprap1': 1, 'MVG': 1, 'suprised': 1, '♫': 1, '@wtfex': 1, 'http://t.co/FDdN2y2Ghk': 1, '@brigserman': 1, 'http://t.co/x81hxl9RTH': 1, '@ElliotHorwoodF1': 1, '@alicecrumbs': 1, '@seashoponline': 1, '#fridays': 1, 'Workshop': 1, '#ans2win': 1, 'http://t.co/upkfI1udbz': 1, '@BobOngPhrases': 1, '@katelynlander': 1, 'manually': 1, 'ENjoy': 1, 'difollow': 1, 'Dragon': 1, 'Yummmyyy': 1, '@storpey': 1, '@Milipol_Paris': 1, '#nuka': 1, 'ass': 1, '@Sting': 1, '@flowerxmouth': 1, 'Trish': 1, '#hindugod': 1, '@GMB': 1, 'https://t.co/CZfjnK8IfU': 1, '1709': 1, '@JustTeddii': 1, 'PUNS': 1, 'def': 1, 'Thq': 1, '@JCMag82': 1, 'boat': 1, 'EE': 1, '@nefmedina_': 1, '@anuja3486': 1, '@KrisWilliams81': 1, '@BowenBBC': 1, '@Insane_chorri': 1, 'https://t.co/POj6JqNvza': 1, '@biltongstmarcus': 1, '@MiroirSocial': 1, 'Gals': 1, '808': 1, 'LONDON': 1, '@ZulbayarB': 1, '@Reckless_Yuki': 1, 'Felicity': 1, '@vixyvonshock': 1, 'Vanilla': 1, '63': 1, 'TICKETS': 1, '@sommie0506': 1, '@snxy': 1, '@sungjookxm': 1, 'Stack': 1, 'scouting': 1, '@kevinbacon': 1, '@BeingDoris': 1, '#Escape': 1, '@Gxbby182': 1, 'clicksco': 1, '@SinethembaMpaxa': 1, '@sophlicious84': 1, '@amcyoung': 1, '@mulberharry': 1, 'grs': 1, 'vodkas': 1, '@Jenbag': 1, 'followingg': 1, '@luminousljp': 1, '@sajidislam': 1, '@hesfallenangel': 1, '@TheBookwormBaby': 1, 'ADF': 1, '@GaryJHorrocks': 1, '@f0nzie': 1, 'http://t.co/VuC1cI1E0u': 1, '@antinezushi': 1, 'pharmacy': 1, '@rvkido': 1, 'cheetah': 1, 'Female': 1, '@garrowlscq': 1, 'quan': 1, '@godfatheriv': 1, '@katsuzie': 1, '@WHBelfast': 1, 'lineup': 1, '@MaxBlumenthal': 1, 'SWEET': 1, '@SueRyderLCH': 1, '@cshottubhire': 1, '@nawacki': 1, 'ruins': 1, '┳': 1, 'ja': 1, 'Aitchison': 1, '@novi9nueve': 1, '@dalysoharris': 1, 'http://t.co/W7X6ewgfj6': 1, '#addmeonsnapchat': 1, 'rang': 1, '🎂': 1, 'WAS': 1, 'novel': 1, '@KhushbooZG': 1, 'preorder': 1, '@plasmov': 1, '@kitchtablepro': 1, '@heartsouthwest': 1, '@BabyGreenHayes': 1, '@vipervillan': 1, 'heres': 1, 'gluten': 1, '»': 1, 'braving': 1, '#gym': 1, 'coupon': 1, 'position': 1, 'hon': 1, '@carmendarlene': 1, '@SusanYura': 1, '@TonyCurran69': 1, 'lick': 1, '@baby_bargainsUK': 1, '@EdwinaAlexander': 1, \"tonight's\": 1, '#MuertosAtFringe': 1, '@Okami_Kai': 1, '@bekhyungh': 1, '@CarcassDrop': 1, 'per': 1, 'pinter': 1, '@brice_rivera': 1, \"Why'd\": 1, 'horny': 1, '@LinnySmit': 1, 'approximately': 1, '@JusstSmilee': 1, 'sinister': 1, '@YourKoel': 1, 'las': 1, '@BlueCat_hikes': 1, '@kevinthewhippet': 1, 'https://t.co/495R7CGmcD': 1, '🚂': 1, 'http://t.co/uVBD0iDwDW': 1, '@maureenagena': 1, '@DrenchinWine': 1, '@fynemo': 1, '@real_liam_payne': 1, '@AmitShahOffice': 1, '@ssaenzzy': 1, '#realoshi': 1, '#sobtian': 1, '#StAndrews': 1, '#Filbarbarian': 1, 'stool': 1, '@anaturalwedding': 1, '#PBB737GOLD': 1, 'Tweenie_Fox': 1, 'relax': 1, 'gay': 1, '@mistytewest': 1, 'limit': 1, '@R0CKMYDNA': 1, '@WomenEd': 1, '@SonokHakan': 1, 'Road': 1, 'https://t.co/FSMTlXYcqK': 1, 'ki': 1, 'ttyl': 1, '@SophiaDelPizzo': 1, 'flight': 1, '@mcllary': 1, '@Ekow_bk': 1, '#realreviews': 1, '@bizzleftdemi': 1, 'besi': 1, 'boom': 1, '@malgotoja': 1, 'tweaked': 1, 'BEAUTY': 1, '@xokristim': 1, 'Caroline': 1, 'http://t.co/WhTPt07UaY': 1, '@mainedcm': 1, '#SPN11': 1, '@ClimateRetweet': 1, \"joe's\": 1, '@CatrionaShearer': 1, '@MichaelKilbey': 1, '50': 1, 'politicians': 1, 'range': 1, '##SegalaKataKata': 1, 'http://t.co/cNNt8ODtO3': 1, 'http://t.co/4qEN7HpBF8': 1, 'behaves': 1, 'Caught': 1, '@Playacreep': 1, 'crackle': 1, '@dll_fshoppe': 1, '@MakeStronger3': 1, 'Update': 1, 'https://t.co/Cioa8dXbrc': 1, \"It'll\": 1, '@JennyF209': 1, '@BridgeHouseThel': 1, '@Bruneluni': 1, 'timog': 1, '@AlliDavies1': 1, 'situated': 1, '#orgasm': 1, 'හව': 1, '@lorettaramos': 1, 'wknd': 1, '@martyabbott936': 1, 'esteem': 1, '🙆': 1, 'Babe': 1, 'PM': 1, '@ONETWENTYWATTS': 1, 'biz': 1, 'lawnmower': 1, '@iggyazalea': 1, 'http://t.co/69DmYEjBgK': 1, 'acting': 1, '@bizarreglobehop': 1, '#horseracingtips': 1, 'https://t.co/TyD88wr40d': 1, 'http://t.co/JtSNMUdpnF': 1, 'CREAM': 1, 'Given': 1, '@iretrogame': 1, '@blankcanvasent': 1, '@imynnx': 1, 'covered': 1, 'Halfway': 1, '@1031Genfmsby': 1, 'respond': 1, 'x9': 1, 'http://t.co/RB8pMNgMEo': 1, '🎈': 1, 'teret': 1, '@barbelinekids': 1, 'killin': 1, 'sees': 1, '@Cute_Shaikh15': 1, '@SyasyaSodikin': 1, 'graces': 1, '@bbcweather': 1, 'http://t.co/c3dDU2rxnv': 1, '@aldriannetabang': 1, 'http://t.co/Or9w6eqCiM': 1, 'http://t.co/AuRAAMlpji': 1, '@phattony138': 1, 'erm': 1, 'blame': 1, '2017': 1, 'photographer': 1, 'Lymond': 1, 'upto': 1, 'Oscar': 1, '@zakky12345': 1, 'INITIAL': 1, 'hurry': 1, '@TommoLouisSmile': 1, '@naturalsystah': 1, 'earl': 1, 'Ending': 1, '@doloresssvee': 1, 'Subjective': 1, '#GESKenya': 1, 'amber': 1, 'PLUS': 1, '@mummyvsdaddy': 1, '#GoodwynsGoodies': 1, '@Teny101': 1, 'ginger': 1, 'header': 1, '#starwars': 1, \"town's\": 1, \"technology's\": 1, '@MyDayInProperty': 1, 'jetting': 1, 'posted': 1, \"How's\": 1, '@SoggyStones': 1, 'Grim': 1, 'hajur': 1, 'Jessica': 1, 'dua': 1, 'CUZ': 1, 'Ace': 1, '@svaertathel': 1, 'http://t.co/5wsyAxPaFk': 1, '@OLX_OHayoung96': 1, 'Nex': 1, '@Faakh': 1, 'bright': 1, 'Group': 1, 'porch': 1, 'http://t.co/fxgpk8hNiC': 1, '@alanessyahmad': 1, '@glowypanda': 1, '@Oldham_Hour': 1, '@morrisblitz': 1, '@KittyFallon': 1, 'Aa': 1, 'Spring': 1, 'needa': 1, '#vintage': 1, 'http://t.co/zVX09gx1K3': 1, '@IsmailHasan19': 1, 'screaming': 1, '@BOOM_Cycle': 1, '@chruIlo': 1, 'DOESNT': 1, 'properties': 1, 'msged': 1, 'louis': 1, 'Porsche': 1, '@kerry_truman': 1, '@davefspringbank': 1, 'raat': 1, 'idol': 1, 'PAPA': 1, 'http://t.co/dPLYrlTjil': 1, 'States': 1, 'Laying': 1, 'http://t.co/wQSegYjWil': 1, 'achi': 1, 'Syrup': 1, 'Pleasure': 1, 'Puth': 1, 'http://t.co/IzStcUJh3p': 1, '@samloughlin40': 1, 'photoshoot': 1, '@stokebrisbane': 1, '@synergymicro_': 1, 'skeem': 1, 'faves': 1, 'https://t.co/JqgcPeXdQL': 1, 'Redhead': 1, '@Scottish_Banner': 1, '@NeuroDiverseAU': 1, '@nicoledyosa1': 1, 'http://t.co/hvJGkLnVTK': 1, 'prizes': 1, 'B2C': 1, '@13Mesh': 1, 'Three': 1, 'jumpsuit': 1, 'Cup': 1, '@FOOLISHTEENLOU': 1, 'Second': 1, 'Tweet': 1, '@mafintosh': 1, 'ROCKFISHING': 1, 'Cause': 1, 'PLACE': 1, 'coco': 1, '@GlenOcsko': 1, '1033': 1, '@greekgodnjh': 1, 'David': 1, 'House': 1, 'glyon': 1, '@agylyxa': 1, 'México': 1, 'March': 1, '@MBrundleF1': 1, 'messaging': 1, 'indonesia': 1, '@KatCrisp1': 1, '@CorstianBoerman': 1, '#hotnsexy': 1, 'Xoxoxo': 1, 'Logo': 1, 'Porosh': 1, '@IronMillTech': 1, 'redid': 1, 'ARIANA': 1, 'Noted': 1, 'preparing': 1, 'http://t.co/xfv9CElbNH': 1, 'merry': 1, 'powerful': 1, 'Doli': 1, '@mundeduk': 1, '@ShawnMendes': 1, 'Checkout': 1, 'taco': 1, '@fezisa': 1, '@primavera_bella': 1, '@Guillemenorca': 1, '2nite': 1, '@BolleSafety': 1, 'intellect': 1, 'bud': 1, '@osehxn94': 1, 'http://t.co/CXP98cEdnl': 1, 'rise': 1, 'http://t.co/1jbVpcfnXB': 1, '#HenessyDiaries': 1, '@CCWeekUK': 1, '@laineyni': 1, 'Kat': 1, '@BLACKTOGXLD': 1, 'Confession': 1, '@TaniaArellanoo': 1, 'bahari': 1, '@19murf85': 1, 'http://t.co/zAS2l96ljT': 1, '@badams': 1, '@MartyRafenstein': 1, 'baskets': 1, '#SelamatHariRaya': 1, 'http://t.co/oWBL11eQRY': 1, 'http://t.co/OE2D7PDVx4': 1, '@GhalibMK': 1, 'recitation': 1, 'https://t.co/nO9B1b1vtN': 1, 'Screencaps': 1, '@ACBM_SECEM': 1, '@AndyHarker1': 1, \"yesterday's\": 1, '1st': 1, 'Cute': 1, '@itspatgonzales': 1, '@srcglide': 1, 'Champagne': 1, 'http://t.co/FSfkpOwTpS': 1, 'dreamer': 1, 'perfection': 1, 'adventures': 1, 'monte': 1, 'option': 1, '#nonscripted': 1, '@na4innov': 1, '@infocffm': 1, 'bass': 1, 'runway': 1, 'Due': 1, 'https://t.co/Jo7vtQmvSR': 1, '@CBBCNews': 1, '@AndileMlondo': 1, '@NECCMatthew': 1, '@BMA_Models': 1, '@yournaturallead': 1, '@GemmaPriceUK': 1, '@OliviaSu2': 1, 'supportive': 1, 'Ought': 1, 'KB': 1, 'Went': 1, '@theborderline': 1, 'https://t.co/9Kt7dxxNYD': 1, 'religion': 1, 'double': 1, 'https://t.co/UKITLvvZFk': 1, 'http://t.co/xKM797Hj60': 1, 'cards': 1, \"j's\": 1, 'betcha': 1, '@effleurxge': 1, '@platform4prose': 1, 'https://t.co/YLmavlZPM2': 1, 'slip': 1, 'Chilled': 1, 'commas': 1, 'Kutiyapanti': 1, 'Instead': 1, '@syukribinahmad': 1, 'Cornish': 1, 'Oooh': 1, 'http://t.co/upXtepl57y': 1, 'http://t.co/n0BfUiXLpA': 1, '02079': 1, '@Tweetnesian': 1, 'sorts': 1, '@BakingBar': 1, 'http://t.co/mzrlwm2WuT': 1, 'Yujin': 1, 'beginning': 1, '@RachelButterwor': 1, 'Gorefiend': 1, 'http://t.co/YUoHs2ZUYe': 1, 'killer': 1, '#IcecreamMaster': 1, '@spigranty': 1, '#FoodForThought': 1, '@electricgecko': 1, 'http://t.co/5Y5OAESAzv': 1, '@Irenegilmour': 1, 'enought': 1, 'Ganna': 1, '@kalle_karvonen': 1, '@Its_an_airline': 1, '@KidXSA': 1, '@davedittell': 1, 'Discovery': 1, 'sethi': 1, '@kiranmanral': 1, '#Angel': 1, '@nicklevine': 1, 'coach': 1, 'skelo_ghost': 1, 'Print': 1, 'lolz': 1, 'Brighten': 1, 'diem': 1, 'old-porridge': 1, '#WiFi': 1, '@NIKKIERIOZZI': 1, '@louiseminchin': 1, 'https://t.co/NZQGXJ6mIL': 1, 'https://t.co/FlhnHFZlSW': 1, '@LampeLois': 1, 'Houston': 1, 'again.ensoi': 1, '@Uber': 1, '@darlingIXHAI22': 1, 'tkts': 1, '@oconnor_max': 1, '@DrSadafAlvi': 1, '@dvntownsend': 1, '@mikestone14': 1, '@PBBabscbn': 1, 'Hhahahahaha': 1, 'otw': 1, '@Coast_Stores': 1, '@backuptech': 1, '@keanebrands': 1, 'solved': 1, 'lorenangel': 1, '@lolArnav': 1, 'Exams': 1, 'crop': 1, 'kittehs': 1, '@kyusicwon': 1, '#vscoph': 1, '@_bushraaaaaa': 1, 'http://t.co/kQxSNy0xK2': 1, 'snark': 1, 'kaaaa': 1, 'http://t.co/vcDDh1ZQvV': 1, 'https://t.co/Jh7F6U46UB': 1, 'SA': 1, '@IsaiahPander': 1, 'illustration': 1, '#Inspire': 1, 'GAMES': 1, 'https://t.co/Rgw0QCJ0Mo': 1, '@Sexdate_gratis': 1, 'Tech': 1, 'https://t.co/DzIj2QfEJp': 1, 'SCoups': 1, '@FUDGEMCCANN': 1, '#hannibal': 1, '@NdumisoNkosi5': 1, '@rinpunzel_': 1, 'elsewhere': 1, '@SAnneLloyd': 1, '@Dazz747': 1, 'agayhippiehippy': 1, '#Morocco': 1, '@IanMCalvert': 1, '@sunofsides': 1, 'mis': 1, 'Zach': 1, 'Indonesian': 1, 'weekly': 1, '@Dinnerbone': 1, 'upper': 1, 'DAD': 1, '@heathersmusical': 1, '@NarakuBrock': 1, 'Demo': 1, 'Dresden': 1, 'wind': 1, '@mdokha': 1, 'Boatbound': 1, 'flint': 1, 'shorthaired': 1, '@katie_taylorkay': 1, '@michaelmoor_mt': 1, '@kataraxia_': 1, 'CLEARING': 1, '#development': 1, 'Often': 1, 'listing': 1, 'Ju': 1, 'mileage': 1, '#SFVBeta': 1, '@One_New_Change': 1, 'films': 1, '@twigtwisters': 1, 'Thek': 1, 'chweet': 1, '@SuePeace1': 1, 'Koel': 1, 'Xx': 1, 'OOPS': 1, 'KEPO': 1, '@EloVzt': 1, 'bitchface': 1, 'Java': 1, 'WalkerSmithWay': 1, 'http://t.co/knhEHfUJRs': 1, 'bout': 1, '@RTAluvedAfridi': 1, '@raman_akshay': 1, 'karte': 1, '490': 1, 'pussycats': 1, '@SF_Umji': 1, '@ebeck4999': 1, '@KentFMS': 1, '@Formation_media': 1, '#TBS': 1, 'Later': 1, 'height': 1, 'BESTS': 1, '@PKMN_Assassin': 1, '@Clazziebritchas': 1, 'partly': 1, 'foh': 1, '@sarahs_scribble': 1, '@David_Cameron': 1, '#showinginterest': 1, 'http://t.co/fVYAV8v0yO': 1, 'broadcast': 1, '@Twytterina': 1, 'hiya': 1, '@HwoodHitmen': 1, '@alejandrinar32': 1, '@SachinKalbag': 1, 'unvarnished': 1, 'badge': 1, '#50notifications': 1, 'https://t.co/hfo3KcFu0n': 1, 'tears': 1, '@bunbun78': 1, 'Learnt': 1, '@_KatKennedy': 1, 'http://t.co/XRctjTX4SQ': 1, 'addictive': 1, 'coloured': 1, '@intlboost': 1, '@ForestrallTimbr': 1, 'HOUSEMATES': 1, 'Question': 1, '#magicalmysterytour': 1, '@MyBusiness_Plan': 1, 'Pasting': 1, 'Others': 1, 'https://t.co/ZlcsRuUpPY': 1, 'veins': 1, '@HeyItsMeCarzae': 1, 'STUDENT': 1, '#hype': 1, 'http://t.co/cHl12JvuxN': 1, 'beeeeepin': 1, 'Create': 1, '@gothsirius': 1, '@terrylancashire': 1, 'http://t.co/dq91NI2rZY': 1, '@janevickers7': 1, 'http://t.co/YdEFGZgnHw': 1, 'false': 1, 'kiya': 1, 'oppayaa': 1, 'ws': 1, '@Satbains1': 1, 'Wynter': 1, 'context': 1, 'Fam': 1, 'Scurri': 1, 'cheatmate': 1, '@nathaliea1010': 1, 'rosidbinr': 1, 'Yahuda': 1, '@_RealityBiter_': 1, '⅞': 1, 'LMAOOO': 1, '__': 1, '@Wilma2207fWilma': 1, 'YKR': 1, 'ending': 1, '4000': 1, 'sports': 1, 'mans': 1, 'thanked': 1, '@lancswitch3': 1, 'Yippee': 1, '@julayyyye': 1, '@valenaty_4ever': 1, '@dv891798': 1, 'roasted': 1, 'CHEERS': 1, 'Umpffffff': 1, 'Hhahhaaa': 1, '@CllrJimMcMahon': 1, 'Jules': 1, '@Deligracy': 1, 'monsoon': 1, 'Sharm': 1, '@GromKath': 1, '@24f567234e3c410': 1, '@sophiewalts': 1, '@MIKEYGEE110': 1, 'x10': 1, 'aged': 1, 'FUCK': 1, 'https://t.co/1FOMQssXzk': 1, 'Sadkaay': 1, 'Arms': 1, '@chinmarquez': 1, 'tamang': 1, 'AMAZING': 1, 'http://t.co/TpLZIou8sO': 1, 'worthy': 1, 'occasion': 1, 'shadows': 1, '@NotJagath': 1, '@EHousein': 1, '#TeamJanuaryCLaims100': 1, 'https://t.co/aloXWsqdjh': 1, 'FRANCE': 1, 'character': 1, 'musical': 1, 'walkin': 1, 'cam': 1, 'GOTTA': 1, '@chrisyamahar201': 1, 'TAKE': 1, '@Swift__Girl': 1, 'beginner': 1, '@Siwon407': 1, 'composer': 1, '@ItsMikeyMurphy': 1, 'Orleans': 1, 'families': 1, 'sering': 1, 'HOllywood': 1, '@TacoSec': 1, 'Railway': 1, '@KandelRamesh1': 1, '@MSOpinion': 1, '@CCBMLov': 1, 'ig': 1, '@nidhi_budha': 1, 'Left': 1, '@GOVManslaughter': 1, '@VJAdeel': 1, 'http://t.co/PwGCXr3bhD': 1, '@PaulBousty': 1, '#T20Blast': 1, '@ibetreyes': 1, '@kamaalrkhan': 1, '@aaronbethunee': 1, '@KarlreMarks': 1, '@katerina7711': 1, '@CoachLee': 1, 'lovable': 1, 'http://t.co/ixPpsNWiQG': 1, '@coleman_21': 1, '@bel_pearson': 1, '@KristiWhitetx': 1, 'Current': 1, 'Own': 1, '@shawill73': 1, 'SN16': 1, 'congraaats': 1, '@msarosh': 1, 'Viva': 1, '@DamnTurtle1': 1, '@TiiiTou76': 1, 'http://t.co/zhYoBmNkWr': 1, 'references': 1, '@EdinUniNeuro': 1, 'korea': 1, 'unblock': 1, 'laser-like': 1, 'Roll': 1, '@UnMondeHistoire': 1, '@JoshDevineDrums': 1, '#postive': 1, 'couldnt': 1, '@IAmAlii1': 1, 'Glowing': 1, '@the_managers59': 1, '@kevinngmingyuan': 1, '#londoutrading': 1, 'http://t.co/lvWKZFdFW8': 1, '@roofaim': 1, '@MummyandMonkeys': 1, 'slow': 1, 'hits': 1, '@SkySportsF1': 1, 'chelsea': 1, 'http://t.co/1yEMP1F5VI': 1, '@WhiteZoey': 1, 'spm': 1, 'enterprison': 1, '@YasLarry': 1, 'http://t.co/YlTyDAhAtJ': 1, '@MandaAssa': 1, 'Con-Graduation': 1, '@DJANORAK': 1, '@Clareyh': 1, 'Subscribers': 1, '#Cumbria': 1, '@AFCGraMaChroi': 1, '@FC_TEAMJK3T': 1, '#dealsuthaonotebachao': 1, '#addmeonbbm': 1, '@LauRenArren': 1, 'Izzy': 1, '545': 1, '@amyewest': 1, '@JaredLeto': 1, '#bored': 1, 'Robin': 1, '@wakeofgodzilla': 1, '@Periplus_Store': 1, 'Rob': 1, 'UTC': 1, '@JessPals': 1, 'Realizing': 1, '#pricelessantique': 1, 'patience': 1, 'dave': 1, 'press': 1, 'http://t.co/SnV316MfAH': 1, 'http://t.co/HnbinH35ES': 1, 'FACTS': 1, '#emojasp_here': 1, 'Unfortunately': 1, 'LONG': 1, '#BlueJays': 1, '@RonanTKavanagh': 1, '@_laurasharks': 1, 'http://t.co/fh9a7oArCT': 1, '@MahamK97': 1, ';}': 1, 'http://t.co/MDtJGcXopb': 1, 'cupboards': 1, 'Technically': 1, 'luas': 1, 'mealtimes': 1, \"Must've\": 1, 'clever': 1, 'Kansai': 1, '@Equinox': 1, 'Gunderson': 1, 'MANOS': 1, 'pros': 1, 'hatreds': 1, 'Version': 1, 'solid': 1, '@ClassixOSRS': 1, 'optimized': 1, '@FetusJuju': 1, 'rakhi': 1, '@yarnsbaby': 1, '@virtuallykaren': 1, 'https://t.co/yqaWKHap1i': 1, '@Jux_Clerance': 1, '@x22AEW': 1, 'seconds': 1, '@RousseyAudrey': 1, '@clairebearbunch': 1, 'henrys': 1, 'niggs': 1, 'Nearest': 1, 'goin': 1, 'http://t.co/6mQQlYgjs6': 1, 'isolating': 1, 'drifting': 1, '@Jana7380': 1, 'http://t.co/soMkoKRGIa': 1, '@ArtOfBsing': 1, '@room9271': 1, '@DSprayberry': 1, '@Vernicks': 1, '@twinesocial': 1, '@glitteratichic': 1, '@xemig': 1, 'LAST': 1, 'princess': 1, '@Michelploria': 1, '@Posica': 1, 'uu': 1, '@jeonkookswife': 1, 'attacked': 1, '@HowieNatasha': 1, 'හ': 1, '333505': 1, 'Bergerac': 1, 'Aki': 1, '@Caradelevingne': 1, '@blxcknicotine': 1, 'Tombow': 1, '@MadMorphTV': 1, 'opinion': 1, 'JSL': 1, '@alexrothera': 1, 'picts': 1, '@IBePyari': 1, 'fish': 1, '@roofbsuzy': 1, '#girls': 1, 'Dating': 1, '#YouTube': 1, 'ingat': 1, 'http://t.co/le5JAkjR4j': 1, 'muddled': 1, '#vandr': 1, 'cran': 1, '2NE1': 1, '@Manuellatchgn': 1, '@medialens': 1, 'Tthanks': 1, 'Cortez': 1, '@peasbloss': 1, '@celinaadame': 1, '@NoBillington': 1, 'Clearly': 1, 'keesh': 1, 'https://t.co/edjdMZ78fx': 1, '.\\n.\\n.': 1, 'LEAST': 1, 'lemme': 1, '@holmesjsamuel': 1, '@thebeautyjo': 1, 'Brotherhood': 1, 'Europa': 1, 'bitsy@bitdefender.com': 1, '@Team_BaiLona': 1, 'nuf': 1, 'International': 1, 'passing': 1, 'https://t.co/LjtolXzqe3': 1, '10:30': 1, 'intend': 1, '@zoyaashk': 1, '@Galatasaray': 1, '@LilfrenchMsp': 1, 'KURTA': 1, 'magstart': 1, 'Nigeria': 1, '@spencerlist': 1, '@cunyelo': 1, 'ex': 1, '#newdress': 1, '@Zain9898': 1, 'Siregar': 1, 'Copying': 1, 'ghante': 1, '#TeamRed': 1, 'Guy': 1, 'LONELIEST': 1, '@daannymoncada': 1, '@janesgrapevine': 1, '@yipanos': 1, '@Goldenorfephoto': 1, '@khenlizardo': 1, '@usher': 1, 'Stable': 1, '#FridayDownpour': 1, 'WOMAD': 1, 'downstairs': 1, 'Dominique': 1, '01482': 1, 'nuest': 1, '@royvoragen': 1, '@MrMearsDT': 1, '@iTuaha': 1, '@_Rossaholic': 1, '@euphonious_tone': 1, 'Numbero': 1, 'eonnie': 1, 'button': 1, 'presale': 1, 'http://t.co/09GuSuMrNb': 1, '@bounceroriginal': 1, '@wuthering_alice': 1, '@MariaMoreroa': 1, 'http://t.co/2DtLrSnvB1': 1, 'venue': 1, '@McJamKeyper': 1, '@shartyboy': 1, 'melodies': 1, 'LIVE': 1, '@PiperDonut': 1, '49': 1, '@DavesDMDImages': 1, 'slower': 1, '@nabilaAF2013': 1, '@OrestePerka': 1, 'returning': 1, 'idiot': 1, '@PaupaPaupau': 1, 'state': 1, '4pm': 1, 'tamed': 1, 'Yard': 1, '@LxJffrs': 1, 'backflip': 1, 'ris': 1, 'mtn': 1, 'cracking': 1, 'attraction': 1, 'switched': 1, '@PeachyLoans': 1, '@claredolotina': 1, 'redecorate': 1, 'MINE': 1, 'http://t.co/25fUKonLoM': 1, '@JaggedEdge1': 1, '#JohnForCEO': 1, 'x13': 1, 'potatos': 1, '#Flockstars': 1, 'http://t.co/LMK5AEV1EK': 1, '@Fighters_Comate': 1, 'Nite': 1, 'https://t.co/qZm1Hbxtha': 1, '@PoopRainbowMama': 1, 'T-Mobile': 1, '@screamcarol': 1, '#retail': 1, '@MR_SINISTER0013': 1, '@PTIofficial': 1, 'http://t.co/pM64zaogPN': 1, 'http://t.co/gK0xyuMJIG': 1, \"athena's\": 1, '@buzylizzy1': 1, '@MaslowFanArmy': 1, '@Phase_Eight': 1, '@MrCFluegel': 1, '@protectyrbubble': 1, 'motherfucking': 1, 'maker': 1, 'blackfly': 1, 'benefit': 1, '@FrogzLegzMummy': 1, 'GR8': 1, 'trainers': 1, '@PoemPorns': 1, '@MikhailReptar': 1, 'skating': 1, 'pet': 1, '2:22': 1, '@HikersHell': 1, '@Floreani_Mgmt': 1, 'x46': 1, '@andreaholzner': 1, '@Chevindu': 1, '31': 1, '@btstwit_': 1, '#Rajnigandha': 1, 'http://t.co/xtzhIBkXsu': 1, 'Vainglory': 1, 'http://t.co/37yWMi8TES': 1, 'Hills': 1, '@Anoushy_Aliyan': 1, 'atrocity': 1, '@Opera_North': 1, '@CareerBreakSite': 1, 'outraged': 1, 'okkkk': 1, '@ribster13': 1, 'aswell': 1, '1708': 1, '8th': 1, '@FrolicHawaii': 1, 'http://t.co/m5WqWKfqs3': 1, '@el_crd2601': 1, 'https://t.co/xAEEe2tfdI': 1, 'http://t.co/dcifNBjTXA': 1, 'Nightly': 1, '@Tyrmack4': 1, 'verify': 1, 'https://t.co/9QW1TJcnzD': 1, 'Stories': 1, 'lover': 1, 'return': 1, 'Duke': 1, 'bana': 1, '#gottolovebanks': 1, 'https://t.co/ajnqMJww1e': 1, 'tayo': 1, '#IAmAMonster': 1, 'upon': 1, '@adventurein_you': 1, 'http://t.co/pJltRVVBHn': 1, '@LaMinx541': 1, 'bleed': 1, '#Windows10': 1, '@PuaMagasiva': 1, 'venture': 1, 'vessel': 1, 'https://t.co/sYYEwHxr5l': 1, '@adam_turner': 1, 'minal': 1, 'https://t.co/5mo2AysfE9': 1, '@raspjamberlin': 1, 'Heavies': 1, 'HELP': 1, '@siddichan': 1, '@SlightlySalty_': 1, 'tmr': 1, 'Mountain.Titled': 1, 'http://t.co/q6s9MrnVXd': 1, \"masha'Allah\": 1, 'analyzing': 1, 'female': 1, '@MrStuchbery': 1, '@TrevorMoran': 1, 'Amin': 1, 'Powys': 1, 'Carrie': 1, 'offboarding': 1, '@OpenUniversity': 1, 'hurtful': 1, 'anxious': 1, '@jabawack': 1, '@FionaBunn1': 1, '@sunny_hundal': 1, 'MASTER': 1, 'gross': 1, 'nobody': 1, 'startups': 1, '#MovingOnUp': 1, 'http://t.co/SOv2AdwnBd': 1, 'Control': 1, '#bemecode': 1, '70685': 1, '@24gooch': 1, 'excellence': 1, 'https://t.co/rolE3ZCL97': 1, '@lilginger864': 1, '@Seventh_Naruto': 1, 'halla': 1, '@shweta_hr': 1, 'https://t.co/gL6rL6mR70': 1, 'https://t.co/MgApQcXPgj': 1, '@gazinqnarry': 1, 'wheelie': 1, '@SoaRJect': 1, 'Bible': 1, 'http://t.co/Efm3XPfjZF': 1, 'Maine': 1, 'oKKay': 1, '@zysuzyy': 1, '@Woodgate': 1, '@CrazyLeoNet': 1, '@RomeroJos01': 1, 'Umair': 1, 'elbow': 1, '@Queen_of_Orange': 1, '@Linduhhh9': 1, 'typically': 1, 'gooodnight': 1, '@nationalrailenq': 1, 'http://t.co/dCNoUH9s5R': 1, '#toddlerlife': 1, 'jimin': 1, 'disappoint': 1, 'grunt': 1, 'harm': 1, 'BrianaZabrocki': 1, '#battlefield': 1, 'Annoying': 1, '@voldenuit_do': 1, 'TWITTER': 1, 'prettiest': 1, '@heatherbwriter': 1, '@thenitinsawhney': 1, 'Dunedin': 1, '@SupportOrganize': 1, '@itradeland': 1, '@streamlinefituk': 1, '@tashagunners': 1, 'advanced': 1, 'stalked': 1, 'Rashmi': 1, 'Suicide': 1, 'happinessss': 1, '@leokalyan': 1, 'Taal': 1, 'swasa': 1, '@1sari_kirmizi': 1, 'HBD': 1, '@Im_MsKittenns': 1, 'dads': 1, 'pitted': 1, '@PNEShirley': 1, 'Mono': 1, 'https://t.co/ISUv4xvNtD': 1, '@HackadayPrize': 1, '@LA_Weatherly': 1, '@SisiphoMphoza': 1, \"B'coz\": 1, 'Caro': 1, '😌': 1, 'bipolar': 1, 'gelen': 1, 'http://t.co/tLYxMxe8J6': 1, 'cutting': 1, 'Sophia': 1, '@987fm': 1, 'http://t.co/2GnmiplU4B': 1, 'including': 1, '@raj50boy': 1, '#Karani': 1, 'jute': 1, 'http://t.co/TunCUXXIXX': 1, 'Awwwww': 1, '@digestdigital': 1, 'https://t.co/3eR4q9kmK5': 1, 'math': 1, '@Paul___Rayner': 1, '@lorrybus': 1, 'posts': 1, 'ey': 1, 'Web': 1, \"Diane's\": 1, '@DannaQiu': 1, \"Aren't\": 1, '#KFC': 1, 'prepared': 1, 'http://t.co/HPXV43LK5L': 1, 'thou': 1, '#PKwalaSawaal': 1, 'whomosexual': 1, '@TetrologyGaming': 1, '@MsMMango': 1, 'http://t.co/MifDDs7CQS': 1, 'Despite': 1, '@dangerbayley': 1, 'http://t.co/EVJx7iu4W4': 1, '@FrancesBeeton': 1, 'Bayan': 1, 'detective': 1, 'http://t.co/PYKQLD4KHr': 1, 'abu': 1, '@FreshMenuBLR': 1, 'RTed': 1, '@AliciaTan95': 1, '#walangmakakapigilsakin': 1, '@savkra': 1, '@Pri_More': 1, 'Enemy': 1, '@arabicaah': 1, 'Crush': 1, 'arond': 1, 'arrange': 1, '@Anyi_anonadada': 1, '@GeelongVFL': 1, 'HAHAHAYS': 1, 'charge': 1, '@IMKellyHoppen': 1, 'engine': 1, '@jackieECOSSE': 1, '@cericneesh': 1, 'https://t.co/GLoCEIjGQQ': 1, 'http://t.co/BDTwWzO4Mz': 1, 'mystery': 1, '@PubPolyphony': 1, '@ChloeJSKennedy': 1, '@Dued1_Roblox': 1, '@suzannepanter': 1, '#like4like': 1, 'https://t.co/Y43d1EwWTw': 1, 'misses': 1, 'Based': 1, 'http://t.co/Ych5wJt7CI': 1, 'goats': 1, '(:': 1, 'Nathan': 1, 'mana': 1, 'proper': 1, '@Niallll_1Dx': 1, 'http://t.co/LdArqsrqa9': 1, 'MISTAKES': 1, '@Bacon_is_life': 1, '#LEO': 1, 'paddock': 1, 'actor': 1, 'bible': 1, 'http://t.co/7kqgZXtdGG': 1, '#SWS': 1, '#DigitalExeter': 1, 'https://t.co/GZoWXWxEEN': 1, 'verbal': 1, 'STEAK': 1, 'ExpertTradesmen': 1, '@belittle4u': 1, 'mamma': 1, '@sltuan96': 1, 'frees': 1, 'rocks': 1, '@WaitlessCompany': 1, 'cheap': 1, '@MovieTubePW': 1, 'Fiverr': 1, '@Sazzi91': 1, '@FlyPastafarian': 1, 'refinements': 1, 'Ob': 1, 'hmmmm': 1, 'tails': 1, 'strip': 1, '@marshyymiullow': 1, 'ply': 1, '@ogyungmaya': 1, 'Aunty': 1, 'Travel': 1, 'horror': 1, 'VINNY': 1, 'FUNNY': 1, '@min0rthreat_': 1, '@bemybelief': 1, 'Sali': 1, 'nim': 1, '@MelanieMse': 1, 'hxh': 1, 'https://t.co/jdumAxgzH0': 1, '@HyundaiIndia': 1, 'subcontinent': 1, '@JackFejer': 1, 'wan': 1, 'https://t.co/T0SBDozPFj': 1, '@iamAhmadshahzad': 1, '@NourH92': 1, 'inspired': 1, '@3F_Bildideen': 1, 'http://t.co/yzpfsMxUq0': 1, '@marypcbuk': 1, '#djset': 1, '#JohnyHerbert': 1, '@_Potz_': 1, 'bitterness': 1, 'https://t.co/1iiqA9Aa2s': 1, 'iphone': 1, 'contradict': 1, 'trance': 1, '#kiksex': 1, '#NgarepFollbackDariNabilahJKT48': 1, 'Precious': 1, '→': 1, '@KylieDeVille': 1, 'Cardio': 1, 'TODAY': 1, '@da_kar': 1, '@meatbingo': 1, '@sweetnuskie': 1, 'uniform': 1, '@phycoinsc': 1, \"thought's\": 1, 'titles': 1, '#thistlelove': 1, '#am': 1, '@MazeRunnerMovie': 1, '@JoelSuthesh': 1, '@Anna_Colom': 1, 'VDDDD': 1, 'https://t.co/OLfiC333Yr': 1, 'Airport': 1, 'sorting': 1, '@knhillrocks': 1, '@Selinabelly': 1, '@tracysharpy3': 1, '@hwk46': 1, 'SeungYeon': 1, '@scorp84': 1, 'Latmon': 1, 'Sadomasochist': 1, '@SnowTiger02M': 1, '#Hannibal': 1, '@stairsupplies': 1, 'Hoxton': 1, 'http://t.co/fhHCzktuxM': 1, '@Uruk_Hai2222': 1, 'Marula': 1, '@GeraldKoh987': 1, '@stylesrose94': 1, '@Kentsson': 1, '@Pgelis': 1, 'Arts': 1, '3weeks': 1, 'culture': 1, 'ILY': 1, 'http://t.co/Ubl93YSSxf': 1, 'http://t.co/gEj5b3qPqS': 1, '@Wichita1771': 1, 'drinkt': 1, '@KameshRajak': 1, '@babagby': 1, 'builds': 1, 'prelims': 1, '@DaManDJ3': 1, '6pm': 1, 'hisaab': 1, 'Greetings': 1, 'x4': 1, '@ljabasula': 1, 'taxi': 1, 'Mam': 1, '@mgallizzi': 1, '#quadbiking': 1, 'bravo': 1, '@Kronin1': 1, 'Pri': 1, '#IWishIKnewBetter': 1, '♌': 1, 'Talkmobile': 1, '@barrybateman': 1, '@IamComet67P': 1, 'ngga': 1, '@DiploMix': 1, '@PsycheDK': 1, '#srbija': 1, 'waters': 1, '@HIDEO_KOJIMA_EN': 1, 'http://t.co/5UWZh015eo': 1, 'nancy': 1, 'psychopaths': 1, 'kickstarter': 1, 'http://t.co/RTWjc7e1lM': 1, '@Independent_ie': 1, 'tomorrows': 1, '@w_illiam_tan': 1, '@beat_trees': 1, '@UzmaDanish1': 1, 'Trion': 1, 'Mahnor': 1, 'ap': 1, '@SR15BLTY': 1, 'pouring': 1, 'bb': 1, '@Murrayyyyyyyy': 1, 'GUYS': 1, 'http://t.co/NibAbZsKEL': 1, 'clean': 1, 'lemon': 1, '#goofingaround': 1, '#tinder': 1, '@robblackie': 1, 'ape': 1, '@DomSequitur': 1, '@SkyscannerUSA': 1, 'measure': 1, '@RobertsCoElec': 1, '@TobyJWilkinson': 1, '@itsbecca65': 1, 'gud': 1, '@ChanoMagbuhos': 1, '@AwesomeAngel40': 1, 'moves': 1, '@halstonsage': 1, 'Deepthroat': 1, 'Tame': 1, '@ruSh_Me': 1, \"Where's\": 1, 'Sneak': 1, 'maroon': 1, '@VnG_Brando': 1, '@huggi77': 1, '#BuckinghamPalace': 1, 'alansmithpart': 1, '@MrRyanSampson': 1, '@AdeptGroupLtd': 1, 'http://t.co/HHoyjasr1A': 1, '@_ridabot': 1, '#NailedIt': 1, 'https://t.co/dRiMWpj7ON': 1, 'http://t.co/cYnV18t4ZT': 1, '@JL_Cameraclix': 1, '@luginehiary095': 1, '@OMFGitsGEENA': 1, '#ZephBot': 1, 'exist': 1, '#wordoftheweek': 1, 'lip': 1, 'midday': 1, 'STAY': 1, 'Servus': 1, 'Lands': 1, 'bundle': 1, 'tentatively': 1, 'http://t.co/I5Xs6tQE9W': 1, 'monday': 1, '@milay_44': 1, 'http://t.co/hiacH6jXzR': 1, 'http://t.co/BMPfRjAb2d': 1, '@YourStylist': 1, 'degrees': 1, '#PorscheSuperCup': 1, 'Ack': 1, '@santherlabelle': 1, 'Geoff': 1, 'http://t.co/uVAZ6cA1Ig': 1, 'presenting': 1, 'http://t.co/Y8yTe8E9wg': 1, '@DJBashKenya': 1, '@supersarcastiel': 1, 'Ty': 1, '@traveldudes': 1, 'http://t.co/T6lOMDaFCz': 1, '#tradetalk': 1, '@CellarDoorExp': 1, 'bottoms': 1, 'livi': 1, 'https://t.co/EOydn5TLKr': 1, 'http://t.co/xxlXs6xYwe': 1, '@sassylouwt': 1, 'moon': 1, '@seamus_bannon': 1, 'x37': 1, 'newspaper': 1, '@EdmundMcMillenn': 1, '@Fredrik_S': 1, '@FemaleBloggerRT': 1, 'particpants': 1, '@MarkoLauhiala': 1, 'lollipop': 1, '@Dicle_Aygur': 1, 'philippines': 1, '@SupporttheFBU': 1, 'sticking': 1, '@ocecad34': 1, 'listenable': 1, 'Mfundo': 1, '#FMFamily': 1, '@dhilaelf2': 1, 'sizams': 1, '@NKWarraich': 1, 'youuu': 1, '@steveaoki': 1, 'easily': 1, 'http://t.co/IGc54dj3fJ': 1, 'prolly': 1, 'Sheep': 1, 'kick': 1, 'workshop': 1, '@ernezpjy': 1, '@Artofsleepingin': 1, 'plugin': 1, '@bluemonki': 1, 'Admin': 1, 'https://t.co/aYaCd8aIPb': 1, 'Dorset': 1, '@lalochezic': 1, '#LookForTheO': 1, '@Manavparekh': 1, '@halfmoonrun': 1, '@nikimcglynn': 1, '@davidrmoloney': 1, 'http://t.co/XH4o3z1mwt': 1, '@PaulPNE70': 1, 'Gina': 1, 'Ariana': 1, 'FOLLOW': 1, 'http://t.co/h8wqtuoP8T': 1, '@DarkCorb77': 1, '@ailyngarciia': 1, 'burfday': 1, '@david_statter': 1, 'awareness': 1, '@BeingAv13': 1, '@_lafontpresse': 1, 'http://t.co/lRGfvh3yWg': 1, 'display': 1, '@co_media_': 1, '@cumminiall': 1, '@VegaSchool': 1, 'major': 1, 'hmu': 1, '8)': 1, '@metalgear_jp': 1, 'x21': 1, 'heartbeat': 1, 'screenshots': 1, 'https://t.co/U3EFde4xuH': 1, '18.99': 1, '@bbc': 1, 'lasts': 1, '@MelodySpetko': 1, 'heated': 1, '#xboxone': 1, '@shree42007': 1, '@ghrowe': 1, 'heavy': 1, '@Flash_y0': 1, 'sleeps': 1, 'Fwm': 1, '@ForYourKindInfo': 1, 'variety': 1, '@lcfcset': 1, 'naps': 1, '@Guillaume351': 1, 'Creta': 1, 'contractually': 1, 'sakin': 1, '@Cryspp_': 1, '@tis_cake': 1, '@batesm0t3l': 1, 'criticism': 1, '@FireDoorsDirect': 1, 'madadagdagan': 1, 'pastimes': 1, 'raspberry': 1, 'Nadal': 1, '#workout': 1, 'Sons': 1, 'http://t.co/tucq8X8Nye': 1, '@EvokingMaster': 1, '@ydirikk': 1, '@mhmmdeknci': 1, 'hAppY': 1, 'fast': 1, '#organic': 1, 'http://t.co/e6r9dhQBC7': 1, 'ු': 1, 'consent': 1, \"m'dear\": 1, '@EmInTrouble': 1, 'incentive': 1, \"She's\": 1, 'thin': 1, '@Myninaaa': 1, ':(': 1, 'http://t.co/mVWm6PefFG': 1, '25ish': 1, 'soothing': 1, 'sehun': 1, 'fOr': 1, 'http://t.co/8R2Nrl31IC': 1, '10:16': 1, '@Gangesh_Gugi': 1, 'stashed': 1, 'Ted': 1, 'programme': 1, 'lah': 1, '@wintermaximoffs': 1, 'sooooooo': 1, 'Raheel': 1, '@Pranto_ahp': 1, '@IleneVillanueva': 1, '@safirahasnaerdy': 1, '#FrequentFlyer': 1, 'thks': 1, 'legal': 1, 'wiellys': 1, 'BAD': 1, 'YEP': 1, '@smilebcbye': 1, 'meni': 1, '@jarpad': 1, '90210': 1, '@LatinMotion': 1, '5:30': 1, 'Fantasy': 1, 'BC': 1, '98': 1, '@Chewy_Lemon': 1, '@HumayAG': 1, 'Curvy': 1, 'todos': 1, '@martin_7a': 1, '@BRose_24': 1, '#GreatKenya': 1, 'tearout': 1, 'http://t.co/IBoe0e1aXt': 1, 'retailers': 1, 'heatwave': 1, 'http://t.co/L8KX8flvcl': 1, 'DAT': 1, 'understanding': 1, 'http://t.co/xD6pkorhEU': 1, 'BETTER': 1, '@APaulicand': 1, 'Shoeshi': 1, '#prosecco': 1, 'Enjoyed': 1, 'appearances': 1, 'matters': 1, 'compliment': 1, '@Ericziengs': 1, '@OMGitsBern_92': 1, '#VictoriaSecret': 1, '@2fmke': 1, 'Dale': 1, 'Muaahhh': 1, 'http://t.co/WRWIjFNfKi': 1, 'jailbroken': 1, '@hackadayio': 1, '@wncer1': 1, 'https://t.co/sw5O1Bz4y9': 1, 'http://t.co/v5BW8VkiVa': 1, 'Chrome': 1, 'http://t.co/qhhOGhM97S': 1, 'Explorers': 1, '@Joursans': 1, '@AppaWarcow': 1, 'banana': 1, '#safari': 1, 'runs': 1, 'Donetsk': 1, 'Yipeeee': 1, '80Khan': 1, 'traine': 1, 'https://t.co/Sv4cWevOxi': 1, 'wese': 1, '@DesignThinkMake': 1, '@ImAngelinaValen': 1, 'BEYOND': 1, 'brought': 1, 'http://t.co/7uiVxbZNMp': 1, 'Muslim': 1, '@ajayg303': 1, 'basemaps': 1, '@1dfamily_d': 1, 'hiii': 1, '@LucienneDiver': 1, 'Yeeeey': 1, '642': 1, '@ESPSFA': 1, 'lost': 1, '@Gamer1811': 1, 'https://t.co/w2UgX4VEUz': 1, '@gamesyouloved': 1, 'priced': 1, 'http://t.co/iz4sgPsdcW': 1, 'Fatiguing': 1, 'monster': 1, '#sexi': 1, 'Recipe': 1, '#weloveyounamjoon': 1, 'http://t.co/eNq3XuOPSN': 1, 'https://t.co/JA8FUggJwT': 1, '@studiomister': 1, '@Laiten1': 1, '@BrownOwlOrchid': 1, '@KingDavid_d1st': 1, '@kimramshead': 1, '@TheEmblaze': 1, '1100D': 1, '@MunaAbuSulayman': 1, '@alrightPET': 1, '@Ted4Erdington': 1, '#Cimbom': 1, '@FutureBoundEnt': 1, 'holistic': 1, 'Ahahah': 1, '@vltrdlcrz': 1, 'butt': 1, 'LeanneRiner': 1, 'ontrack': 1, 'http://t.co/pVd5n3deoS': 1, '@NickClark_1': 1, 'http://t.co/cJ1t3JPqvE': 1, '@djchiavistelli': 1, 'deo': 1, '@DawsePaul': 1, 'assessments': 1, '@americascup': 1, 'Usagi': 1, 'garlic': 1, 'Min': 1, '@im_soexcited': 1, '@zfzar': 1, '@BigBraMan': 1, '6:30': 1, \"Foxy's\": 1, 'uni': 1, 'odd': 1, '@xSukeex': 1, 'continuously': 1, 'teleportation': 1, '@Hre_Krsna': 1, 'apartment': 1, 'http://t.co/1nXM8mxmbu': 1, '@KatGraham_Italy': 1, 'swim': 1, '@anish_kochar': 1, 'http://t.co/zWIln6s729': 1, 'verse': 1, 'https://t.co/pWvwQ8xg1C': 1, '@Gelatiscoop': 1, '@_uzumce': 1, 'Thrilled': 1, '@ontokkiland': 1, 'ho': 1, 'soon.Thanks': 1, 'mm': 1, '@grumpyboy': 1, 'rear': 1, '@iamValC': 1, '@HeyItsTrisha01': 1, 'heck': 1, '@netballworldcup': 1, '@labourlewis': 1, 'Captured': 1, \"U'll\": 1, '@Bravotv': 1, 'Cocoared': 1, '@CaityYoungblood': 1, 'http://t.co/4mmDQLpEA6': 1, '@roofchaelin': 1, '@mhaieighth': 1, '@gazza2209': 1, '@NiaFHenry': 1, 'Balkan': 1, '@EricJLyman': 1, '@BigAl_lfc': 1, 'barely': 1, '@Polley93': 1, 'aayegi': 1, 'selections': 1, '@MyGardenCoachUK': 1, 'Offices': 1, 'Brambhatt': 1, 'kingfisher': 1, 'non-Mapbox': 1, '@Br1stler': 1, 'https://t.co/Bg4SxKN3tg': 1, '@saikocat': 1, 'Nominiere': 1, '#barkada': 1, 'hmmm': 1, '@therealrobcook': 1, '@Daniel_O_16': 1, 'quad': 1, 'monthly': 1, 'Early': 1, 'kurtas': 1, 'Ellis': 1, '@BotchFrivarg': 1, 'identified': 1, '@aka_pump': 1, 'multiple': 1, '@RosaCrowee': 1, 'calories': 1, 'Humanist': 1, '#tellanoldjokeday': 1, '@KBaitup': 1, '@CowokAddict': 1, 'elevate': 1, '@Trishie_D': 1, '@Sandy_Toes75': 1, 'McDo': 1, 'hschool': 1, '@ImToxic21': 1, '@cekimmr_23': 1, '@Protyre': 1, 'evil': 1, 'linking': 1, 'theoper': 1, 'catsPJs': 1, '#decorating': 1, '@YayanijadeEpal': 1, 'chaddi': 1, '#ZitecOfficeStories': 1, '@NickTheBullsFan': 1, 'heading': 1, '@Martelsbusvill': 1, '@coracaronan': 1, '@KrissyDClayton': 1, '@EvaSpying': 1, '@hotwifecleo': 1, 'http://t.co/iS8BxMseYj': 1, '@LuciHolland': 1, 'efforts': 1, '#commercial': 1, '@steve_falla': 1, 'FeyTyaz': 1, '@compexly': 1, '@Harbinger1973': 1, 'trades': 1, 'lie': 1, 'https://t.co/PeTkjvF5af': 1, 'Billie': 1, '@Zita_West': 1, '@RebeccaMorse10': 1, 'specially-marked': 1, 'tad': 1, 'http://t.co/InF1DVKHZk': 1, '@renukaVyavahare': 1, '#ChaloNiklo': 1, 'http://t.co/jisayDDWve': 1, '@Migogos': 1, 'http://t.co/eqARyTYK60': 1, 'Jamie-Lee': 1, 'https://t.co/iWTWzRFrKt': 1, 'https://t.co/nysAkC8IF0': 1, 'beg': 1, 'owned': 1, '@vadervanodin': 1, '@amy14_x': 1, 'http://t.co/FtI5vLQJks': 1, 'couch': 1, 'initially': 1, 'https://t.co/FtiAVocFll': 1, '@BBlogRT': 1, '#teamnatural': 1, '@aliyaskates': 1, 'http://t.co/gZdJJ0tKrk': 1, '@urstrulyMahesh': 1, 'infirmities': 1, '#prada': 1, '#colorpencils': 1, '@BryanFuller': 1, 'key': 1, 'JACOB': 1, '#LetsProcrastinate': 1, '@Mr_Kitney': 1, 'https://t.co/OiWrwoFuY1': 1, '@TheLlamaverse': 1, 'Bing': 1, 'Linking': 1, 'Axio': 1, '@MrsHHundal': 1, 'rqst': 1, 'PHYSICS': 1, '#جمعة_مباركة': 1, '@peter_osoro': 1, '@maddijanemusic': 1, '@forlodge1': 1, 'phir': 1, 'https://t.co/SYqtgaq21I': 1, 'taft': 1, '@NickRomanTV': 1, 'http://t.co/vaw2lK80qO': 1, '@jallossery': 1, 'fuk': 1, '@kingso': 1, '@AlexandraTirziu': 1, '@kaushikcbasu': 1, 'Sour': 1, 'http://t.co/fN0ojENcCm': 1, '@Kitronik': 1, '@FiftyShadesPA': 1, 'scarred': 1, 'elite': 1, 'recommended': 1, '😷': 1, 'MONEY': 1, '@ark_yujin96': 1, 'http://t.co/sbbmbDR6us': 1, 'poetry': 1, 'Tweeps': 1, '@wendyxRV1': 1, '@Eymvnique': 1, 'paperboys': 1, '@stv72': 1, '@flippinginja': 1, '@fafaarbiee_': 1, 'goosnight': 1, '10-20': 1, 'Coca': 1, '@festivalbrides': 1, 'ngi': 1, '@SciEllen': 1, '@lulgeann': 1, 'scary': 1, '@GUCCIGiRRL_': 1, 'Lori': 1, '@dayordonez_': 1, '👌': 1, 'mz': 1, 'limited': 1, 'Summoner': 1, '@hesaffection': 1, '@smartcookiesam': 1, 'yok': 1, 'sturdy': 1, '#cocktails': 1, '@ColinHalby': 1, '80x': 1, 'Rohit': 1, 'stumble': 1, 'prepare': 1, 'aff': 1, '#banter': 1, '#gamedesign': 1, 'bulletin': 1, 'force': 1, 'subtitles': 1, 'Games': 1, 'puppy': 1, 'hologram': 1, 'drunk': 1, 'fowles': 1, 'flowing': 1, 'fifa': 1, '@gla_airport': 1, '@bevclack': 1, 'Godbless': 1, '@lazybull81': 1, 'shouts': 1, 'GUD': 1, 'http://t.co/y3AV5khhim': 1, 'Fallout': 1, 'aspect': 1, 'Oven': 1, 'pad': 1, 'thoroughly': 1, 'flavors': 1, '@celestinesofie': 1, '@huskar_nana': 1, 'co-ord': 1, 'certainty': 1, '@rusintez': 1, 'robbed': 1, 'abstinence': 1, \"PHP's\": 1, 'Weltum': 1, 'attached': 1, 'shell': 1, 'http://t.co/6ZcJeWCqro': 1, '@Blahkumaran': 1, '@osmosisness': 1, 'http://t.co/4NPwOGr9QL': 1, '1600': 1, '@DanGodOfWar': 1, '@KingsmenLead': 1, '🌷': 1, 'correct': 1, 'Worldwide': 1, 'https://t.co/v3jnKWMxCM': 1, '@ashleyannvlnc': 1, 'x30': 1, 'http://t.co/V0Rm1BsEIj': 1, '#AkshayMostLovedSuperstarEver': 1, '@HecticDad01': 1, 'https://t.co/2bf3PInklo': 1, '@leisuremarkltd': 1, '@BaileyWalshLLP': 1, 'http://t.co/plFpD86iEq': 1, '@alibakes': 1, 'Nighty': 1, 'http://t.co/wlSz27qizK': 1, '#TheBestAngKapuso': 1, 'Kevens': 1, '@BeingManisha': 1, '@AlyssaC_HK': 1, '@thefrfamily': 1, '@LilyTins': 1, 'skill': 1, '#NatGeo': 1, 'estoy': 1, '@Mecastor01Mica': 1, 'pads': 1, '@AndrewAlexMac': 1, 'pubes': 1, '@ViralNinja': 1, 'GWD': 1, '@RisingTrend': 1, 'Mans': 1, '@kelseabellum': 1, 'PALS': 1, 'ORDERS': 1, '@vivadihotel': 1, 'https://t.co/yyOUEKgCFM': 1, '@SouthAfrica': 1, '@NYorksSocialist': 1, '@monticles': 1, 'kins': 1, 'BFF': 1, 'https://t.co/rtz4SsXA0O': 1, 'draw': 1, 'thaaanks': 1, 'http://t.co/i02mJIWSr2': 1, 'https://t.co/H5bWUM9S3u': 1, 'https://t.co/MhK3B3wOpQ': 1, 'denims': 1, 'wah': 1, 'Realised': 1, 'rm35': 1, 'Bomb': 1, 'Van': 1, 'faking': 1, '@ThePrintQuarter': 1, '@JessStewart1': 1, '#BleedGreen': 1, 'Akarshan': 1, '@ksdahyun': 1, 'Ft': 1, '@harribungay': 1, 'designed': 1, '@FT': 1, '@etherealmind': 1, 'argue': 1, 'HelpingGroupDms': 1, '@villagebirth': 1, 'x17': 1, '@JanPrince63': 1, 'mamaya': 1, 'pushing': 1, 'http://t.co/2AxBuaPKMS': 1, 'kidney': 1, '@JayMcGuiness': 1, '@RVjoy3': 1, '@dcodedboii': 1, '@StefanPowell': 1, '#HappyFriedDay': 1, 'http://t.co/otGCWw1gUu': 1, '@MrLachie': 1, '#incredibleindia': 1, 'propriety': 1, 'https://t.co/oESYb6CfAs': 1, '@alanscottwoods': 1, '#GES2015Kenya': 1, 'newest': 1, '@BOHEffy': 1, '#Fingerscrossed': 1, '@mrharrymelling': 1, '@praveen_a': 1, 'bcause': 1, '@x0lovestephi': 1, '@annisast': 1, '#OurDisneyInfinity': 1, '@KingsleyDali': 1, '@calumscool': 1, 'DID': 1, 'https://t.co/POpXUSh1ab': 1, 'poem': 1, '132': 1, 'dedicated': 1, 'yoga': 1, '@BrentpCarey': 1, 'Alhamdullilah': 1, '@JensenAckles': 1, 'adventurous': 1, 'Dobar': 1, '@MrBoffly': 1, 'Superstars': 1, '@xlaurajaynex': 1, 'blogiversary': 1, 'closely': 1, \"gf's\": 1, '@BF_P2C': 1, '@CreeperFartss': 1, '@Im_bharathi': 1, 'http://t.co/KfqcXZSVOT': 1, 'babygirl': 1, 'wirh': 1, 'kyunke': 1, '@TheStoveRoom': 1, 'SLEEP': 1, '#vikings': 1, 'tud': 1, '@Brandon30_': 1, '@ImSoff_': 1, 'conserve': 1, 'gaming': 1, 'Hiii': 1, 'http://t.co/oGw5sVij7G': 1, '1:30': 1, 'steroids': 1, 'nirvana': 1, '@BeckieJPhoto': 1, 'https://t.co/jppbF7UIK3': 1, 'chosen': 1, '@neut_': 1, 'coughing': 1, '@EscapologistGl': 1, '@gr8fllady2': 1, '@EGX': 1, 'LAN': 1, '@AraRedjeb': 1, '@Thomoli': 1, '@ade_rob': 1, 'Gleam': 1, 'reply': 1, 'dnt': 1, 'umaga': 1, '@Calum5SOS': 1, 'nibbling': 1, '@spreecoza': 1, 'Beyond': 1, 'https://t.co/xItDPKMSzn': 1, '#jezwecan': 1, 'Settle': 1, '@Troylr5ever': 1, 'thanking': 1, 'Chau': 1, '@effinoreos': 1, 'Amen': 1, '@Megalos_K': 1, 'herbs': 1, '#SOTW': 1, 'timming': 1, '@vedahhh': 1, 'bleaches': 1, 'carpe': 1, 'warmup': 1, 'Blois': 1, 'base': 1, '@SynergeeLtd': 1, '@liamwaved': 1, 'Aaahhh': 1, '@Eddie_Aviation': 1, 'sweaty': 1, '@JavsNH': 1, 'hygiene': 1, 'Cuties': 1, 'hand': 1, '@JohnVignocchi': 1, 'aa': 1, '@timbudgen': 1, '#fridayfun': 1, 'Pokemon': 1, '#birthdaypresent': 1, 'Germany': 1, '@shabnam2824': 1, 'TASK': 1, '@Circuit500': 1, '@KeithRParsons': 1, \"when's\": 1, 'TY': 1, 'https://t.co/DvBssHbrfx': 1, 'fna': 1, 'remove': 1, 'Reachability': 1, 'Common': 1, 'verified': 1, '@_stevievie': 1, 'Hellooooooooo': 1, '@norman20015949': 1, '@jitenkumargupta': 1, '@WobblyCollie': 1, 'Bhaiya': 1, 'http://t.co/BF7YfuQrPi': 1, 'Billy': 1, 'coat': 1, 'couscous': 1, 'baloch': 1, '#crowdfunding': 1, 'organise': 1, 'https://t.co/WDgaxar1T7': 1, '@EastsideFlip': 1, '@BadBoyBunny': 1, '#Peachyloans': 1, '@RolfeW': 1, '#iLikeit': 1, 'PHL': 1, 'Pedant': 1, '@kourtneykardash': 1, 'harmos': 1, '1400': 1, 'particular': 1, 'killua': 1, 'youth@bipolaruk.org.uk': 1, 'http://t.co/jKTIjQxYoW': 1, 'lasted': 1, '@MikeJack1976': 1, 'Jax': 1, '@PriestClass': 1, '@HackOldham': 1, '@koreacholics': 1, 'Yoohoo': 1, 'competition': 1, 'procedure': 1, '@ENTIQ': 1, 'Harana': 1, '@QueenOfTheSonic': 1, '@maphisa301': 1, '@oxyoshi_': 1, 'bush': 1, '@AmazingPhil': 1, 'CA': 1, '#Ukraine': 1, 'Daaru': 1, '@TsMagicCandy': 1, 'renamed': 1, '@trisha1234': 1, 'gooooooo': 1, '@danvpeterson': 1, '@TikoSD': 1, 'learnt': 1, 'Europe': 1, '@EMauFouX': 1, 'begun': 1, \"lady's\": 1, 'Lets': 1, '#trip': 1, 'Wellington': 1, 'Jason': 1, '@tom_peters': 1, 'Costs': 1, 'http://t.co/2Kjd6ACp1S': 1, 'muntu': 1, '@chriswiggin3': 1, '@shfly3424': 1, '@prettylichu': 1, '@rurimofu': 1, 'defenitely': 1, '@ke7zum': 1, 'https://t.co/blnolTbXEY': 1, 'http://t.co/t2z9ax4qyd': 1, '@briones198': 1, '@nataliehscott': 1, '@awselu': 1, '@namcew': 1, 'prefer': 1, '@AmyyTheRebel': 1, 'divine': 1, '@APC_UK': 1, 'relaxing': 1, '@Condor_Ferries': 1, 'https://t.co/IxFXJi9YJ8': 1, 'Bless': 1, '@runnersworldza': 1, '@CatherineLW98': 1, 'RHS': 1, '@kajen_bhavya': 1, 'Meth': 1, 'FIFTH': 1, '#zorroreturms': 1, 'YTB': 1, '@xownage133': 1, '@JYGClub': 1, 'hopeful': 1, 'alternative': 1, 'During': 1, '@raraloqz': 1, 'congratulation': 1, '@pointsolutions3': 1, '@FlowersandCards': 1, 'Changed': 1, '@voice_kyohei': 1, '@pawsforawalk': 1, 'Recruiting': 1, 'http://t.co/UVZwqVxkVX': 1, 'pot': 1, 'luxord': 1, '#job': 1, '@ayeeshamirza': 1, '@jeremygutsche': 1, '@AmberMarineArt': 1, 'http://t.co/ILy03AtJ83': 1, 'Algorithm': 1, 'friday.It': 1, 'Tharkness': 1, '@peterlizmaher': 1, 'pigeon': 1, 'subtle': 1, 'smiled': 1, 'alice': 1, 'exec': 1, '@scoobs1969': 1, 'Opening': 1, 'beers': 1, 'HQ': 1, '@superninjaalan': 1, '@CaraToyne': 1, '#AmNotness': 1, 'Test': 1, '@HantsOnlyTeam': 1, 'uneventful': 1, 'http://t.co/NHHhKPXstg': 1, 'parts': 1, 'Lesson': 1, 'WiFi': 1, '@ArranAromatics': 1, '@OrbaniDiana': 1, '@BOYFI_MW': 1, 'Jingly': 1, '@Smit_Meister': 1, 'tastes': 1, '@luhanqutie': 1, 'http://t.co/xR1W7ZijCk': 1, '@Alixharrow': 1, '#bindingofissac': 1, 'KFC': 1, 'http://t.co/35EZmlW16u': 1, '@mimoha22': 1, 'loving': 1, 'hand-lettering': 1, '@leonrestaurants': 1, '#brainchild': 1, '@Dutts1981': 1, '@GirlguidingScot': 1, '#IKPrideOfPak': 1, '@jccaylen': 1, 'http://t.co/TnHJD36yzf': 1, 'Hairpin': 1, 'Bay': 1, 'https://t.co/ydLzrWYrL6': 1, '@sugarplumsteve': 1, '@_PetPuK_': 1, '@FL_Childrens': 1, 'Durood': 1, '156': 1, 'narrow': 1, '@EunjiJeji': 1, '#Greece': 1, 'diaries': 1, 'Double': 1, 'ETL': 1, '@Meli_bytes': 1, '#FB': 1, 'https://t.co/w47eY93ZIQ': 1, 'http://t.co/3db8Bj5trk': 1, 'http://t.co/LshgwcXsSv': 1, 'http://t.co/l3yocj6Y8h': 1, 'EXCITING': 1, 'Riding': 1, '@SaidByAlisha': 1, '@prettyden15': 1, '@3ocialMediaTips': 1, 'pake': 1, 'Olympic': 1, '@sheeraulo94': 1, '@AcctncyProblems': 1, 'siguro': 1, '@creampuffshinee': 1, '@Hijay09': 1, 'http://t.co/jay6beUsFd': 1, 'Gary': 1, 'Ta': 1, '@kellyalovell': 1, 'procrastinating': 1, 'Drink': 1, 'jiba': 1, '@RSkrillex': 1, 'Comet': 1, '7am': 1, 'president': 1, 'http://t.co/YaYzAbtHtX': 1, 'Shiiiitt': 1, '@_sarah_mae': 1, \"spot's\": 1, 'bonus': 1, '#ClientVisit': 1, 'http://t.co/iDdtACkA4K': 1, '@philconcerts': 1, '#BlackCountryFair': 1, 'SnS': 1, '@Baldbuzzard4u': 1, 'Phil': 1, '@Drake_Heuertz': 1, 'America': 1, 'therver': 1, '#thegrandad': 1, 'nil': 1, 'moviee': 1, 'ranges': 1, '@bethamari': 1, 'Soph': 1, 'bapu': 1, '@gpeasey': 1, 'ohh': 1, 'Wayward': 1, '@ZoeyChandler6': 1, 'FRIENDS': 1, '@DanielMenzel10': 1, 'x24': 1, 'Ambrose': 1, 'reactions': 1, 'Sense': 1, 'vidcon': 1, '@_Kimimi': 1, 'usah': 1, '#Gorgeous': 1, '@JulieTwist09': 1, '@Dahlizma': 1, 'Mistress': 1, 'http://t.co/bSgiJFpICc': 1, '@retrodramafans': 1, '@unlatches': 1, 'Watford': 1, '#Rain': 1, 'Anytime': 1, '@MartinaGamb': 1, '#Itter': 1, 'http://t.co/KwlZtWSREM': 1, '@BeckyBedbug': 1, '@F1StatMan': 1, '@AWonderBall': 1, 'HAHAHHAAH': 1, 'Running': 1, 'Freshly': 1, '@txqiuddin': 1, 'drugs': 1, 'badminton': 1, 'Hmmm': 1, '@Dopjones': 1, '@ChloeeElmoree': 1, 'published': 1, 'comeback': 1, 'dety': 1, 'http://t.co/W6Dy130BV7': 1, 'http://t.co/5kon9Txmf6': 1, 'Brighton': 1, '@AshrafUzma': 1, 'oliviafowles': 1, 'Pretty': 1, 'Graduate': 1, '@DJTiny_Sam': 1, 'http://t.co/MnYKjgxBpA': 1, '@SHINEUKCharity': 1, 'shauri': 1, '@ZeeTV': 1, 'viable': 1, '@KristophCajon': 1, '@yknoC': 1, 'Lots': 1, 'Alison': 1, '@CCIFCcanada': 1, 'kpop': 1, '#StaY_BlesseD': 1, 'https://t.co/STI4FFABgS': 1, 'Granny': 1, 'vocal': 1, '@Hell_enaDaVex': 1, 'Wiz': 1, 'um': 1, 'ACHI': 1, '@d_lawbreaker': 1, '@izblariana': 1, 'pure': 1, '@sustrans': 1, 'http://t.co/PnohLXn4vv': 1, 'Blarney': 1, '#YouthCelebrate': 1, 'Northern': 1, '@ShevoyzOfficial': 1, '@JulieWestern': 1, 'crazy': 1, '@jsjciy': 1, '@FieldLeisure': 1, 'mb': 1, 'meds': 1, 'hobby': 1, 'http://t.co/FLVKMeaL1i': 1, \"Dostoevsky's\": 1, 'https://t.co/zIITPKlIPz': 1, 'pleaseee': 1, 'Santorini': 1, '@bryantduncan98': 1, 'xmas': 1, 'wears': 1, '@TobiWanDOTA': 1, '@IvanVissies': 1, 'http://t.co/yJz224nLXb': 1, 'dropped': 1, 'Probably': 1, '@misslittlevip': 1, '#Dishoom': 1, '@IstanbulPHP': 1, '@luvjoyein': 1, 'Ahah': 1, 'TEA': 1, '@JediEconomist': 1, 'Simply': 1, '@ciaela': 1, 'http://t.co/OpmjKJ66O1': 1, 'https://t.co/pfxsm8w3eT': 1, 'Pallavi': 1, 'owe': 1, 'ultimately': 1, '@kindofstrange': 1, 'closing': 1, 'Fully': 1, '@RuneScape': 1, '@2min4roughing': 1, 'agile': 1, 'yaad': 1, 'Tykkäsin': 1, 'Drawing': 1, 'Bruhhh': 1, 'obsession': 1, '@rs_sparks': 1, 'breath': 1, '@catameringue': 1, '@loulou_lucia': 1, 'Oss': 1, '@honestfandom': 1, 'Both': 1, 'disney': 1, '#lbloggers': 1, '@canyolix': 1, '@AbbeyPrimary': 1, 'MOO': 1, 'http://t.co/fB4z8atLS0': 1, 'Hawk': 1, '#TaxiKitchen': 1, 'Milo': 1, '_5_final_final_final': 1, 'http://t.co/fa56o6DOlq': 1, '#fuck': 1, 'hammies': 1, \"lassi's\": 1, '@CorcelEscort': 1, '@LukePolistena': 1, '@starksmurdock': 1, '@Inugamikun': 1, 'compensation': 1, 'http://t.co/RYHE6sKiJ2': 1, '@markwijs': 1, 'Trust': 1, 'Princess': 1, 'RP': 1, '@judyetmkmma': 1, 'Nixus': 1, '@StayfanChemin': 1, '@EJWoolf': 1, 'HOT': 1, '@grannaHarmony': 1, 'msgs': 1, 'DUPER': 1, 'Careers': 1, '@SimonBedford': 1, 'handshome': 1, 'http://t.co/k715EtENT3': 1, '@dalenaha1': 1, 'Video': 1, '@COPS_President': 1, '@thosecamvibes': 1, '@tangerinebean': 1, '@pallavijha': 1, '@tonyfernandes': 1, '#kissme': 1, '@hdez_emmy': 1, '@Jadejessicax': 1, '@speedyjx': 1, 'appeasement': 1, 'Nairobi': 1, 'Ha-ha': 1, '@LorSaguinsin': 1, 'tdy': 1, '@JusSweetEnough': 1, '🙌': 1, 'http://t.co/kd54m2IAm6': 1, '@RelaxationVR': 1, 'Chill': 1, '#DeathOfGrass': 1, '@bobwinder': 1, '@tamrinm_sings': 1, '@karunanundy': 1, '@GallearBecca': 1, 'https://t.co/bycJFFA1sg': 1, '@CathStaincliffe': 1, 'gig': 1, '@Bevanns': 1, '@CelebrityCruise': 1, 'Rhys': 1, 'brands': 1, '@stanstedchamber': 1, '#NowPlaying': 1, 'Downloading': 1, '@MrsBee21': 1, '@KendallJenner': 1, '@proudtobangkiki': 1, 'deploying': 1, '#Goodafternoon': 1, '@ManipalHealth': 1, '@NativeNoddy': 1, '@hahahakumakichi': 1, '@lisamarti76': 1, 'https://t.co/UB7DTtUo9G': 1, '@Yantilly': 1, '43': 1, 'IFC': 1, 'https://t.co/kkTgTf0qVG': 1, 'Lewis': 1, 'Gandhi': 1, 'https://t.co/jjXcm44YPJ': 1, 'Bideford': 1, 'rub': 1, '@Miss_Wilsey': 1, 'https://t.co/j21mgszCC8': 1, 'wana': 1, '@fellagenshit': 1, 'http://t.co/XxdpHuNfvp': 1, '@mkatju': 1, '@Loudahbear': 1, 'ribs': 1, 'thinks': 1, 'http://t.co/a7adI6uFtX': 1, '@thestylebox': 1, 'http://t.co/4UgujEyLOC': 1, '@FCUnitedMcr': 1, 'Remix': 1, 'celebration': 1, 'developed': 1, '#LazyWeekend': 1, '@parsnip45': 1, '@NTYorkshire': 1, 'toying': 1, '@stevieby': 1, 'Jonah': 1, 'title': 1, 'complicated': 1, 'unlimited': 1, '@Airtech_Studios': 1, '@Beatking_Sumedh': 1, 'in-App': 1, 'Mizz': 1, '@wishm4ster': 1, '@RachelLiskeard': 1, 'Sooooooooo': 1, '@taslimanasreen': 1, '#breaktym': 1, '@AlettaPetros': 1, '#ThankYou1Dfor': 1, '@Wirral_In_It': 1, '@moonlight69': 1, '#models': 1, 'japanese': 1, 'Sampath': 1, 'TEE': 1, 'Tengaman': 1, 'unforgettable': 1, '@Polished_teeth': 1, '@RETR0JOE': 1, 'ALBUM': 1, '@susie299': 1, 'http://t.co/BnyB8BteW3': 1, '@AlxznDr19': 1, '@christian1_ana': 1, '@VincentTong007': 1, '@charloc71': 1, 'cultural': 1, 'attempt': 1, 'DYING': 1, 'comic': 1, '@KioskAtThePark': 1, 'flume': 1, 'approving': 1, 'AN': 1, 'http://t.co/Kne2p4yFUq': 1, \"insha'allah\": 1, 'x7': 1, 'narrow-minded': 1, \"#Friday's\": 1, 'Money': 1, 'raising': 1, '@Cupacoco': 1, '@thewadekeller': 1, 'Amber': 1, '@Jenny_Musings': 1, '@GlobaluxGenesis': 1, 'http://t.co/FbVXnpNoo8': 1, '@DayHWStoodStill': 1, 'http://www/twitch.tv/lockedbeast1': 1, 'TnC': 1, 'http://t.co/3s3XF5q21N': 1, 'dragon': 1, 'Meme': 1, 'reservations@sandsbeach.eu': 1, '@fromislet': 1, '#ThrowbackFriday': 1, '@AB_Chapman': 1, '@THEINFORMINE': 1, 'Tag': 1, 'Gn': 1, 'doa': 1, 'SEE': 1, '@guywilliamsguy': 1, 'life-so': 1, 'lady': 1, '@TheDevenish': 1, '@0430alexu': 1, '#TheJuiceInTheMix': 1, 'https://t.co/hlF75RutDv': 1, '@Lihotmusic': 1, '@AnnieCushing': 1, 'https://t.co/zqD404DDuU': 1, 'escuchando': 1, \"Won't\": 1, 'Once': 1, 'BOY': 1, '#sorry': 1, '@nekonyoung': 1, '@mommydean74': 1, '@star_aline1': 1, 'topwater': 1, 'http://t.co/2q38loegUq': 1, '@teylatte': 1, 'Tatton': 1, '@jalilshop': 1, '@johnniewalkerph': 1, '#Estatic': 1, '#cam4': 1, 'http://t.co/DIL4YjCadQ': 1, '@TheRoofGardens': 1, 'GENSAN': 1, '@zannatur': 1, '@Chileeers': 1, 'Alma': 1, 'http://t.co/QTXo1fMXkE': 1, 'untapped': 1, '#sexchat': 1, 'attentive': 1, 'dan': 1, 'hastily': 1, 'Walk': 1, '#HBDMe': 1, 'lemess': 1, 'border': 1, '@Nada_Remah': 1, 'tessnzach': 1, 'alex': 1, 'http://t.co/MgaVjyNjEZ': 1, 'honored': 1, '@lnnamnd': 1, 'incomplete': 1, 'banda': 1, '@GarnierSA': 1, 'foam': 1, 'contribute': 1, '#revamp': 1, 'noted': 1, 'raincoat': 1, '@flimflammery': 1, '@iMartyn': 1, 'Ubud': 1, 'lessions': 1, '@Twinmumanddad': 1, 'sayed': 1, '@unicornsftnjh': 1, 'Youuuuuuu': 1, 'Noise': 1, '@quintonjournals': 1, '#GOHF2015': 1, 'THAT': 1, 'dark': 1, '@dreamshakes': 1, '@mogadeet': 1, 'possibilities': 1, '¦': 1, 'DOWN': 1, 'Royal': 1, '@CorderMrs': 1, '@waterrat77': 1, '@FlashHayer': 1, 'enemies': 1, 'hipster': 1, 'Sea': 1, 'http://t.co/aOKldo3GMj': 1, 'sadness': 1, 'skins': 1, 'Randomly': 1, '@BiancaAnsems': 1, 'http://t.co/CGTjR664Kj': 1, '@Patriotic_Me': 1, 'x15': 1, '@TehSmileys': 1, '@CaraandSam': 1, '@FakeGhostPirate': 1, '@askairasia': 1, 'ACTUALLY': 1, 'corridor': 1, '@Sp1ns': 1, \"Ted's\": 1, '@THExDOGFATHERx': 1, 'Movie': 1, '@DJSMOOK': 1, '@OurLitEscapades': 1, '@OhhhTommyC': 1, '@mRpOrTeR7': 1, '9bis': 1, 'atrack': 1, 'tank': 1, '@jesvineh': 1, '@HelenAnn_Davies': 1, 'http://t.co/20pODm7d8j': 1, 'college': 1, '#lol': 1, 'MP3': 1, '@tk_kjk_kndr': 1, 'belonging': 1, '#SE100Leaders': 1, 'entertaining': 1, 'http://t.co/Hk8VpyVCu6': 1, '@twiskerIFA': 1, 'Marseille': 1, 'suite': 1, '@sweetihej': 1, 'ark': 1, \"We'd\": 1, 'lesbian': 1, 'britain': 1, 'Carina': 1, '#besteverdoctorwhoepisode': 1, '@l0veedonuut': 1, '@DiamondMinecart': 1, 'TIME': 1, '@JeanMarcPN': 1, \"How're\": 1, 'https://t.co/7IDziFkG1E': 1, '@DrJonesWales': 1, 'mutual': 1, 'Followers': 1, '@HomeboyzRadio': 1, 'http://t.co/MD55NIzEnQ': 1, '@yadavakhilesh': 1, 'unmarried': 1, 'NEW': 1, '@CV_UHB': 1, 'hiding': 1, '@LBC': 1, '85552': 1, 'GIRLS': 1, 'Custom': 1, 'toilet': 1, '@CityofAshes': 1, 'eternal': 1, \"japan's\": 1, '@DMC1982Nice': 1, 'vines': 1, '0878 0388': 1, '200.000': 1, '@johnreport': 1, '@xPaleMoonlightx': 1, '@me1campbell': 1, 'dii': 1, 'loss': 1, 'printers': 1, '@BTSPRIME': 1, '325.000': 1, 'Hola': 1, '@davidpring91': 1, 'Seasons': 1, 'T___T': 1, 'CALM': 1, '@_dreyaniks': 1, '@sainsburys': 1, 'http://t.co/3ho3OZhLqC': 1, 'delightful': 1, '@swaveyjayy_': 1, 'Conversations': 1, '@WorldPerceived': 1, '@jayt_jubby': 1, '@IanPrasetya': 1, 'http://t.co/chjAquGBW5': 1, 'http://t.co/Bp1jrOakrB': 1, 'HuffPost': 1, 'http://t.co/E9nEtLezT6': 1, 'BONUS': 1, 'Massive': 1, \"jiyeon's\": 1, 'http://t.co/KfblbBBYkQ': 1, 'cunt': 1, '@sdchap8': 1, 'rare': 1, 'staring': 1, '@dealwithBARBIE': 1, '@KnowledgeMagIND': 1, '@bylkana': 1, '@seoulsjin': 1, 'https://t.co/Jed4Xvzakd': 1, \"Ray's\": 1, '#callinganimalabusehotlineasap': 1, '#CSRRacing': 1, '@InFaArmy': 1, 'http://t.co/oi7X2seSGi': 1, 'Complete': 1, 'saudi': 1, \"THAT'S\": 1, 'Turkish': 1, '@BillyAshworth93': 1, '@BahetiRidham': 1, 'ehm': 1, 'Umaru': 1, 'uppe': 1, 'on-pack': 1, 'Jess': 1, '@NicolaNeyhaul': 1, '@basementgalaxy': 1, '@buymobiles_help': 1, '@BartercardSB': 1, 'TREE': 1, 'http://t.co/rSAOyu7Vzu': 1, '@gamewriterMike': 1, 'koffie': 1, 'https://t.co/CFl0s5hwWw': 1, '@cheshiregsy': 1, 'LOVELY': 1, '@CheshireLadders': 1, 'Loop': 1, '@schangmine': 1, 'greatly': 1, '@dazmoriarty': 1, '@drparkave': 1, '@StormyKittyhawk': 1, '#Finland': 1, 'hannibal': 1, 'Run': 1, 'yosh': 1, '@hattersleyblue3': 1, 'http://t.co/j9oH0pJSfr': 1, 'Wayanadan': 1, 'Np': 1, 'Moisturizing': 1, 'TIX': 1, '@mykidsloveme2': 1, 'Rakyat': 1, 'http://t.co/InI8rcaptP': 1, 'homosexual': 1, 'Sameee': 1, '@FuschiaEffect': 1, 'google': 1, 'basketball': 1, 'asshole': 1, '@PagePlannerLive': 1, '@Dented_Deni': 1, 'advert': 1, '6gb': 1, 'mob': 1, 'Sweetan': 1, 'swt': 1, 'Fulton': 1, '@VisitLancashire': 1, '@BBCOne': 1, 'Kristin': 1, '@RalphLauren': 1, \"b'day\": 1, 'MochaMichelle': 1, '@CBBCTV': 1, '@JB_Voxy': 1, 'ripaaaaa': 1, 'Series': 1, 'Kills': 1, 'pounce': 1, 'Report': 1, '@Malan_Sanjaya': 1, '@CelestialTea': 1, 'Nyc': 1, 'https://t.co/KaTMAjqaTH': 1, '@rickoshea': 1, 'shud': 1, 'tent': 1, '@s_geary1': 1, '@jellybrations': 1, '@EmmaSlaterDance': 1, '#LondonDairy': 1, '@kkkdave': 1, 'network': 1, '@Indie_Shell': 1, '@nivedithg': 1, 'deya': 1, 'http://t.co/i9zotnyyec': 1, '#birthdaymoneyforjesusjuice': 1, '#favourites': 1, 'http://t.co/MXEKsnMvvX': 1, 'http://t.co/NrGOZ7DQgu': 1, 'quotes': 1, '@rsilver710': 1, '#England': 1, '@mrsekj': 1, '@darcy2981': 1, 'rescoops': 1, 'alerts': 1, 'http://t.co/ikHF6vKbyW': 1, 'tweeeps': 1, '@salo_mi': 1, 'welcoma.have': 1, 'Zodiac': 1, '@Matttubbb': 1, '#cray': 1, '@designideaspics': 1, '@dontyk': 1, 'rela': 1, '#Welsh': 1, 'http://t.co/a4zUxwEsV7': 1, 'anu': 1, 'airports': 1, 'planed': 1, '1707': 1, 'https://t.co/QSaoyO8CIk': 1, 'http://t.co/VTXNFCPFuI': 1, 'telling': 1, 'http://t.co/iZHXKoABi8': 1, '@Lamb2ja': 1, '@Nigella_Lawson': 1, '@SVInitiative': 1, 'pie': 1, 'http://t.co/cGGzwDM6dG': 1, '#N04JS': 1, 'Hahahaaah': 1, 'https://t.co/gYx34VfmkK': 1, 'kaytranada': 1, 'Scientist': 1, '#nikeindonesia': 1, '@LigiaMonroy': 1, 'century': 1, 'jangly': 1, '@DCarsonCPA': 1, '@ShortgamerUHC': 1, 'http://t.co/AbVIfJ3814': 1, 'http://t.co/JTjojcdhWG': 1, '@TheoGfeller': 1, 'insight': 1, '@Miss_Sejeng': 1, 'http://t.co/jPtWXGc4tg': 1, 'notion': 1, '#HRDsTellObama': 1, 'sadly': 1, 'http://t.co/3DiloYW9MJ': 1, 'https://t.co/HAiMzAdnHt': 1, 'shortlist': 1, 'Lu': 1, '5878E503': 1, '@Cloud2ltd': 1, '@246MissJessica': 1, 'languages': 1, '#boxroomcrafts': 1, '#Bboying': 1, 'tests': 1, 'expression': 1, '@LiamJenkins21': 1, '@JuniorStyleLDN': 1, 'benchers': 1, 'debacle': 1, '@aandreup': 1, '@schofieldkevin': 1, '@Ellynedesign': 1, 'refuses': 1, 'understood': 1, '@WearEponymous': 1, 'Thug': 1, 'phase': 1, 'http://t.co/S5Az1nSlHX': 1, 'saved': 1, '@ppritam009': 1, '@JaneFrankland': 1, \"dongwoo's\": 1, '@gitawnchstr': 1, 'http://t.co/ydq9krcVdd': 1, '@pprabha014': 1, 'blast': 1, 'preview': 1, 'http://t.co/iFopImCJb0': 1, '@Anbu002': 1, 'fanboy': 1, '@saritray2001': 1, '@katelallyx': 1, '@bintiM': 1, '@dunkindonutsnjh': 1, 'Fas': 1, 'Wednesday': 1, 'WHERE.DO.I.START': 1, '@STWevents': 1, 'b3dk': 1, '@foxxie75': 1, 'Abandoning': 1, '@qistnaa': 1, 'http://t.co/s3e2dmpt24': 1, \"Night's\": 1, 'XD': 1, 'pillars': 1, '@NonEvans': 1, '#supersmash': 1, 'Wedges': 1, 'Took': 1, '#cajunchicken': 1, 'Kleper': 1, '@Charles_Lister': 1, '@NiallHoran': 1, 'solar': 1, '@RK1610IsMe': 1, 'Asia': 1, 'dayz': 1, 'Ohioans': 1, '@AdeccoMalaysia': 1, '@sabah_cenatic': 1, '@WhitbyWhatsOn': 1, 'العنزي': 1, '@flowersandcards': 1, '@glnntbngy': 1, 'statement': 1, '@CloydRivers': 1, '@goldfrapp': 1, 'blessing': 1, 'https://t.co/KPCeYJqKLM': 1, 'Friend': 1, '@ILuvsScarlet': 1, 'Richard': 1, 'Tory': 1, '@himma85': 1, 'http://t.co/aRwmTLsFZr': 1, '@ealilovic': 1, 'NeoBytes': 1, 'terms': 1, 'Wave': 1, 'reviewing': 1, 'minded': 1, '@ReetAwwsum': 1, '@Woodslenny': 1, 'http://t.co/9j2aIxxDi4': 1, 'Tweets': 1, 'Damn': 1, '0.7': 1, 'Ducktails': 1, 'Silver-washed': 1, 'guides': 1, '@aliendovecote': 1, 'yeeaayy': 1, '@paulwiggins': 1, '@mutleydo': 1, 'mad': 1})"
      ]
     },
     "execution_count": 15,
     "metadata": {},
     "output_type": "execute_result"
    }
   ],
   "source": [
    "for text in pos_tweets.text:\n",
    "    n = tknzr.tokenize(text)\n",
    "    vocab.update(n)\n",
    "\n",
    "vocab"
   ]
  },
  {
   "cell_type": "markdown",
   "metadata": {},
   "source": [
    "How many unique token (words) in the corpus?"
   ]
  },
  {
   "cell_type": "code",
   "execution_count": 16,
   "metadata": {
    "collapsed": false
   },
   "outputs": [
    {
     "name": "stdout",
     "output_type": "stream",
     "text": [
      "The corpus has 15302 unique words.\n"
     ]
    }
   ],
   "source": [
    "print('The corpus has %s unique words.' % str(len(vocab)))"
   ]
  },
  {
   "cell_type": "markdown",
   "metadata": {},
   "source": [
    "What are the top 10 unique words in the corpus, by their counts?"
   ]
  },
  {
   "cell_type": "code",
   "execution_count": 17,
   "metadata": {
    "collapsed": false
   },
   "outputs": [
    {
     "name": "stdout",
     "output_type": "stream",
     "text": [
      "[(':)', 3691), ('!', 1844), ('.', 1341), ('you', 1341), ('to', 1065), ('the', 999), (',', 964), ('I', 890), ('a', 888), ('for', 749)]\n"
     ]
    }
   ],
   "source": [
    "print(vocab.most_common(10))"
   ]
  },
  {
   "cell_type": "code",
   "execution_count": 18,
   "metadata": {
    "collapsed": false
   },
   "outputs": [
    {
     "data": {
      "text/plain": [
       "{'!': 1844,\n",
       " ',': 964,\n",
       " '.': 1341,\n",
       " ':)': 3691,\n",
       " 'I': 890,\n",
       " 'a': 888,\n",
       " 'for': 749,\n",
       " 'the': 999,\n",
       " 'to': 1065,\n",
       " 'you': 1341}"
      ]
     },
     "execution_count": 18,
     "metadata": {},
     "output_type": "execute_result"
    }
   ],
   "source": [
    "dict(vocab.most_common(10))"
   ]
  },
  {
   "cell_type": "markdown",
   "metadata": {},
   "source": [
    "Does above list make any sense to you? Maybe not.\n",
    "\n",
    "Nonetheless, we should visualize the counter of unique words just because we can.\n",
    "\n",
    "We should just visualze the most 20 words because of the long running time."
   ]
  },
  {
   "cell_type": "code",
   "execution_count": 19,
   "metadata": {
    "collapsed": false
   },
   "outputs": [
    {
     "data": {
      "image/png": "[encoded data removed]",
      "text/plain": [
       "<matplotlib.figure.Figure at 0x10d68b1d0>"
      ]
     },
     "metadata": {},
     "output_type": "display_data"
    }
   ],
   "source": [
    "import matplotlib.pyplot as plt\n",
    "%matplotlib inline\n",
    "\n",
    "count_dict = dict(vocab.most_common(20))\n",
    "words = range(len(count_dict))\n",
    "plt.bar(words, count_dict.values(), color='blue', align='center', tick_label=count_dict.keys())\n",
    "plt.show()"
   ]
  },
  {
   "cell_type": "markdown",
   "metadata": {},
   "source": [
    "## 1.3 Other Counts of Words\n",
    "\n",
    "Sometimes we also care about other counts of words in a corpus, let's go through them.\n",
    "\n",
    "For instance, we noticed that the most common words from the counter (vocab) have less meanings - we call them **stopwords** (i.e. 'I', 'the', ...). Let's examine them by counts for now."
   ]
  },
  {
   "cell_type": "code",
   "execution_count": 20,
   "metadata": {
    "collapsed": false
   },
   "outputs": [
    {
     "data": {
      "text/html": [
       "<div>\n",
       "<table border=\"1\" class=\"dataframe\">\n",
       "  <thead>\n",
       "    <tr style=\"text-align: right;\">\n",
       "      <th></th>\n",
       "      <th>text</th>\n",
       "      <th>word_count</th>\n",
       "      <th>char_count</th>\n",
       "      <th>avg_word_length</th>\n",
       "      <th>stop_counts</th>\n",
       "    </tr>\n",
       "  </thead>\n",
       "  <tbody>\n",
       "    <tr>\n",
       "      <th>0</th>\n",
       "      <td>#FollowFriday @France_Inte @PKuchly57 @Milipol...</td>\n",
       "      <td>15</td>\n",
       "      <td>111</td>\n",
       "      <td>6.466667</td>\n",
       "      <td>5</td>\n",
       "    </tr>\n",
       "    <tr>\n",
       "      <th>1</th>\n",
       "      <td>@Lamb2ja Hey James! How odd :/ Please call our...</td>\n",
       "      <td>24</td>\n",
       "      <td>126</td>\n",
       "      <td>4.291667</td>\n",
       "      <td>8</td>\n",
       "    </tr>\n",
       "    <tr>\n",
       "      <th>2</th>\n",
       "      <td>@DespiteOfficial we had a listen last night :)...</td>\n",
       "      <td>20</td>\n",
       "      <td>107</td>\n",
       "      <td>4.400000</td>\n",
       "      <td>8</td>\n",
       "    </tr>\n",
       "    <tr>\n",
       "      <th>3</th>\n",
       "      <td>@97sides CONGRATS :)</td>\n",
       "      <td>3</td>\n",
       "      <td>20</td>\n",
       "      <td>6.000000</td>\n",
       "      <td>0</td>\n",
       "    </tr>\n",
       "    <tr>\n",
       "      <th>4</th>\n",
       "      <td>yeaaaah yippppy!!!  my accnt verified rqst has...</td>\n",
       "      <td>22</td>\n",
       "      <td>106</td>\n",
       "      <td>4.047619</td>\n",
       "      <td>6</td>\n",
       "    </tr>\n",
       "  </tbody>\n",
       "</table>\n",
       "</div>"
      ],
      "text/plain": [
       "                                                text  word_count  char_count  \\\n",
       "0  #FollowFriday @France_Inte @PKuchly57 @Milipol...          15         111   \n",
       "1  @Lamb2ja Hey James! How odd :/ Please call our...          24         126   \n",
       "2  @DespiteOfficial we had a listen last night :)...          20         107   \n",
       "3                               @97sides CONGRATS :)           3          20   \n",
       "4  yeaaaah yippppy!!!  my accnt verified rqst has...          22         106   \n",
       "\n",
       "   avg_word_length  stop_counts  \n",
       "0         6.466667            5  \n",
       "1         4.291667            8  \n",
       "2         4.400000            8  \n",
       "3         6.000000            0  \n",
       "4         4.047619            6  "
      ]
     },
     "execution_count": 20,
     "metadata": {},
     "output_type": "execute_result"
    }
   ],
   "source": [
    "from nltk.corpus import stopwords\n",
    "stop = stopwords.words('english')\n",
    "\n",
    "pos_tweets['stop_counts'] = pos_tweets.text.apply(lambda x: len([x for x in x.split() if x in stop]))\n",
    "pos_tweets.head()"
   ]
  },
  {
   "cell_type": "markdown",
   "metadata": {},
   "source": [
    "We also noticed that a great amount of special characters, such as *emojis*, appeared in the tweets. We can count them as well."
   ]
  },
  {
   "cell_type": "code",
   "execution_count": 21,
   "metadata": {
    "collapsed": false
   },
   "outputs": [
    {
     "name": "stdout",
     "output_type": "stream",
     "text": [
      "['#FollowFriday', '@France_Inte', '@PKuchly57', '@Milipol_Paris', 'for', 'being', 'top', 'engaged', 'members', 'in', 'my', 'community', 'this', 'week', ':)']\n"
     ]
    }
   ],
   "source": [
    "t = pos_tweets.text[0]\n",
    "print(tknzr.tokenize(t))"
   ]
  },
  {
   "cell_type": "code",
   "execution_count": 22,
   "metadata": {
    "collapsed": false
   },
   "outputs": [],
   "source": [
    "import re\n",
    "def count_special_char(sentence):\n",
    "    non_special = [tok for tok in tknzr.tokenize(sentence) if(re.search(r'^\\w', tok))]\n",
    "    return(len(non_special))"
   ]
  },
  {
   "cell_type": "code",
   "execution_count": 23,
   "metadata": {
    "collapsed": false
   },
   "outputs": [
    {
     "data": {
      "text/plain": [
       "10"
      ]
     },
     "execution_count": 23,
     "metadata": {},
     "output_type": "execute_result"
    }
   ],
   "source": [
    "count_special_char(t)"
   ]
  },
  {
   "cell_type": "code",
   "execution_count": 24,
   "metadata": {
    "collapsed": false
   },
   "outputs": [
    {
     "data": {
      "text/html": [
       "<div>\n",
       "<table border=\"1\" class=\"dataframe\">\n",
       "  <thead>\n",
       "    <tr style=\"text-align: right;\">\n",
       "      <th></th>\n",
       "      <th>text</th>\n",
       "      <th>word_count</th>\n",
       "      <th>char_count</th>\n",
       "      <th>avg_word_length</th>\n",
       "      <th>stop_counts</th>\n",
       "      <th>special_char</th>\n",
       "    </tr>\n",
       "  </thead>\n",
       "  <tbody>\n",
       "    <tr>\n",
       "      <th>0</th>\n",
       "      <td>#FollowFriday @France_Inte @PKuchly57 @Milipol...</td>\n",
       "      <td>15</td>\n",
       "      <td>111</td>\n",
       "      <td>6.466667</td>\n",
       "      <td>5</td>\n",
       "      <td>5</td>\n",
       "    </tr>\n",
       "    <tr>\n",
       "      <th>1</th>\n",
       "      <td>@Lamb2ja Hey James! How odd :/ Please call our...</td>\n",
       "      <td>24</td>\n",
       "      <td>126</td>\n",
       "      <td>4.291667</td>\n",
       "      <td>8</td>\n",
       "      <td>5</td>\n",
       "    </tr>\n",
       "    <tr>\n",
       "      <th>2</th>\n",
       "      <td>@DespiteOfficial we had a listen last night :)...</td>\n",
       "      <td>20</td>\n",
       "      <td>107</td>\n",
       "      <td>4.400000</td>\n",
       "      <td>8</td>\n",
       "      <td>5</td>\n",
       "    </tr>\n",
       "    <tr>\n",
       "      <th>3</th>\n",
       "      <td>@97sides CONGRATS :)</td>\n",
       "      <td>3</td>\n",
       "      <td>20</td>\n",
       "      <td>6.000000</td>\n",
       "      <td>0</td>\n",
       "      <td>2</td>\n",
       "    </tr>\n",
       "    <tr>\n",
       "      <th>4</th>\n",
       "      <td>yeaaaah yippppy!!!  my accnt verified rqst has...</td>\n",
       "      <td>22</td>\n",
       "      <td>106</td>\n",
       "      <td>4.047619</td>\n",
       "      <td>6</td>\n",
       "      <td>4</td>\n",
       "    </tr>\n",
       "  </tbody>\n",
       "</table>\n",
       "</div>"
      ],
      "text/plain": [
       "                                                text  word_count  char_count  \\\n",
       "0  #FollowFriday @France_Inte @PKuchly57 @Milipol...          15         111   \n",
       "1  @Lamb2ja Hey James! How odd :/ Please call our...          24         126   \n",
       "2  @DespiteOfficial we had a listen last night :)...          20         107   \n",
       "3                               @97sides CONGRATS :)           3          20   \n",
       "4  yeaaaah yippppy!!!  my accnt verified rqst has...          22         106   \n",
       "\n",
       "   avg_word_length  stop_counts  special_char  \n",
       "0         6.466667            5             5  \n",
       "1         4.291667            8             5  \n",
       "2         4.400000            8             5  \n",
       "3         6.000000            0             2  \n",
       "4         4.047619            6             4  "
      ]
     },
     "execution_count": 24,
     "metadata": {},
     "output_type": "execute_result"
    }
   ],
   "source": [
    "pos_tweets['special_char'] = pos_tweets.text.apply(lambda x: len(tknzr.tokenize(x)) - count_special_char(x))\n",
    "pos_tweets.head()"
   ]
  },
  {
   "cell_type": "markdown",
   "metadata": {},
   "source": [
    "We may also care about the number of numerics in each tweet.\n",
    "\n",
    "Just like we calculated the number of words, we can also calculate the number of numerics which are present in the tweets. It does not have a lot of use in our example, but this is still a useful feature that should be run while doing similar exercises. For example, "
   ]
  },
  {
   "cell_type": "code",
   "execution_count": 25,
   "metadata": {
    "collapsed": false
   },
   "outputs": [
    {
     "data": {
      "text/html": [
       "<div>\n",
       "<table border=\"1\" class=\"dataframe\">\n",
       "  <thead>\n",
       "    <tr style=\"text-align: right;\">\n",
       "      <th></th>\n",
       "      <th>text</th>\n",
       "      <th>num_counts</th>\n",
       "    </tr>\n",
       "  </thead>\n",
       "  <tbody>\n",
       "    <tr>\n",
       "      <th>0</th>\n",
       "      <td>#FollowFriday @France_Inte @PKuchly57 @Milipol...</td>\n",
       "      <td>0</td>\n",
       "    </tr>\n",
       "    <tr>\n",
       "      <th>1</th>\n",
       "      <td>@Lamb2ja Hey James! How odd :/ Please call our...</td>\n",
       "      <td>1</td>\n",
       "    </tr>\n",
       "    <tr>\n",
       "      <th>2</th>\n",
       "      <td>@DespiteOfficial we had a listen last night :)...</td>\n",
       "      <td>0</td>\n",
       "    </tr>\n",
       "    <tr>\n",
       "      <th>3</th>\n",
       "      <td>@97sides CONGRATS :)</td>\n",
       "      <td>0</td>\n",
       "    </tr>\n",
       "    <tr>\n",
       "      <th>4</th>\n",
       "      <td>yeaaaah yippppy!!!  my accnt verified rqst has...</td>\n",
       "      <td>1</td>\n",
       "    </tr>\n",
       "  </tbody>\n",
       "</table>\n",
       "</div>"
      ],
      "text/plain": [
       "                                                text  num_counts\n",
       "0  #FollowFriday @France_Inte @PKuchly57 @Milipol...           0\n",
       "1  @Lamb2ja Hey James! How odd :/ Please call our...           1\n",
       "2  @DespiteOfficial we had a listen last night :)...           0\n",
       "3                               @97sides CONGRATS :)           0\n",
       "4  yeaaaah yippppy!!!  my accnt verified rqst has...           1"
      ]
     },
     "execution_count": 25,
     "metadata": {},
     "output_type": "execute_result"
    }
   ],
   "source": [
    "pos_tweets['num_counts'] = pos_tweets.text.apply(lambda x: len([x for x in x.split() if x.isdigit()]))\n",
    "pos_tweets[['text','num_counts']].head()"
   ]
  },
  {
   "cell_type": "markdown",
   "metadata": {},
   "source": [
    "### YOUR TURN HERE\n",
    "\n",
    "Say we are interested in searching for all long words in the tweets. A long word is defined as:\n",
    "- has more than 5 letters;\n",
    "- has to be a word (not special character, numerics, ...)\n",
    "\n",
    "Please write you own code for the **count of long words** and add it as a column in *pos_tweets*.\n",
    "\n",
    "**HINT**: use code/results from above as much as you can."
   ]
  },
  {
   "cell_type": "code",
   "execution_count": 26,
   "metadata": {
    "collapsed": true
   },
   "outputs": [],
   "source": [
    "## YOUR CODE HERE\n",
    "def long_words(sentence):\n",
    "    non_special = [tok for tok in tknzr.tokenize(sentence) if(re.search(r'^\\w', tok))]\n",
    "    non_numeric = [tok for tok in non_special if not tok.isdigit()]\n",
    "    lng_wrds = [w for w in non_numeric if len(w) > 5]\n",
    "    return(len(lng_wrds))"
   ]
  },
  {
   "cell_type": "code",
   "execution_count": 27,
   "metadata": {
    "collapsed": false
   },
   "outputs": [
    {
     "data": {
      "text/plain": [
       "3"
      ]
     },
     "execution_count": 27,
     "metadata": {},
     "output_type": "execute_result"
    }
   ],
   "source": [
    "long_words(t)"
   ]
  },
  {
   "cell_type": "code",
   "execution_count": 28,
   "metadata": {
    "collapsed": false
   },
   "outputs": [
    {
     "data": {
      "text/html": [
       "<div>\n",
       "<table border=\"1\" class=\"dataframe\">\n",
       "  <thead>\n",
       "    <tr style=\"text-align: right;\">\n",
       "      <th></th>\n",
       "      <th>text</th>\n",
       "      <th>lng_wrd_counts</th>\n",
       "    </tr>\n",
       "  </thead>\n",
       "  <tbody>\n",
       "    <tr>\n",
       "      <th>0</th>\n",
       "      <td>#FollowFriday @France_Inte @PKuchly57 @Milipol...</td>\n",
       "      <td>3</td>\n",
       "    </tr>\n",
       "    <tr>\n",
       "      <th>1</th>\n",
       "      <td>@Lamb2ja Hey James! How odd :/ Please call our...</td>\n",
       "      <td>5</td>\n",
       "    </tr>\n",
       "    <tr>\n",
       "      <th>2</th>\n",
       "      <td>@DespiteOfficial we had a listen last night :)...</td>\n",
       "      <td>3</td>\n",
       "    </tr>\n",
       "    <tr>\n",
       "      <th>3</th>\n",
       "      <td>@97sides CONGRATS :)</td>\n",
       "      <td>1</td>\n",
       "    </tr>\n",
       "    <tr>\n",
       "      <th>4</th>\n",
       "      <td>yeaaaah yippppy!!!  my accnt verified rqst has...</td>\n",
       "      <td>5</td>\n",
       "    </tr>\n",
       "  </tbody>\n",
       "</table>\n",
       "</div>"
      ],
      "text/plain": [
       "                                                text  lng_wrd_counts\n",
       "0  #FollowFriday @France_Inte @PKuchly57 @Milipol...               3\n",
       "1  @Lamb2ja Hey James! How odd :/ Please call our...               5\n",
       "2  @DespiteOfficial we had a listen last night :)...               3\n",
       "3                               @97sides CONGRATS :)               1\n",
       "4  yeaaaah yippppy!!!  my accnt verified rqst has...               5"
      ]
     },
     "execution_count": 28,
     "metadata": {},
     "output_type": "execute_result"
    }
   ],
   "source": [
    "pos_tweets['lng_wrd_counts'] = pos_tweets.text.apply(lambda x: long_words(x))\n",
    "pos_tweets[['text','lng_wrd_counts']].head()"
   ]
  },
  {
   "cell_type": "markdown",
   "metadata": {},
   "source": [
    "# 2. Basic Preprocessing\n",
    "\n",
    "So far, we have learned how to extract basic features from text data. Before diving into text and feature extraction, our first step should be cleaning the data in order to obtain better features. We will achieve this by doing some of the basic pre-processing steps on our training data.\n",
    "\n",
    "So, let’s get into it."
   ]
  },
  {
   "cell_type": "markdown",
   "metadata": {},
   "source": [
    "## 2.1 Lower case\n",
    "\n",
    "The first pre-processing step which we will do is transform our tweets into lower case. This avoids having multiple copies of the same words. For example, while calculating the word count, ‘Analytics’ and ‘analytics’ will be taken as different words."
   ]
  },
  {
   "cell_type": "code",
   "execution_count": 29,
   "metadata": {
    "collapsed": false
   },
   "outputs": [
    {
     "data": {
      "text/plain": [
       "0    #followfriday @france_inte @pkuchly57 @milipol...\n",
       "1    @lamb2ja hey james! how odd :/ please call our...\n",
       "2    @despiteofficial we had a listen last night :)...\n",
       "3                                 @97sides congrats :)\n",
       "4    yeaaaah yippppy!!! my accnt verified rqst has ...\n",
       "Name: lower, dtype: object"
      ]
     },
     "execution_count": 29,
     "metadata": {},
     "output_type": "execute_result"
    }
   ],
   "source": [
    "pos_tweets['lower'] = pos_tweets.text.apply(lambda x: \" \".join(x.lower() for x in x.split()))\n",
    "pos_tweets.lower.head()"
   ]
  },
  {
   "cell_type": "markdown",
   "metadata": {},
   "source": [
    "## 2.2 Removing Punctuation\n",
    "\n",
    "The next step is to remove punctuation, as it doesn’t add any extra information while treating text data. Therefore removing all instances of it will help us reduce the size of the training data."
   ]
  },
  {
   "cell_type": "code",
   "execution_count": 30,
   "metadata": {
    "collapsed": false
   },
   "outputs": [
    {
     "data": {
      "text/plain": [
       "0    followfriday france_inte pkuchly57 milipol_par...\n",
       "1    lamb2ja hey james how odd please call our cont...\n",
       "2    despiteofficial we had a listen last night as ...\n",
       "3                                     97sides congrats\n",
       "4    yeaaaah yippppy my accnt verified rqst has suc...\n",
       "Name: no_punc, dtype: object"
      ]
     },
     "execution_count": 30,
     "metadata": {},
     "output_type": "execute_result"
    }
   ],
   "source": [
    "from nltk.tokenize import RegexpTokenizer\n",
    "reg_tok = RegexpTokenizer(r'\\w+')\n",
    "pos_tweets['no_punc'] = pos_tweets['lower'].apply(lambda x: ' '.join(reg_tok.tokenize(x)))\n",
    "pos_tweets.no_punc.head()"
   ]
  },
  {
   "cell_type": "markdown",
   "metadata": {},
   "source": [
    "As you can see in the above output, all the punctuation, including ‘#’ and ‘@’, has been removed from the training data."
   ]
  },
  {
   "cell_type": "markdown",
   "metadata": {},
   "source": [
    "## 2.3 Removal of Stop Words\n",
    "\n",
    "As we discussed earlier, stop words (or commonly occurring words) should be removed from the text data. For this purpose, we can either create a list of stopwords ourselves or we can use predefined libraries."
   ]
  },
  {
   "cell_type": "code",
   "execution_count": 31,
   "metadata": {
    "collapsed": false
   },
   "outputs": [
    {
     "data": {
      "text/plain": [
       "0    followfriday france_inte pkuchly57 milipol_par...\n",
       "1    lamb2ja hey james odd please call contact cent...\n",
       "2    despiteofficial listen last night bleed amazin...\n",
       "3                                     97sides congrats\n",
       "4    yeaaaah yippppy accnt verified rqst succeed go...\n",
       "Name: no_stop, dtype: object"
      ]
     },
     "execution_count": 31,
     "metadata": {},
     "output_type": "execute_result"
    }
   ],
   "source": [
    "pos_tweets['no_stop'] = pos_tweets['no_punc'].apply(lambda x: \" \".join(x for x in x.split() if x not in stop))\n",
    "pos_tweets.no_stop.head()"
   ]
  },
  {
   "cell_type": "markdown",
   "metadata": {
    "collapsed": true
   },
   "source": [
    "## 2.4 Common word removal\n",
    "\n",
    "Previously, we just removed commonly occurring words in a general sense. We can also remove commonly occurring words from our text data First, let’s check the 10 most frequently occurring words in our text data then take call to remove or retain."
   ]
  },
  {
   "cell_type": "code",
   "execution_count": 32,
   "metadata": {
    "collapsed": false
   },
   "outputs": [
    {
     "data": {
      "text/plain": [
       "co        1195\n",
       "http       856\n",
       "thanks     393\n",
       "https      336\n",
       "follow     308\n",
       "love       275\n",
       "u          248\n",
       "thank      248\n",
       "good       235\n",
       "like       219\n",
       "dtype: int64"
      ]
     },
     "execution_count": 32,
     "metadata": {},
     "output_type": "execute_result"
    }
   ],
   "source": [
    "freq = pd.Series(' '.join(pos_tweets['no_stop']).split()).value_counts()[:10]\n",
    "freq"
   ]
  },
  {
   "cell_type": "markdown",
   "metadata": {},
   "source": [
    "Now, let’s remove these words as their presence will not of any use in classification of our text data."
   ]
  },
  {
   "cell_type": "code",
   "execution_count": 33,
   "metadata": {
    "collapsed": false
   },
   "outputs": [
    {
     "data": {
      "text/plain": [
       "0    followfriday france_inte pkuchly57 milipol_par...\n",
       "1    lamb2ja hey james odd please call contact cent...\n",
       "2    despiteofficial listen last night bleed amazin...\n",
       "3                                     97sides congrats\n",
       "4    yeaaaah yippppy accnt verified rqst succeed go...\n",
       "Name: no_common, dtype: object"
      ]
     },
     "execution_count": 33,
     "metadata": {},
     "output_type": "execute_result"
    }
   ],
   "source": [
    "freq = list(freq.index)\n",
    "pos_tweets['no_common'] = pos_tweets['no_stop'].apply(lambda x: \" \".join(x for x in x.split() if x not in freq))\n",
    "pos_tweets['no_common'].head()"
   ]
  },
  {
   "cell_type": "markdown",
   "metadata": {},
   "source": [
    "## 2.5 Rare words removal\n",
    "\n",
    "Similarly, just as we removed the most common words, this time let’s remove rarely occurring words from the text. Because they’re so rare, the association between them and other words is dominated by noise. You can replace rare words with a more general form and then this will have higher counts."
   ]
  },
  {
   "cell_type": "code",
   "execution_count": 35,
   "metadata": {
    "collapsed": false
   },
   "outputs": [
    {
     "data": {
      "text/plain": [
       "deepthroat                1\n",
       "liow4bizi7                1\n",
       "1710                      1\n",
       "keepin                    1\n",
       "ukopenmic                 1\n",
       "thebitblock               1\n",
       "sia                       1\n",
       "sadomasochistsparadise    1\n",
       "jonny_ives                1\n",
       "hikershell                1\n",
       "dtype: int64"
      ]
     },
     "execution_count": 35,
     "metadata": {},
     "output_type": "execute_result"
    }
   ],
   "source": [
    "rare = pd.Series(' '.join(pos_tweets['no_common']).split()).value_counts()[-10:]\n",
    "rare"
   ]
  },
  {
   "cell_type": "code",
   "execution_count": 36,
   "metadata": {
    "collapsed": false
   },
   "outputs": [
    {
     "data": {
      "text/plain": [
       "0    followfriday france_inte pkuchly57 milipol_par...\n",
       "1    lamb2ja hey james odd please call contact cent...\n",
       "2    despiteofficial listen last night bleed amazin...\n",
       "3                                     97sides congrats\n",
       "4    yeaaaah yippppy accnt verified rqst succeed go...\n",
       "Name: no_common, dtype: object"
      ]
     },
     "execution_count": 36,
     "metadata": {},
     "output_type": "execute_result"
    }
   ],
   "source": [
    "rare = list(rare.index)\n",
    "pos_tweets['no_rare'] = pos_tweets['no_common'].apply(lambda x: \" \".join(x for x in x.split() if x not in rare))\n",
    "pos_tweets['no_common'].head()"
   ]
  },
  {
   "cell_type": "markdown",
   "metadata": {},
   "source": [
    "##2.6 Spelling correction\n",
    "\n",
    "We’ve all seen tweets with a plethora of spelling mistakes. Our timelines are often filled with hastly sent tweets that are barely legible at times.\n",
    "\n",
    "In that regard, spelling correction is a useful pre-processing step because this also will help us in reducing multiple copies of words. For example, “Analytics” and “analytcs” will be treated as different words even if they are used in the same sense.\n",
    "\n",
    "To achieve this we will use the textblob library. If you are not familiar with it, you can check my previous article on ‘NLP for beginners using textblob’."
   ]
  },
  {
   "cell_type": "code",
   "execution_count": 37,
   "metadata": {
    "collapsed": false
   },
   "outputs": [
    {
     "data": {
      "text/plain": [
       "0    followfriday france_inte pkuchly57 milipol_par...\n",
       "1    lamb2ja hey james odd please call contact cent...\n",
       "2    despiteofficial listen last night bleed amazin...\n",
       "3                                       sides congress\n",
       "4    yeaaaah yippppy accent verified rest succeed g...\n",
       "Name: no_common, dtype: object"
      ]
     },
     "execution_count": 37,
     "metadata": {},
     "output_type": "execute_result"
    }
   ],
   "source": [
    "from textblob import TextBlob\n",
    "pos_tweets['no_common'][:5].apply(lambda x: str(TextBlob(x).correct()))"
   ]
  },
  {
   "cell_type": "markdown",
   "metadata": {},
   "source": [
    "Note that some of the words are corrected accurately ('accnt -> accent'); also some are not ('rqst' -> 'rest')."
   ]
  },
  {
   "cell_type": "markdown",
   "metadata": {},
   "source": [
    "## 2.7 Tokenization - Again\n",
    "\n",
    "Tokenization refers to dividing the text into a sequence of words or sentences. In our example, we have used the textblob library to first transform our tweets into a blob and then converted them into a series of words."
   ]
  },
  {
   "cell_type": "code",
   "execution_count": 38,
   "metadata": {
    "collapsed": false,
    "scrolled": true
   },
   "outputs": [
    {
     "data": {
      "text/plain": [
       "['@Lamb2ja',\n",
       " 'Hey',\n",
       " 'James',\n",
       " '!',\n",
       " 'How',\n",
       " 'odd',\n",
       " ':/',\n",
       " 'Please',\n",
       " 'call',\n",
       " 'our',\n",
       " 'Contact',\n",
       " 'Centre',\n",
       " 'on',\n",
       " '02392441234',\n",
       " 'and',\n",
       " 'we',\n",
       " 'will',\n",
       " 'be',\n",
       " 'able',\n",
       " 'to',\n",
       " 'assist',\n",
       " 'you',\n",
       " ':)',\n",
       " 'Many',\n",
       " 'thanks',\n",
       " '!']"
      ]
     },
     "execution_count": 38,
     "metadata": {},
     "output_type": "execute_result"
    }
   ],
   "source": [
    "from nltk.tokenize import TweetTokenizer\n",
    "twtkr = TweetTokenizer()\n",
    "twtkr.tokenize(pos_tweets['text'][1])"
   ]
  },
  {
   "cell_type": "markdown",
   "metadata": {},
   "source": [
    "### YOUR TURN HERE\n",
    "\n",
    "Select the last 10 tweets in the dataset (pos_tweets), then use following tokenizers to tokenize each tweet and output the results.\n",
    "- Regxp Tokenizer (reg_tok)\n",
    "- Tweet Tokenizer (twtkr)"
   ]
  },
  {
   "cell_type": "code",
   "execution_count": 44,
   "metadata": {
    "collapsed": false
   },
   "outputs": [
    {
     "data": {
      "text/plain": [
       "4990    [Niallll_1Dx, it, s, a, cool, video, i, love, ...\n",
       "4991    [Season, 11, set, Have, a, nice, Friday, SPNFa...\n",
       "4992                    [theguyliner, Trishie_D, cool, D]\n",
       "4993                                 [fczbkk, Exactly, D]\n",
       "4994    [kevinngmingyuan, peasant, seats, to, watch, a...\n",
       "4995    [chriswiggin3, Chris, that, s, great, to, hear...\n",
       "4996    [RachelLiskeard, Thanks, for, the, shout, out,...\n",
       "4997                 [side556, Hey, Long, time, no, talk]\n",
       "4998    [staybubbly69, as, Matt, would, say, WELCOME, ...\n",
       "4999    [DanielOConnel18, you, could, say, he, will, h...\n",
       "Name: text, dtype: object"
      ]
     },
     "execution_count": 44,
     "metadata": {},
     "output_type": "execute_result"
    }
   ],
   "source": [
    "# We already defined both tokenizer, now we just need to call them\n",
    "pos_tweets['text'][-10:].apply(lambda x: reg_tok.tokenize(x))"
   ]
  },
  {
   "cell_type": "code",
   "execution_count": 43,
   "metadata": {
    "collapsed": false
   },
   "outputs": [
    {
     "data": {
      "text/plain": [
       "4990    [@Niallll_1Dx, it's, a, cool, video, i, love, ...\n",
       "4991    [Season, 11, set, ♡, Have, a, nice, Friday, #S...\n",
       "4992              [@theguyliner, @Trishie_D, cool, ., :D]\n",
       "4993                            [@fczbkk, Exactly, !, :D]\n",
       "4994    [@kevinngmingyuan, peasant, seats, to, watch, ...\n",
       "4995    [@chriswiggin3, Chris, ,, that's, great, to, h...\n",
       "4996    [@RachelLiskeard, Thanks, for, the, shout-out,...\n",
       "4997    [@side556, Hey, !, :), Long, time, no, talk, ...]\n",
       "4998    [@staybubbly69, as, Matt, would, say, ., WELCO...\n",
       "4999    [@DanielOConnel18, you, could, say, he, will, ...\n",
       "Name: text, dtype: object"
      ]
     },
     "execution_count": 43,
     "metadata": {},
     "output_type": "execute_result"
    }
   ],
   "source": [
    "pos_tweets['text'][-10:].apply(lambda x: twtkr.tokenize(x))"
   ]
  },
  {
   "cell_type": "markdown",
   "metadata": {},
   "source": [
    "## 2.8 Stemming\n",
    "\n",
    "Stemming refers to the removal of suffices, like “ing”, “ly”, “s”, etc. by a simple rule-based approach. For this purpose, we will use PorterStemmer from the NLTK library."
   ]
  },
  {
   "cell_type": "code",
   "execution_count": 47,
   "metadata": {
    "collapsed": false
   },
   "outputs": [
    {
     "data": {
      "text/plain": [
       "0    #followfriday @france_int @pkuchly57 @milipol_...\n",
       "1    @lamb2ja hey james! how odd :/ pleas call our ...\n",
       "2    @despiteoffici we had a listen last night :) a...\n",
       "3                                   @97side congrat :)\n",
       "4    yeaaaah yippppy!!! my accnt verifi rqst has su...\n",
       "Name: text, dtype: object"
      ]
     },
     "execution_count": 47,
     "metadata": {},
     "output_type": "execute_result"
    }
   ],
   "source": [
    "from nltk.stem.snowball import SnowballStemmer\n",
    "st = SnowballStemmer(\"english\")\n",
    "pos_tweets['text'][:5].apply(lambda x: \" \".join([st.stem(word) for word in x.split()]))"
   ]
  },
  {
   "cell_type": "markdown",
   "metadata": {},
   "source": [
    "Twitter data is not very good from stemming because of the spelling and non plain English tokens (handles, tags, ...). However, to further prove that the stemming is working, try code below."
   ]
  },
  {
   "cell_type": "code",
   "execution_count": 49,
   "metadata": {
    "collapsed": false
   },
   "outputs": [
    {
     "name": "stdout",
     "output_type": "stream",
     "text": [
      "run\n"
     ]
    }
   ],
   "source": [
    "print(st.stem('running'))"
   ]
  },
  {
   "cell_type": "markdown",
   "metadata": {},
   "source": [
    "Note that we are using the native Snowball stemmer; we can also use other stemmer within it."
   ]
  },
  {
   "cell_type": "code",
   "execution_count": 53,
   "metadata": {
    "collapsed": false
   },
   "outputs": [
    {
     "name": "stdout",
     "output_type": "stream",
     "text": [
      "Use Snowball stemmer on generously is: generous.\n",
      "Use Porter stemmer on generously is: gener.\n"
     ]
    }
   ],
   "source": [
    "print('Use Snowball stemmer on generously is: %s.' % str(SnowballStemmer(\"english\").stem(\"generously\")))\n",
    "print('Use Porter stemmer on generously is: %s.' % str(SnowballStemmer(\"porter\").stem(\"generously\")))"
   ]
  },
  {
   "cell_type": "markdown",
   "metadata": {},
   "source": [
    "## 2.9 Lemmatization\n",
    "\n",
    "Lemmatization is a more effective option than stemming because it converts the word into its root word, rather than just stripping the suffices. It makes use of the vocabulary and does a morphological analysis to obtain the root word. **Therefore, we usually prefer using lemmatization over stemming.**"
   ]
  },
  {
   "cell_type": "code",
   "execution_count": 54,
   "metadata": {
    "collapsed": false
   },
   "outputs": [
    {
     "data": {
      "text/plain": [
       "0    #FollowFriday @France_Inte @PKuchly57 @Milipol...\n",
       "1    @Lamb2ja Hey James! How odd :/ Please call our...\n",
       "2    @DespiteOfficial we had a listen last night :)...\n",
       "3                                 @97sides CONGRATS :)\n",
       "4    yeaaaah yippppy!!! my accnt verified rqst ha s...\n",
       "Name: text, dtype: object"
      ]
     },
     "execution_count": 54,
     "metadata": {},
     "output_type": "execute_result"
    }
   ],
   "source": [
    "from nltk.stem import WordNetLemmatizer\n",
    "wordnet_lemmatizer = WordNetLemmatizer()\n",
    "pos_tweets['text'][:5].apply(lambda x: \" \".join([wordnet_lemmatizer.lemmatize(word) for word in x.split()]))"
   ]
  },
  {
   "cell_type": "markdown",
   "metadata": {},
   "source": [
    "Again, tweets may not be the best for demonstrating *lemmatization*, so we check following examples."
   ]
  },
  {
   "cell_type": "code",
   "execution_count": 55,
   "metadata": {
    "collapsed": false
   },
   "outputs": [
    {
     "data": {
      "text/plain": [
       "['WordNet',\n",
       " 'superficially',\n",
       " 'resembles',\n",
       " 'a',\n",
       " 'thesaurus',\n",
       " 'in',\n",
       " 'that',\n",
       " 'it',\n",
       " 'group',\n",
       " 'word',\n",
       " 'together',\n",
       " 'based',\n",
       " 'on',\n",
       " 'their',\n",
       " 'meaning',\n",
       " 'However',\n",
       " 'there',\n",
       " 'are',\n",
       " 'some',\n",
       " 'important',\n",
       " 'distinction']"
      ]
     },
     "execution_count": 55,
     "metadata": {},
     "output_type": "execute_result"
    }
   ],
   "source": [
    "my_sent = 'WordNet superficially resembles a thesaurus, in that it groups words together based on their meanings. \\\n",
    "However, there are some important distinctions.'\n",
    "[wordnet_lemmatizer.lemmatize(w) for w in reg_tok.tokenize(my_sent)]"
   ]
  },
  {
   "cell_type": "markdown",
   "metadata": {},
   "source": [
    "You can also define the Part-of-Speech in lemmatization. See code below."
   ]
  },
  {
   "cell_type": "code",
   "execution_count": 58,
   "metadata": {
    "collapsed": false
   },
   "outputs": [
    {
     "data": {
      "text/plain": [
       "'be'"
      ]
     },
     "execution_count": 58,
     "metadata": {},
     "output_type": "execute_result"
    }
   ],
   "source": [
    "wordnet_lemmatizer.lemmatize('are', pos='v')"
   ]
  },
  {
   "cell_type": "markdown",
   "metadata": {},
   "source": [
    "##2.10 Part-of-Speech Tagging\n",
    "\n",
    "Part-of-speech tagging is one of the most important text analysis tasks used to classify words into their part-of-speech and label them according the tagset which is a collection of tags used for the pos tagging. Part-of-speech tagging also known as word classes or lexical categories. Detailed definition can be found on [Wikipedia](https://en.wikipedia.org/wiki/Part-of-speech_tagging)."
   ]
  },
  {
   "cell_type": "code",
   "execution_count": 66,
   "metadata": {
    "collapsed": false
   },
   "outputs": [
    {
     "data": {
      "text/plain": [
       "[('Due', 'JJ'),\n",
       " ('to', 'TO'),\n",
       " ('the', 'DT'),\n",
       " ('nature', 'NN'),\n",
       " ('of', 'IN'),\n",
       " ('this', 'DT'),\n",
       " ('tagger', 'NN'),\n",
       " ('it', 'PRP'),\n",
       " ('works', 'VBZ'),\n",
       " ('best', 'RB'),\n",
       " ('when', 'WRB'),\n",
       " ('trained', 'VBN'),\n",
       " ('over', 'IN'),\n",
       " ('sentence', 'NN'),\n",
       " ('delimited', 'VBN'),\n",
       " ('input', 'NN')]"
      ]
     },
     "execution_count": 66,
     "metadata": {},
     "output_type": "execute_result"
    }
   ],
   "source": [
    "s = 'Due to the nature of this tagger, it works best when trained over sentence delimited input.'\n",
    "from nltk import pos_tag\n",
    "pos_tag([w for w in reg_tok.tokenize(s)])"
   ]
  },
  {
   "cell_type": "markdown",
   "metadata": {},
   "source": [
    "Note that pos_tag by default takes **a list of strings** as input; if you input a string, pos_tag will split it for you."
   ]
  },
  {
   "cell_type": "markdown",
   "metadata": {},
   "source": [
    "### End of Tutorial\n",
    "\n",
    "In this tutorial, we complete **basic feature extraction** and **basic text pre-processing** in this tutorial. We will continue with **advanced text processing** in Part 2 of the tutorial."
   ]
  },
  {
   "cell_type": "code",
   "execution_count": null,
   "metadata": {
    "collapsed": true
   },
   "outputs": [],
   "source": []
  }
 ],
 "metadata": {
  "kernelspec": {
   "display_name": "Python 3",
   "language": "python",
   "name": "python3"
  },
  "language_info": {
   "codemirror_mode": {
    "name": "ipython",
    "version": 3
   },
   "file_extension": ".py",
   "mimetype": "text/x-python",
   "name": "python",
   "nbconvert_exporter": "python",
   "pygments_lexer": "ipython3",
   "version": "3.4.3"
  }
 },
 "nbformat": 4,
 "nbformat_minor": 0
}
